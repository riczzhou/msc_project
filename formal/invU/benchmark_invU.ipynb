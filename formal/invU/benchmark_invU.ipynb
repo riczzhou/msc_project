{
 "cells": [
  {
   "cell_type": "code",
   "execution_count": 4,
   "metadata": {},
   "outputs": [
    {
     "data": {
      "text/plain": [
       "8"
      ]
     },
     "metadata": {},
     "output_type": "display_data"
    }
   ],
   "source": [
    "using BenchmarkTools, LinearAlgebra, BandedMatrices, Polynomials, PyPlot, LaTeXStrings, CSV, DataFrames, Dates\n",
    "include(\"backSub.jl\")\n",
    "include(\"invBiU.jl\")\n",
    "\n",
    "BLAS.get_num_threads()\n",
    "\n",
    "\n",
    "# BLAS.set_num_threads(8)\n",
    "# BLAS.get_num_threads()\n"
   ]
  },
  {
   "cell_type": "code",
   "execution_count": 1,
   "metadata": {},
   "outputs": [
    {
     "name": "stderr",
     "output_type": "stream",
     "text": [
      "sys:1: UserWarning: Matplotlib is currently using agg, which is a non-GUI backend, so cannot show the figure.\n"
     ]
    },
    {
     "data": {
      "text/plain": [
       "3×3 Matrix{Float64}:\n",
       " 3.167e-6  9.209e-6   1.8833e-5\n",
       " 4.542e-6  6.125e-6   1.4209e-5\n",
       " 2.35e-5   2.2959e-5  4.625e-5"
      ]
     },
     "metadata": {},
     "output_type": "display_data"
    }
   ],
   "source": [
    "using BenchmarkTools, LinearAlgebra, BandedMatrices, PyPlot, LaTeXStrings, CSV, DataFrames, Dates\n",
    "\n",
    "include(\"genTestMat.jl\")\n",
    "include(\"backsub.jl\")\n",
    "include(\"invBiU.jl\")\n",
    "include(\"invBiUExp.jl\")\n",
    "\n",
    "\n",
    "function timeAvg4func(func, testMat, rept, nThreads)\n",
    "    BLAS.set_num_threads(nThreads)\n",
    "    time = 0.0\n",
    "    for _ in 1:rept\n",
    "        time += @elapsed func(testMat)\n",
    "    end\n",
    "    time / rept;\n",
    "end\n",
    "\n",
    "\n",
    "function timesData4funcs()\n",
    "    dims = [2^i for i = 4:6]\n",
    "    # dims = [Int64(floor(2^(i/2))) for i in 4:22]\n",
    "    # dims = [100*2^i for i in 0:7] # for bidiag only\n",
    "    bw = 1\n",
    "    # typeM = Matrix\n",
    "    typeM = Bidiagonal\n",
    "    typeElmt = Float64\n",
    "    isUpper = true\n",
    "    rept = 8\n",
    "    rept = 1\n",
    "    nThreads = 1\n",
    "    funcs = [inv, invBidiagU, invBiUexp]\n",
    "    saveData = true\n",
    "    saveFig = true\n",
    "    saveData = false\n",
    "    saveFig = false\n",
    "\n",
    "\n",
    "    timesData = zeros(length(dims), length(funcs))\n",
    "\n",
    "    BLAS.set_num_threads(nThreads)\n",
    "    for (j, func) in enumerate(funcs)\n",
    "        for (i, n) in enumerate(dims)\n",
    "            testMat = generateTestTriangular(n, bw, typeM, typeElmt, isUpper)\n",
    "            timesData[i, j] = timeAvg4func(func, testMat, rept, nThreads)\n",
    "        end\n",
    "    end\n",
    "    BLAS.set_num_threads(8)\n",
    "\n",
    "    if saveData\n",
    "        df_data = DataFrame(timesData, :auto)\n",
    "        rename!(df_data, string.(funcs))\n",
    "        df_dims = DataFrame(size = dims)\n",
    "        df = hcat(df_dims, df_data)\n",
    "        time = string(now())\n",
    "        CSV.write(\"./data/efficiency/$time$typeM$typeElmt.csv\", df)\n",
    "        # CSV.write(\"./data/accuracy/$time$typeM$Float64.csv\", df)\n",
    "    end\n",
    "\n",
    "    linestylelist = [\"--\", \"-.\", \":\", \"-\", ]\n",
    "\n",
    "    figure()\n",
    "    for (j, func) in enumerate(funcs)\n",
    "        # loglog(dims, timesData[:, j], color=colorlist[j], linewidth=1.0, linestyle=linestylelist[j], base=2, label=string(func))\n",
    "        loglog(dims, timesData[:, j], linewidth=1.0, linestyle=linestylelist[j], base=2, label=string(func))\n",
    "    end\n",
    "    xlabel(L\"Dimension\"), ylabel(\"Wall time (s)\"), grid(), legend()\n",
    "    title(L\"Time usage for computing $U^{-1} \\in \\mathbb{R}^{N \\times N}$\")\n",
    "    show()\n",
    "    if saveFig\n",
    "        savefig(\"./figure/efficiency/$time$typeM$typeElmt.png\", dpi=150)\n",
    "        savefig(\"./figure/efficiency/$time$typeM$typeElmt.eps\", format=\"eps\")\n",
    "    end\n",
    "    timesData;\n",
    "end\n",
    "\n",
    "\n",
    "timesData4funcs()\n"
   ]
  },
  {
   "cell_type": "code",
   "execution_count": 16,
   "metadata": {},
   "outputs": [
    {
     "data": {
      "text/plain": [
       "PyObject <matplotlib.legend.Legend object at 0x16b766a60>"
      ]
     },
     "metadata": {},
     "output_type": "display_data"
    }
   ],
   "source": [
    "# '-', '--', '-.', ':', 'None', ' ', '', 'solid', 'dashed', 'dashdot', 'dotted'\"\n",
    "\n",
    "\n",
    "ls = [\"-\", \"--\", \"-.\", \":\", \"None\", \" \", \"\", \"solid\", \"dashed\", \"dashdot\", \"dotted\"]\n",
    "n = length(ls)\n",
    "figure()\n",
    "x = [i for i = 1:n]\n",
    "for i = 1:n\n",
    "    plot(x, i.+x, linewidth=1.0, linestyle=ls[i], label=ls[i])\n",
    "#     # plot(dims, timedata[i, :], color=colorlist[i], linewidth=1.0, linestyle=linestylelist[i], label=string(func))\n",
    "end\n",
    "legend()\n"
   ]
  },
  {
   "cell_type": "code",
   "execution_count": 11,
   "metadata": {},
   "outputs": [
    {
     "data": {
      "text/plain": [
       "9-element Vector{Int64}:\n",
       "   100\n",
       "   200\n",
       "   400\n",
       "   800\n",
       "  1600\n",
       "  3200\n",
       "  6400\n",
       " 12800\n",
       " 25600"
      ]
     },
     "metadata": {},
     "output_type": "display_data"
    }
   ],
   "source": [
    "[Int64(floor(2^(i/2))) for i in 4:20]\n",
    "[100*2^i for i in 0:8] # 25600 max on PC"
   ]
  },
  {
   "cell_type": "code",
   "execution_count": 20,
   "metadata": {},
   "outputs": [
    {
     "name": "stderr",
     "output_type": "stream",
     "text": [
      "The PostScript backend does not support transparency; partially transparent artists will be rendered opaque.\n"
     ]
    },
    {
     "data": {
      "text/plain": [
       "PyObject Text(0.5, 1.0, 'Time usage for computing $U^{-1} \\\\in \\\\mathbb{R}^{N \\\\times N}$')"
      ]
     },
     "metadata": {},
     "output_type": "display_data"
    }
   ],
   "source": [
    "timesData = [0.0001743625 0.00025555 0.00030562499999999996;\n",
    "0.0006766125 0.0007050375 0.0015038875000000001;\n",
    "0.0017297875 0.03381915 0.0069719125;\n",
    "0.018351212500000002 0.0137397625 0.0641487375;\n",
    "0.023570050000000002 0.0491157375 0.10347664999999999;\n",
    "0.08602725 0.18803486250000004 0.42850340000000003;\n",
    "0.3321045625 0.7291467625000001 1.6423025625;\n",
    "1.3163562625 4.641997125 7.889353975;\n",
    "5.2110446625 18.790740837500003 29.9962767875]\n",
    "# 8 repet \n",
    "   100\n",
    "   200\n",
    "   400\n",
    "   800\n",
    "  1600\n",
    "  3200\n",
    "  6400\n",
    " 12800\n",
    " 25600\n",
    "\n",
    "timesData = [0.00021046874999999996 0.00018445625000000003 0.0004663875;\n",
    "0.0005307624999999999 0.0007891562499999999 0.0016212687499999998;\n",
    "0.00512938125 0.002715525 0.0066459250000000004;\n",
    "0.044786206249999995 0.026170637499999996 0.037271543750000004;\n",
    "0.0314148625 0.047623925 0.0882020375;\n",
    "0.08859593125000001 0.19449356875 0.3707189875;\n",
    "0.32561938125 0.8267060000000002 1.4847826874999999;\n",
    "1.251984325 3.931247725 7.071467856250001;\n",
    "5.14099573125 14.507024368749999 29.656756274999996]\n",
    "# 25600 x 16 avg on PC\n",
    "# 51200 x 1 avg on PC\n",
    "\n",
    "# 16 repet \n",
    "100\n",
    "200\n",
    "400\n",
    "800\n",
    "1600\n",
    "3200\n",
    "6400\n",
    "12800\n",
    "25600\n",
    "\n",
    "\n",
    "dims = [100*2^i for i in 0:8] # for bidiag only\n",
    "bw = 1\n",
    "# typeM = Matrix\n",
    "typeM = Bidiagonal\n",
    "typeElmt = Float64\n",
    "isUpper = true\n",
    "rept = 8\n",
    "rept = 1\n",
    "nThreads = 1\n",
    "funcs = [inv, invBidiagU, invBiUexp]\n",
    "saveData = true\n",
    "saveFig = true\n",
    "saveData = false\n",
    "saveFig = false\n",
    "\n",
    "\n",
    "if saveData\n",
    "    df_data = DataFrame(timesData, :auto)\n",
    "    rename!(df_data, string.(funcs))\n",
    "    df_dims = DataFrame(size = dims)\n",
    "    df = hcat(df_dims, df_data)\n",
    "    time = string(now())\n",
    "    # CSV.write(\"./data/efficiency/$time$typeM$Float64.csv\", df)\n",
    "    CSV.write(\"/Users/zhiwei_zhou/ic/project/msc_project/formal/invU/data/efficiency/$time$typeM$Float64.csv\", df)\n",
    "    # CSV.write(\"./data/accuracy/$time$typeM$Float64.csv\", df)\n",
    "end\n",
    "\n",
    "linestylelist = [\"--\", \"-.\", \":\", \"-\", ]\n",
    "figure()\n",
    "for (j, func) in enumerate(funcs)\n",
    "    # loglog(dims, timesData[:, j], color=colorlist[j], linewidth=1.0, linestyle=linestylelist[j], base=2, label=string(func))\n",
    "    loglog(dims, timesData[:, j], linewidth=1.0, linestyle=linestylelist[j], base=2, label=string(func))\n",
    "end\n",
    "xlabel(L\"Dimension of $U$\"), ylabel(\"Wall time (s)\")\n",
    "# ylabel(\"Wall time (s)\")\n",
    "grid()\n",
    "legend()\n",
    "title(L\"Time usage for computing $U^{-1}$\")\n",
    "show()\n",
    "if saveFig\n",
    "    # savefig(\"./figure/efficiency/$time$typeM$typeElmt.png\", dpi=150)\n",
    "    # savefig(\"./figure/efficiency/$time$typeM$typeElmt.eps\", format=\"eps\")\n",
    "\n",
    "    savefig(\"/Users/zhiwei_zhou/ic/project/msc_project/formal/invU/figure/efficiency/$time$typeM$typeElmt.png\", dpi=150)\n",
    "    savefig(\"/Users/zhiwei_zhou/ic/project/msc_project/formal/invU/figure/efficiency/$time$typeM$typeElmt.eps\", format=\"eps\")\n",
    "\n",
    "\n",
    "end\n",
    "timesData;\n",
    "\n",
    "linestylelist = [\"--\", \"-.\", \":\", \"-\", ]\n",
    "dims = [100*2^i for i in 0:8] # for bidiag only\n",
    "funcs = [inv, invBidiagU, invBiUexp]\n",
    "figure()\n",
    "\n",
    "# timesData = rand()\n",
    "for (j, func) in enumerate(funcs)\n",
    "    loglog(dims, timesData[:, j], linewidth=1.0, linestyle=linestylelist[j], base=2, label=string(func))\n",
    "end\n",
    "xlabel(L\"Dimension\"), ylabel(\"Wall time (s)\"), grid(), legend()\n",
    "title(L\"Time usage for computing $U^{-1} \\in \\mathbb{R}^{N \\times N}$\")\n",
    "# show()"
   ]
  },
  {
   "cell_type": "code",
   "execution_count": null,
   "metadata": {},
   "outputs": [],
   "source": [
    "a = [inv, invBidiagU]\n",
    "append!(string.(a), string.(a))"
   ]
  },
  {
   "cell_type": "code",
   "execution_count": null,
   "metadata": {},
   "outputs": [],
   "source": []
  }
 ],
 "metadata": {
  "kernelspec": {
   "display_name": "Julia 1.7.1",
   "language": "julia",
   "name": "julia-1.7"
  },
  "language_info": {
   "file_extension": ".jl",
   "mimetype": "application/julia",
   "name": "julia",
   "version": "1.7.1"
  },
  "orig_nbformat": 4
 },
 "nbformat": 4,
 "nbformat_minor": 2
}
