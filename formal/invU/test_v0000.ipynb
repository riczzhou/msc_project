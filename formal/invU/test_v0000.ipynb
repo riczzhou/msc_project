{
 "cells": [
  {
   "cell_type": "code",
   "execution_count": 2,
   "metadata": {},
   "outputs": [
    {
     "name": "stdout",
     "output_type": "stream",
     "text": [
      "\u001b[32m\u001b[1m      Status\u001b[22m\u001b[39m `~/.julia/environments/v1.7/Project.toml`\n",
      " \u001b[90m [aae01518] \u001b[39mBandedMatrices v0.17.0\n",
      " \u001b[90m [6e4b80f9] \u001b[39mBenchmarkTools v1.3.1\n",
      " \u001b[90m [8e7c35d0] \u001b[39mBlockArrays v0.16.18\n",
      " \u001b[90m [336ed68f] \u001b[39mCSV v0.10.4\n",
      " \u001b[90m [ce91de38] \u001b[39mColorBitstring v0.1.1\n",
      " \u001b[90m [35d6a980] \u001b[39mColorSchemes v3.19.0\n",
      " \u001b[90m [a93c6f00] \u001b[39mDataFrames v1.3.4\n",
      " \u001b[90m [28b8d3ca] \u001b[39mGR v0.64.4\n",
      " \u001b[90m [7073ff75] \u001b[39mIJulia v1.23.3\n",
      " \u001b[90m [b964fa9f] \u001b[39mLaTeXStrings v1.3.0\n",
      " \u001b[90m [5078a376] \u001b[39mLazyArrays v0.22.10\n",
      " \u001b[90m [a3b82374] \u001b[39mMatrixFactorizations v0.9.1\n",
      " \u001b[90m [91a5bcdd] \u001b[39mPlots v1.29.0\n",
      " \u001b[90m [f27b6e38] \u001b[39mPolynomials v3.1.4\n",
      " \u001b[90m [438e738f] \u001b[39mPyCall v1.93.1\n",
      " \u001b[90m [d330b81b] \u001b[39mPyPlot v2.10.0\n",
      " \u001b[90m [295af30f] \u001b[39mRevise v3.3.3\n",
      " \u001b[90m [f8ebbe35] \u001b[39mSemiseparableMatrices v0.3.3\n",
      " \u001b[90m [3cc68bcd] \u001b[39mSetRounding v0.2.1\n",
      " \u001b[90m [24249f21] \u001b[39mSymPy v1.1.6\n",
      " \u001b[90m [ade2ca70] \u001b[39mDates\n",
      " \u001b[90m [37e2e46d] \u001b[39mLinearAlgebra\n",
      " \u001b[90m [9a3f8284] \u001b[39mRandom\n",
      " \u001b[90m [8dfed614] \u001b[39mTest\n"
     ]
    }
   ],
   "source": [
    "using Pkg\n",
    "Pkg.status()\n",
    "using SymPy\n",
    "using BenchmarkTools, LinearAlgebra, LazyArrays, BandedMatrices\n",
    "using PyPlot"
   ]
  },
  {
   "cell_type": "code",
   "execution_count": 2,
   "metadata": {},
   "outputs": [
    {
     "data": {
      "text/plain": [
       "ppl (generic function with 1 method)"
      ]
     },
     "execution_count": 2,
     "metadata": {},
     "output_type": "execute_result"
    }
   ],
   "source": [
    "function ppl(context)\n",
    "    println(sympy.latex(context))\n",
    "end"
   ]
  },
  {
   "cell_type": "code",
   "execution_count": 3,
   "metadata": {},
   "outputs": [],
   "source": [
    "xx0 = symbols(\"x_(1:6)\", real=True)\n",
    "yy0 = symbols(\"y_(1:6)\", real=True)\n",
    "uu0 = symbols(\"u_(1:6)\", real=True)\n",
    "vv0 = symbols(\"v_(1:6)\", real=True)\n",
    "pp0 = symbols(\"p_(1:6)\", real=True)\n",
    "qq0 = symbols(\"q_(1:6)\", real=True)\n",
    "xs = [i for i in xx0]\n",
    "ys = [i for i in yy0]\n",
    "us = [i for i in uu0]\n",
    "vs = [i for i in vv0]\n",
    "ps = [i for i in pp0]\n",
    "qs = [i for i in qq0]\n",
    "\n",
    "xf = rand(6)\n",
    "yf = rand(6);"
   ]
  },
  {
   "cell_type": "code",
   "execution_count": 4,
   "metadata": {},
   "outputs": [
    {
     "data": {
      "text/latex": [
       "$\\left[ \\begin{array}{rrrrr}x_{1} y_{1}&x_{1} y_{2}&x_{1} y_{3}&x_{1} y_{4}&x_{1} y_{5}\\\\x_{1} y_{2}&x_{2} y_{2}&x_{2} y_{3}&x_{2} y_{4}&x_{2} y_{5}\\\\x_{1} y_{3}&x_{2} y_{3}&x_{3} y_{3}&x_{3} y_{4}&x_{3} y_{5}\\\\x_{1} y_{4}&x_{2} y_{4}&x_{3} y_{4}&x_{4} y_{4}&x_{4} y_{5}\\\\x_{1} y_{5}&x_{2} y_{5}&x_{3} y_{5}&x_{4} y_{5}&x_{5} y_{5}\\end{array}\\right]$\n"
      ],
      "text/plain": [
       "5×5 Matrix{Sym}:\n",
       " x₁⋅y₁  x₁⋅y₂  x₁⋅y₃  x₁⋅y₄  x₁⋅y₅\n",
       " x₁⋅y₂  x₂⋅y₂  x₂⋅y₃  x₂⋅y₄  x₂⋅y₅\n",
       " x₁⋅y₃  x₂⋅y₃  x₃⋅y₃  x₃⋅y₄  x₃⋅y₅\n",
       " x₁⋅y₄  x₂⋅y₄  x₃⋅y₄  x₄⋅y₄  x₄⋅y₅\n",
       " x₁⋅y₅  x₂⋅y₅  x₃⋅y₅  x₄⋅y₅  x₅⋅y₅"
      ]
     },
     "execution_count": 4,
     "metadata": {},
     "output_type": "execute_result"
    }
   ],
   "source": [
    "Ss = triu(xs * ys', 1) + tril(ys * xs')"
   ]
  },
  {
   "cell_type": "code",
   "execution_count": 5,
   "metadata": {},
   "outputs": [
    {
     "data": {
      "text/latex": [
       "$\\left[ \\begin{array}{rrrrr}u_{1} v_{1}&u_{1} v_{2}&u_{1} v_{3}&u_{1} v_{4}&u_{1} v_{5}\\\\0&u_{2} v_{2}&u_{2} v_{3}&u_{2} v_{4}&u_{2} v_{5}\\\\0&0&u_{3} v_{3}&u_{3} v_{4}&u_{3} v_{5}\\\\0&0&0&u_{4} v_{4}&u_{4} v_{5}\\\\0&0&0&0&u_{5} v_{5}\\end{array}\\right]$\n"
      ],
      "text/plain": [
       "5×5 Matrix{Sym}:\n",
       " u₁⋅v₁  u₁⋅v₂  u₁⋅v₃  u₁⋅v₄  u₁⋅v₅\n",
       "       0  u₂⋅v₂  u₂⋅v₃  u₂⋅v₄  u₂⋅v₅\n",
       "       0        0  u₃⋅v₃  u₃⋅v₄  u₃⋅v₅\n",
       "       0        0        0  u₄⋅v₄  u₄⋅v₅\n",
       "       0        0        0        0  u₅⋅v₅"
      ]
     },
     "metadata": {},
     "output_type": "display_data"
    },
    {
     "data": {
      "text/latex": [
       "$\\left[ \\begin{array}{rrrrr}p_{1} q_{1}&0&0&0&0\\\\p_{2} q_{1}&p_{2} q_{2}&0&0&0\\\\p_{3} q_{1}&p_{3} q_{2}&p_{3} q_{3}&0&0\\\\p_{4} q_{1}&p_{4} q_{2}&p_{4} q_{3}&p_{4} q_{4}&0\\\\p_{5} q_{1}&p_{5} q_{2}&p_{5} q_{3}&p_{5} q_{4}&p_{5} q_{5}\\end{array}\\right]$\n"
      ],
      "text/plain": [
       "5×5 Matrix{Sym}:\n",
       " p₁⋅q₁        0        0        0        0\n",
       " p₂⋅q₁  p₂⋅q₂        0        0        0\n",
       " p₃⋅q₁  p₃⋅q₂  p₃⋅q₃        0        0\n",
       " p₄⋅q₁  p₄⋅q₂  p₄⋅q₃  p₄⋅q₄        0\n",
       " p₅⋅q₁  p₅⋅q₂  p₅⋅q₃  p₅⋅q₄  p₅⋅q₅"
      ]
     },
     "metadata": {},
     "output_type": "display_data"
    },
    {
     "data": {
      "text/latex": [
       "$\\left[ \\begin{array}{rrrrr}p_{1} q_{1} u_{1} v_{1} + p_{2} q_{1} u_{1} v_{2} + p_{3} q_{1} u_{1} v_{3} + p_{4} q_{1} u_{1} v_{4} + p_{5} q_{1} u_{1} v_{5}&p_{2} q_{2} u_{1} v_{2} + p_{3} q_{2} u_{1} v_{3} + p_{4} q_{2} u_{1} v_{4} + p_{5} q_{2} u_{1} v_{5}&p_{3} q_{3} u_{1} v_{3} + p_{4} q_{3} u_{1} v_{4} + p_{5} q_{3} u_{1} v_{5}&p_{4} q_{4} u_{1} v_{4} + p_{5} q_{4} u_{1} v_{5}&p_{5} q_{5} u_{1} v_{5}\\\\p_{2} q_{1} u_{2} v_{2} + p_{3} q_{1} u_{2} v_{3} + p_{4} q_{1} u_{2} v_{4} + p_{5} q_{1} u_{2} v_{5}&p_{2} q_{2} u_{2} v_{2} + p_{3} q_{2} u_{2} v_{3} + p_{4} q_{2} u_{2} v_{4} + p_{5} q_{2} u_{2} v_{5}&p_{3} q_{3} u_{2} v_{3} + p_{4} q_{3} u_{2} v_{4} + p_{5} q_{3} u_{2} v_{5}&p_{4} q_{4} u_{2} v_{4} + p_{5} q_{4} u_{2} v_{5}&p_{5} q_{5} u_{2} v_{5}\\\\p_{3} q_{1} u_{3} v_{3} + p_{4} q_{1} u_{3} v_{4} + p_{5} q_{1} u_{3} v_{5}&p_{3} q_{2} u_{3} v_{3} + p_{4} q_{2} u_{3} v_{4} + p_{5} q_{2} u_{3} v_{5}&p_{3} q_{3} u_{3} v_{3} + p_{4} q_{3} u_{3} v_{4} + p_{5} q_{3} u_{3} v_{5}&p_{4} q_{4} u_{3} v_{4} + p_{5} q_{4} u_{3} v_{5}&p_{5} q_{5} u_{3} v_{5}\\\\p_{4} q_{1} u_{4} v_{4} + p_{5} q_{1} u_{4} v_{5}&p_{4} q_{2} u_{4} v_{4} + p_{5} q_{2} u_{4} v_{5}&p_{4} q_{3} u_{4} v_{4} + p_{5} q_{3} u_{4} v_{5}&p_{4} q_{4} u_{4} v_{4} + p_{5} q_{4} u_{4} v_{5}&p_{5} q_{5} u_{4} v_{5}\\\\p_{5} q_{1} u_{5} v_{5}&p_{5} q_{2} u_{5} v_{5}&p_{5} q_{3} u_{5} v_{5}&p_{5} q_{4} u_{5} v_{5}&p_{5} q_{5} u_{5} v_{5}\\end{array}\\right]$\n"
      ],
      "text/plain": [
       "5×5 Matrix{Sym}:\n",
       " p₁⋅q₁⋅u₁⋅v₁ + p₂⋅q₁⋅u₁⋅v₂ + p₃⋅q₁⋅u₁⋅v₃ + p₄⋅q₁⋅u₁⋅v₄ + p₅⋅q₁⋅u₁⋅v₅  …  p₅⋅q₅⋅u₁⋅v₅\n",
       "                   p₂⋅q₁⋅u₂⋅v₂ + p₃⋅q₁⋅u₂⋅v₃ + p₄⋅q₁⋅u₂⋅v₄ + p₅⋅q₁⋅u₂⋅v₅     p₅⋅q₅⋅u₂⋅v₅\n",
       "                                     p₃⋅q₁⋅u₃⋅v₃ + p₄⋅q₁⋅u₃⋅v₄ + p₅⋅q₁⋅u₃⋅v₅     p₅⋅q₅⋅u₃⋅v₅\n",
       "                                                       p₄⋅q₁⋅u₄⋅v₄ + p₅⋅q₁⋅u₄⋅v₅     p₅⋅q₅⋅u₄⋅v₅\n",
       "                                                                         p₅⋅q₁⋅u₅⋅v₅     p₅⋅q₅⋅u₅⋅v₅"
      ]
     },
     "execution_count": 5,
     "metadata": {},
     "output_type": "execute_result"
    }
   ],
   "source": [
    "display(triu(us * vs'))\n",
    "display(tril(ps * qs'))\n",
    "triu(us * vs') * tril(ps * qs')"
   ]
  },
  {
   "cell_type": "code",
   "execution_count": 6,
   "metadata": {},
   "outputs": [
    {
     "data": {
      "text/latex": [
       "$\\left[ \\begin{array}{rrrrr}x_{1}^{2} y_{1}^{2} + x_{1}^{2} y_{2}^{2} + x_{1}^{2} y_{3}^{2} + x_{1}^{2} y_{4}^{2} + x_{1}^{2} y_{5}^{2}&x_{1} x_{2} y_{2}^{2} + x_{1} x_{2} y_{3}^{2} + x_{1} x_{2} y_{4}^{2} + x_{1} x_{2} y_{5}^{2}&x_{1} x_{3} y_{3}^{2} + x_{1} x_{3} y_{4}^{2} + x_{1} x_{3} y_{5}^{2}&x_{1} x_{4} y_{4}^{2} + x_{1} x_{4} y_{5}^{2}&x_{1} x_{5} y_{5}^{2}\\\\x_{1} x_{2} y_{2}^{2} + x_{1} x_{2} y_{3}^{2} + x_{1} x_{2} y_{4}^{2} + x_{1} x_{2} y_{5}^{2}&x_{2}^{2} y_{2}^{2} + x_{2}^{2} y_{3}^{2} + x_{2}^{2} y_{4}^{2} + x_{2}^{2} y_{5}^{2}&x_{2} x_{3} y_{3}^{2} + x_{2} x_{3} y_{4}^{2} + x_{2} x_{3} y_{5}^{2}&x_{2} x_{4} y_{4}^{2} + x_{2} x_{4} y_{5}^{2}&x_{2} x_{5} y_{5}^{2}\\\\x_{1} x_{3} y_{3}^{2} + x_{1} x_{3} y_{4}^{2} + x_{1} x_{3} y_{5}^{2}&x_{2} x_{3} y_{3}^{2} + x_{2} x_{3} y_{4}^{2} + x_{2} x_{3} y_{5}^{2}&x_{3}^{2} y_{3}^{2} + x_{3}^{2} y_{4}^{2} + x_{3}^{2} y_{5}^{2}&x_{3} x_{4} y_{4}^{2} + x_{3} x_{4} y_{5}^{2}&x_{3} x_{5} y_{5}^{2}\\\\x_{1} x_{4} y_{4}^{2} + x_{1} x_{4} y_{5}^{2}&x_{2} x_{4} y_{4}^{2} + x_{2} x_{4} y_{5}^{2}&x_{3} x_{4} y_{4}^{2} + x_{3} x_{4} y_{5}^{2}&x_{4}^{2} y_{4}^{2} + x_{4}^{2} y_{5}^{2}&x_{4} x_{5} y_{5}^{2}\\\\x_{1} x_{5} y_{5}^{2}&x_{2} x_{5} y_{5}^{2}&x_{3} x_{5} y_{5}^{2}&x_{4} x_{5} y_{5}^{2}&x_{5}^{2} y_{5}^{2}\\end{array}\\right]$\n"
      ],
      "text/plain": [
       "5×5 Matrix{Sym}:\n",
       " x_1^2*y_1^2 + x_1^2*y_2^2 + x_1^2*y_3^2 + x_1^2*y_4^2 + x_1^2*y_5^2  …  x_1*x_5*y_5^2\n",
       "       x_1*x_2*y_2^2 + x_1*x_2*y_3^2 + x_1*x_2*y_4^2 + x_1*x_2*y_5^2     x_2*x_5*y_5^2\n",
       "                       x_1*x_3*y_3^2 + x_1*x_3*y_4^2 + x_1*x_3*y_5^2     x_3*x_5*y_5^2\n",
       "                                       x_1*x_4*y_4^2 + x_1*x_4*y_5^2     x_4*x_5*y_5^2\n",
       "                                                       x_1*x_5*y_5^2       x_5^2*y_5^2"
      ]
     },
     "execution_count": 6,
     "metadata": {},
     "output_type": "execute_result"
    }
   ],
   "source": [
    "triu(xs * ys') * tril(ys * xs')"
   ]
  },
  {
   "cell_type": "code",
   "execution_count": 7,
   "metadata": {},
   "outputs": [
    {
     "data": {
      "text/plain": [
       "6"
      ]
     },
     "execution_count": 7,
     "metadata": {},
     "output_type": "execute_result"
    }
   ],
   "source": [
    "Sf = triu(xf * yf', 1) + tril(yf * xf')\n",
    "rank(Sf)"
   ]
  },
  {
   "cell_type": "code",
   "execution_count": 8,
   "metadata": {},
   "outputs": [
    {
     "data": {
      "text/plain": [
       "6×6 Matrix{Float64}:\n",
       "  4.82007      -3.20865       4.19526e-17  …  -9.05962e-17   2.67993e-16\n",
       " -3.20865      -0.980123      2.20869          1.61353e-18   1.81847e-17\n",
       "  3.08659e-17   2.20869      -0.00367193      -1.15888e-16   1.38312e-16\n",
       " -2.03374e-16  -1.49441e-16  -2.29194          3.70812       6.13729e-17\n",
       " -2.43071e-16   1.47952e-16   5.22825e-16      3.74044      -4.64825\n",
       "  2.85933e-16  -1.03743e-16  -1.85044e-16  …  -4.64825       5.24061"
      ]
     },
     "execution_count": 8,
     "metadata": {},
     "output_type": "execute_result"
    }
   ],
   "source": [
    "inv(Sf)"
   ]
  },
  {
   "cell_type": "code",
   "execution_count": 9,
   "metadata": {},
   "outputs": [
    {
     "data": {
      "text/plain": [
       "6×6 Tridiagonal{Float64, Vector{Float64}}:\n",
       "  4.82007  -3.20865     ⋅            ⋅          ⋅         ⋅ \n",
       " -3.20865  -0.980123   2.20869       ⋅          ⋅         ⋅ \n",
       "   ⋅        2.20869   -0.00367193  -2.29194     ⋅         ⋅ \n",
       "   ⋅         ⋅        -2.29194     -0.392611   3.70812    ⋅ \n",
       "   ⋅         ⋅          ⋅           3.70812    3.74044  -4.64825\n",
       "   ⋅         ⋅          ⋅            ⋅        -4.64825   5.24061"
      ]
     },
     "execution_count": 9,
     "metadata": {},
     "output_type": "execute_result"
    }
   ],
   "source": [
    "Tridiagonal(inv(Sf))"
   ]
  },
  {
   "cell_type": "code",
   "execution_count": 10,
   "metadata": {},
   "outputs": [
    {
     "data": {
      "text/plain": [
       "false"
      ]
     },
     "execution_count": 10,
     "metadata": {},
     "output_type": "execute_result"
    }
   ],
   "source": [
    "isposdef(Tridiagonal(inv(Sf)))"
   ]
  },
  {
   "cell_type": "code",
   "execution_count": 11,
   "metadata": {},
   "outputs": [
    {
     "data": {
      "text/plain": [
       "true"
      ]
     },
     "execution_count": 11,
     "metadata": {},
     "output_type": "execute_result"
    }
   ],
   "source": [
    "n = 6\n",
    "A = Tridiagonal(rand(n,n))\n",
    "T = Matrix(A + A' + 100*I)\n",
    "isposdef(T)\n",
    "C = cholesky(T)\n",
    "L = C.L\n",
    "U = C.U\n",
    "L * L' ≈ T\n",
    "U' * U ≈ T"
   ]
  },
  {
   "cell_type": "code",
   "execution_count": 12,
   "metadata": {},
   "outputs": [
    {
     "data": {
      "text/plain": [
       "invBidiagUxy (generic function with 1 method)"
      ]
     },
     "execution_count": 12,
     "metadata": {},
     "output_type": "execute_result"
    }
   ],
   "source": [
    "include(\"backsub.jl\")\n",
    "include(\"invBiU.jl\")"
   ]
  },
  {
   "cell_type": "code",
   "execution_count": 13,
   "metadata": {},
   "outputs": [
    {
     "data": {
      "text/plain": [
       "6×6 UpperTriangular{Float64, Matrix{Float64}}:\n",
       " 10.0771   0.0689894   0.0         0.0          0.0         0.0\n",
       "   ⋅      10.0008      0.0565751   0.0          0.0         0.0\n",
       "   ⋅        ⋅         10.0145      0.00692577   0.0         0.0\n",
       "   ⋅        ⋅           ⋅         10.0063       0.0944234   0.0\n",
       "   ⋅        ⋅           ⋅           ⋅          10.0127      0.0194731\n",
       "   ⋅        ⋅           ⋅           ⋅            ⋅         10.0734"
      ]
     },
     "execution_count": 13,
     "metadata": {},
     "output_type": "execute_result"
    }
   ],
   "source": [
    "U"
   ]
  },
  {
   "cell_type": "code",
   "execution_count": 14,
   "metadata": {},
   "outputs": [
    {
     "data": {
      "text/plain": [
       "6×6 Matrix{Float64}:\n",
       " 0.0992346  -0.000684559   3.86729e-6   …   2.52423e-11  -4.87964e-14\n",
       " 0.0         0.099992     -0.000564887     -3.68708e-9    7.12759e-12\n",
       " 0.0         0.0           0.0998553        6.51767e-7   -1.25995e-9\n",
       " 0.0         0.0           0.0             -0.00094244    1.82185e-6\n",
       " 0.0         0.0           0.0              0.0998728    -0.000193067\n",
       " 0.0         0.0           0.0          …   0.0           0.0992717"
      ]
     },
     "execution_count": 14,
     "metadata": {},
     "output_type": "execute_result"
    }
   ],
   "source": [
    "Uinv, xU, yU = invBidiagUxy(U)\n",
    "Uinv * U ≈ I\n",
    "Uinv"
   ]
  },
  {
   "cell_type": "code",
   "execution_count": 15,
   "metadata": {},
   "outputs": [
    {
     "data": {
      "text/plain": [
       "6×6 LowerTriangular{Float64, Matrix{Float64}}:\n",
       " 10.0771       ⋅           ⋅            ⋅           ⋅           ⋅ \n",
       "  0.0689894  10.0008       ⋅            ⋅           ⋅           ⋅ \n",
       "  0.0         0.0565751  10.0145        ⋅           ⋅           ⋅ \n",
       "  0.0         0.0         0.00692577  10.0063       ⋅           ⋅ \n",
       "  0.0         0.0         0.0          0.0944234  10.0127       ⋅ \n",
       "  0.0         0.0         0.0          0.0         0.0194731  10.0734"
      ]
     },
     "execution_count": 15,
     "metadata": {},
     "output_type": "execute_result"
    }
   ],
   "source": [
    "L"
   ]
  },
  {
   "cell_type": "code",
   "execution_count": 16,
   "metadata": {},
   "outputs": [
    {
     "data": {
      "text/plain": [
       "6×6 adjoint(::Matrix{Float64}) with eltype Float64:\n",
       "  0.0992346     0.0           0.0         …   0.0          0.0\n",
       " -0.000684559   0.099992      0.0             0.0          0.0\n",
       "  3.86729e-6   -0.000564887   0.0998553       0.0          0.0\n",
       " -2.67671e-9    3.90981e-7   -6.91139e-5      0.0          0.0\n",
       "  2.52423e-11  -3.68708e-9    6.51767e-7      0.0998728    0.0\n",
       " -4.87964e-14   7.12759e-12  -1.25995e-9  …  -0.000193067  0.0992717"
      ]
     },
     "execution_count": 16,
     "metadata": {},
     "output_type": "execute_result"
    }
   ],
   "source": [
    "Linv0, xL, yL = invBidiagUxy(L')\n",
    "Linv = Linv0'\n",
    "Linv * L ≈ I\n",
    "Linv"
   ]
  },
  {
   "cell_type": "code",
   "execution_count": 17,
   "metadata": {},
   "outputs": [],
   "source": [
    "# S = triu(xU * yU', 1) + tril(yL * xL')"
   ]
  },
  {
   "cell_type": "code",
   "execution_count": 18,
   "metadata": {},
   "outputs": [
    {
     "data": {
      "text/plain": [
       "true"
      ]
     },
     "execution_count": 18,
     "metadata": {},
     "output_type": "execute_result"
    }
   ],
   "source": [
    "xL == xU\n",
    "yL == yU"
   ]
  },
  {
   "cell_type": "code",
   "execution_count": 19,
   "metadata": {},
   "outputs": [
    {
     "data": {
      "text/plain": [
       "6×6 Matrix{Float64}:\n",
       "  0.00984798   -6.84526e-5    3.8617e-7    …   2.52102e-12  -4.8441e-15\n",
       " -6.84526e-5    0.00999871   -5.6407e-5       -3.68241e-10   7.07568e-13\n",
       "  3.8617e-7    -5.6407e-5     0.00997108       6.5094e-8    -1.25077e-10\n",
       " -2.67527e-10   3.9077e-8    -6.90766e-6      -9.41244e-5    1.80858e-7\n",
       "  2.52102e-12  -3.68241e-10   6.5094e-8        0.00997461   -1.9166e-5\n",
       " -4.8441e-15    7.07568e-13  -1.25077e-10  …  -1.9166e-5     0.00985487"
      ]
     },
     "execution_count": 19,
     "metadata": {},
     "output_type": "execute_result"
    }
   ],
   "source": [
    "Tinv = Uinv * Linv\n",
    "# Tinv ≈ triu(xU * yU') * tril(yL * xL')\n",
    "# Tinv - Tinv'"
   ]
  },
  {
   "cell_type": "code",
   "execution_count": 20,
   "metadata": {},
   "outputs": [
    {
     "data": {
      "text/plain": [
       "6×6 Matrix{Float64}:\n",
       " 0.0           0.0           0.0           5.16988e-26  0.0          0.0\n",
       " 0.0          -1.73472e-18   0.0          -6.61744e-24  0.0          0.0\n",
       " 0.0           0.0          -1.73472e-18   0.0          1.32349e-23  0.0\n",
       " 5.16988e-26  -6.61744e-24   0.0          -1.73472e-18  0.0          0.0\n",
       " 0.0           0.0           1.32349e-23   0.0          0.0          0.0\n",
       " 0.0           0.0           0.0           0.0          0.0          0.0"
      ]
     },
     "execution_count": 20,
     "metadata": {},
     "output_type": "execute_result"
    }
   ],
   "source": [
    "function getCoef(u, v)\n",
    "    T = eltype(u)\n",
    "    n = length(u)\n",
    "    coef = zeros(T, n)\n",
    "    coef[n] = u[n]*v[n]\n",
    "    for i in n-1:-1:1\n",
    "        coef[i] = coef[i+1] + u[i]*v[i]\n",
    "    end\n",
    "    coef\n",
    "    # println(coef[1] - u'*v)\n",
    "end\n",
    "\n",
    "function onepairsym(x, y)\n",
    "    p = x\n",
    "    q = x .* getCoef(y,y)\n",
    "    (p, q)\n",
    "end\n",
    "\n",
    "function getSSsym(p, q)\n",
    "    triu(p * q') + tril(q * p', -1)\n",
    "    triu(p * q', 1) + tril(q * p')\n",
    "end\n",
    "\n",
    "# getCoef(uuu, vvv)\n",
    "p,q = onepairsym(xU, yU)\n",
    "\n",
    "getSSsym(p,q) - Tinv"
   ]
  },
  {
   "cell_type": "code",
   "execution_count": 21,
   "metadata": {},
   "outputs": [
    {
     "data": {
      "text/plain": [
       "6.509401891585355e-8"
      ]
     },
     "metadata": {},
     "output_type": "display_data"
    },
    {
     "data": {
      "text/plain": [
       "6.509401891585355e-8"
      ]
     },
     "metadata": {},
     "output_type": "display_data"
    },
    {
     "data": {
      "text/plain": [
       "testf22 (generic function with 1 method)"
      ]
     },
     "execution_count": 21,
     "metadata": {},
     "output_type": "execute_result"
    }
   ],
   "source": [
    "function testf1(x, y, i, j, n)\n",
    "    if i <= j\n",
    "        s = y[j].^2\n",
    "        for k in j+1:n\n",
    "            s += y[k].^2\n",
    "        end\n",
    "    else\n",
    "        s = y[i].^2\n",
    "        for k in i+1:n\n",
    "            s += y[k].^2\n",
    "        end\n",
    "    end\n",
    "    x[i]*x[j]*s\n",
    "end\n",
    "function testf11(x, y, i, j, n)\n",
    "    k = max(i, j)\n",
    "    x[i]*x[j] * (y[k:n])'*y[k:n]\n",
    "end\n",
    "i, j = 3, 5\n",
    "display(Tinv[i,j])\n",
    "display(testf11(xU, yU, i, j, n))\n",
    "\n",
    "\n",
    "function testf2(u, v, p, q, i, j, n)\n",
    "    if i <= j\n",
    "        s = p[j] * v[j]\n",
    "        for k in j+1:n\n",
    "            s += p[k] * v[k]\n",
    "        end\n",
    "    else\n",
    "        s = p[i] * v[i]\n",
    "        for k in i+1:n\n",
    "            s += p[k] * v[k]\n",
    "        end\n",
    "    end\n",
    "    q[j]*u[i]*s\n",
    "end\n",
    "\n",
    "function testf22(u, v, p, q, i, j, n)\n",
    "    k = max(i, j)\n",
    "    q[j]*u[i] * (p[k:n])'*v[k:n]\n",
    "end"
   ]
  },
  {
   "cell_type": "code",
   "execution_count": 22,
   "metadata": {},
   "outputs": [
    {
     "name": "stdout",
     "output_type": "stream",
     "text": [
      "true\n",
      "true\n",
      "true\n",
      "true\n",
      "true\n",
      "true\n",
      "true\n",
      "true\n",
      "true\n",
      "true\n",
      "true\n",
      "true\n",
      "true\n",
      "true\n",
      "true\n",
      "true\n",
      "true\n",
      "true\n",
      "true\n",
      "true\n",
      "true\n",
      "true\n",
      "true\n",
      "true\n",
      "true\n",
      "true\n",
      "true\n",
      "true\n",
      "true\n",
      "true\n",
      "true\n",
      "true\n",
      "true\n",
      "true\n",
      "true\n",
      "true\n"
     ]
    }
   ],
   "source": [
    "uuu = rand(n)\n",
    "vvv = rand(n)\n",
    "ppp = rand(n)\n",
    "qqq = rand(n)\n",
    "AAA = triu(uuu * vvv') * tril(ppp * qqq')\n",
    "\n",
    "\n",
    "for i in 1:n\n",
    "    for j in 1:n\n",
    "        println(Tinv[i,j] ≈ testf11(xU, yU, i, j, n))\n",
    "        # println(AAA[i,j] ≈ testf22(uuu, vvv, ppp, qqq, i, j, n))\n",
    "    end\n",
    "end\n"
   ]
  },
  {
   "cell_type": "code",
   "execution_count": 23,
   "metadata": {},
   "outputs": [
    {
     "data": {
      "text/plain": [
       "6×6 Matrix{Float64}:\n",
       " 0.0  0.0  0.0  0.0  0.0  0.0\n",
       " 0.0  0.0  0.0  0.0  0.0  0.0\n",
       " 0.0  0.0  0.0  0.0  0.0  0.0\n",
       " 0.0  0.0  0.0  0.0  0.0  0.0\n",
       " 0.0  0.0  0.0  0.0  0.0  0.0\n",
       " 0.0  0.0  0.0  0.0  0.0  0.0"
      ]
     },
     "execution_count": 23,
     "metadata": {},
     "output_type": "execute_result"
    }
   ],
   "source": [
    "function generateSymSS(x, y)\n",
    "    # tril(ỹ * x̃') + triu(x̃ * ỹ', 1)\n",
    "    T = eltype(x)\n",
    "    n = length(x)\n",
    "    SS = zeros(T, n, n)\n",
    "    for i in 1:n\n",
    "        for j in 1:n\n",
    "            if i <= j\n",
    "                SS[i,j] = y[j]*x[i]\n",
    "            else\n",
    "                SS[i,j] = y[i]*x[j]\n",
    "            end\n",
    "        end\n",
    "    end\n",
    "    SS\n",
    "end\n",
    "\n",
    "xx = rand(6)\n",
    "yy = rand(6)\n",
    "\n",
    "generateSymSS(xx,yy) - triu(xx * yy', 1) - tril(yy * xx')"
   ]
  },
  {
   "cell_type": "code",
   "execution_count": 24,
   "metadata": {},
   "outputs": [
    {
     "name": "stdout",
     "output_type": "stream",
     "text": [
      "  69.757 ns (1 allocation: 368 bytes)\n",
      "  281.827 ns (7 allocations: 1.83 KiB)\n"
     ]
    }
   ],
   "source": [
    "@btime generateSymSS(xx,yy);\n",
    "@btime triu(xx * yy', 1) + tril(yy * xx');"
   ]
  },
  {
   "cell_type": "code",
   "execution_count": null,
   "metadata": {},
   "outputs": [],
   "source": []
  },
  {
   "cell_type": "code",
   "execution_count": 77,
   "metadata": {},
   "outputs": [
    {
     "data": {
      "text/plain": [
       "9×9 Matrix{Int64}:\n",
       "  4  -1   0  -1   0   0   0   0   0\n",
       " -1   4  -1   0  -1   0   0   0   0\n",
       "  0  -1   4   0   0  -1   0   0   0\n",
       " -1   0   0   4  -1   0  -1   0   0\n",
       "  0  -1   0  -1   4  -1   0  -1   0\n",
       "  0   0  -1   0  -1   4   0   0  -1\n",
       "  0   0   0  -1   0   0   4  -1   0\n",
       "  0   0   0   0  -1   0  -1   4  -1\n",
       "  0   0   0   0   0  -1   0  -1   4"
      ]
     },
     "execution_count": 77,
     "metadata": {},
     "output_type": "execute_result"
    }
   ],
   "source": [
    "m = 3\n",
    "TTT = Tridiagonal(rand(m,m))\n",
    "\n",
    "\n",
    "TTT = [-2 1 0; 1 -2 1; 0 1 -2]\n",
    "III = -one(TTT)\n",
    "\n",
    "kron(TTT, III) + kron(III, TTT)"
   ]
  },
  {
   "cell_type": "code",
   "execution_count": 141,
   "metadata": {},
   "outputs": [
    {
     "data": {
      "image/png": "[encoded data removed]",
      "text/plain": [
       "Figure(PyObject <Figure size 640x480 with 1 Axes>)"
      ]
     },
     "metadata": {},
     "output_type": "display_data"
    },
    {
     "data": {
      "text/plain": [
       "1-element Vector{PyCall.PyObject}:\n",
       " PyObject <matplotlib.lines.Line2D object at 0x2f7495b50>"
      ]
     },
     "execution_count": 141,
     "metadata": {},
     "output_type": "execute_result"
    }
   ],
   "source": [
    "plot(1:100, (rand(100, 100) + 100I) \\ one(rand(100,100))[:,end])"
   ]
  },
  {
   "cell_type": "code",
   "execution_count": 134,
   "metadata": {},
   "outputs": [
    {
     "data": {
      "text/plain": [
       "100-element Vector{Float64}:\n",
       "  0.0016734284938963496\n",
       " -0.004873412282240887\n",
       "  0.00024399063527789854\n",
       " -0.0011088442280594282\n",
       " -6.882105463369413e-5\n",
       " -0.002169293622009982\n",
       "  2.9158319279035872e-5\n",
       "  0.0002722436206289816\n",
       "  0.0046906055756326505\n",
       " -0.0019706800448094546\n",
       " -0.001896629749874448\n",
       " -7.653066781027511e-5\n",
       "  0.00410928272366268\n",
       "  ⋮\n",
       " -0.001981282044651007\n",
       " -0.0011614158000633772\n",
       "  0.00328190852293823\n",
       "  0.004143020340141302\n",
       " -0.003832874777589152\n",
       " -0.00025752999298743647\n",
       " -0.0035476289119486704\n",
       "  0.0037032158041894504\n",
       "  0.00022916567750522014\n",
       " -0.0011052897890164526\n",
       " -0.0034341143466252045\n",
       "  0.0963370982165279"
      ]
     },
     "execution_count": 134,
     "metadata": {},
     "output_type": "execute_result"
    }
   ],
   "source": [
    "(rand(100, 100) + 1I) \\ one(rand(100,100))[:,end]"
   ]
  },
  {
   "cell_type": "code",
   "execution_count": 198,
   "metadata": {},
   "outputs": [
    {
     "data": {
      "text/plain": [
       "invBlockBiU (generic function with 1 method)"
      ]
     },
     "execution_count": 198,
     "metadata": {},
     "output_type": "execute_result"
    }
   ],
   "source": [
    "\n",
    "function invR(A)\n",
    "    if size(A)[1] != size(A)[2]\n",
    "        return A' * inv(A * A')\n",
    "    else\n",
    "        return inv(A)\n",
    "    end\n",
    "end\n",
    "function invL(A)\n",
    "    if size(A)[1] != size(A)[2]\n",
    "        return inv(A' * A) * A'\n",
    "    else\n",
    "        return inv(A)\n",
    "    end\n",
    "end\n",
    "\n",
    "function invBlockBiU(U, bw) # have problem\n",
    "    n = size(U)[2]\n",
    "    r = rem(n, bw)\n",
    "    T = eltype(U)\n",
    "    E_k = zeros(T, n, bw)\n",
    "    E_k[n-bw+1:n, :] = one(U[n-bw+1:n, n-bw+1:n])\n",
    "    # X = qr(U) \\ E_k\n",
    "    # if typeof(U) == BandedMatrix\n",
    "        X = qr(U) \\ E_k\n",
    "    #     print(11111111111111111)\n",
    "    # else\n",
    "        # X = U \\ E_k\n",
    "    Yt = zeros(T, bw, n)\n",
    "    for i in n : -bw : r+bw\n",
    "        Di = U[i-bw+1:i, i-bw+1:i]\n",
    "        Xi = X[i-bw+1:i, :]\n",
    "        # if typeof(U) == BandedMatrix\n",
    "            Yti = qr(Di * Xi) \\ I\n",
    "        # else\n",
    "            # Yti = inv(Di * Xi)\n",
    "            \n",
    "        # Yti = qr(Di * Xi) \\ I\n",
    "        # Yti = inv(Di * Xi)\n",
    "        Yt[:, i-bw+1:i] = Yti\n",
    "    end\n",
    "    D0 = U[1:r, 1:r]\n",
    "    # D0inv = qr(D0) \\ I\n",
    "    X0 = X[1:r, :]\n",
    "    Yt0 = invR(D0 * X0)\n",
    "    Yt[:, 1:r] = Yt0\n",
    "    Uinv = triu(X * Yt)\n",
    "    Uinv\n",
    "end\n"
   ]
  },
  {
   "cell_type": "code",
   "execution_count": 206,
   "metadata": {},
   "outputs": [
    {
     "data": {
      "text/plain": [
       "BandedMatrix{BigFloat, Matrix{BigFloat}, Base.OneTo{Int64}}"
      ]
     },
     "metadata": {},
     "output_type": "display_data"
    },
    {
     "data": {
      "text/plain": [
       "false"
      ]
     },
     "metadata": {},
     "output_type": "display_data"
    },
    {
     "data": {
      "text/plain": [
       "6.52160475290256761666715646758864085342787655731736573052000100001317459915963e-15"
      ]
     },
     "execution_count": 206,
     "metadata": {},
     "output_type": "execute_result"
    }
   ],
   "source": [
    "include(\"genTestMat.jl\")\n",
    "\n",
    "n = 1000\n",
    "bw = 2\n",
    "U = generateTestTriangular(n, bw, BandedMatrix, BigFloat)\n",
    "\n",
    "# U = generateTestTriangular(n, bw, UpperTriangular, BigFloat)\n",
    "# U = generateTestTriangular(n, bw, Matrix, BigFloat)\n",
    "# U = generateTestTriangular(n, bw, Bidiagonal, BigFloat)\n",
    "# Bidiagonal\n",
    "# display(U)\n",
    "display(typeof(U))\n",
    "# U = generateTestTriangular(n, bw, Bidiagonal, Float64)\n",
    "# U = generateTestTriangular(n, bw, BandedMatrix, Float64)\n",
    "\n",
    "\n",
    "Uinv = invBlockBiU(U, bw)\n",
    "II = U * Uinv\n",
    "# display(II)\n",
    "display(II ≈ I)\n",
    "norm(II - I)\n",
    "\n",
    "# invBidiagU(U)"
   ]
  },
  {
   "cell_type": "code",
   "execution_count": 197,
   "metadata": {},
   "outputs": [
    {
     "data": {
      "text/plain": [
       "10×10 Matrix{BigFloat}:\n",
       " 1.0  4.17612e-06  -8.10128e-07  0.0          …   0.0          0.0\n",
       " 0.0  1.00492      -0.00140571   7.35062e-06      0.0          0.0\n",
       " 0.0  0.0           1.00032      3.95996e-06      0.0          0.0\n",
       " 0.0  0.0           0.0          1.00002          0.0          0.0\n",
       " 0.0  0.0           0.0          0.0              3.00249e-07  0.0\n",
       " 0.0  0.0           0.0          0.0          …  -1.45409e-07  0.0\n",
       " 0.0  0.0           0.0          0.0              1.76355e-06  0.0\n",
       " 0.0  0.0           0.0          0.0             -0.00219096   6.44986e-06\n",
       " 0.0  0.0           0.0          0.0              0.998953     1.43187e-06\n",
       " 0.0  0.0           0.0          0.0              0.0          1.0"
      ]
     },
     "execution_count": 197,
     "metadata": {},
     "output_type": "execute_result"
    }
   ],
   "source": [
    "x = rand(n)\n",
    "\n",
    "b = U * x\n",
    "\n",
    "x1 = Uinv * b\n",
    "norm(x - x1)\n",
    "\n",
    "\n",
    "II[1:10, 1:10]"
   ]
  },
  {
   "cell_type": "code",
   "execution_count": 190,
   "metadata": {},
   "outputs": [
    {
     "data": {
      "image/png": "[encoded data removed]",
      "text/plain": [
       "Figure(PyObject <Figure size 640x480 with 1 Axes>)"
      ]
     },
     "metadata": {},
     "output_type": "display_data"
    },
    {
     "data": {
      "text/plain": [
       "PyObject <matplotlib.image.AxesImage object at 0x3b3a6ca30>"
      ]
     },
     "execution_count": 190,
     "metadata": {},
     "output_type": "execute_result"
    }
   ],
   "source": [
    "spy(II)"
   ]
  },
  {
   "cell_type": "code",
   "execution_count": 191,
   "metadata": {},
   "outputs": [
    {
     "data": {
      "text/plain": [
       "1000×1000 Matrix{BigFloat}:\n",
       " 1.0  4.17612e-06  -8.10128e-07  …  0.0  0.0  0.0  0.0  0.0  0.0  0.0\n",
       " 0.0  1.00492      -0.00140571      0.0  0.0  0.0  0.0  0.0  0.0  0.0\n",
       " 0.0  0.0           1.00032         0.0  0.0  0.0  0.0  0.0  0.0  0.0\n",
       " 0.0  0.0           0.0             0.0  0.0  0.0  0.0  0.0  0.0  0.0\n",
       " 0.0  0.0           0.0             0.0  0.0  0.0  0.0  0.0  0.0  0.0\n",
       " 0.0  0.0           0.0          …  0.0  0.0  0.0  0.0  0.0  0.0  0.0\n",
       " 0.0  0.0           0.0             0.0  0.0  0.0  0.0  0.0  0.0  0.0\n",
       " 0.0  0.0           0.0             0.0  0.0  0.0  0.0  0.0  0.0  0.0\n",
       " 0.0  0.0           0.0             0.0  0.0  0.0  0.0  0.0  0.0  0.0\n",
       " 0.0  0.0           0.0             0.0  0.0  0.0  0.0  0.0  0.0  0.0\n",
       " 0.0  0.0           0.0          …  0.0  0.0  0.0  0.0  0.0  0.0  0.0\n",
       " 0.0  0.0           0.0             0.0  0.0  0.0  0.0  0.0  0.0  0.0\n",
       " 0.0  0.0           0.0             0.0  0.0  0.0  0.0  0.0  0.0  0.0\n",
       " ⋮                               ⋱            ⋮                   \n",
       " 0.0  0.0           0.0             0.0  0.0  0.0  0.0  0.0  0.0  0.0\n",
       " 0.0  0.0           0.0             0.0  0.0  0.0  0.0  0.0  0.0  0.0\n",
       " 0.0  0.0           0.0          …  0.0  0.0  0.0  0.0  0.0  0.0  0.0\n",
       " 0.0  0.0           0.0             0.0  0.0  0.0  0.0  0.0  0.0  0.0\n",
       " 0.0  0.0           0.0             0.0  0.0  0.0  0.0  0.0  0.0  0.0\n",
       " 0.0  0.0           0.0             1.0  0.0  0.0  0.0  0.0  0.0  0.0\n",
       " 0.0  0.0           0.0             0.0  1.0  0.0  0.0  0.0  0.0  0.0\n",
       " 0.0  0.0           0.0          …  0.0  0.0  1.0  0.0  0.0  0.0  0.0\n",
       " 0.0  0.0           0.0             0.0  0.0  0.0  1.0  0.0  0.0  0.0\n",
       " 0.0  0.0           0.0             0.0  0.0  0.0  0.0  1.0  0.0  0.0\n",
       " 0.0  0.0           0.0             0.0  0.0  0.0  0.0  0.0  1.0  0.0\n",
       " 0.0  0.0           0.0             0.0  0.0  0.0  0.0  0.0  0.0  1.0"
      ]
     },
     "execution_count": 191,
     "metadata": {},
     "output_type": "execute_result"
    }
   ],
   "source": [
    "map!(x -> isapprox(x, 0, atol=1e-8) ? 0 : x, II, II)"
   ]
  },
  {
   "cell_type": "code",
   "execution_count": 192,
   "metadata": {},
   "outputs": [
    {
     "data": {
      "image/png": "[encoded data removed]",
      "text/plain": [
       "Figure(PyObject <Figure size 640x480 with 1 Axes>)"
      ]
     },
     "metadata": {},
     "output_type": "display_data"
    },
    {
     "data": {
      "text/plain": [
       "PyObject <matplotlib.image.AxesImage object at 0x3af001c10>"
      ]
     },
     "execution_count": 192,
     "metadata": {},
     "output_type": "execute_result"
    }
   ],
   "source": [
    "spy(II)"
   ]
  },
  {
   "cell_type": "code",
   "execution_count": 193,
   "metadata": {},
   "outputs": [
    {
     "data": {
      "image/png": "[encoded data removed]",
      "text/plain": [
       "Figure(PyObject <Figure size 640x480 with 1 Axes>)"
      ]
     },
     "metadata": {},
     "output_type": "display_data"
    },
    {
     "data": {
      "text/plain": [
       "PyObject <matplotlib.image.AxesImage object at 0x3b037e670>"
      ]
     },
     "execution_count": 193,
     "metadata": {},
     "output_type": "execute_result"
    }
   ],
   "source": [
    "spy(II[1:200, 1:200])"
   ]
  },
  {
   "cell_type": "code",
   "execution_count": 14,
   "metadata": {},
   "outputs": [
    {
     "data": {
      "text/plain": [
       "100×100 Tridiagonal{Float64, Vector{Float64}}:\n",
       "  4.0  -1.0    ⋅     ⋅     ⋅     ⋅   …    ⋅     ⋅     ⋅     ⋅     ⋅     ⋅ \n",
       " -1.0   4.0  -1.0    ⋅     ⋅     ⋅        ⋅     ⋅     ⋅     ⋅     ⋅     ⋅ \n",
       "   ⋅   -1.0   4.0  -1.0    ⋅     ⋅        ⋅     ⋅     ⋅     ⋅     ⋅     ⋅ \n",
       "   ⋅     ⋅   -1.0   4.0  -1.0    ⋅        ⋅     ⋅     ⋅     ⋅     ⋅     ⋅ \n",
       "   ⋅     ⋅     ⋅   -1.0   4.0  -1.0       ⋅     ⋅     ⋅     ⋅     ⋅     ⋅ \n",
       "   ⋅     ⋅     ⋅     ⋅   -1.0   4.0  …    ⋅     ⋅     ⋅     ⋅     ⋅     ⋅ \n",
       "   ⋅     ⋅     ⋅     ⋅     ⋅   -1.0       ⋅     ⋅     ⋅     ⋅     ⋅     ⋅ \n",
       "   ⋅     ⋅     ⋅     ⋅     ⋅     ⋅        ⋅     ⋅     ⋅     ⋅     ⋅     ⋅ \n",
       "   ⋅     ⋅     ⋅     ⋅     ⋅     ⋅        ⋅     ⋅     ⋅     ⋅     ⋅     ⋅ \n",
       "   ⋅     ⋅     ⋅     ⋅     ⋅     ⋅        ⋅     ⋅     ⋅     ⋅     ⋅     ⋅ \n",
       "   ⋅     ⋅     ⋅     ⋅     ⋅     ⋅   …    ⋅     ⋅     ⋅     ⋅     ⋅     ⋅ \n",
       "   ⋅     ⋅     ⋅     ⋅     ⋅     ⋅        ⋅     ⋅     ⋅     ⋅     ⋅     ⋅ \n",
       "   ⋅     ⋅     ⋅     ⋅     ⋅     ⋅        ⋅     ⋅     ⋅     ⋅     ⋅     ⋅ \n",
       "  ⋮                             ⋮    ⋱         ⋮                      \n",
       "   ⋅     ⋅     ⋅     ⋅     ⋅     ⋅        ⋅     ⋅     ⋅     ⋅     ⋅     ⋅ \n",
       "   ⋅     ⋅     ⋅     ⋅     ⋅     ⋅        ⋅     ⋅     ⋅     ⋅     ⋅     ⋅ \n",
       "   ⋅     ⋅     ⋅     ⋅     ⋅     ⋅   …    ⋅     ⋅     ⋅     ⋅     ⋅     ⋅ \n",
       "   ⋅     ⋅     ⋅     ⋅     ⋅     ⋅        ⋅     ⋅     ⋅     ⋅     ⋅     ⋅ \n",
       "   ⋅     ⋅     ⋅     ⋅     ⋅     ⋅        ⋅     ⋅     ⋅     ⋅     ⋅     ⋅ \n",
       "   ⋅     ⋅     ⋅     ⋅     ⋅     ⋅      -1.0    ⋅     ⋅     ⋅     ⋅     ⋅ \n",
       "   ⋅     ⋅     ⋅     ⋅     ⋅     ⋅       4.0  -1.0    ⋅     ⋅     ⋅     ⋅ \n",
       "   ⋅     ⋅     ⋅     ⋅     ⋅     ⋅   …  -1.0   4.0  -1.0    ⋅     ⋅     ⋅ \n",
       "   ⋅     ⋅     ⋅     ⋅     ⋅     ⋅        ⋅   -1.0   4.0  -1.0    ⋅     ⋅ \n",
       "   ⋅     ⋅     ⋅     ⋅     ⋅     ⋅        ⋅     ⋅   -1.0   4.0  -1.0    ⋅ \n",
       "   ⋅     ⋅     ⋅     ⋅     ⋅     ⋅        ⋅     ⋅     ⋅   -1.0   4.0  -1.0\n",
       "   ⋅     ⋅     ⋅     ⋅     ⋅     ⋅        ⋅     ⋅     ⋅     ⋅   -1.0   4.0"
      ]
     },
     "metadata": {},
     "output_type": "display_data"
    },
    {
     "data": {
      "text/plain": [
       "100×100 UpperTriangular{Float64, Matrix{Float64}}:\n",
       " 2.0  -0.5       0.0        0.0       …   0.0        0.0        0.0\n",
       "  ⋅    1.93649  -0.516398   0.0           0.0        0.0        0.0\n",
       "  ⋅     ⋅        1.93218   -0.517549      0.0        0.0        0.0\n",
       "  ⋅     ⋅         ⋅         1.93188       0.0        0.0        0.0\n",
       "  ⋅     ⋅         ⋅          ⋅            0.0        0.0        0.0\n",
       "  ⋅     ⋅         ⋅          ⋅        …   0.0        0.0        0.0\n",
       "  ⋅     ⋅         ⋅          ⋅            0.0        0.0        0.0\n",
       "  ⋅     ⋅         ⋅          ⋅            0.0        0.0        0.0\n",
       "  ⋅     ⋅         ⋅          ⋅            0.0        0.0        0.0\n",
       "  ⋅     ⋅         ⋅          ⋅            0.0        0.0        0.0\n",
       "  ⋅     ⋅         ⋅          ⋅        …   0.0        0.0        0.0\n",
       "  ⋅     ⋅         ⋅          ⋅            0.0        0.0        0.0\n",
       "  ⋅     ⋅         ⋅          ⋅            0.0        0.0        0.0\n",
       " ⋮                                    ⋱                        \n",
       "  ⋅     ⋅         ⋅          ⋅            0.0        0.0        0.0\n",
       "  ⋅     ⋅         ⋅          ⋅            0.0        0.0        0.0\n",
       "  ⋅     ⋅         ⋅          ⋅        …   0.0        0.0        0.0\n",
       "  ⋅     ⋅         ⋅          ⋅            0.0        0.0        0.0\n",
       "  ⋅     ⋅         ⋅          ⋅            0.0        0.0        0.0\n",
       "  ⋅     ⋅         ⋅          ⋅            0.0        0.0        0.0\n",
       "  ⋅     ⋅         ⋅          ⋅            0.0        0.0        0.0\n",
       "  ⋅     ⋅         ⋅          ⋅        …   0.0        0.0        0.0\n",
       "  ⋅     ⋅         ⋅          ⋅           -0.517638   0.0        0.0\n",
       "  ⋅     ⋅         ⋅          ⋅            1.93185   -0.517638   0.0\n",
       "  ⋅     ⋅         ⋅          ⋅             ⋅         1.93185   -0.517638\n",
       "  ⋅     ⋅         ⋅          ⋅             ⋅          ⋅         1.93185"
      ]
     },
     "execution_count": 14,
     "metadata": {},
     "output_type": "execute_result"
    }
   ],
   "source": [
    "n = 100\n",
    "T = Tridiagonal(-ones(n-1), 4*ones(n), -ones(n-1))\n",
    "display(T)\n",
    "T = Matrix(T)\n",
    "isposdef(T)\n",
    "C = cholesky(T)\n",
    "L = C.L\n",
    "U = C.U"
   ]
  },
  {
   "cell_type": "code",
   "execution_count": 13,
   "metadata": {},
   "outputs": [
    {
     "data": {
      "text/plain": [
       "100×100 LowerTriangular{Float64, Matrix{Float64}}:\n",
       "  2.0    ⋅          ⋅          ⋅        …    ⋅          ⋅         ⋅ \n",
       " -0.5   1.93649     ⋅          ⋅             ⋅          ⋅         ⋅ \n",
       "  0.0  -0.516398   1.93218     ⋅             ⋅          ⋅         ⋅ \n",
       "  0.0   0.0       -0.517549   1.93188        ⋅          ⋅         ⋅ \n",
       "  0.0   0.0        0.0       -0.517632       ⋅          ⋅         ⋅ \n",
       "  0.0   0.0        0.0        0.0       …    ⋅          ⋅         ⋅ \n",
       "  0.0   0.0        0.0        0.0            ⋅          ⋅         ⋅ \n",
       "  0.0   0.0        0.0        0.0            ⋅          ⋅         ⋅ \n",
       "  0.0   0.0        0.0        0.0            ⋅          ⋅         ⋅ \n",
       "  0.0   0.0        0.0        0.0            ⋅          ⋅         ⋅ \n",
       "  0.0   0.0        0.0        0.0       …    ⋅          ⋅         ⋅ \n",
       "  0.0   0.0        0.0        0.0            ⋅          ⋅         ⋅ \n",
       "  0.0   0.0        0.0        0.0            ⋅          ⋅         ⋅ \n",
       "  ⋮                                     ⋱                        \n",
       "  0.0   0.0        0.0        0.0            ⋅          ⋅         ⋅ \n",
       "  0.0   0.0        0.0        0.0            ⋅          ⋅         ⋅ \n",
       "  0.0   0.0        0.0        0.0       …    ⋅          ⋅         ⋅ \n",
       "  0.0   0.0        0.0        0.0            ⋅          ⋅         ⋅ \n",
       "  0.0   0.0        0.0        0.0            ⋅          ⋅         ⋅ \n",
       "  0.0   0.0        0.0        0.0            ⋅          ⋅         ⋅ \n",
       "  0.0   0.0        0.0        0.0            ⋅          ⋅         ⋅ \n",
       "  0.0   0.0        0.0        0.0       …    ⋅          ⋅         ⋅ \n",
       "  0.0   0.0        0.0        0.0            ⋅          ⋅         ⋅ \n",
       "  0.0   0.0        0.0        0.0           1.93185     ⋅         ⋅ \n",
       "  0.0   0.0        0.0        0.0          -0.517638   1.93185    ⋅ \n",
       "  0.0   0.0        0.0        0.0           0.0       -0.517638  1.93185"
      ]
     },
     "execution_count": 13,
     "metadata": {},
     "output_type": "execute_result"
    }
   ],
   "source": [
    "L"
   ]
  },
  {
   "cell_type": "code",
   "execution_count": 11,
   "metadata": {},
   "outputs": [
    {
     "data": {
      "text/plain": [
       "10×10 UpperTriangular{Float64, Matrix{Float64}}:\n",
       " 2.0  -0.5       0.0        0.0       …   0.0        0.0        0.0\n",
       "  ⋅    1.93649  -0.516398   0.0           0.0        0.0        0.0\n",
       "  ⋅     ⋅        1.93218   -0.517549      0.0        0.0        0.0\n",
       "  ⋅     ⋅         ⋅         1.93188       0.0        0.0        0.0\n",
       "  ⋅     ⋅         ⋅          ⋅            0.0        0.0        0.0\n",
       "  ⋅     ⋅         ⋅          ⋅        …   0.0        0.0        0.0\n",
       "  ⋅     ⋅         ⋅          ⋅           -0.517638   0.0        0.0\n",
       "  ⋅     ⋅         ⋅          ⋅            1.93185   -0.517638   0.0\n",
       "  ⋅     ⋅         ⋅          ⋅             ⋅         1.93185   -0.517638\n",
       "  ⋅     ⋅         ⋅          ⋅             ⋅          ⋅         1.93185"
      ]
     },
     "execution_count": 11,
     "metadata": {},
     "output_type": "execute_result"
    }
   ],
   "source": [
    "U"
   ]
  },
  {
   "cell_type": "code",
   "execution_count": 17,
   "metadata": {},
   "outputs": [
    {
     "data": {
      "text/plain": [
       "3×3 Bidiagonal{Float64, Vector{Float64}}:\n",
       " 1.0  1.0   ⋅ \n",
       "  ⋅   1.0  1.0\n",
       "  ⋅    ⋅   1.0"
      ]
     },
     "execution_count": 17,
     "metadata": {},
     "output_type": "execute_result"
    }
   ],
   "source": [
    "Bidiagonal(ones(3), ones(2), :U)"
   ]
  },
  {
   "cell_type": "code",
   "execution_count": 18,
   "metadata": {},
   "outputs": [
    {
     "data": {
      "text/plain": [
       "true"
      ]
     },
     "metadata": {},
     "output_type": "display_data"
    }
   ],
   "source": [
    "n = 32\n",
    "A = Tridiagonal(-1ones(n-1), 4ones(n), -1ones(n-1))\n",
    "T = Matrix(A)\n",
    "isposdef(T)\n",
    "C = cholesky(T)\n",
    "L = C.L\n",
    "U = C.U\n",
    "L * L' ≈ T\n",
    "U' * U ≈ T"
   ]
  },
  {
   "cell_type": "code",
   "execution_count": 19,
   "metadata": {},
   "outputs": [
    {
     "data": {
      "image/png": "[encoded data removed]",
      "image/svg+xml": "<?xml version=\"1.0\" encoding=\"utf-8\"?>\n<svg xmlns=\"http://www.w3.org/2000/svg\" xmlns:xlink=\"http://www.w3.org/1999/xlink\" width=\"600\" height=\"400\" viewBox=\"0 0 2400 1600\">\n<defs>\n  <clipPath id=\"clip480\">\n    <rect x=\"0\" y=\"0\" width=\"2400\" height=\"1600\"/>\n  </clipPath>\n</defs>\n<path clip-path=\"url(#clip480)\" d=\"\nM0 1600 L2400 1600 L2400 0 L0 0  Z\n  \" fill=\"#ffffff\" fill-rule=\"evenodd\" fill-opacity=\"1\"/>\n<defs>\n  <clipPath id=\"clip481\">\n    <rect x=\"480\" y=\"0\" width=\"1681\" height=\"1600\"/>\n  </clipPath>\n</defs>\n<path clip-path=\"url(#clip480)\" d=\"\nM203.964 1423.18 L2112.76 1423.18 L2112.76 123.472 L203.964 123.472  Z\n  \" fill=\"#ffffff\" fill-rule=\"evenodd\" fill-opacity=\"1\"/>\n<defs>\n  <clipPath id=\"clip482\">\n    <rect x=\"203\" y=\"123\" width=\"1910\" height=\"1301\"/>\n  </clipPath>\n</defs>\n<polyline clip-path=\"url(#clip482)\" style=\"stroke:#000000; stroke-linecap:butt; stroke-linejoin:round; stroke-width:2; stroke-opacity:0.1; fill:none\" points=\"\n  472.387,123.472 472.387,1423.18 \n  \"/>\n<polyline clip-path=\"url(#clip482)\" style=\"stroke:#000000; stroke-linecap:butt; stroke-linejoin:round; stroke-width:2; stroke-opacity:0.1; fill:none\" points=\"\n  770.636,123.472 770.636,1423.18 \n  \"/>\n<polyline clip-path=\"url(#clip482)\" style=\"stroke:#000000; stroke-linecap:butt; stroke-linejoin:round; stroke-width:2; stroke-opacity:0.1; fill:none\" points=\"\n  1068.89,123.472 1068.89,1423.18 \n  \"/>\n<polyline clip-path=\"url(#clip482)\" style=\"stroke:#000000; stroke-linecap:butt; stroke-linejoin:round; stroke-width:2; stroke-opacity:0.1; fill:none\" points=\"\n  1367.13,123.472 1367.13,1423.18 \n  \"/>\n<polyline clip-path=\"url(#clip482)\" style=\"stroke:#000000; stroke-linecap:butt; stroke-linejoin:round; stroke-width:2; stroke-opacity:0.1; fill:none\" points=\"\n  1665.38,123.472 1665.38,1423.18 \n  \"/>\n<polyline clip-path=\"url(#clip482)\" style=\"stroke:#000000; stroke-linecap:butt; stroke-linejoin:round; stroke-width:2; stroke-opacity:0.1; fill:none\" points=\"\n  1963.63,123.472 1963.63,1423.18 \n  \"/>\n<polyline clip-path=\"url(#clip480)\" style=\"stroke:#000000; stroke-linecap:butt; stroke-linejoin:round; stroke-width:4; stroke-opacity:1; fill:none\" points=\"\n  203.964,1423.18 2112.76,1423.18 \n  \"/>\n<polyline clip-path=\"url(#clip480)\" style=\"stroke:#000000; stroke-linecap:butt; stroke-linejoin:round; stroke-width:4; stroke-opacity:1; fill:none\" points=\"\n  472.387,1423.18 472.387,1404.28 \n  \"/>\n<polyline clip-path=\"url(#clip480)\" style=\"stroke:#000000; stroke-linecap:butt; stroke-linejoin:round; stroke-width:4; stroke-opacity:1; fill:none\" points=\"\n  770.636,1423.18 770.636,1404.28 \n  \"/>\n<polyline clip-path=\"url(#clip480)\" style=\"stroke:#000000; stroke-linecap:butt; stroke-linejoin:round; stroke-width:4; stroke-opacity:1; fill:none\" points=\"\n  1068.89,1423.18 1068.89,1404.28 \n  \"/>\n<polyline clip-path=\"url(#clip480)\" style=\"stroke:#000000; stroke-linecap:butt; stroke-linejoin:round; stroke-width:4; stroke-opacity:1; fill:none\" points=\"\n  1367.13,1423.18 1367.13,1404.28 \n  \"/>\n<polyline clip-path=\"url(#clip480)\" style=\"stroke:#000000; stroke-linecap:butt; stroke-linejoin:round; stroke-width:4; stroke-opacity:1; fill:none\" points=\"\n  1665.38,1423.18 1665.38,1404.28 \n  \"/>\n<polyline clip-path=\"url(#clip480)\" style=\"stroke:#000000; stroke-linecap:butt; stroke-linejoin:round; stroke-width:4; stroke-opacity:1; fill:none\" points=\"\n  1963.63,1423.18 1963.63,1404.28 \n  \"/>\n<path clip-path=\"url(#clip480)\" d=\"M462.665 1451.02 L481.022 1451.02 L481.022 1454.96 L466.948 1454.96 L466.948 1463.43 Q467.966 1463.08 468.985 1462.92 Q470.003 1462.73 471.022 1462.73 Q476.809 1462.73 480.188 1465.9 Q483.568 1469.08 483.568 1474.49 Q483.568 1480.07 480.096 1483.17 Q476.624 1486.25 470.304 1486.25 Q468.128 1486.25 465.86 1485.88 Q463.614 1485.51 461.207 1484.77 L461.207 1480.07 Q463.29 1481.2 465.513 1481.76 Q467.735 1482.32 470.212 1482.32 Q474.216 1482.32 476.554 1480.21 Q478.892 1478.1 478.892 1474.49 Q478.892 1470.88 476.554 1468.77 Q474.216 1466.67 470.212 1466.67 Q468.337 1466.67 466.462 1467.08 Q464.61 1467.5 462.665 1468.38 L462.665 1451.02 Z\" fill=\"#000000\" fill-rule=\"evenodd\" fill-opacity=\"1\" /><path clip-path=\"url(#clip480)\" d=\"M745.324 1481.64 L752.963 1481.64 L752.963 1455.28 L744.653 1456.95 L744.653 1452.69 L752.916 1451.02 L757.592 1451.02 L757.592 1481.64 L765.231 1481.64 L765.231 1485.58 L745.324 1485.58 L745.324 1481.64 Z\" fill=\"#000000\" fill-rule=\"evenodd\" fill-opacity=\"1\" /><path clip-path=\"url(#clip480)\" d=\"M784.676 1454.1 Q781.064 1454.1 779.236 1457.66 Q777.43 1461.2 777.43 1468.33 Q777.43 1475.44 779.236 1479.01 Q781.064 1482.55 784.676 1482.55 Q788.31 1482.55 790.115 1479.01 Q791.944 1475.44 791.944 1468.33 Q791.944 1461.2 790.115 1457.66 Q788.31 1454.1 784.676 1454.1 M784.676 1450.39 Q790.486 1450.39 793.541 1455 Q796.62 1459.58 796.62 1468.33 Q796.62 1477.06 793.541 1481.67 Q790.486 1486.25 784.676 1486.25 Q778.865 1486.25 775.787 1481.67 Q772.731 1477.06 772.731 1468.33 Q772.731 1459.58 775.787 1455 Q778.865 1450.39 784.676 1450.39 Z\" fill=\"#000000\" fill-rule=\"evenodd\" fill-opacity=\"1\" /><path clip-path=\"url(#clip480)\" d=\"M1044.07 1481.64 L1051.71 1481.64 L1051.71 1455.28 L1043.4 1456.95 L1043.4 1452.69 L1051.66 1451.02 L1056.34 1451.02 L1056.34 1481.64 L1063.98 1481.64 L1063.98 1485.58 L1044.07 1485.58 L1044.07 1481.64 Z\" fill=\"#000000\" fill-rule=\"evenodd\" fill-opacity=\"1\" /><path clip-path=\"url(#clip480)\" d=\"M1073.47 1451.02 L1091.82 1451.02 L1091.82 1454.96 L1077.75 1454.96 L1077.75 1463.43 Q1078.77 1463.08 1079.79 1462.92 Q1080.81 1462.73 1081.82 1462.73 Q1087.61 1462.73 1090.99 1465.9 Q1094.37 1469.08 1094.37 1474.49 Q1094.37 1480.07 1090.9 1483.17 Q1087.43 1486.25 1081.11 1486.25 Q1078.93 1486.25 1076.66 1485.88 Q1074.42 1485.51 1072.01 1484.77 L1072.01 1480.07 Q1074.09 1481.2 1076.32 1481.76 Q1078.54 1482.32 1081.01 1482.32 Q1085.02 1482.32 1087.36 1480.21 Q1089.7 1478.1 1089.7 1474.49 Q1089.7 1470.88 1087.36 1468.77 Q1085.02 1466.67 1081.01 1466.67 Q1079.14 1466.67 1077.26 1467.08 Q1075.41 1467.5 1073.47 1468.38 L1073.47 1451.02 Z\" fill=\"#000000\" fill-rule=\"evenodd\" fill-opacity=\"1\" /><path clip-path=\"url(#clip480)\" d=\"M1345.91 1481.64 L1362.23 1481.64 L1362.23 1485.58 L1340.28 1485.58 L1340.28 1481.64 Q1342.94 1478.89 1347.53 1474.26 Q1352.13 1469.61 1353.31 1468.27 Q1355.56 1465.74 1356.44 1464.01 Q1357.34 1462.25 1357.34 1460.56 Q1357.34 1457.8 1355.4 1456.07 Q1353.48 1454.33 1350.37 1454.33 Q1348.18 1454.33 1345.72 1455.09 Q1343.29 1455.86 1340.51 1457.41 L1340.51 1452.69 Q1343.34 1451.55 1345.79 1450.97 Q1348.25 1450.39 1350.28 1450.39 Q1355.65 1450.39 1358.85 1453.08 Q1362.04 1455.77 1362.04 1460.26 Q1362.04 1462.39 1361.23 1464.31 Q1360.44 1466.2 1358.34 1468.8 Q1357.76 1469.47 1354.66 1472.69 Q1351.56 1475.88 1345.91 1481.64 Z\" fill=\"#000000\" fill-rule=\"evenodd\" fill-opacity=\"1\" /><path clip-path=\"url(#clip480)\" d=\"M1382.04 1454.1 Q1378.43 1454.1 1376.6 1457.66 Q1374.8 1461.2 1374.8 1468.33 Q1374.8 1475.44 1376.6 1479.01 Q1378.43 1482.55 1382.04 1482.55 Q1385.68 1482.55 1387.48 1479.01 Q1389.31 1475.44 1389.31 1468.33 Q1389.31 1461.2 1387.48 1457.66 Q1385.68 1454.1 1382.04 1454.1 M1382.04 1450.39 Q1387.85 1450.39 1390.91 1455 Q1393.99 1459.58 1393.99 1468.33 Q1393.99 1477.06 1390.91 1481.67 Q1387.85 1486.25 1382.04 1486.25 Q1376.23 1486.25 1373.15 1481.67 Q1370.1 1477.06 1370.1 1468.33 Q1370.1 1459.58 1373.15 1455 Q1376.23 1450.39 1382.04 1450.39 Z\" fill=\"#000000\" fill-rule=\"evenodd\" fill-opacity=\"1\" /><path clip-path=\"url(#clip480)\" d=\"M1644.65 1481.64 L1660.97 1481.64 L1660.97 1485.58 L1639.03 1485.58 L1639.03 1481.64 Q1641.69 1478.89 1646.27 1474.26 Q1650.88 1469.61 1652.06 1468.27 Q1654.31 1465.74 1655.19 1464.01 Q1656.09 1462.25 1656.09 1460.56 Q1656.09 1457.8 1654.14 1456.07 Q1652.22 1454.33 1649.12 1454.33 Q1646.92 1454.33 1644.47 1455.09 Q1642.04 1455.86 1639.26 1457.41 L1639.26 1452.69 Q1642.08 1451.55 1644.54 1450.97 Q1646.99 1450.39 1649.03 1450.39 Q1654.4 1450.39 1657.59 1453.08 Q1660.79 1455.77 1660.79 1460.26 Q1660.79 1462.39 1659.98 1464.31 Q1659.19 1466.2 1657.08 1468.8 Q1656.51 1469.47 1653.4 1472.69 Q1650.3 1475.88 1644.65 1481.64 Z\" fill=\"#000000\" fill-rule=\"evenodd\" fill-opacity=\"1\" /><path clip-path=\"url(#clip480)\" d=\"M1670.83 1451.02 L1689.19 1451.02 L1689.19 1454.96 L1675.12 1454.96 L1675.12 1463.43 Q1676.13 1463.08 1677.15 1462.92 Q1678.17 1462.73 1679.19 1462.73 Q1684.98 1462.73 1688.36 1465.9 Q1691.74 1469.08 1691.74 1474.49 Q1691.74 1480.07 1688.26 1483.17 Q1684.79 1486.25 1678.47 1486.25 Q1676.3 1486.25 1674.03 1485.88 Q1671.78 1485.51 1669.38 1484.77 L1669.38 1480.07 Q1671.46 1481.2 1673.68 1481.76 Q1675.9 1482.32 1678.38 1482.32 Q1682.38 1482.32 1684.72 1480.21 Q1687.06 1478.1 1687.06 1474.49 Q1687.06 1470.88 1684.72 1468.77 Q1682.38 1466.67 1678.38 1466.67 Q1676.51 1466.67 1674.63 1467.08 Q1672.78 1467.5 1670.83 1468.38 L1670.83 1451.02 Z\" fill=\"#000000\" fill-rule=\"evenodd\" fill-opacity=\"1\" /><path clip-path=\"url(#clip480)\" d=\"M1952.47 1466.95 Q1955.83 1467.66 1957.71 1469.93 Q1959.6 1472.2 1959.6 1475.53 Q1959.6 1480.65 1956.09 1483.45 Q1952.57 1486.25 1946.09 1486.25 Q1943.91 1486.25 1941.59 1485.81 Q1939.3 1485.39 1936.85 1484.54 L1936.85 1480.02 Q1938.79 1481.16 1941.11 1481.74 Q1943.42 1482.32 1945.95 1482.32 Q1950.34 1482.32 1952.64 1480.58 Q1954.95 1478.84 1954.95 1475.53 Q1954.95 1472.48 1952.8 1470.77 Q1950.67 1469.03 1946.85 1469.03 L1942.82 1469.03 L1942.82 1465.19 L1947.03 1465.19 Q1950.48 1465.19 1952.31 1463.82 Q1954.14 1462.43 1954.14 1459.84 Q1954.14 1457.18 1952.24 1455.77 Q1950.37 1454.33 1946.85 1454.33 Q1944.93 1454.33 1942.73 1454.75 Q1940.53 1455.16 1937.89 1456.04 L1937.89 1451.88 Q1940.55 1451.14 1942.87 1450.77 Q1945.21 1450.39 1947.27 1450.39 Q1952.59 1450.39 1955.69 1452.83 Q1958.79 1455.23 1958.79 1459.35 Q1958.79 1462.22 1957.15 1464.21 Q1955.51 1466.18 1952.47 1466.95 Z\" fill=\"#000000\" fill-rule=\"evenodd\" fill-opacity=\"1\" /><path clip-path=\"url(#clip480)\" d=\"M1978.47 1454.1 Q1974.86 1454.1 1973.03 1457.66 Q1971.22 1461.2 1971.22 1468.33 Q1971.22 1475.44 1973.03 1479.01 Q1974.86 1482.55 1978.47 1482.55 Q1982.1 1482.55 1983.91 1479.01 Q1985.74 1475.44 1985.74 1468.33 Q1985.74 1461.2 1983.91 1457.66 Q1982.1 1454.1 1978.47 1454.1 M1978.47 1450.39 Q1984.28 1450.39 1987.34 1455 Q1990.41 1459.58 1990.41 1468.33 Q1990.41 1477.06 1987.34 1481.67 Q1984.28 1486.25 1978.47 1486.25 Q1972.66 1486.25 1969.58 1481.67 Q1966.53 1477.06 1966.53 1468.33 Q1966.53 1459.58 1969.58 1455 Q1972.66 1450.39 1978.47 1450.39 Z\" fill=\"#000000\" fill-rule=\"evenodd\" fill-opacity=\"1\" /><path clip-path=\"url(#clip480)\" d=\"M1059.13 1532.4 L1046.24 1549.74 L1059.8 1568.04 L1052.9 1568.04 L1042.52 1554.04 L1032.14 1568.04 L1025.24 1568.04 L1039.08 1549.39 L1026.41 1532.4 L1033.32 1532.4 L1042.77 1545.1 L1052.23 1532.4 L1059.13 1532.4 Z\" fill=\"#000000\" fill-rule=\"evenodd\" fill-opacity=\"1\" /><path clip-path=\"url(#clip480)\" d=\"M1084.6 1532.4 L1090.8 1532.4 L1101.94 1562.31 L1113.08 1532.4 L1119.29 1532.4 L1105.92 1568.04 L1097.97 1568.04 L1084.6 1532.4 Z\" fill=\"#000000\" fill-rule=\"evenodd\" fill-opacity=\"1\" /><path clip-path=\"url(#clip480)\" d=\"M1143.58 1550.12 Q1136.48 1550.12 1133.74 1551.75 Q1131 1553.37 1131 1557.29 Q1131 1560.4 1133.04 1562.25 Q1135.11 1564.07 1138.64 1564.07 Q1143.51 1564.07 1146.44 1560.63 Q1149.4 1557.16 1149.4 1551.43 L1149.4 1550.12 L1143.58 1550.12 M1155.26 1547.71 L1155.26 1568.04 L1149.4 1568.04 L1149.4 1562.63 Q1147.39 1565.88 1144.4 1567.44 Q1141.41 1568.97 1137.08 1568.97 Q1131.61 1568.97 1128.36 1565.91 Q1125.15 1562.82 1125.15 1557.67 Q1125.15 1551.65 1129.16 1548.6 Q1133.2 1545.54 1141.19 1545.54 L1149.4 1545.54 L1149.4 1544.97 Q1149.4 1540.93 1146.73 1538.73 Q1144.08 1536.5 1139.28 1536.5 Q1136.22 1536.5 1133.33 1537.23 Q1130.43 1537.97 1127.76 1539.43 L1127.76 1534.02 Q1130.97 1532.78 1133.99 1532.17 Q1137.02 1531.54 1139.88 1531.54 Q1147.62 1531.54 1151.44 1535.55 Q1155.26 1539.56 1155.26 1547.71 Z\" fill=\"#000000\" fill-rule=\"evenodd\" fill-opacity=\"1\" /><path clip-path=\"url(#clip480)\" d=\"M1167.32 1518.52 L1173.18 1518.52 L1173.18 1568.04 L1167.32 1568.04 L1167.32 1518.52 Z\" fill=\"#000000\" fill-rule=\"evenodd\" fill-opacity=\"1\" /><path clip-path=\"url(#clip480)\" d=\"M1184.83 1553.98 L1184.83 1532.4 L1190.68 1532.4 L1190.68 1553.75 Q1190.68 1558.81 1192.65 1561.36 Q1194.63 1563.87 1198.58 1563.87 Q1203.32 1563.87 1206.05 1560.85 Q1208.82 1557.83 1208.82 1552.61 L1208.82 1532.4 L1214.68 1532.4 L1214.68 1568.04 L1208.82 1568.04 L1208.82 1562.57 Q1206.69 1565.82 1203.86 1567.41 Q1201.06 1568.97 1197.33 1568.97 Q1191.19 1568.97 1188.01 1565.15 Q1184.83 1561.33 1184.83 1553.98 M1199.56 1531.54 L1199.56 1531.54 Z\" fill=\"#000000\" fill-rule=\"evenodd\" fill-opacity=\"1\" /><path clip-path=\"url(#clip480)\" d=\"M1257.24 1548.76 L1257.24 1551.62 L1230.31 1551.62 Q1230.69 1557.67 1233.94 1560.85 Q1237.21 1564 1243.04 1564 Q1246.41 1564 1249.56 1563.17 Q1252.75 1562.35 1255.87 1560.69 L1255.87 1566.23 Q1252.72 1567.57 1249.41 1568.27 Q1246.1 1568.97 1242.69 1568.97 Q1234.16 1568.97 1229.16 1564 Q1224.2 1559.04 1224.2 1550.57 Q1224.2 1541.82 1228.91 1536.69 Q1233.65 1531.54 1241.67 1531.54 Q1248.86 1531.54 1253.03 1536.18 Q1257.24 1540.8 1257.24 1548.76 M1251.38 1547.04 Q1251.31 1542.23 1248.67 1539.37 Q1246.06 1536.5 1241.73 1536.5 Q1236.83 1536.5 1233.87 1539.27 Q1230.94 1542.04 1230.5 1547.07 L1251.38 1547.04 Z\" fill=\"#000000\" fill-rule=\"evenodd\" fill-opacity=\"1\" /><path clip-path=\"url(#clip480)\" d=\"M1289.57 1533.45 L1289.57 1538.98 Q1287.09 1537.71 1284.42 1537.07 Q1281.74 1536.44 1278.88 1536.44 Q1274.52 1536.44 1272.32 1537.77 Q1270.16 1539.11 1270.16 1541.79 Q1270.16 1543.82 1271.72 1545 Q1273.28 1546.15 1277.99 1547.2 L1279.99 1547.64 Q1286.23 1548.98 1288.84 1551.43 Q1291.48 1553.85 1291.48 1558.21 Q1291.48 1563.17 1287.54 1566.07 Q1283.62 1568.97 1276.75 1568.97 Q1273.88 1568.97 1270.76 1568.39 Q1267.67 1567.85 1264.24 1566.74 L1264.24 1560.69 Q1267.48 1562.38 1270.63 1563.24 Q1273.79 1564.07 1276.87 1564.07 Q1281.01 1564.07 1283.24 1562.66 Q1285.47 1561.23 1285.47 1558.65 Q1285.47 1556.27 1283.84 1554.99 Q1282.25 1553.72 1276.81 1552.54 L1274.77 1552.07 Q1269.33 1550.92 1266.91 1548.56 Q1264.49 1546.18 1264.49 1542.04 Q1264.49 1537.01 1268.06 1534.27 Q1271.62 1531.54 1278.18 1531.54 Q1281.42 1531.54 1284.29 1532.01 Q1287.15 1532.49 1289.57 1533.45 Z\" fill=\"#000000\" fill-rule=\"evenodd\" fill-opacity=\"1\" /><polyline clip-path=\"url(#clip482)\" style=\"stroke:#000000; stroke-linecap:butt; stroke-linejoin:round; stroke-width:2; stroke-opacity:0.1; fill:none\" points=\"\n  203.964,306.244 2112.76,306.244 \n  \"/>\n<polyline clip-path=\"url(#clip482)\" style=\"stroke:#000000; stroke-linecap:butt; stroke-linejoin:round; stroke-width:2; stroke-opacity:0.1; fill:none\" points=\"\n  203.964,509.323 2112.76,509.323 \n  \"/>\n<polyline clip-path=\"url(#clip482)\" style=\"stroke:#000000; stroke-linecap:butt; stroke-linejoin:round; stroke-width:2; stroke-opacity:0.1; fill:none\" points=\"\n  203.964,712.402 2112.76,712.402 \n  \"/>\n<polyline clip-path=\"url(#clip482)\" style=\"stroke:#000000; stroke-linecap:butt; stroke-linejoin:round; stroke-width:2; stroke-opacity:0.1; fill:none\" points=\"\n  203.964,915.482 2112.76,915.482 \n  \"/>\n<polyline clip-path=\"url(#clip482)\" style=\"stroke:#000000; stroke-linecap:butt; stroke-linejoin:round; stroke-width:2; stroke-opacity:0.1; fill:none\" points=\"\n  203.964,1118.56 2112.76,1118.56 \n  \"/>\n<polyline clip-path=\"url(#clip482)\" style=\"stroke:#000000; stroke-linecap:butt; stroke-linejoin:round; stroke-width:2; stroke-opacity:0.1; fill:none\" points=\"\n  203.964,1321.64 2112.76,1321.64 \n  \"/>\n<polyline clip-path=\"url(#clip480)\" style=\"stroke:#000000; stroke-linecap:butt; stroke-linejoin:round; stroke-width:4; stroke-opacity:1; fill:none\" points=\"\n  203.964,123.472 203.964,1423.18 \n  \"/>\n<polyline clip-path=\"url(#clip480)\" style=\"stroke:#000000; stroke-linecap:butt; stroke-linejoin:round; stroke-width:4; stroke-opacity:1; fill:none\" points=\"\n  203.964,306.244 220.751,306.244 \n  \"/>\n<polyline clip-path=\"url(#clip480)\" style=\"stroke:#000000; stroke-linecap:butt; stroke-linejoin:round; stroke-width:4; stroke-opacity:1; fill:none\" points=\"\n  203.964,509.323 220.751,509.323 \n  \"/>\n<polyline clip-path=\"url(#clip480)\" style=\"stroke:#000000; stroke-linecap:butt; stroke-linejoin:round; stroke-width:4; stroke-opacity:1; fill:none\" points=\"\n  203.964,712.402 220.751,712.402 \n  \"/>\n<polyline clip-path=\"url(#clip480)\" style=\"stroke:#000000; stroke-linecap:butt; stroke-linejoin:round; stroke-width:4; stroke-opacity:1; fill:none\" points=\"\n  203.964,915.482 220.751,915.482 \n  \"/>\n<polyline clip-path=\"url(#clip480)\" style=\"stroke:#000000; stroke-linecap:butt; stroke-linejoin:round; stroke-width:4; stroke-opacity:1; fill:none\" points=\"\n  203.964,1118.56 220.751,1118.56 \n  \"/>\n<polyline clip-path=\"url(#clip480)\" style=\"stroke:#000000; stroke-linecap:butt; stroke-linejoin:round; stroke-width:4; stroke-opacity:1; fill:none\" points=\"\n  203.964,1321.64 220.751,1321.64 \n  \"/>\n<path clip-path=\"url(#clip480)\" d=\"M147.061 288.964 L165.417 288.964 L165.417 292.899 L151.343 292.899 L151.343 301.371 Q152.362 301.024 153.38 300.862 Q154.399 300.676 155.417 300.676 Q161.204 300.676 164.584 303.848 Q167.964 307.019 167.964 312.436 Q167.964 318.014 164.491 321.116 Q161.019 324.195 154.7 324.195 Q152.524 324.195 150.255 323.824 Q148.01 323.454 145.603 322.713 L145.603 318.014 Q147.686 319.149 149.908 319.704 Q152.13 320.26 154.607 320.26 Q158.612 320.26 160.95 318.153 Q163.288 316.047 163.288 312.436 Q163.288 308.825 160.95 306.718 Q158.612 304.612 154.607 304.612 Q152.732 304.612 150.857 305.028 Q149.005 305.445 147.061 306.325 L147.061 288.964 Z\" fill=\"#000000\" fill-rule=\"evenodd\" fill-opacity=\"1\" /><path clip-path=\"url(#clip480)\" d=\"M116.668 522.668 L124.306 522.668 L124.306 496.302 L115.996 497.969 L115.996 493.71 L124.26 492.043 L128.936 492.043 L128.936 522.668 L136.575 522.668 L136.575 526.603 L116.668 526.603 L116.668 522.668 Z\" fill=\"#000000\" fill-rule=\"evenodd\" fill-opacity=\"1\" /><path clip-path=\"url(#clip480)\" d=\"M156.019 495.122 Q152.408 495.122 150.579 498.686 Q148.774 502.228 148.774 509.358 Q148.774 516.464 150.579 520.029 Q152.408 523.57 156.019 523.57 Q159.653 523.57 161.459 520.029 Q163.288 516.464 163.288 509.358 Q163.288 502.228 161.459 498.686 Q159.653 495.122 156.019 495.122 M156.019 491.418 Q161.829 491.418 164.885 496.024 Q167.964 500.608 167.964 509.358 Q167.964 518.084 164.885 522.691 Q161.829 527.274 156.019 527.274 Q150.209 527.274 147.13 522.691 Q144.075 518.084 144.075 509.358 Q144.075 500.608 147.13 496.024 Q150.209 491.418 156.019 491.418 Z\" fill=\"#000000\" fill-rule=\"evenodd\" fill-opacity=\"1\" /><path clip-path=\"url(#clip480)\" d=\"M117.663 725.747 L125.302 725.747 L125.302 699.381 L116.992 701.048 L116.992 696.789 L125.255 695.122 L129.931 695.122 L129.931 725.747 L137.57 725.747 L137.57 729.682 L117.663 729.682 L117.663 725.747 Z\" fill=\"#000000\" fill-rule=\"evenodd\" fill-opacity=\"1\" /><path clip-path=\"url(#clip480)\" d=\"M147.061 695.122 L165.417 695.122 L165.417 699.057 L151.343 699.057 L151.343 707.53 Q152.362 707.182 153.38 707.02 Q154.399 706.835 155.417 706.835 Q161.204 706.835 164.584 710.006 Q167.964 713.178 167.964 718.594 Q167.964 724.173 164.491 727.275 Q161.019 730.353 154.7 730.353 Q152.524 730.353 150.255 729.983 Q148.01 729.613 145.603 728.872 L145.603 724.173 Q147.686 725.307 149.908 725.863 Q152.13 726.418 154.607 726.418 Q158.612 726.418 160.95 724.312 Q163.288 722.205 163.288 718.594 Q163.288 714.983 160.95 712.877 Q158.612 710.77 154.607 710.77 Q152.732 710.77 150.857 711.187 Q149.005 711.604 147.061 712.483 L147.061 695.122 Z\" fill=\"#000000\" fill-rule=\"evenodd\" fill-opacity=\"1\" /><path clip-path=\"url(#clip480)\" d=\"M119.885 928.826 L136.204 928.826 L136.204 932.762 L114.26 932.762 L114.26 928.826 Q116.922 926.072 121.505 921.442 Q126.112 916.789 127.292 915.447 Q129.538 912.924 130.417 911.188 Q131.32 909.428 131.32 907.739 Q131.32 904.984 129.376 903.248 Q127.455 901.512 124.353 901.512 Q122.154 901.512 119.7 902.276 Q117.269 903.039 114.492 904.59 L114.492 899.868 Q117.316 898.734 119.769 898.155 Q122.223 897.577 124.26 897.577 Q129.63 897.577 132.825 900.262 Q136.019 902.947 136.019 907.438 Q136.019 909.567 135.209 911.488 Q134.422 913.387 132.316 915.979 Q131.737 916.65 128.635 919.868 Q125.533 923.062 119.885 928.826 Z\" fill=\"#000000\" fill-rule=\"evenodd\" fill-opacity=\"1\" /><path clip-path=\"url(#clip480)\" d=\"M156.019 901.28 Q152.408 901.28 150.579 904.845 Q148.774 908.387 148.774 915.516 Q148.774 922.623 150.579 926.187 Q152.408 929.729 156.019 929.729 Q159.653 929.729 161.459 926.187 Q163.288 922.623 163.288 915.516 Q163.288 908.387 161.459 904.845 Q159.653 901.28 156.019 901.28 M156.019 897.577 Q161.829 897.577 164.885 902.183 Q167.964 906.766 167.964 915.516 Q167.964 924.243 164.885 928.849 Q161.829 933.433 156.019 933.433 Q150.209 933.433 147.13 928.849 Q144.075 924.243 144.075 915.516 Q144.075 906.766 147.13 902.183 Q150.209 897.577 156.019 897.577 Z\" fill=\"#000000\" fill-rule=\"evenodd\" fill-opacity=\"1\" /><path clip-path=\"url(#clip480)\" d=\"M120.88 1131.91 L137.2 1131.91 L137.2 1135.84 L115.256 1135.84 L115.256 1131.91 Q117.918 1129.15 122.501 1124.52 Q127.107 1119.87 128.288 1118.53 Q130.533 1116 131.413 1114.27 Q132.316 1112.51 132.316 1110.82 Q132.316 1108.06 130.371 1106.33 Q128.45 1104.59 125.348 1104.59 Q123.149 1104.59 120.695 1105.35 Q118.265 1106.12 115.487 1107.67 L115.487 1102.95 Q118.311 1101.81 120.765 1101.23 Q123.218 1100.66 125.255 1100.66 Q130.626 1100.66 133.82 1103.34 Q137.015 1106.03 137.015 1110.52 Q137.015 1112.65 136.204 1114.57 Q135.417 1116.47 133.311 1119.06 Q132.732 1119.73 129.63 1122.95 Q126.529 1126.14 120.88 1131.91 Z\" fill=\"#000000\" fill-rule=\"evenodd\" fill-opacity=\"1\" /><path clip-path=\"url(#clip480)\" d=\"M147.061 1101.28 L165.417 1101.28 L165.417 1105.22 L151.343 1105.22 L151.343 1113.69 Q152.362 1113.34 153.38 1113.18 Q154.399 1112.99 155.417 1112.99 Q161.204 1112.99 164.584 1116.17 Q167.964 1119.34 167.964 1124.75 Q167.964 1130.33 164.491 1133.43 Q161.019 1136.51 154.7 1136.51 Q152.524 1136.51 150.255 1136.14 Q148.01 1135.77 145.603 1135.03 L145.603 1130.33 Q147.686 1131.47 149.908 1132.02 Q152.13 1132.58 154.607 1132.58 Q158.612 1132.58 160.95 1130.47 Q163.288 1128.36 163.288 1124.75 Q163.288 1121.14 160.95 1119.04 Q158.612 1116.93 154.607 1116.93 Q152.732 1116.93 150.857 1117.35 Q149.005 1117.76 147.061 1118.64 L147.061 1101.28 Z\" fill=\"#000000\" fill-rule=\"evenodd\" fill-opacity=\"1\" /><path clip-path=\"url(#clip480)\" d=\"M130.024 1320.29 Q133.38 1321 135.255 1323.27 Q137.154 1325.54 137.154 1328.87 Q137.154 1333.99 133.635 1336.79 Q130.117 1339.59 123.635 1339.59 Q121.459 1339.59 119.144 1339.15 Q116.853 1338.73 114.399 1337.88 L114.399 1333.36 Q116.343 1334.5 118.658 1335.08 Q120.973 1335.66 123.496 1335.66 Q127.894 1335.66 130.186 1333.92 Q132.501 1332.18 132.501 1328.87 Q132.501 1325.82 130.348 1324.11 Q128.218 1322.37 124.399 1322.37 L120.371 1322.37 L120.371 1318.53 L124.584 1318.53 Q128.033 1318.53 129.862 1317.16 Q131.691 1315.77 131.691 1313.18 Q131.691 1310.52 129.792 1309.11 Q127.917 1307.67 124.399 1307.67 Q122.478 1307.67 120.279 1308.09 Q118.08 1308.5 115.441 1309.38 L115.441 1305.22 Q118.103 1304.48 120.418 1304.11 Q122.755 1303.74 124.816 1303.74 Q130.14 1303.74 133.242 1306.17 Q136.343 1308.57 136.343 1312.69 Q136.343 1315.56 134.7 1317.55 Q133.056 1319.52 130.024 1320.29 Z\" fill=\"#000000\" fill-rule=\"evenodd\" fill-opacity=\"1\" /><path clip-path=\"url(#clip480)\" d=\"M156.019 1307.44 Q152.408 1307.44 150.579 1311 Q148.774 1314.55 148.774 1321.67 Q148.774 1328.78 150.579 1332.35 Q152.408 1335.89 156.019 1335.89 Q159.653 1335.89 161.459 1332.35 Q163.288 1328.78 163.288 1321.67 Q163.288 1314.55 161.459 1311 Q159.653 1307.44 156.019 1307.44 M156.019 1303.74 Q161.829 1303.74 164.885 1308.34 Q167.964 1312.92 167.964 1321.67 Q167.964 1330.4 164.885 1335.01 Q161.829 1339.59 156.019 1339.59 Q150.209 1339.59 147.13 1335.01 Q144.075 1330.4 144.075 1321.67 Q144.075 1312.92 147.13 1308.34 Q150.209 1303.74 156.019 1303.74 Z\" fill=\"#000000\" fill-rule=\"evenodd\" fill-opacity=\"1\" /><path clip-path=\"url(#clip480)\" d=\"M67.3143 887.384 Q73.68 889.866 75.6216 892.221 Q77.5631 894.577 77.5631 898.524 L77.5631 903.202 L72.6615 903.202 L72.6615 899.765 Q72.6615 897.346 71.5157 896.009 Q70.3699 894.672 66.1048 893.049 L63.4312 891.999 L28.3562 906.417 L28.3562 900.21 L56.238 889.07 L28.3562 877.93 L28.3562 871.724 L67.3143 887.384 Z\" fill=\"#000000\" fill-rule=\"evenodd\" fill-opacity=\"1\" /><path clip-path=\"url(#clip480)\" d=\"M28.3562 847.12 L28.3562 840.914 L58.275 829.774 L28.3562 818.634 L28.3562 812.427 L64.0042 825.795 L64.0042 833.752 L28.3562 847.12 Z\" fill=\"#000000\" fill-rule=\"evenodd\" fill-opacity=\"1\" /><path clip-path=\"url(#clip480)\" d=\"M46.0847 788.142 Q46.0847 795.24 47.7079 797.977 Q49.3312 800.714 53.2461 800.714 Q56.3653 800.714 58.2114 798.677 Q60.0256 796.609 60.0256 793.076 Q60.0256 788.206 56.5881 785.278 Q53.1188 782.318 47.3897 782.318 L46.0847 782.318 L46.0847 788.142 M43.6657 776.461 L64.0042 776.461 L64.0042 782.318 L58.5933 782.318 Q61.8398 784.323 63.3994 787.315 Q64.9272 790.307 64.9272 794.635 Q64.9272 800.11 61.8716 803.356 Q58.7843 806.571 53.6281 806.571 Q47.6125 806.571 44.5569 802.56 Q41.5014 798.518 41.5014 790.529 L41.5014 782.318 L40.9285 782.318 Q36.8862 782.318 34.6901 784.991 Q32.4621 787.633 32.4621 792.439 Q32.4621 795.495 33.1941 798.391 Q33.9262 801.287 35.3903 803.961 L29.9795 803.961 Q28.7381 800.746 28.1334 797.723 Q27.4968 794.699 27.4968 791.834 Q27.4968 784.1 31.5072 780.281 Q35.5176 776.461 43.6657 776.461 Z\" fill=\"#000000\" fill-rule=\"evenodd\" fill-opacity=\"1\" /><path clip-path=\"url(#clip480)\" d=\"M14.479 764.398 L14.479 758.542 L64.0042 758.542 L64.0042 764.398 L14.479 764.398 Z\" fill=\"#000000\" fill-rule=\"evenodd\" fill-opacity=\"1\" /><path clip-path=\"url(#clip480)\" d=\"M49.9359 746.892 L28.3562 746.892 L28.3562 741.036 L49.7131 741.036 Q54.7739 741.036 57.3202 739.063 Q59.8346 737.089 59.8346 733.142 Q59.8346 728.4 56.8109 725.663 Q53.7872 722.894 48.5673 722.894 L28.3562 722.894 L28.3562 717.037 L64.0042 717.037 L64.0042 722.894 L58.5296 722.894 Q61.7762 725.026 63.3676 727.859 Q64.9272 730.66 64.9272 734.384 Q64.9272 740.527 61.1078 743.71 Q57.2883 746.892 49.9359 746.892 M27.4968 732.156 L27.4968 732.156 Z\" fill=\"#000000\" fill-rule=\"evenodd\" fill-opacity=\"1\" /><path clip-path=\"url(#clip480)\" d=\"M44.7161 674.482 L47.5806 674.482 L47.5806 701.409 Q53.6281 701.027 56.8109 697.781 Q59.9619 694.503 59.9619 688.678 Q59.9619 685.304 59.1344 682.153 Q58.3069 678.97 56.6518 675.851 L62.1899 675.851 Q63.5267 679.002 64.227 682.312 Q64.9272 685.622 64.9272 689.028 Q64.9272 697.558 59.9619 702.555 Q54.9967 707.52 46.5303 707.52 Q37.7774 707.52 32.6531 702.81 Q27.4968 698.067 27.4968 690.047 Q27.4968 682.853 32.1438 678.684 Q36.7589 674.482 44.7161 674.482 M42.9973 680.339 Q38.1912 680.403 35.3266 683.044 Q32.4621 685.654 32.4621 689.983 Q32.4621 694.885 35.2312 697.845 Q38.0002 700.773 43.0292 701.218 L42.9973 680.339 Z\" fill=\"#000000\" fill-rule=\"evenodd\" fill-opacity=\"1\" /><path clip-path=\"url(#clip480)\" d=\"M29.4065 642.145 L34.9447 642.145 Q33.6716 644.627 33.035 647.301 Q32.3984 649.975 32.3984 652.839 Q32.3984 657.2 33.7352 659.396 Q35.072 661.56 37.7456 661.56 Q39.7826 661.56 40.9603 660 Q42.1061 658.441 43.1565 653.73 L43.6021 651.725 Q44.9389 645.487 47.3897 642.877 Q49.8086 640.235 54.1691 640.235 Q59.1344 640.235 62.0308 644.182 Q64.9272 648.097 64.9272 654.972 Q64.9272 657.836 64.3543 660.955 Q63.8132 664.043 62.6992 667.48 L56.6518 667.48 Q58.3387 664.234 59.198 661.083 Q60.0256 657.932 60.0256 654.844 Q60.0256 650.707 58.6251 648.479 Q57.1929 646.251 54.6147 646.251 Q52.2276 646.251 50.9545 647.874 Q49.6813 649.465 48.5037 654.908 L48.0262 656.945 Q46.8804 662.388 44.5251 664.807 Q42.138 667.226 38.0002 667.226 Q32.9713 667.226 30.2341 663.661 Q27.4968 660.096 27.4968 653.539 Q27.4968 650.293 27.9743 647.428 Q28.4517 644.564 29.4065 642.145 Z\" fill=\"#000000\" fill-rule=\"evenodd\" fill-opacity=\"1\" /><path clip-path=\"url(#clip480)\" d=\"M1010.02 12.096 L1022.21 12.096 L1037.64 53.2532 L1053.16 12.096 L1065.35 12.096 L1065.35 72.576 L1057.37 72.576 L1057.37 19.4686 L1041.77 60.9499 L1033.55 60.9499 L1017.96 19.4686 L1017.96 72.576 L1010.02 72.576 L1010.02 12.096 Z\" fill=\"#000000\" fill-rule=\"evenodd\" fill-opacity=\"1\" /><path clip-path=\"url(#clip480)\" d=\"M1100.15 76.7889 Q1096.99 84.8907 1093.99 87.3618 Q1090.99 89.8329 1085.97 89.8329 L1080.02 89.8329 L1080.02 83.5945 L1084.39 83.5945 Q1087.47 83.5945 1089.17 82.1361 Q1090.87 80.6778 1092.94 75.2496 L1094.27 71.8468 L1075.92 27.2059 L1083.82 27.2059 L1098 62.6918 L1112.18 27.2059 L1120.08 27.2059 L1100.15 76.7889 Z\" fill=\"#000000\" fill-rule=\"evenodd\" fill-opacity=\"1\" /><path clip-path=\"url(#clip480)\" d=\"M1164.11 14.324 L1164.11 27.2059 L1179.46 27.2059 L1179.46 32.9987 L1164.11 32.9987 L1164.11 57.6282 Q1164.11 63.1779 1165.61 64.7578 Q1167.15 66.3376 1171.81 66.3376 L1179.46 66.3376 L1179.46 72.576 L1171.81 72.576 Q1163.18 72.576 1159.9 69.3758 Q1156.62 66.1351 1156.62 57.6282 L1156.62 32.9987 L1151.15 32.9987 L1151.15 27.2059 L1156.62 27.2059 L1156.62 14.324 L1164.11 14.324 Z\" fill=\"#000000\" fill-rule=\"evenodd\" fill-opacity=\"1\" /><path clip-path=\"url(#clip480)\" d=\"M1189.27 27.2059 L1196.72 27.2059 L1196.72 72.576 L1189.27 72.576 L1189.27 27.2059 M1189.27 9.54393 L1196.72 9.54393 L1196.72 18.9825 L1189.27 18.9825 L1189.27 9.54393 Z\" fill=\"#000000\" fill-rule=\"evenodd\" fill-opacity=\"1\" /><path clip-path=\"url(#clip480)\" d=\"M1219.69 14.324 L1219.69 27.2059 L1235.04 27.2059 L1235.04 32.9987 L1219.69 32.9987 L1219.69 57.6282 Q1219.69 63.1779 1221.19 64.7578 Q1222.73 66.3376 1227.39 66.3376 L1235.04 66.3376 L1235.04 72.576 L1227.39 72.576 Q1218.76 72.576 1215.48 69.3758 Q1212.2 66.1351 1212.2 57.6282 L1212.2 32.9987 L1206.73 32.9987 L1206.73 27.2059 L1212.2 27.2059 L1212.2 14.324 L1219.69 14.324 Z\" fill=\"#000000\" fill-rule=\"evenodd\" fill-opacity=\"1\" /><path clip-path=\"url(#clip480)\" d=\"M1244.85 9.54393 L1252.3 9.54393 L1252.3 72.576 L1244.85 72.576 L1244.85 9.54393 Z\" fill=\"#000000\" fill-rule=\"evenodd\" fill-opacity=\"1\" /><path clip-path=\"url(#clip480)\" d=\"M1306.7 48.0275 L1306.7 51.6733 L1272.43 51.6733 Q1272.92 59.3701 1277.05 63.421 Q1281.22 67.4314 1288.64 67.4314 Q1292.93 67.4314 1296.94 66.3781 Q1300.99 65.3249 1304.96 63.2184 L1304.96 70.267 Q1300.95 71.9684 1296.74 72.8596 Q1292.53 73.7508 1288.19 73.7508 Q1277.33 73.7508 1270.97 67.4314 Q1264.66 61.1119 1264.66 50.3365 Q1264.66 39.1965 1270.65 32.6746 Q1276.69 26.1121 1286.89 26.1121 Q1296.05 26.1121 1301.36 32.0264 Q1306.7 37.9003 1306.7 48.0275 M1299.25 45.84 Q1299.17 39.7232 1295.81 36.0774 Q1292.49 32.4315 1286.98 32.4315 Q1280.74 32.4315 1276.97 35.9558 Q1273.24 39.4801 1272.68 45.8805 L1299.25 45.84 Z\" fill=\"#000000\" fill-rule=\"evenodd\" fill-opacity=\"1\" /><g clip-path=\"url(#clip482)\">\n<image width=\"1909\" height=\"1300\" xlink:href=\"data:image/png;base64,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\nYII=\n\" transform=\"translate(204, 123)\"/>\n</g>\n<defs>\n  <clipPath id=\"clip483\">\n    <rect x=\"2160\" y=\"123\" width=\"73\" height=\"1301\"/>\n  </clipPath>\n</defs>\n<g clip-path=\"url(#clip483)\">\n<image width=\"72\" height=\"1300\" xlink:href=\"data:image/png;base64,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\nAAAAAElFTkSuQmCC\n\" transform=\"translate(2161, 123)\"/>\n</g>\n<path clip-path=\"url(#clip480)\" d=\"M2268.76 1410.9 L2298.43 1410.9 L2298.43 1414.83 L2268.76 1414.83 L2268.76 1410.9 Z\" fill=\"#000000\" fill-rule=\"evenodd\" fill-opacity=\"1\" /><path clip-path=\"url(#clip480)\" d=\"M2318.52 1396.24 Q2314.91 1396.24 2313.08 1399.81 Q2311.28 1403.35 2311.28 1410.48 Q2311.28 1417.59 2313.08 1421.15 Q2314.91 1424.69 2318.52 1424.69 Q2322.16 1424.69 2323.96 1421.15 Q2325.79 1417.59 2325.79 1410.48 Q2325.79 1403.35 2323.96 1399.81 Q2322.16 1396.24 2318.52 1396.24 M2318.52 1392.54 Q2324.33 1392.54 2327.39 1397.15 Q2330.47 1401.73 2330.47 1410.48 Q2330.47 1419.21 2327.39 1423.81 Q2324.33 1428.4 2318.52 1428.4 Q2312.71 1428.4 2309.64 1423.81 Q2306.58 1419.21 2306.58 1410.48 Q2306.58 1401.73 2309.64 1397.15 Q2312.71 1392.54 2318.52 1392.54 Z\" fill=\"#000000\" fill-rule=\"evenodd\" fill-opacity=\"1\" /><path clip-path=\"url(#clip480)\" d=\"M2338.69 1421.85 L2343.57 1421.85 L2343.57 1427.73 L2338.69 1427.73 L2338.69 1421.85 Z\" fill=\"#000000\" fill-rule=\"evenodd\" fill-opacity=\"1\" /><path clip-path=\"url(#clip480)\" d=\"M2353.8 1393.17 L2372.16 1393.17 L2372.16 1397.1 L2358.08 1397.1 L2358.08 1405.57 Q2359.1 1405.23 2360.12 1405.06 Q2361.14 1404.88 2362.16 1404.88 Q2367.95 1404.88 2371.32 1408.05 Q2374.7 1411.22 2374.7 1416.64 Q2374.7 1422.22 2371.23 1425.32 Q2367.76 1428.4 2361.44 1428.4 Q2359.26 1428.4 2357 1428.03 Q2354.75 1427.66 2352.34 1426.92 L2352.34 1422.22 Q2354.43 1423.35 2356.65 1423.91 Q2358.87 1424.46 2361.35 1424.46 Q2365.35 1424.46 2367.69 1422.36 Q2370.03 1420.25 2370.03 1416.64 Q2370.03 1413.03 2367.69 1410.92 Q2365.35 1408.81 2361.35 1408.81 Q2359.47 1408.81 2357.6 1409.23 Q2355.75 1409.65 2353.8 1410.53 L2353.8 1393.17 Z\" fill=\"#000000\" fill-rule=\"evenodd\" fill-opacity=\"1\" /><path clip-path=\"url(#clip480)\" d=\"M2280.7 1138.12 Q2277.09 1138.12 2275.26 1141.69 Q2273.45 1145.23 2273.45 1152.36 Q2273.45 1159.47 2275.26 1163.03 Q2277.09 1166.57 2280.7 1166.57 Q2284.33 1166.57 2286.14 1163.03 Q2287.97 1159.47 2287.97 1152.36 Q2287.97 1145.23 2286.14 1141.69 Q2284.33 1138.12 2280.7 1138.12 M2280.7 1134.42 Q2286.51 1134.42 2289.57 1139.03 Q2292.64 1143.61 2292.64 1152.36 Q2292.64 1161.09 2289.57 1165.69 Q2286.51 1170.28 2280.7 1170.28 Q2274.89 1170.28 2271.81 1165.69 Q2268.76 1161.09 2268.76 1152.36 Q2268.76 1143.61 2271.81 1139.03 Q2274.89 1134.42 2280.7 1134.42 Z\" fill=\"#000000\" fill-rule=\"evenodd\" fill-opacity=\"1\" /><path clip-path=\"url(#clip480)\" d=\"M2280.7 880.003 Q2277.09 880.003 2275.26 883.568 Q2273.45 887.11 2273.45 894.239 Q2273.45 901.346 2275.26 904.911 Q2277.09 908.452 2280.7 908.452 Q2284.33 908.452 2286.14 904.911 Q2287.97 901.346 2287.97 894.239 Q2287.97 887.11 2286.14 883.568 Q2284.33 880.003 2280.7 880.003 M2280.7 876.3 Q2286.51 876.3 2289.57 880.906 Q2292.64 885.489 2292.64 894.239 Q2292.64 902.966 2289.57 907.573 Q2286.51 912.156 2280.7 912.156 Q2274.89 912.156 2271.81 907.573 Q2268.76 902.966 2268.76 894.239 Q2268.76 885.489 2271.81 880.906 Q2274.89 876.3 2280.7 876.3 Z\" fill=\"#000000\" fill-rule=\"evenodd\" fill-opacity=\"1\" /><path clip-path=\"url(#clip480)\" d=\"M2300.86 905.605 L2305.75 905.605 L2305.75 911.485 L2300.86 911.485 L2300.86 905.605 Z\" fill=\"#000000\" fill-rule=\"evenodd\" fill-opacity=\"1\" /><path clip-path=\"url(#clip480)\" d=\"M2315.98 876.925 L2334.33 876.925 L2334.33 880.86 L2320.26 880.86 L2320.26 889.332 Q2321.28 888.985 2322.3 888.823 Q2323.32 888.638 2324.33 888.638 Q2330.12 888.638 2333.5 891.809 Q2336.88 894.98 2336.88 900.397 Q2336.88 905.975 2333.41 909.077 Q2329.94 912.156 2323.62 912.156 Q2321.44 912.156 2319.17 911.786 Q2316.93 911.415 2314.52 910.674 L2314.52 905.975 Q2316.6 907.11 2318.83 907.665 Q2321.05 908.221 2323.52 908.221 Q2327.53 908.221 2329.87 906.114 Q2332.2 904.008 2332.2 900.397 Q2332.2 896.786 2329.87 894.679 Q2327.53 892.573 2323.52 892.573 Q2321.65 892.573 2319.77 892.989 Q2317.92 893.406 2315.98 894.286 L2315.98 876.925 Z\" fill=\"#000000\" fill-rule=\"evenodd\" fill-opacity=\"1\" /><path clip-path=\"url(#clip480)\" d=\"M2269.43 649.429 L2277.07 649.429 L2277.07 623.063 L2268.76 624.73 L2268.76 620.471 L2277.02 618.804 L2281.7 618.804 L2281.7 649.429 L2289.33 649.429 L2289.33 653.364 L2269.43 653.364 L2269.43 649.429 Z\" fill=\"#000000\" fill-rule=\"evenodd\" fill-opacity=\"1\" /><path clip-path=\"url(#clip480)\" d=\"M2298.78 647.485 L2303.66 647.485 L2303.66 653.364 L2298.78 653.364 L2298.78 647.485 Z\" fill=\"#000000\" fill-rule=\"evenodd\" fill-opacity=\"1\" /><path clip-path=\"url(#clip480)\" d=\"M2323.85 621.883 Q2320.24 621.883 2318.41 625.448 Q2316.6 628.989 2316.6 636.119 Q2316.6 643.225 2318.41 646.79 Q2320.24 650.332 2323.85 650.332 Q2327.48 650.332 2329.29 646.79 Q2331.12 643.225 2331.12 636.119 Q2331.12 628.989 2329.29 625.448 Q2327.48 621.883 2323.85 621.883 M2323.85 618.179 Q2329.66 618.179 2332.71 622.786 Q2335.79 627.369 2335.79 636.119 Q2335.79 644.846 2332.71 649.452 Q2329.66 654.036 2323.85 654.036 Q2318.04 654.036 2314.96 649.452 Q2311.9 644.846 2311.9 636.119 Q2311.9 627.369 2314.96 622.786 Q2318.04 618.179 2323.85 618.179 Z\" fill=\"#000000\" fill-rule=\"evenodd\" fill-opacity=\"1\" /><path clip-path=\"url(#clip480)\" d=\"M2269.43 391.309 L2277.07 391.309 L2277.07 364.943 L2268.76 366.61 L2268.76 362.35 L2277.02 360.684 L2281.7 360.684 L2281.7 391.309 L2289.33 391.309 L2289.33 395.244 L2269.43 395.244 L2269.43 391.309 Z\" fill=\"#000000\" fill-rule=\"evenodd\" fill-opacity=\"1\" /><path clip-path=\"url(#clip480)\" d=\"M2298.78 389.364 L2303.66 389.364 L2303.66 395.244 L2298.78 395.244 L2298.78 389.364 Z\" fill=\"#000000\" fill-rule=\"evenodd\" fill-opacity=\"1\" /><path clip-path=\"url(#clip480)\" d=\"M2313.89 360.684 L2332.25 360.684 L2332.25 364.619 L2318.18 364.619 L2318.18 373.091 Q2319.2 372.744 2320.21 372.582 Q2321.23 372.397 2322.25 372.397 Q2328.04 372.397 2331.42 375.568 Q2334.8 378.739 2334.8 384.156 Q2334.8 389.735 2331.33 392.836 Q2327.85 395.915 2321.53 395.915 Q2319.36 395.915 2317.09 395.545 Q2314.84 395.174 2312.44 394.434 L2312.44 389.735 Q2314.52 390.869 2316.74 391.424 Q2318.96 391.98 2321.44 391.98 Q2325.45 391.98 2327.78 389.873 Q2330.12 387.767 2330.12 384.156 Q2330.12 380.545 2327.78 378.438 Q2325.45 376.332 2321.44 376.332 Q2319.57 376.332 2317.69 376.748 Q2315.84 377.165 2313.89 378.045 L2313.89 360.684 Z\" fill=\"#000000\" fill-rule=\"evenodd\" fill-opacity=\"1\" /><path clip-path=\"url(#clip480)\" d=\"M2274.38 133.188 L2290.7 133.188 L2290.7 137.123 L2268.76 137.123 L2268.76 133.188 Q2271.42 130.434 2276 125.804 Q2280.61 121.151 2281.79 119.809 Q2284.03 117.285 2284.91 115.549 Q2285.82 113.79 2285.82 112.1 Q2285.82 109.346 2283.87 107.61 Q2281.95 105.873 2278.85 105.873 Q2276.65 105.873 2274.2 106.637 Q2271.77 107.401 2268.99 108.952 L2268.99 104.23 Q2271.81 103.096 2274.27 102.517 Q2276.72 101.938 2278.76 101.938 Q2284.13 101.938 2287.32 104.624 Q2290.52 107.309 2290.52 111.799 Q2290.52 113.929 2289.7 115.85 Q2288.92 117.748 2286.81 120.341 Q2286.23 121.012 2283.13 124.23 Q2280.03 127.424 2274.38 133.188 Z\" fill=\"#000000\" fill-rule=\"evenodd\" fill-opacity=\"1\" /><path clip-path=\"url(#clip480)\" d=\"M2300.51 131.244 L2305.4 131.244 L2305.4 137.123 L2300.51 137.123 L2300.51 131.244 Z\" fill=\"#000000\" fill-rule=\"evenodd\" fill-opacity=\"1\" /><path clip-path=\"url(#clip480)\" d=\"M2325.58 105.642 Q2321.97 105.642 2320.14 109.207 Q2318.34 112.748 2318.34 119.878 Q2318.34 126.984 2320.14 130.549 Q2321.97 134.091 2325.58 134.091 Q2329.22 134.091 2331.02 130.549 Q2332.85 126.984 2332.85 119.878 Q2332.85 112.748 2331.02 109.207 Q2329.22 105.642 2325.58 105.642 M2325.58 101.938 Q2331.39 101.938 2334.45 106.545 Q2337.53 111.128 2337.53 119.878 Q2337.53 128.605 2334.45 133.211 Q2331.39 137.795 2325.58 137.795 Q2319.77 137.795 2316.7 133.211 Q2313.64 128.605 2313.64 119.878 Q2313.64 111.128 2316.7 106.545 Q2319.77 101.938 2325.58 101.938 Z\" fill=\"#000000\" fill-rule=\"evenodd\" fill-opacity=\"1\" /><polyline clip-path=\"url(#clip480)\" style=\"stroke:#000000; stroke-linecap:butt; stroke-linejoin:round; stroke-width:4; stroke-opacity:1; fill:none\" points=\"\n  2232.76,1423.18 2232.76,1414.07 2256.76,1414.07 2232.76,1414.07 2232.76,1155.95 2256.76,1155.95 2232.76,1155.95 2232.76,897.833 2256.76,897.833 2232.76,897.833 \n  2232.76,639.713 2256.76,639.713 2232.76,639.713 2232.76,381.593 2256.76,381.593 2232.76,381.593 2232.76,123.472 2256.76,123.472 2232.76,123.472 \n  \n  \"/>\n</svg>\n",
      "text/html": [
       "<?xml version=\"1.0\" encoding=\"utf-8\"?>\n",
       "<svg xmlns=\"http://www.w3.org/2000/svg\" xmlns:xlink=\"http://www.w3.org/1999/xlink\" width=\"600\" height=\"400\" viewBox=\"0 0 2400 1600\">\n",
       "<defs>\n",
       "  <clipPath id=\"clip530\">\n",
       "    <rect x=\"0\" y=\"0\" width=\"2400\" height=\"1600\"/>\n",
       "  </clipPath>\n",
       "</defs>\n",
       "<path clip-path=\"url(#clip530)\" d=\"\n",
       "M0 1600 L2400 1600 L2400 0 L0 0  Z\n",
       "  \" fill=\"#ffffff\" fill-rule=\"evenodd\" fill-opacity=\"1\"/>\n",
       "<defs>\n",
       "  <clipPath id=\"clip531\">\n",
       "    <rect x=\"480\" y=\"0\" width=\"1681\" height=\"1600\"/>\n",
       "  </clipPath>\n",
       "</defs>\n",
       "<path clip-path=\"url(#clip530)\" d=\"\n",
       "M203.964 1423.18 L2112.76 1423.18 L2112.76 123.472 L203.964 123.472  Z\n",
       "  \" fill=\"#ffffff\" fill-rule=\"evenodd\" fill-opacity=\"1\"/>\n",
       "<defs>\n",
       "  <clipPath id=\"clip532\">\n",
       "    <rect x=\"203\" y=\"123\" width=\"1910\" height=\"1301\"/>\n",
       "  </clipPath>\n",
       "</defs>\n",
       "<polyline clip-path=\"url(#clip532)\" style=\"stroke:#000000; stroke-linecap:butt; stroke-linejoin:round; stroke-width:2; stroke-opacity:0.1; fill:none\" points=\"\n",
       "  472.387,123.472 472.387,1423.18 \n",
       "  \"/>\n",
       "<polyline clip-path=\"url(#clip532)\" style=\"stroke:#000000; stroke-linecap:butt; stroke-linejoin:round; stroke-width:2; stroke-opacity:0.1; fill:none\" points=\"\n",
       "  770.636,123.472 770.636,1423.18 \n",
       "  \"/>\n",
       "<polyline clip-path=\"url(#clip532)\" style=\"stroke:#000000; stroke-linecap:butt; stroke-linejoin:round; stroke-width:2; stroke-opacity:0.1; fill:none\" points=\"\n",
       "  1068.89,123.472 1068.89,1423.18 \n",
       "  \"/>\n",
       "<polyline clip-path=\"url(#clip532)\" style=\"stroke:#000000; stroke-linecap:butt; stroke-linejoin:round; stroke-width:2; stroke-opacity:0.1; fill:none\" points=\"\n",
       "  1367.13,123.472 1367.13,1423.18 \n",
       "  \"/>\n",
       "<polyline clip-path=\"url(#clip532)\" style=\"stroke:#000000; stroke-linecap:butt; stroke-linejoin:round; stroke-width:2; stroke-opacity:0.1; fill:none\" points=\"\n",
       "  1665.38,123.472 1665.38,1423.18 \n",
       "  \"/>\n",
       "<polyline clip-path=\"url(#clip532)\" style=\"stroke:#000000; stroke-linecap:butt; stroke-linejoin:round; stroke-width:2; stroke-opacity:0.1; fill:none\" points=\"\n",
       "  1963.63,123.472 1963.63,1423.18 \n",
       "  \"/>\n",
       "<polyline clip-path=\"url(#clip530)\" style=\"stroke:#000000; stroke-linecap:butt; stroke-linejoin:round; stroke-width:4; stroke-opacity:1; fill:none\" points=\"\n",
       "  203.964,1423.18 2112.76,1423.18 \n",
       "  \"/>\n",
       "<polyline clip-path=\"url(#clip530)\" style=\"stroke:#000000; stroke-linecap:butt; stroke-linejoin:round; stroke-width:4; stroke-opacity:1; fill:none\" points=\"\n",
       "  472.387,1423.18 472.387,1404.28 \n",
       "  \"/>\n",
       "<polyline clip-path=\"url(#clip530)\" style=\"stroke:#000000; stroke-linecap:butt; stroke-linejoin:round; stroke-width:4; stroke-opacity:1; fill:none\" points=\"\n",
       "  770.636,1423.18 770.636,1404.28 \n",
       "  \"/>\n",
       "<polyline clip-path=\"url(#clip530)\" style=\"stroke:#000000; stroke-linecap:butt; stroke-linejoin:round; stroke-width:4; stroke-opacity:1; fill:none\" points=\"\n",
       "  1068.89,1423.18 1068.89,1404.28 \n",
       "  \"/>\n",
       "<polyline clip-path=\"url(#clip530)\" style=\"stroke:#000000; stroke-linecap:butt; stroke-linejoin:round; stroke-width:4; stroke-opacity:1; fill:none\" points=\"\n",
       "  1367.13,1423.18 1367.13,1404.28 \n",
       "  \"/>\n",
       "<polyline clip-path=\"url(#clip530)\" style=\"stroke:#000000; stroke-linecap:butt; stroke-linejoin:round; stroke-width:4; stroke-opacity:1; fill:none\" points=\"\n",
       "  1665.38,1423.18 1665.38,1404.28 \n",
       "  \"/>\n",
       "<polyline clip-path=\"url(#clip530)\" style=\"stroke:#000000; stroke-linecap:butt; stroke-linejoin:round; stroke-width:4; stroke-opacity:1; fill:none\" points=\"\n",
       "  1963.63,1423.18 1963.63,1404.28 \n",
       "  \"/>\n",
       "<path clip-path=\"url(#clip530)\" d=\"M462.665 1451.02 L481.022 1451.02 L481.022 1454.96 L466.948 1454.96 L466.948 1463.43 Q467.966 1463.08 468.985 1462.92 Q470.003 1462.73 471.022 1462.73 Q476.809 1462.73 480.188 1465.9 Q483.568 1469.08 483.568 1474.49 Q483.568 1480.07 480.096 1483.17 Q476.624 1486.25 470.304 1486.25 Q468.128 1486.25 465.86 1485.88 Q463.614 1485.51 461.207 1484.77 L461.207 1480.07 Q463.29 1481.2 465.513 1481.76 Q467.735 1482.32 470.212 1482.32 Q474.216 1482.32 476.554 1480.21 Q478.892 1478.1 478.892 1474.49 Q478.892 1470.88 476.554 1468.77 Q474.216 1466.67 470.212 1466.67 Q468.337 1466.67 466.462 1467.08 Q464.61 1467.5 462.665 1468.38 L462.665 1451.02 Z\" fill=\"#000000\" fill-rule=\"evenodd\" fill-opacity=\"1\" /><path clip-path=\"url(#clip530)\" d=\"M745.324 1481.64 L752.963 1481.64 L752.963 1455.28 L744.653 1456.95 L744.653 1452.69 L752.916 1451.02 L757.592 1451.02 L757.592 1481.64 L765.231 1481.64 L765.231 1485.58 L745.324 1485.58 L745.324 1481.64 Z\" fill=\"#000000\" fill-rule=\"evenodd\" fill-opacity=\"1\" /><path clip-path=\"url(#clip530)\" d=\"M784.676 1454.1 Q781.064 1454.1 779.236 1457.66 Q777.43 1461.2 777.43 1468.33 Q777.43 1475.44 779.236 1479.01 Q781.064 1482.55 784.676 1482.55 Q788.31 1482.55 790.115 1479.01 Q791.944 1475.44 791.944 1468.33 Q791.944 1461.2 790.115 1457.66 Q788.31 1454.1 784.676 1454.1 M784.676 1450.39 Q790.486 1450.39 793.541 1455 Q796.62 1459.58 796.62 1468.33 Q796.62 1477.06 793.541 1481.67 Q790.486 1486.25 784.676 1486.25 Q778.865 1486.25 775.787 1481.67 Q772.731 1477.06 772.731 1468.33 Q772.731 1459.58 775.787 1455 Q778.865 1450.39 784.676 1450.39 Z\" fill=\"#000000\" fill-rule=\"evenodd\" fill-opacity=\"1\" /><path clip-path=\"url(#clip530)\" d=\"M1044.07 1481.64 L1051.71 1481.64 L1051.71 1455.28 L1043.4 1456.95 L1043.4 1452.69 L1051.66 1451.02 L1056.34 1451.02 L1056.34 1481.64 L1063.98 1481.64 L1063.98 1485.58 L1044.07 1485.58 L1044.07 1481.64 Z\" fill=\"#000000\" fill-rule=\"evenodd\" fill-opacity=\"1\" /><path clip-path=\"url(#clip530)\" d=\"M1073.47 1451.02 L1091.82 1451.02 L1091.82 1454.96 L1077.75 1454.96 L1077.75 1463.43 Q1078.77 1463.08 1079.79 1462.92 Q1080.81 1462.73 1081.82 1462.73 Q1087.61 1462.73 1090.99 1465.9 Q1094.37 1469.08 1094.37 1474.49 Q1094.37 1480.07 1090.9 1483.17 Q1087.43 1486.25 1081.11 1486.25 Q1078.93 1486.25 1076.66 1485.88 Q1074.42 1485.51 1072.01 1484.77 L1072.01 1480.07 Q1074.09 1481.2 1076.32 1481.76 Q1078.54 1482.32 1081.01 1482.32 Q1085.02 1482.32 1087.36 1480.21 Q1089.7 1478.1 1089.7 1474.49 Q1089.7 1470.88 1087.36 1468.77 Q1085.02 1466.67 1081.01 1466.67 Q1079.14 1466.67 1077.26 1467.08 Q1075.41 1467.5 1073.47 1468.38 L1073.47 1451.02 Z\" fill=\"#000000\" fill-rule=\"evenodd\" fill-opacity=\"1\" /><path clip-path=\"url(#clip530)\" d=\"M1345.91 1481.64 L1362.23 1481.64 L1362.23 1485.58 L1340.28 1485.58 L1340.28 1481.64 Q1342.94 1478.89 1347.53 1474.26 Q1352.13 1469.61 1353.31 1468.27 Q1355.56 1465.74 1356.44 1464.01 Q1357.34 1462.25 1357.34 1460.56 Q1357.34 1457.8 1355.4 1456.07 Q1353.48 1454.33 1350.37 1454.33 Q1348.18 1454.33 1345.72 1455.09 Q1343.29 1455.86 1340.51 1457.41 L1340.51 1452.69 Q1343.34 1451.55 1345.79 1450.97 Q1348.25 1450.39 1350.28 1450.39 Q1355.65 1450.39 1358.85 1453.08 Q1362.04 1455.77 1362.04 1460.26 Q1362.04 1462.39 1361.23 1464.31 Q1360.44 1466.2 1358.34 1468.8 Q1357.76 1469.47 1354.66 1472.69 Q1351.56 1475.88 1345.91 1481.64 Z\" fill=\"#000000\" fill-rule=\"evenodd\" fill-opacity=\"1\" /><path clip-path=\"url(#clip530)\" d=\"M1382.04 1454.1 Q1378.43 1454.1 1376.6 1457.66 Q1374.8 1461.2 1374.8 1468.33 Q1374.8 1475.44 1376.6 1479.01 Q1378.43 1482.55 1382.04 1482.55 Q1385.68 1482.55 1387.48 1479.01 Q1389.31 1475.44 1389.31 1468.33 Q1389.31 1461.2 1387.48 1457.66 Q1385.68 1454.1 1382.04 1454.1 M1382.04 1450.39 Q1387.85 1450.39 1390.91 1455 Q1393.99 1459.58 1393.99 1468.33 Q1393.99 1477.06 1390.91 1481.67 Q1387.85 1486.25 1382.04 1486.25 Q1376.23 1486.25 1373.15 1481.67 Q1370.1 1477.06 1370.1 1468.33 Q1370.1 1459.58 1373.15 1455 Q1376.23 1450.39 1382.04 1450.39 Z\" fill=\"#000000\" fill-rule=\"evenodd\" fill-opacity=\"1\" /><path clip-path=\"url(#clip530)\" d=\"M1644.65 1481.64 L1660.97 1481.64 L1660.97 1485.58 L1639.03 1485.58 L1639.03 1481.64 Q1641.69 1478.89 1646.27 1474.26 Q1650.88 1469.61 1652.06 1468.27 Q1654.31 1465.74 1655.19 1464.01 Q1656.09 1462.25 1656.09 1460.56 Q1656.09 1457.8 1654.14 1456.07 Q1652.22 1454.33 1649.12 1454.33 Q1646.92 1454.33 1644.47 1455.09 Q1642.04 1455.86 1639.26 1457.41 L1639.26 1452.69 Q1642.08 1451.55 1644.54 1450.97 Q1646.99 1450.39 1649.03 1450.39 Q1654.4 1450.39 1657.59 1453.08 Q1660.79 1455.77 1660.79 1460.26 Q1660.79 1462.39 1659.98 1464.31 Q1659.19 1466.2 1657.08 1468.8 Q1656.51 1469.47 1653.4 1472.69 Q1650.3 1475.88 1644.65 1481.64 Z\" fill=\"#000000\" fill-rule=\"evenodd\" fill-opacity=\"1\" /><path clip-path=\"url(#clip530)\" d=\"M1670.83 1451.02 L1689.19 1451.02 L1689.19 1454.96 L1675.12 1454.96 L1675.12 1463.43 Q1676.13 1463.08 1677.15 1462.92 Q1678.17 1462.73 1679.19 1462.73 Q1684.98 1462.73 1688.36 1465.9 Q1691.74 1469.08 1691.74 1474.49 Q1691.74 1480.07 1688.26 1483.17 Q1684.79 1486.25 1678.47 1486.25 Q1676.3 1486.25 1674.03 1485.88 Q1671.78 1485.51 1669.38 1484.77 L1669.38 1480.07 Q1671.46 1481.2 1673.68 1481.76 Q1675.9 1482.32 1678.38 1482.32 Q1682.38 1482.32 1684.72 1480.21 Q1687.06 1478.1 1687.06 1474.49 Q1687.06 1470.88 1684.72 1468.77 Q1682.38 1466.67 1678.38 1466.67 Q1676.51 1466.67 1674.63 1467.08 Q1672.78 1467.5 1670.83 1468.38 L1670.83 1451.02 Z\" fill=\"#000000\" fill-rule=\"evenodd\" fill-opacity=\"1\" /><path clip-path=\"url(#clip530)\" d=\"M1952.47 1466.95 Q1955.83 1467.66 1957.71 1469.93 Q1959.6 1472.2 1959.6 1475.53 Q1959.6 1480.65 1956.09 1483.45 Q1952.57 1486.25 1946.09 1486.25 Q1943.91 1486.25 1941.59 1485.81 Q1939.3 1485.39 1936.85 1484.54 L1936.85 1480.02 Q1938.79 1481.16 1941.11 1481.74 Q1943.42 1482.32 1945.95 1482.32 Q1950.34 1482.32 1952.64 1480.58 Q1954.95 1478.84 1954.95 1475.53 Q1954.95 1472.48 1952.8 1470.77 Q1950.67 1469.03 1946.85 1469.03 L1942.82 1469.03 L1942.82 1465.19 L1947.03 1465.19 Q1950.48 1465.19 1952.31 1463.82 Q1954.14 1462.43 1954.14 1459.84 Q1954.14 1457.18 1952.24 1455.77 Q1950.37 1454.33 1946.85 1454.33 Q1944.93 1454.33 1942.73 1454.75 Q1940.53 1455.16 1937.89 1456.04 L1937.89 1451.88 Q1940.55 1451.14 1942.87 1450.77 Q1945.21 1450.39 1947.27 1450.39 Q1952.59 1450.39 1955.69 1452.83 Q1958.79 1455.23 1958.79 1459.35 Q1958.79 1462.22 1957.15 1464.21 Q1955.51 1466.18 1952.47 1466.95 Z\" fill=\"#000000\" fill-rule=\"evenodd\" fill-opacity=\"1\" /><path clip-path=\"url(#clip530)\" d=\"M1978.47 1454.1 Q1974.86 1454.1 1973.03 1457.66 Q1971.22 1461.2 1971.22 1468.33 Q1971.22 1475.44 1973.03 1479.01 Q1974.86 1482.55 1978.47 1482.55 Q1982.1 1482.55 1983.91 1479.01 Q1985.74 1475.44 1985.74 1468.33 Q1985.74 1461.2 1983.91 1457.66 Q1982.1 1454.1 1978.47 1454.1 M1978.47 1450.39 Q1984.28 1450.39 1987.34 1455 Q1990.41 1459.58 1990.41 1468.33 Q1990.41 1477.06 1987.34 1481.67 Q1984.28 1486.25 1978.47 1486.25 Q1972.66 1486.25 1969.58 1481.67 Q1966.53 1477.06 1966.53 1468.33 Q1966.53 1459.58 1969.58 1455 Q1972.66 1450.39 1978.47 1450.39 Z\" fill=\"#000000\" fill-rule=\"evenodd\" fill-opacity=\"1\" /><path clip-path=\"url(#clip530)\" d=\"M1059.13 1532.4 L1046.24 1549.74 L1059.8 1568.04 L1052.9 1568.04 L1042.52 1554.04 L1032.14 1568.04 L1025.24 1568.04 L1039.08 1549.39 L1026.41 1532.4 L1033.32 1532.4 L1042.77 1545.1 L1052.23 1532.4 L1059.13 1532.4 Z\" fill=\"#000000\" fill-rule=\"evenodd\" fill-opacity=\"1\" /><path clip-path=\"url(#clip530)\" d=\"M1084.6 1532.4 L1090.8 1532.4 L1101.94 1562.31 L1113.08 1532.4 L1119.29 1532.4 L1105.92 1568.04 L1097.97 1568.04 L1084.6 1532.4 Z\" fill=\"#000000\" fill-rule=\"evenodd\" fill-opacity=\"1\" /><path clip-path=\"url(#clip530)\" d=\"M1143.58 1550.12 Q1136.48 1550.12 1133.74 1551.75 Q1131 1553.37 1131 1557.29 Q1131 1560.4 1133.04 1562.25 Q1135.11 1564.07 1138.64 1564.07 Q1143.51 1564.07 1146.44 1560.63 Q1149.4 1557.16 1149.4 1551.43 L1149.4 1550.12 L1143.58 1550.12 M1155.26 1547.71 L1155.26 1568.04 L1149.4 1568.04 L1149.4 1562.63 Q1147.39 1565.88 1144.4 1567.44 Q1141.41 1568.97 1137.08 1568.97 Q1131.61 1568.97 1128.36 1565.91 Q1125.15 1562.82 1125.15 1557.67 Q1125.15 1551.65 1129.16 1548.6 Q1133.2 1545.54 1141.19 1545.54 L1149.4 1545.54 L1149.4 1544.97 Q1149.4 1540.93 1146.73 1538.73 Q1144.08 1536.5 1139.28 1536.5 Q1136.22 1536.5 1133.33 1537.23 Q1130.43 1537.97 1127.76 1539.43 L1127.76 1534.02 Q1130.97 1532.78 1133.99 1532.17 Q1137.02 1531.54 1139.88 1531.54 Q1147.62 1531.54 1151.44 1535.55 Q1155.26 1539.56 1155.26 1547.71 Z\" fill=\"#000000\" fill-rule=\"evenodd\" fill-opacity=\"1\" /><path clip-path=\"url(#clip530)\" d=\"M1167.32 1518.52 L1173.18 1518.52 L1173.18 1568.04 L1167.32 1568.04 L1167.32 1518.52 Z\" fill=\"#000000\" fill-rule=\"evenodd\" fill-opacity=\"1\" /><path clip-path=\"url(#clip530)\" d=\"M1184.83 1553.98 L1184.83 1532.4 L1190.68 1532.4 L1190.68 1553.75 Q1190.68 1558.81 1192.65 1561.36 Q1194.63 1563.87 1198.58 1563.87 Q1203.32 1563.87 1206.05 1560.85 Q1208.82 1557.83 1208.82 1552.61 L1208.82 1532.4 L1214.68 1532.4 L1214.68 1568.04 L1208.82 1568.04 L1208.82 1562.57 Q1206.69 1565.82 1203.86 1567.41 Q1201.06 1568.97 1197.33 1568.97 Q1191.19 1568.97 1188.01 1565.15 Q1184.83 1561.33 1184.83 1553.98 M1199.56 1531.54 L1199.56 1531.54 Z\" fill=\"#000000\" fill-rule=\"evenodd\" fill-opacity=\"1\" /><path clip-path=\"url(#clip530)\" d=\"M1257.24 1548.76 L1257.24 1551.62 L1230.31 1551.62 Q1230.69 1557.67 1233.94 1560.85 Q1237.21 1564 1243.04 1564 Q1246.41 1564 1249.56 1563.17 Q1252.75 1562.35 1255.87 1560.69 L1255.87 1566.23 Q1252.72 1567.57 1249.41 1568.27 Q1246.1 1568.97 1242.69 1568.97 Q1234.16 1568.97 1229.16 1564 Q1224.2 1559.04 1224.2 1550.57 Q1224.2 1541.82 1228.91 1536.69 Q1233.65 1531.54 1241.67 1531.54 Q1248.86 1531.54 1253.03 1536.18 Q1257.24 1540.8 1257.24 1548.76 M1251.38 1547.04 Q1251.31 1542.23 1248.67 1539.37 Q1246.06 1536.5 1241.73 1536.5 Q1236.83 1536.5 1233.87 1539.27 Q1230.94 1542.04 1230.5 1547.07 L1251.38 1547.04 Z\" fill=\"#000000\" fill-rule=\"evenodd\" fill-opacity=\"1\" /><path clip-path=\"url(#clip530)\" d=\"M1289.57 1533.45 L1289.57 1538.98 Q1287.09 1537.71 1284.42 1537.07 Q1281.74 1536.44 1278.88 1536.44 Q1274.52 1536.44 1272.32 1537.77 Q1270.16 1539.11 1270.16 1541.79 Q1270.16 1543.82 1271.72 1545 Q1273.28 1546.15 1277.99 1547.2 L1279.99 1547.64 Q1286.23 1548.98 1288.84 1551.43 Q1291.48 1553.85 1291.48 1558.21 Q1291.48 1563.17 1287.54 1566.07 Q1283.62 1568.97 1276.75 1568.97 Q1273.88 1568.97 1270.76 1568.39 Q1267.67 1567.85 1264.24 1566.74 L1264.24 1560.69 Q1267.48 1562.38 1270.63 1563.24 Q1273.79 1564.07 1276.87 1564.07 Q1281.01 1564.07 1283.24 1562.66 Q1285.47 1561.23 1285.47 1558.65 Q1285.47 1556.27 1283.84 1554.99 Q1282.25 1553.72 1276.81 1552.54 L1274.77 1552.07 Q1269.33 1550.92 1266.91 1548.56 Q1264.49 1546.18 1264.49 1542.04 Q1264.49 1537.01 1268.06 1534.27 Q1271.62 1531.54 1278.18 1531.54 Q1281.42 1531.54 1284.29 1532.01 Q1287.15 1532.49 1289.57 1533.45 Z\" fill=\"#000000\" fill-rule=\"evenodd\" fill-opacity=\"1\" /><polyline clip-path=\"url(#clip532)\" style=\"stroke:#000000; stroke-linecap:butt; stroke-linejoin:round; stroke-width:2; stroke-opacity:0.1; fill:none\" points=\"\n",
       "  203.964,306.244 2112.76,306.244 \n",
       "  \"/>\n",
       "<polyline clip-path=\"url(#clip532)\" style=\"stroke:#000000; stroke-linecap:butt; stroke-linejoin:round; stroke-width:2; stroke-opacity:0.1; fill:none\" points=\"\n",
       "  203.964,509.323 2112.76,509.323 \n",
       "  \"/>\n",
       "<polyline clip-path=\"url(#clip532)\" style=\"stroke:#000000; stroke-linecap:butt; stroke-linejoin:round; stroke-width:2; stroke-opacity:0.1; fill:none\" points=\"\n",
       "  203.964,712.402 2112.76,712.402 \n",
       "  \"/>\n",
       "<polyline clip-path=\"url(#clip532)\" style=\"stroke:#000000; stroke-linecap:butt; stroke-linejoin:round; stroke-width:2; stroke-opacity:0.1; fill:none\" points=\"\n",
       "  203.964,915.482 2112.76,915.482 \n",
       "  \"/>\n",
       "<polyline clip-path=\"url(#clip532)\" style=\"stroke:#000000; stroke-linecap:butt; stroke-linejoin:round; stroke-width:2; stroke-opacity:0.1; fill:none\" points=\"\n",
       "  203.964,1118.56 2112.76,1118.56 \n",
       "  \"/>\n",
       "<polyline clip-path=\"url(#clip532)\" style=\"stroke:#000000; stroke-linecap:butt; stroke-linejoin:round; stroke-width:2; stroke-opacity:0.1; fill:none\" points=\"\n",
       "  203.964,1321.64 2112.76,1321.64 \n",
       "  \"/>\n",
       "<polyline clip-path=\"url(#clip530)\" style=\"stroke:#000000; stroke-linecap:butt; stroke-linejoin:round; stroke-width:4; stroke-opacity:1; fill:none\" points=\"\n",
       "  203.964,123.472 203.964,1423.18 \n",
       "  \"/>\n",
       "<polyline clip-path=\"url(#clip530)\" style=\"stroke:#000000; stroke-linecap:butt; stroke-linejoin:round; stroke-width:4; stroke-opacity:1; fill:none\" points=\"\n",
       "  203.964,306.244 220.751,306.244 \n",
       "  \"/>\n",
       "<polyline clip-path=\"url(#clip530)\" style=\"stroke:#000000; stroke-linecap:butt; stroke-linejoin:round; stroke-width:4; stroke-opacity:1; fill:none\" points=\"\n",
       "  203.964,509.323 220.751,509.323 \n",
       "  \"/>\n",
       "<polyline clip-path=\"url(#clip530)\" style=\"stroke:#000000; stroke-linecap:butt; stroke-linejoin:round; stroke-width:4; stroke-opacity:1; fill:none\" points=\"\n",
       "  203.964,712.402 220.751,712.402 \n",
       "  \"/>\n",
       "<polyline clip-path=\"url(#clip530)\" style=\"stroke:#000000; stroke-linecap:butt; stroke-linejoin:round; stroke-width:4; stroke-opacity:1; fill:none\" points=\"\n",
       "  203.964,915.482 220.751,915.482 \n",
       "  \"/>\n",
       "<polyline clip-path=\"url(#clip530)\" style=\"stroke:#000000; stroke-linecap:butt; stroke-linejoin:round; stroke-width:4; stroke-opacity:1; fill:none\" points=\"\n",
       "  203.964,1118.56 220.751,1118.56 \n",
       "  \"/>\n",
       "<polyline clip-path=\"url(#clip530)\" style=\"stroke:#000000; stroke-linecap:butt; stroke-linejoin:round; stroke-width:4; stroke-opacity:1; fill:none\" points=\"\n",
       "  203.964,1321.64 220.751,1321.64 \n",
       "  \"/>\n",
       "<path clip-path=\"url(#clip530)\" d=\"M147.061 288.964 L165.417 288.964 L165.417 292.899 L151.343 292.899 L151.343 301.371 Q152.362 301.024 153.38 300.862 Q154.399 300.676 155.417 300.676 Q161.204 300.676 164.584 303.848 Q167.964 307.019 167.964 312.436 Q167.964 318.014 164.491 321.116 Q161.019 324.195 154.7 324.195 Q152.524 324.195 150.255 323.824 Q148.01 323.454 145.603 322.713 L145.603 318.014 Q147.686 319.149 149.908 319.704 Q152.13 320.26 154.607 320.26 Q158.612 320.26 160.95 318.153 Q163.288 316.047 163.288 312.436 Q163.288 308.825 160.95 306.718 Q158.612 304.612 154.607 304.612 Q152.732 304.612 150.857 305.028 Q149.005 305.445 147.061 306.325 L147.061 288.964 Z\" fill=\"#000000\" fill-rule=\"evenodd\" fill-opacity=\"1\" /><path clip-path=\"url(#clip530)\" d=\"M116.668 522.668 L124.306 522.668 L124.306 496.302 L115.996 497.969 L115.996 493.71 L124.26 492.043 L128.936 492.043 L128.936 522.668 L136.575 522.668 L136.575 526.603 L116.668 526.603 L116.668 522.668 Z\" fill=\"#000000\" fill-rule=\"evenodd\" fill-opacity=\"1\" /><path clip-path=\"url(#clip530)\" d=\"M156.019 495.122 Q152.408 495.122 150.579 498.686 Q148.774 502.228 148.774 509.358 Q148.774 516.464 150.579 520.029 Q152.408 523.57 156.019 523.57 Q159.653 523.57 161.459 520.029 Q163.288 516.464 163.288 509.358 Q163.288 502.228 161.459 498.686 Q159.653 495.122 156.019 495.122 M156.019 491.418 Q161.829 491.418 164.885 496.024 Q167.964 500.608 167.964 509.358 Q167.964 518.084 164.885 522.691 Q161.829 527.274 156.019 527.274 Q150.209 527.274 147.13 522.691 Q144.075 518.084 144.075 509.358 Q144.075 500.608 147.13 496.024 Q150.209 491.418 156.019 491.418 Z\" fill=\"#000000\" fill-rule=\"evenodd\" fill-opacity=\"1\" /><path clip-path=\"url(#clip530)\" d=\"M117.663 725.747 L125.302 725.747 L125.302 699.381 L116.992 701.048 L116.992 696.789 L125.255 695.122 L129.931 695.122 L129.931 725.747 L137.57 725.747 L137.57 729.682 L117.663 729.682 L117.663 725.747 Z\" fill=\"#000000\" fill-rule=\"evenodd\" fill-opacity=\"1\" /><path clip-path=\"url(#clip530)\" d=\"M147.061 695.122 L165.417 695.122 L165.417 699.057 L151.343 699.057 L151.343 707.53 Q152.362 707.182 153.38 707.02 Q154.399 706.835 155.417 706.835 Q161.204 706.835 164.584 710.006 Q167.964 713.178 167.964 718.594 Q167.964 724.173 164.491 727.275 Q161.019 730.353 154.7 730.353 Q152.524 730.353 150.255 729.983 Q148.01 729.613 145.603 728.872 L145.603 724.173 Q147.686 725.307 149.908 725.863 Q152.13 726.418 154.607 726.418 Q158.612 726.418 160.95 724.312 Q163.288 722.205 163.288 718.594 Q163.288 714.983 160.95 712.877 Q158.612 710.77 154.607 710.77 Q152.732 710.77 150.857 711.187 Q149.005 711.604 147.061 712.483 L147.061 695.122 Z\" fill=\"#000000\" fill-rule=\"evenodd\" fill-opacity=\"1\" /><path clip-path=\"url(#clip530)\" d=\"M119.885 928.826 L136.204 928.826 L136.204 932.762 L114.26 932.762 L114.26 928.826 Q116.922 926.072 121.505 921.442 Q126.112 916.789 127.292 915.447 Q129.538 912.924 130.417 911.188 Q131.32 909.428 131.32 907.739 Q131.32 904.984 129.376 903.248 Q127.455 901.512 124.353 901.512 Q122.154 901.512 119.7 902.276 Q117.269 903.039 114.492 904.59 L114.492 899.868 Q117.316 898.734 119.769 898.155 Q122.223 897.577 124.26 897.577 Q129.63 897.577 132.825 900.262 Q136.019 902.947 136.019 907.438 Q136.019 909.567 135.209 911.488 Q134.422 913.387 132.316 915.979 Q131.737 916.65 128.635 919.868 Q125.533 923.062 119.885 928.826 Z\" fill=\"#000000\" fill-rule=\"evenodd\" fill-opacity=\"1\" /><path clip-path=\"url(#clip530)\" d=\"M156.019 901.28 Q152.408 901.28 150.579 904.845 Q148.774 908.387 148.774 915.516 Q148.774 922.623 150.579 926.187 Q152.408 929.729 156.019 929.729 Q159.653 929.729 161.459 926.187 Q163.288 922.623 163.288 915.516 Q163.288 908.387 161.459 904.845 Q159.653 901.28 156.019 901.28 M156.019 897.577 Q161.829 897.577 164.885 902.183 Q167.964 906.766 167.964 915.516 Q167.964 924.243 164.885 928.849 Q161.829 933.433 156.019 933.433 Q150.209 933.433 147.13 928.849 Q144.075 924.243 144.075 915.516 Q144.075 906.766 147.13 902.183 Q150.209 897.577 156.019 897.577 Z\" fill=\"#000000\" fill-rule=\"evenodd\" fill-opacity=\"1\" /><path clip-path=\"url(#clip530)\" d=\"M120.88 1131.91 L137.2 1131.91 L137.2 1135.84 L115.256 1135.84 L115.256 1131.91 Q117.918 1129.15 122.501 1124.52 Q127.107 1119.87 128.288 1118.53 Q130.533 1116 131.413 1114.27 Q132.316 1112.51 132.316 1110.82 Q132.316 1108.06 130.371 1106.33 Q128.45 1104.59 125.348 1104.59 Q123.149 1104.59 120.695 1105.35 Q118.265 1106.12 115.487 1107.67 L115.487 1102.95 Q118.311 1101.81 120.765 1101.23 Q123.218 1100.66 125.255 1100.66 Q130.626 1100.66 133.82 1103.34 Q137.015 1106.03 137.015 1110.52 Q137.015 1112.65 136.204 1114.57 Q135.417 1116.47 133.311 1119.06 Q132.732 1119.73 129.63 1122.95 Q126.529 1126.14 120.88 1131.91 Z\" fill=\"#000000\" fill-rule=\"evenodd\" fill-opacity=\"1\" /><path clip-path=\"url(#clip530)\" d=\"M147.061 1101.28 L165.417 1101.28 L165.417 1105.22 L151.343 1105.22 L151.343 1113.69 Q152.362 1113.34 153.38 1113.18 Q154.399 1112.99 155.417 1112.99 Q161.204 1112.99 164.584 1116.17 Q167.964 1119.34 167.964 1124.75 Q167.964 1130.33 164.491 1133.43 Q161.019 1136.51 154.7 1136.51 Q152.524 1136.51 150.255 1136.14 Q148.01 1135.77 145.603 1135.03 L145.603 1130.33 Q147.686 1131.47 149.908 1132.02 Q152.13 1132.58 154.607 1132.58 Q158.612 1132.58 160.95 1130.47 Q163.288 1128.36 163.288 1124.75 Q163.288 1121.14 160.95 1119.04 Q158.612 1116.93 154.607 1116.93 Q152.732 1116.93 150.857 1117.35 Q149.005 1117.76 147.061 1118.64 L147.061 1101.28 Z\" fill=\"#000000\" fill-rule=\"evenodd\" fill-opacity=\"1\" /><path clip-path=\"url(#clip530)\" d=\"M130.024 1320.29 Q133.38 1321 135.255 1323.27 Q137.154 1325.54 137.154 1328.87 Q137.154 1333.99 133.635 1336.79 Q130.117 1339.59 123.635 1339.59 Q121.459 1339.59 119.144 1339.15 Q116.853 1338.73 114.399 1337.88 L114.399 1333.36 Q116.343 1334.5 118.658 1335.08 Q120.973 1335.66 123.496 1335.66 Q127.894 1335.66 130.186 1333.92 Q132.501 1332.18 132.501 1328.87 Q132.501 1325.82 130.348 1324.11 Q128.218 1322.37 124.399 1322.37 L120.371 1322.37 L120.371 1318.53 L124.584 1318.53 Q128.033 1318.53 129.862 1317.16 Q131.691 1315.77 131.691 1313.18 Q131.691 1310.52 129.792 1309.11 Q127.917 1307.67 124.399 1307.67 Q122.478 1307.67 120.279 1308.09 Q118.08 1308.5 115.441 1309.38 L115.441 1305.22 Q118.103 1304.48 120.418 1304.11 Q122.755 1303.74 124.816 1303.74 Q130.14 1303.74 133.242 1306.17 Q136.343 1308.57 136.343 1312.69 Q136.343 1315.56 134.7 1317.55 Q133.056 1319.52 130.024 1320.29 Z\" fill=\"#000000\" fill-rule=\"evenodd\" fill-opacity=\"1\" /><path clip-path=\"url(#clip530)\" d=\"M156.019 1307.44 Q152.408 1307.44 150.579 1311 Q148.774 1314.55 148.774 1321.67 Q148.774 1328.78 150.579 1332.35 Q152.408 1335.89 156.019 1335.89 Q159.653 1335.89 161.459 1332.35 Q163.288 1328.78 163.288 1321.67 Q163.288 1314.55 161.459 1311 Q159.653 1307.44 156.019 1307.44 M156.019 1303.74 Q161.829 1303.74 164.885 1308.34 Q167.964 1312.92 167.964 1321.67 Q167.964 1330.4 164.885 1335.01 Q161.829 1339.59 156.019 1339.59 Q150.209 1339.59 147.13 1335.01 Q144.075 1330.4 144.075 1321.67 Q144.075 1312.92 147.13 1308.34 Q150.209 1303.74 156.019 1303.74 Z\" fill=\"#000000\" fill-rule=\"evenodd\" fill-opacity=\"1\" /><path clip-path=\"url(#clip530)\" d=\"M67.3143 887.384 Q73.68 889.866 75.6216 892.221 Q77.5631 894.577 77.5631 898.524 L77.5631 903.202 L72.6615 903.202 L72.6615 899.765 Q72.6615 897.346 71.5157 896.009 Q70.3699 894.672 66.1048 893.049 L63.4312 891.999 L28.3562 906.417 L28.3562 900.21 L56.238 889.07 L28.3562 877.93 L28.3562 871.724 L67.3143 887.384 Z\" fill=\"#000000\" fill-rule=\"evenodd\" fill-opacity=\"1\" /><path clip-path=\"url(#clip530)\" d=\"M28.3562 847.12 L28.3562 840.914 L58.275 829.774 L28.3562 818.634 L28.3562 812.427 L64.0042 825.795 L64.0042 833.752 L28.3562 847.12 Z\" fill=\"#000000\" fill-rule=\"evenodd\" fill-opacity=\"1\" /><path clip-path=\"url(#clip530)\" d=\"M46.0847 788.142 Q46.0847 795.24 47.7079 797.977 Q49.3312 800.714 53.2461 800.714 Q56.3653 800.714 58.2114 798.677 Q60.0256 796.609 60.0256 793.076 Q60.0256 788.206 56.5881 785.278 Q53.1188 782.318 47.3897 782.318 L46.0847 782.318 L46.0847 788.142 M43.6657 776.461 L64.0042 776.461 L64.0042 782.318 L58.5933 782.318 Q61.8398 784.323 63.3994 787.315 Q64.9272 790.307 64.9272 794.635 Q64.9272 800.11 61.8716 803.356 Q58.7843 806.571 53.6281 806.571 Q47.6125 806.571 44.5569 802.56 Q41.5014 798.518 41.5014 790.529 L41.5014 782.318 L40.9285 782.318 Q36.8862 782.318 34.6901 784.991 Q32.4621 787.633 32.4621 792.439 Q32.4621 795.495 33.1941 798.391 Q33.9262 801.287 35.3903 803.961 L29.9795 803.961 Q28.7381 800.746 28.1334 797.723 Q27.4968 794.699 27.4968 791.834 Q27.4968 784.1 31.5072 780.281 Q35.5176 776.461 43.6657 776.461 Z\" fill=\"#000000\" fill-rule=\"evenodd\" fill-opacity=\"1\" /><path clip-path=\"url(#clip530)\" d=\"M14.479 764.398 L14.479 758.542 L64.0042 758.542 L64.0042 764.398 L14.479 764.398 Z\" fill=\"#000000\" fill-rule=\"evenodd\" fill-opacity=\"1\" /><path clip-path=\"url(#clip530)\" d=\"M49.9359 746.892 L28.3562 746.892 L28.3562 741.036 L49.7131 741.036 Q54.7739 741.036 57.3202 739.063 Q59.8346 737.089 59.8346 733.142 Q59.8346 728.4 56.8109 725.663 Q53.7872 722.894 48.5673 722.894 L28.3562 722.894 L28.3562 717.037 L64.0042 717.037 L64.0042 722.894 L58.5296 722.894 Q61.7762 725.026 63.3676 727.859 Q64.9272 730.66 64.9272 734.384 Q64.9272 740.527 61.1078 743.71 Q57.2883 746.892 49.9359 746.892 M27.4968 732.156 L27.4968 732.156 Z\" fill=\"#000000\" fill-rule=\"evenodd\" fill-opacity=\"1\" /><path clip-path=\"url(#clip530)\" d=\"M44.7161 674.482 L47.5806 674.482 L47.5806 701.409 Q53.6281 701.027 56.8109 697.781 Q59.9619 694.503 59.9619 688.678 Q59.9619 685.304 59.1344 682.153 Q58.3069 678.97 56.6518 675.851 L62.1899 675.851 Q63.5267 679.002 64.227 682.312 Q64.9272 685.622 64.9272 689.028 Q64.9272 697.558 59.9619 702.555 Q54.9967 707.52 46.5303 707.52 Q37.7774 707.52 32.6531 702.81 Q27.4968 698.067 27.4968 690.047 Q27.4968 682.853 32.1438 678.684 Q36.7589 674.482 44.7161 674.482 M42.9973 680.339 Q38.1912 680.403 35.3266 683.044 Q32.4621 685.654 32.4621 689.983 Q32.4621 694.885 35.2312 697.845 Q38.0002 700.773 43.0292 701.218 L42.9973 680.339 Z\" fill=\"#000000\" fill-rule=\"evenodd\" fill-opacity=\"1\" /><path clip-path=\"url(#clip530)\" d=\"M29.4065 642.145 L34.9447 642.145 Q33.6716 644.627 33.035 647.301 Q32.3984 649.975 32.3984 652.839 Q32.3984 657.2 33.7352 659.396 Q35.072 661.56 37.7456 661.56 Q39.7826 661.56 40.9603 660 Q42.1061 658.441 43.1565 653.73 L43.6021 651.725 Q44.9389 645.487 47.3897 642.877 Q49.8086 640.235 54.1691 640.235 Q59.1344 640.235 62.0308 644.182 Q64.9272 648.097 64.9272 654.972 Q64.9272 657.836 64.3543 660.955 Q63.8132 664.043 62.6992 667.48 L56.6518 667.48 Q58.3387 664.234 59.198 661.083 Q60.0256 657.932 60.0256 654.844 Q60.0256 650.707 58.6251 648.479 Q57.1929 646.251 54.6147 646.251 Q52.2276 646.251 50.9545 647.874 Q49.6813 649.465 48.5037 654.908 L48.0262 656.945 Q46.8804 662.388 44.5251 664.807 Q42.138 667.226 38.0002 667.226 Q32.9713 667.226 30.2341 663.661 Q27.4968 660.096 27.4968 653.539 Q27.4968 650.293 27.9743 647.428 Q28.4517 644.564 29.4065 642.145 Z\" fill=\"#000000\" fill-rule=\"evenodd\" fill-opacity=\"1\" /><path clip-path=\"url(#clip530)\" d=\"M1010.02 12.096 L1022.21 12.096 L1037.64 53.2532 L1053.16 12.096 L1065.35 12.096 L1065.35 72.576 L1057.37 72.576 L1057.37 19.4686 L1041.77 60.9499 L1033.55 60.9499 L1017.96 19.4686 L1017.96 72.576 L1010.02 72.576 L1010.02 12.096 Z\" fill=\"#000000\" fill-rule=\"evenodd\" fill-opacity=\"1\" /><path clip-path=\"url(#clip530)\" d=\"M1100.15 76.7889 Q1096.99 84.8907 1093.99 87.3618 Q1090.99 89.8329 1085.97 89.8329 L1080.02 89.8329 L1080.02 83.5945 L1084.39 83.5945 Q1087.47 83.5945 1089.17 82.1361 Q1090.87 80.6778 1092.94 75.2496 L1094.27 71.8468 L1075.92 27.2059 L1083.82 27.2059 L1098 62.6918 L1112.18 27.2059 L1120.08 27.2059 L1100.15 76.7889 Z\" fill=\"#000000\" fill-rule=\"evenodd\" fill-opacity=\"1\" /><path clip-path=\"url(#clip530)\" d=\"M1164.11 14.324 L1164.11 27.2059 L1179.46 27.2059 L1179.46 32.9987 L1164.11 32.9987 L1164.11 57.6282 Q1164.11 63.1779 1165.61 64.7578 Q1167.15 66.3376 1171.81 66.3376 L1179.46 66.3376 L1179.46 72.576 L1171.81 72.576 Q1163.18 72.576 1159.9 69.3758 Q1156.62 66.1351 1156.62 57.6282 L1156.62 32.9987 L1151.15 32.9987 L1151.15 27.2059 L1156.62 27.2059 L1156.62 14.324 L1164.11 14.324 Z\" fill=\"#000000\" fill-rule=\"evenodd\" fill-opacity=\"1\" /><path clip-path=\"url(#clip530)\" d=\"M1189.27 27.2059 L1196.72 27.2059 L1196.72 72.576 L1189.27 72.576 L1189.27 27.2059 M1189.27 9.54393 L1196.72 9.54393 L1196.72 18.9825 L1189.27 18.9825 L1189.27 9.54393 Z\" fill=\"#000000\" fill-rule=\"evenodd\" fill-opacity=\"1\" /><path clip-path=\"url(#clip530)\" d=\"M1219.69 14.324 L1219.69 27.2059 L1235.04 27.2059 L1235.04 32.9987 L1219.69 32.9987 L1219.69 57.6282 Q1219.69 63.1779 1221.19 64.7578 Q1222.73 66.3376 1227.39 66.3376 L1235.04 66.3376 L1235.04 72.576 L1227.39 72.576 Q1218.76 72.576 1215.48 69.3758 Q1212.2 66.1351 1212.2 57.6282 L1212.2 32.9987 L1206.73 32.9987 L1206.73 27.2059 L1212.2 27.2059 L1212.2 14.324 L1219.69 14.324 Z\" fill=\"#000000\" fill-rule=\"evenodd\" fill-opacity=\"1\" /><path clip-path=\"url(#clip530)\" d=\"M1244.85 9.54393 L1252.3 9.54393 L1252.3 72.576 L1244.85 72.576 L1244.85 9.54393 Z\" fill=\"#000000\" fill-rule=\"evenodd\" fill-opacity=\"1\" /><path clip-path=\"url(#clip530)\" d=\"M1306.7 48.0275 L1306.7 51.6733 L1272.43 51.6733 Q1272.92 59.3701 1277.05 63.421 Q1281.22 67.4314 1288.64 67.4314 Q1292.93 67.4314 1296.94 66.3781 Q1300.99 65.3249 1304.96 63.2184 L1304.96 70.267 Q1300.95 71.9684 1296.74 72.8596 Q1292.53 73.7508 1288.19 73.7508 Q1277.33 73.7508 1270.97 67.4314 Q1264.66 61.1119 1264.66 50.3365 Q1264.66 39.1965 1270.65 32.6746 Q1276.69 26.1121 1286.89 26.1121 Q1296.05 26.1121 1301.36 32.0264 Q1306.7 37.9003 1306.7 48.0275 M1299.25 45.84 Q1299.17 39.7232 1295.81 36.0774 Q1292.49 32.4315 1286.98 32.4315 Q1280.74 32.4315 1276.97 35.9558 Q1273.24 39.4801 1272.68 45.8805 L1299.25 45.84 Z\" fill=\"#000000\" fill-rule=\"evenodd\" fill-opacity=\"1\" /><g clip-path=\"url(#clip532)\">\n",
       "<image width=\"1909\" height=\"1300\" xlink:href=\"data:image/png;base64,\n",
       "iVBORw0KGgoAAAANSUhEUgAAB3UAAAUUCAYAAADIr0hnAAAgAElEQVR4nOzbQa6VxxlF0ZfoNor5\n",
       "T6loUWI8RQMl/Vi2ZYX7fxtYawSnv3X+9fHx8Z+P39CXL1+mJwAAAAAAAAD8rX9PDwAAAAAAAADg\n",
       "z4m6AAAAAAAAAGGiLgAAAAAAAECYqAsAAAAAAAAQJuoCAAAAAAAAhIm6AAAAAAAAAGGiLgAAAAAA\n",
       "AECYqAsAAAAAAAAQJuoCAAAAAAAAhIm6AAAAAAAAAGGiLgAAAAAAAECYqAsAAAAAAAAQJuoCAAAA\n",
       "AAAAhIm6AAAAAAAAAGGiLgAAAAAAAECYqAsAAAAAAAAQJuoCAAAAAAAAhIm6AAAAAAAAAGGiLgAA\n",
       "AAAAAECYqAsAAAAAAAAQJuoCAAAAAAAAhIm6AAAAAAAAAGGiLgAAAAAAAECYqAsAAAAAAAAQJuoC\n",
       "AAAAAAAAhIm6AAAAAAAAAGGiLgAAAAAAAECYqAsAAAAAAAAQJuoCAAAAAAAAhIm6AAAAAAAAAGGi\n",
       "LgAAAAAAAECYqAsAAAAAAAAQJuoCAAAAAAAAhIm6AAAAAAAAAGGiLgAAAAAAAECYqAsAAAAAAAAQ\n",
       "JuoCAAAAAAAAhIm6AAAAAAAAAGGiLgAAAAAAAECYqAsAAAAAAAAQJuoCAAAAAAAAhL2+f/8+vWHE\n",
       "p0+fpic87vPnz9MTAAAAAAAAgH/IUxcAAAAAAAAgTNQFAAAAAAAACBN1AQAAAAAAAMJEXQAAAAAA\n",
       "AIAwURcAAAAAAAAgTNQFAAAAAAAACBN1AQAAAAAAAMJEXQAAAAAAAIAwURcAAAAAAAAgTNQFAAAA\n",
       "AAAACBN1AQAAAAAAAMJEXQAAAAAAAIAwURcAAAAAAAAgTNQFAAAAAAAACBN1AQAAAAAAAMJEXQAA\n",
       "AAAAAIAwURcAAAAAAAAgTNQFAAAAAAAACBN1AQAAAAAAAMJEXQAAAAAAAIAwURcAAAAAAAAgTNQF\n",
       "AAAAAAAACBN1AQAAAAAAAMJEXQAAAAAAAIAwURcAAAAAAAAgTNQFAAAAAAAACBN1AQAAAAAAAMJE\n",
       "XQAAAAAAAIAwURcAAAAAAAAgTNQFAAAAAAAACBN1AQAAAAAAAMJEXQAAAAAAAIAwURcAAAAAAAAg\n",
       "TNQFAAAAAAAACBN1AQAAAAAAAMJEXQAAAAAAAIAwURcAAAAAAAAgTNQFAAAAAAAACBN1AQAAAAAA\n",
       "AMJEXQAAAAAAAIAwURcAAAAAAAAg7PX169fpDSO+ffs2PeFxa63pCW+3956eAAAAAAAAAD+Upy4A\n",
       "AAAAAABAmKgLAAAAAAAAECbqAgAAAAAAAISJugAAAAAAAABhoi4AAAAAAABAmKgLAAAAAAAAECbq\n",
       "AgAAAAAAAISJugAAAAAAAABhoi4AAAAAAABAmKgLAAAAAAAAECbqAgAAAAAAAISJugAAAAAAAABh\n",
       "oi4AAAAAAABAmKgLAAAAAAAAECbqAgAAAAAAAISJugAAAAAAAABhoi4AAAAAAABAmKgLAAAAAAAA\n",
       "ECbqAgAAAAAAAISJugAAAAAAAABhoi4AAAAAAABAmKgLAAAAAAAAECbqAgAAAAAAAISJugAAAAAA\n",
       "AABhoi4AAAAAAABAmKgLAAAAAAAAECbqAgAAAAAAAISJugAAAAAAAABhoi4AAAAAAABAmKgLAAAA\n",
       "AAAAECbqAgAAAAAAAISJugAAAAAAAABhoi4AAAAAAABAmKgLAAAAAAAAECbqAgAAAAAAAISJugAA\n",
       "AAAAAABhoi4AAAAAAABAmKgLAAAAAAAAEPaaHjDlnDM94XH33ukJb7fWmp7wuL339AQAAAAAAADe\n",
       "yFMXAAAAAAAAIEzUBQAAAAAAAAgTdQEAAAAAAADCRF0AAAAAAACAMFEXAAAAAAAAIEzUBQAAAAAA\n",
       "AAgTdQEAAAAAAADCRF0AAAAAAACAMFEXAAAAAAAAIEzUBQAAAAAAAAgTdQEAAAAAAADCRF0AAAAA\n",
       "AACAMFEXAAAAAAAAIEzUBQAAAAAAAAgTdQEAAAAAAADCRF0AAAAAAACAMFEXAAAAAAAAIEzUBQAA\n",
       "AAAAAAgTdQEAAAAAAADCRF0AAAAAAACAMFEXAAAAAAAAIEzUBQAAAAAAAAgTdQEAAAAAAADCRF0A\n",
       "AAAAAACAMFEXAAAAAAAAIEzUBQAAAAAAAAgTdQEAAAAAAADCRF0AAAAAAACAMFEXAAAAAAAAIEzU\n",
       "BQAAAAAAAAgTdQEAAAAAAADCRF0AAAAAAACAMFEXAAAAAAAAIEzUBQAAAAAAAAgTdQEAAAAAAADC\n",
       "RF0AAAAAAACAMFEXAAAAAAAAIEzUBQAAAAAAAAgTdQEAAAAAAADCRF0AAAAAAACAsNf0AJ5zzpme\n",
       "8Hb33ukJj1trTU94u7339AQAAAAAAIAxnroAAAAAAAAAYaIuAAAAAAAAQJioCwAAAAAAABAm6gIA\n",
       "AAAAAACEiboAAAAAAAAAYaIuAAAAAAAAQJioCwAAAAAAABAm6gIAAAAAAACEiboAAAAAAAAAYaIu\n",
       "AAAAAAAAQJioCwAAAAAAABAm6gIAAAAAAACEiboAAAAAAAAAYaIuAAAAAAAAQJioCwAAAAAAABAm\n",
       "6gIAAAAAAACEiboAAAAAAAAAYaIuAAAAAAAAQJioCwAAAAAAABAm6gIAAAAAAACEiboAAAAAAAAA\n",
       "YaIuAAAAAAAAQJioCwAAAAAAABAm6gIAAAAAAACEiboAAAAAAAAAYaIuAAAAAAAAQJioCwAAAAAA\n",
       "ABAm6gIAAAAAAACEiboAAAAAAAAAYaIuAAAAAAAAQJioCwAAAAAAABAm6gIAAAAAAACEiboAAAAA\n",
       "AAAAYaIuAAAAAAAAQJioCwAAAAAAABAm6gIAAAAAAACEiboAAAAAAAAAYaIuAAAAAAAAQNhregD8\n",
       "SOec6QmPu/dOT3i7tdb0hMftvacnAAAAAAAAEZ66AAAAAAAAAGGiLgAAAAAAAECYqAsAAAAAAAAQ\n",
       "JuoCAAAAAAAAhIm6AAAAAAAAAGGiLgAAAAAAAECYqAsAAAAAAAAQJuoCAAAAAAAAhIm6AAAAAAAA\n",
       "AGGiLgAAAAAAAECYqAsAAAAAAAAQJuoCAAAAAAAAhIm6AAAAAAAAAGGiLgAAAAAAAECYqAsAAAAA\n",
       "AAAQJuoCAAAAAAAAhIm6AAAAAAAAAGGiLgAAAAAAAECYqAsAAAAAAAAQJuoCAAAAAAAAhIm6AAAA\n",
       "AAAAAGGiLgAAAAAAAECYqAsAAAAAAAAQJuoCAAAAAAAAhIm6AAAAAAAAAGGiLgAAAAAAAECYqAsA\n",
       "AAAAAAAQJuoCAAAAAAAAhIm6AAAAAAAAAGGiLgAAAAAAAECYqAsAAAAAAAAQJuoCAAAAAAAAhIm6\n",
       "AAAAAAAAAGGiLgAAAAAAAECYqAsAAAAAAAAQJuoCAAAAAAAAhIm6AAAAAAAAAGGiLgAAAAAAAECY\n",
       "qAsAAAAAAAAQJuoCAAAAAAAAhIm6AAAAAAAAAGGv6QHA/+ecMz3h7e690xMet9aanvC4vff0BAAA\n",
       "AAAASPLUBQAAAAAAAAgTdQEAAAAAAADCRF0AAAAAAACAMFEXAAAAAAAAIEzUBQAAAAAAAAgTdQEA\n",
       "AAAAAADCRF0AAAAAAACAMFEXAAAAAAAAIEzUBQAAAAAAAAgTdQEAAAAAAADCRF0AAAAAAACAMFEX\n",
       "AAAAAAAAIEzUBQAAAAAAAAgTdQEAAAAAAADCRF0AAAAAAACAMFEXAAAAAAAAIEzUBQAAAAAAAAgT\n",
       "dQEAAAAAAADCRF0AAAAAAACAMFEXAAAAAAAAIEzUBQAAAAAAAAgTdQEAAAAAAADCRF0AAAAAAACA\n",
       "MFEXAAAAAAAAIEzUBQAAAAAAAAgTdQEAAAAAAADCRF0AAAAAAACAMFEXAAAAAAAAIEzUBQAAAAAA\n",
       "AAgTdQEAAAAAAADCRF0AAAAAAACAMFEXAAAAAAAAIEzUBQAAAAAAAAgTdQEAAAAAAADCRF0AAAAA\n",
       "AACAMFEXAAAAAAAAIEzUBQAAAAAAAAgTdQEAAAAAAADCRF0AAAAAAACAMFEXAAAAAAAAIOw1PQDg\n",
       "75xzpic87t47PeFxa63pCY/Ye09PAAAAAADgJ+OpCwAAAAAAABAm6gIAAAAAAACEiboAAAAAAAAA\n",
       "YaIuAAAAAAAAQJioCwAAAAAAABAm6gIAAAAAAACEiboAAAAAAAAAYaIuAAAAAAAAQJioCwAAAAAA\n",
       "ABAm6gIAAAAAAACEiboAAAAAAAAAYaIuAAAAAAAAQJioCwAAAAAAABAm6gIAAAAAAACEiboAAAAA\n",
       "AAAAYaIuAAAAAAAAQJioCwAAAAAAABAm6gIAAAAAAACEiboAAAAAAAAAYaIuAAAAAAAAQJioCwAA\n",
       "AAAAABAm6gIAAAAAAACEiboAAAAAAAAAYaIuAAAAAAAAQJioCwAAAAAAABAm6gIAAAAAAACEiboA\n",
       "AAAAAAAAYaIuAAAAAAAAQJioCwAAAAAAABAm6gIAAAAAAACEiboAAAAAAAAAYaIuAAAAAAAAQJio\n",
       "CwAAAAAAABAm6gIAAAAAAACEiboAAAAAAAAAYaIuAAAAAAAAQJioCwAAAAAAABAm6gIAAAAAAACE\n",
       "vaYHAPBH55zpCY+7905PeMRaa3rC4/be0xMAAAAAAH5qnroAAAAAAAAAYaIuAAAAAAAAQJioCwAA\n",
       "AAAAABAm6gIAAAAAAACEiboAAAAAAAAAYaIuAAAAAAAAQJioCwAAAAAAABAm6gIAAAAAAACEiboA\n",
       "AAAAAAAAYaIuAAAAAAAAQJioCwAAAAAAABAm6gIAAAAAAACEiboAAAAAAAAAYaIuAAAAAAAAQJio\n",
       "CwAAAAAAABAm6gIAAAAAAACEiboAAAAAAAAAYaIuAAAAAAAAQJioCwAAAAAAABAm6gIAAAAAAACE\n",
       "iboAAAAAAAAAYaIuAAAAAAAAQJioCwAAAAAAABAm6gIAAAAAAACEiboAAAAAAAAAYaIuAAAAAAAA\n",
       "QJioCwAAAAAAABAm6gIAAAAAAACEiboAAAAAAAAAYaIuAAAAAAAAQJioCwAAAAAAABAm6gIAAAAA\n",
       "AACEiboAAAAAAAAAYaIuAAAAAAAAQJioCwAAAAAAABAm6gIAAAAAAACEiboAAAAAAAAAYaIuAAAA\n",
       "AAAAQJioCwAAAAAAABAm6gIAAAAAAACEiboAAAAAAAAAYa/pAQDw8fHxcc6ZnvCIe+/0hMettaYn\n",
       "vN3ee3oCAAAAAPAL89QFAAAAAAAACBN1AQAAAAAAAMJEXQAAAAAAAIAwURcAAAAAAAAgTNQFAAAA\n",
       "AAAACBN1AQAAAAAAAMJEXQAAAAAAAIAwURcAAAAAAAAgTNQFAAAAAAAACBN1AQAAAAAAAMJEXQAA\n",
       "AAAAAIAwURcAAAAAAAAgTNQFAAAAAAAACBN1AQAAAAAAAMJEXQAAAAAAAIAwURcAAAAAAAAgTNQF\n",
       "AAAAAAAACBN1AQAAAAAAAMJEXQAAAAAAAIAwURcAAAAAAAAgTNQFAAAAAAAACBN1AQAAAAAAAMJE\n",
       "XQAAAAAAAIAwURcAAAAAAAAgTNQFAAAAAAAACBN1AQAAAAAAAMJEXQAAAAAAAIAwURcAAAAAAAAg\n",
       "TNQFAAAAAAAACBN1AQAAAAAAAMJEXQAAAAAAAIAwURcAAAAAAAAgTNQFAAAAAAAACBN1AQAAAAAA\n",
       "AMJEXQAAAAAAAIAwURcAAAAAAAAgTNQFAAAAAAAACBN1AQAAAAAAAMJe0wMA4Hdyzpme8Lh77/SE\n",
       "t1trTU943N57egIAAAAA/DY8dQEAAAAAAADCRF0AAAAAAACAMFEXAAAAAAAAIEzUBQAAAAAAAAgT\n",
       "dQEAAAAAAADCRF0AAAAAAACAMFEXAAAAAAAAIEzUBQAAAAAAAAgTdQEAAAAAAADCRF0AAAAAAACA\n",
       "MFEXAAAAAAAAIEzUBQAAAAAAAAgTdQEAAAAAAADCRF0AAAAAAACAMFEXAAAAAAAAIEzUBQAAAAAA\n",
       "AAgTdQEAAAAAAADCRF0AAAAAAACAMFEXAAAAAAAAIEzUBQAAAAAAAAgTdQEAAAAAAADCRF0AAAAA\n",
       "AACAMFEXAAAAAAAAIEzUBQAAAAAAAAgTdQEAAAAAAADCRF0AAAAAAACAMFEXAAAAAAAAIEzUBQAA\n",
       "AAAAAAgTdQEAAAAAAADCRF0AAAAAAACAMFEXAAAAAAAAIEzUBQAAAAAAAAgTdQEAAAAAAADCRF0A\n",
       "AAAAAACAMFEXAAAAAAAAIEzUBQAAAAAAAAgTdQEAAAAAAADCRF0AAAAAAACAMFEXAAAAAAAAIEzU\n",
       "BQAAAAAAAAgTdQEAAAAAAADCXtMDAIBf2zlnesLb3XunJzxurTU94XF77+kJAAAAAPymPHUBAAAA\n",
       "AAAAwkRdAAAAAAAAgDBRFwAAAAAAACBM1AUAAAAAAAAIE3UBAAAAAAAAwkRdAAAAAAAAgDBRFwAA\n",
       "AAAAACBM1AUAAAAAAAAIE3UBAAAAAAAAwkRdAAAAAAAAgDBRFwAAAAAAACBM1AUAAAAAAAAIE3UB\n",
       "AAAAAAAAwkRdAAAAAAAAgDBRFwAAAAAAACBM1AUAAAAAAAAIE3UBAAAAAAAAwkRdAAAAAAAAgDBR\n",
       "FwAAAAAAACBM1AUAAAAAAAAIE3UBAAAAAAAAwkRdAAAAAAAAgDBRFwAAAAAAACBM1AUAAAAAAAAI\n",
       "E3UBAAAAAAAAwkRdAAAAAAAAgDBRFwAAAAAAACBM1AUAAAAAAAAIE3UBAAAAAAAAwkRdAAAAAAAA\n",
       "gDBRFwAAAAAAACBM1AUAAAAAAAAIE3UBAAAAAAAAwkRdAAAAAAAAgDBRFwAAAAAAACBM1AUAAAAA\n",
       "AAAIE3UBAAAAAAAAwkRdAAAAAAAAgDBRFwAAAAAAACBM1AUAAAAAAAAIe00PAAD42Z1zpic87t47\n",
       "PeFxa63pCY/Ye09PAAAAAOB/eOoCAAAAAAAAhIm6AAAAAAAAAGGiLgAAAAAAAECYqAsAAAAAAAAQ\n",
       "JuoCAAAAAAAAhIm6AAAAAAAAAGGiLgAAAAAAAECYqAsAAAAAAAAQJuoCAAAAAAAAhIm6AAAAAAAA\n",
       "AGGiLgAAAAAAAECYqAsAAAAAAAAQJuoCAAAAAAAAhIm6AAAAAAAAAGGiLgAAAAAAAECYqAsAAAAA\n",
       "AAAQJuoCAAAAAAAAhIm6AAAAAAAAAGGiLgAAAAAAAECYqAsAAAAAAAAQJuoCAAAAAAAAhIm6AAAA\n",
       "AAAAAGGiLgAAAAAAAECYqAsAAAAAAAAQJuoCAAAAAAAAhIm6AAAAAAAAAGGiLgAAAAAAAECYqAsA\n",
       "AAAAAAAQJuoCAAAAAAAAhIm6AAAAAAAAAGGiLgAAAAAAAECYqAsAAAAAAAAQJuoCAAAAAAAAhIm6\n",
       "AAAAAAAAAGGiLgAAAAAAAECYqAsAAAAAAAAQJuoCAAAAAAAAhIm6AAAAAAAAAGGv6QEAAPx8zjnT\n",
       "Ex53752e8Ii11vSEx+29pycAAAAA/CVPXQAAAAAAAIAwURcAAAAAAAAgTNQFAAAAAAAACBN1AQAA\n",
       "AAAAAMJEXQAAAAAAAIAwURcAAAAAAAAgTNQFAAAAAAAACBN1AQAAAAAAAMJEXQAAAAAAAIAwUZf/\n",
       "sm/HtpLYUBAEnTWYf0w0GRBNuTIkQMBp+fruV0UwfmMAAAAAAACAMFEXAAAAAAAAIEzUBQAAAAAA\n",
       "AAgTdQEAAAAAAADCRF0AAAAAAACAMFEXAAAAAAAAIEzUBQAAAAAAAAgTdQEAAAAAAADCRF0AAAAA\n",
       "AACAMFEXAAAAAAAAIEzUBQAAAAAAAAgTdQEAAAAAAADCRF0AAAAAAACAMFEXAAAAAAAAIEzUBQAA\n",
       "AAAAAAgTdQEAAAAAAADCRF0AAAAAAACAMFEXAAAAAAAAIEzUBQAAAAAAAAgTdQEAAAAAAADCRF0A\n",
       "AAAAAACAMFEXAAAAAAAAIEzUBQAAAAAAAAgTdQEAAAAAAADCRF0AAAAAAACAMFEXAAAAAAAAIEzU\n",
       "BQAAAAAAAAgTdQEAAAAAAADCRF0AAAAAAACAMFEXAAAAAAAAIEzUBQAAAAAAAAgTdQEAAAAAAADC\n",
       "PtMDAADgd3DOmZ7wxL13esJza63pCV+3956eAAAAAPwCT10AAAAAAACAMFEXAAAAAAAAIEzUBQAA\n",
       "AAAAAAgTdQEAAAAAAADCRF0AAAAAAACAMFEXAAAAAAAAIEzUBQAAAAAAAAgTdQEAAAAAAADCRF0A\n",
       "AAAAAACAMFEXAAAAAAAAIEzUBQAAAAAAAAgTdQEAAAAAAADCRF0AAAAAAACAMFEXAAAAAAAAIEzU\n",
       "BQAAAAAAAAgTdQEAAAAAAADCRF0AAAAAAACAMFEXAAAAAAAAIEzUBQAAAAAAAAgTdQEAAAAAAADC\n",
       "RF0AAAAAAACAMFEXAAAAAAAAIEzUBQAAAAAAAAgTdQEAAAAAAADCRF0AAAAAAACAMFEXAAAAAAAA\n",
       "IEzUBQAAAAAAAAgTdQEAAAAAAADCRF0AAAAAAACAMFEXAAAAAAAAIEzUBQAAAAAAAAgTdQEAAAAA\n",
       "AADCRF0AAAAAAACAMFEXAAAAAAAAIEzUBQAAAAAAAAgTdQEAAAAAAADCRF0AAAAAAACAMFEXAAAA\n",
       "AAAAIOwzPQAAAOg450xPeO7eOz3h69Za0xOe23tPTwAAAID/jacuAAAAAAAAQJioCwAAAAAAABAm\n",
       "6gIAAAAAAACEiboAAAAAAAAAYaIuAAAAAAAAQJioCwAAAAAAABAm6gIAAAAAAACEiboAAAAAAAAA\n",
       "YaIuAAAAAAAAQJioCwAAAAAAABAm6gIAAAAAAACEiboAAAAAAAAAYaIuAAAAAAAAQJioCwAAAAAA\n",
       "ABAm6gIAAAAAAACEiboAAAAAAAAAYaIuAAAAAAAAQJioCwAAAAAAABAm6gIAAAAAAACEiboAAAAA\n",
       "AAAAYaIuAAAAAAAAQJioCwAAAAAAABAm6gIAAAAAAACEiboAAAAAAAAAYaIuAAAAAAAAQJioCwAA\n",
       "AAAAABAm6gIAAAAAAACEiboAAAAAAAAAYaIuAAAAAAAAQJioCwAAAAAAABAm6gIAAAAAAACEiboA\n",
       "AAAAAAAAYaIuAAAAAAAAQJioCwAAAAAAABAm6gIAAAAAAACEiboAAAAAAAAAYaIuAAAAAAAAQJio\n",
       "CwAAAAAAABAm6gIAAAAAAACEiboAAAAAAAAAYZ/pAQAAAJPOOdMTvu7eOz3hubXW9ITn9t7TEwAA\n",
       "APgST10AAAAAAACAMFEXAAAAAAAAIEzUBQAAAAAAAAgTdQEAAAAAAADCRF0AAAAAAACAMFEXAAAA\n",
       "AAAAIEzUBQAAAAAAAAgTdQEAAAAAAADCRF0AAAAAAACAMFEXAAAAAAAAIEzUBQAAAAAAAAgTdQEA\n",
       "AAAAAADCRF0AAAAAAACAMFEXAAAAAAAAIEzUBQAAAAAAAAgTdQEAAAAAAADCRF0AAAAAAACAMFEX\n",
       "AAAAAAAAIEzUBQAAAAAAAAgTdQEAAAAAAADCRF0AAAAAAACAMFEXAAAAAAAAIEzUBQAAAAAAAAgT\n",
       "dQEAAAAAAADCRF0AAAAAAACAMFEXAAAAAAAAIEzUBQAAAAAAAAgTdQEAAAAAAADCRF0AAAAAAACA\n",
       "MFEXAAAAAAAAIEzUBQAAAAAAAAgTdQEAAAAAAADCRF0AAAAAAACAMFEXAAAAAAAAIEzUBQAAAAAA\n",
       "AAgTdQEAAAAAAADCRF0AAAAAAACAMFEXAAAAAAAAIEzUBQAAAAAAAAgTdQEAAAAAAADCRF0AAAAA\n",
       "AACAsM/0AAAAAL7rnDM94bl77/SE59Za0xO+bu89PQEAAGCEpy4AAAAAAABAmKgLAAAAAAAAECbq\n",
       "AgAAAAAAAISJugAAAAAAAABhoi4AAAAAAABAmKgLAAAAAAAAECbqAgAAAAAAAISJugAAAAAAAABh\n",
       "oi4AAAAAAABAmKgLAAAAAAAAECbqAgAAAAAAAISJugAAAAAAAABhoi4AAAAAAABAmKgLAAAAAAAA\n",
       "ECbqAgAAAAAAAISJugAAAAAAAABhoi4AAAAAAABAmKgLAAAAAAAAECbqAgAAAAAAAISJugAAAAAA\n",
       "AABhoi4AAAAAAABAmKgLAAAAAAAAECbqAgAAAAAAAISJugAAAAAAAABhoi4AAAAAAABAmKgLAAAA\n",
       "AAAAECbqAgAAAAAAAISJugAAAAAAAABhoi4AAAAAAABAmKgLAAAAAAAAECbqAgAAAAAAAISJugAA\n",
       "AAAAAABhoi4AAAAAAABAmKgLAAAAAAAAECbqAgAAAAAAAISJugAAAAAAAABhoi4AAAAAAABAmKgL\n",
       "AAAAAAAAEPaZHgAAAAD/t3PO9ITn7r3TE75urTU94bm99/QEAAAgwFMXAAAAAAAAIEzUBQAAAAAA\n",
       "AAgTdQEAAAAAAADCRF0AAAAAAACAMFEXAAAAAAAAIEzUBQAAAAAAAAgTdQEAAAAAAADCRF0AAAAA\n",
       "AACAMFEXAAAAAAAAIEzUBQAAAAAAAAgTdQEAAAAAAADCRF0AAAAAAACAMFEXAAAAAAAAIEzUBQAA\n",
       "AAAAAAgTdQEAAAAAAADCRF0AAAAAAACAMFEXAAAAAAAAIEzUBQAAAAAAAAgTdQEAAAAAAADCRF0A\n",
       "AAAAAACAMFEXAAAAAAAAIEzUBQAAAAAAAAgTdQEAAAAAAADCRF0AAAAAAACAMFEXAAAAAAAAIEzU\n",
       "BQAAAAAAAAgTdQEAAAAAAADCRF0AAAAAAACAMFEXAAAAAAAAIEzUBQAAAAAAAAgTdQEAAAAAAADC\n",
       "RF0AAAAAAACAMFEXAAAAAAAAIEzUBQAAAAAAAAgTdQEAAAAAAADCRF0AAAAAAACAMFEXAAAAAAAA\n",
       "IEzUBQAAAAAAAAgTdQEAAAAAAADCRF0AAAAAAACAMFEXAAAAAAAAIOwzPQAAAAD4deec6Qlfd++d\n",
       "nvDcWmt6whN77+kJAACQ5qkLAAAAAAAAECbqAgAAAAAAAISJugAAAAAAAABhoi4AAAAAAABAmKgL\n",
       "AAAAAAAAECbqAgAAAAAAAISJugAAAAAAAABhoi4AAAAAAABAmKgLAAAAAAAAECbqAgAAAAAAAISJ\n",
       "ugAAAAAAAABhoi4AAAAAAABAmKgLAAAAAKKxWWoAABS7SURBVAAAECbqAgAAAAAAAISJugAAAAAA\n",
       "AABhoi4AAAAAAABAmKgLAAAAAAAAECbqAgAAAAAAAISJugAAAAAAAABhoi4AAAAAAABAmKgLAAAA\n",
       "AAAAECbqAgAAAAAAAISJugAAAAAAAABhoi4AAAAAAABAmKgLAAAAAAAAECbqAgAAAAAAAISJugAA\n",
       "AAAAAABhoi4AAAAAAABAmKgLAAAAAAAAECbqAgAAAAAAAISJugAAAAAAAABhoi4AAAAAAABAmKgL\n",
       "AAAAAAAAECbqAgAAAAAAAISJugAAAAAAAABhoi4AAAAAAABAmKgLAAAAAAAAECbqAgAAAAAAAIR9\n",
       "pgcAAAAA/BfnnOkJz917pyc8sdaanvDc3nt6AgAAvxFPXQAAAAAAAIAwURcAAAAAAAAgTNQFAAAA\n",
       "AAAACBN1AQAAAAAAAMJEXQAAAAAAAIAwURcAAAAAAAAgTNQFAAAAAAAACBN1AQAAAAAAAMJEXQAA\n",
       "AAAAAIAwURcAAAAAAAAgTNQFAAAAAAAACBN1AQAAAAAAAMJEXQAAAAAAAIAwURcAAAAAAAAgTNQF\n",
       "AAAAAAAACBN1AQAAAAAAAMJEXQAAAAAAAIAwURcAAAAAAAAgTNQFAAAAAAAACBN1AQAAAAAAAMJE\n",
       "XQAAAAAAAIAwURcAAAAAAAAgTNQFAAAAAAAACBN1AQAAAAAAAMJEXQAAAAAAAIAwURcAAAAAAAAg\n",
       "TNQFAAAAAAAACBN1AQAAAAAAAMJEXQAAAAAAAIAwURcAAAAAAAAgTNQFAAAAAAAACBN1AQAAAAAA\n",
       "AMJEXQAAAAAAAIAwURcAAAAAAAAgTNQFAAAAAAAACBN1AQAAAAAAAMJEXQAAAAAAAIAwURcAAAAA\n",
       "AAAgTNQFAAAAAAAACBN1AQAAAAAAAMI+0wMAAAAA+GfnnOkJT9x7pyc8t9aanvDc3nt6AgDAb8tT\n",
       "FwAAAAAAACBM1AUAAAAAAAAIE3UBAAAAAAAAwkRdAAAAAAAAgDBRFwAAAAAAACBM1AUAAAAAAAAI\n",
       "E3UBAAAAAAAAwkRdAAAAAAAAgDBRFwAAAAAAACBM1AUAAAAAAAAIE3UBAAAAAAAAwkRdAAAAAAAA\n",
       "gDBRFwAAAAAAACBM1AUAAAAAAAAIE3UBAAAAAAAAwkRdAAAAAAAAgDBRFwAAAAAAACBM1AUAAAAA\n",
       "AAAIE3UBAAAAAAAAwkRdAAAAAAAAgDBRFwAAAAAAACBM1AUAAAAAAAAIE3UBAAAAAAAAwkRdAAAA\n",
       "AAAAgDBRFwAAAAAAACBM1AUAAAAAAAAIE3UBAAAAAAAAwkRdAAAAAAAAgDBRFwAAAAAAACBM1AUA\n",
       "AAAAAAAIE3UBAAAAAAAAwkRdAAAAAAAAgDBRFwAAAAAAACBM1AUAAAAAAAAIE3UBAAAAAAAAwkRd\n",
       "AAAAAAAAgDBRFwAAAAAAACBM1AUAAAAAAAAIE3UBAAAAAAAAwkRdAAAAAAAAgDBRFwAAAAAAACDs\n",
       "Mz0AAAAAgJ/tnDM94bl77/SE59Za0xO+bu89PQEA+EN56gIAAAAAAACEiboAAAAAAAAAYaIuAAAA\n",
       "AAAAQJioCwAAAAAAABAm6gIAAAAAAACEiboAAAAAAAAAYaIuAAAAAAAAQJioCwAAAAAAABAm6gIA\n",
       "AAAAAACEiboAAAAAAAAAYaIuAAAAAAAAQJioCwAAAAAAABAm6gIAAAAAAACEiboAAAAAAAAAYaIu\n",
       "AAAAAAAAQJioCwAAAAAAABAm6gIAAAAAAACEiboAAAAAAAAAYaIuAAAAAAAAQJioCwAAAAAAABAm\n",
       "6gIAAAAAAACEiboAAAAAAAAAYaIuAAAAAAAAQJioCwAAAAAAABAm6gIAAAAAAACEiboAAAAAAAAA\n",
       "YaIuAAAAAAAAQJioCwAAAAAAABAm6gIAAAAAAACEiboAAAAAAAAAYaIuAAAAAAAAQJioCwAAAAAA\n",
       "ABAm6gIAAAAAAACEiboAAAAAAAAAYaIuAAAAAAAAQJioCwAAAAAAABAm6gIAAAAAAACEiboAAAAA\n",
       "AAAAYZ/pAQAAAADw05xzpic8d++dnvB1a63pCc/tvacnAMCP4KkLAAAAAAAAECbqAgAAAAAAAISJ\n",
       "ugAAAAAAAABhoi4AAAAAAABAmKgLAAAAAAAAECbqAgAAAAAAAISJugAAAAAAAABhoi4AAAAAAABA\n",
       "mKgLAAAAAAAAECbqAgAAAAAAAISJugAAAAAAAABhoi4AAAAAAABAmKgLAAAAAAAAECbqAgAAAAAA\n",
       "AISJugAAAAAAAABhoi4AAAAAAABAmKgLAAAAAAAAECbqAgAAAAAAAISJugAAAAAAAABhoi4AAAAA\n",
       "AABAmKgLAAAAAAAAECbqAgAAAAAAAISJugAAAAAAAABhoi4AAAAAAABAmKgLAAAAAAAAECbqAgAA\n",
       "AAAAAISJugAAAAAAAABhoi4AAAAAAABAmKgLAAAAAAAAECbqAgAAAAAAAISJugAAAAAAAABhoi4A\n",
       "AAAAAABAmKgLAAAAAAAAECbqAgAAAAAAAISJugAAAAAAAABhoi4AAAAAAABAmKgLAAAAAAAAECbq\n",
       "AgAAAAAAAISJugAAAAAAAABhoi4AAAAAAABA2Gd6AAAAAADw5zvnTE/4unvv9ITn1lrTE57Ye09P\n",
       "AOCH89QFAAAAAAAACBN1AQAAAAAAAMJEXQAAAAAAAIAwURcAAAAAAAAgTNQFAAAAAAAACBN1AQAA\n",
       "AAAAAMJEXQAAAAAAAIAwURcAAAAAAAAgTNQFAAAAAAAACBN1AQAAAAAAAMJEXQAAAAAAAIAwURcA\n",
       "AAAAAAAgTNQFAAAAAAAACBN1AQAAAAAAAMJEXQAAAAAAAIAwURcAAAAAAAAgTNQFAAAAAAAACBN1\n",
       "AQAAAAAAAMJEXQAAAAAAAIAwURcAAAAAAAAgTNQFAAAAAAAACBN1AQAAAAAAAMJEXQAAAAAAAIAw\n",
       "URcAAAAAAAAgTNQFAAAAAAAACBN1AQAAAAAAAMJEXQAAAAAAAIAwURcAAAAAAAAgTNQFAAAAAAAA\n",
       "CBN1AQAAAAAAAMJEXQAAAAAAAIAwURcAAAAAAAAgTNQFAAAAAAAACBN1AQAAAAAAAMJEXQAAAAAA\n",
       "AIAwURcAAAAAAAAgTNQFAAAAAAAACBN1AQAAAAAAAMI+0wMAAAAAAP4E55zpCc/de6cnPLHWmp7w\n",
       "3N57egIAf+OpCwAAAAAAABAm6gIAAAAAAACEiboAAAAAAAAAYaIuAAAAAAAAQJioCwAAAAAAABAm\n",
       "6gIAAAAAAACEiboAAAAAAAAAYaIuAAAAAAAAQJioCwAAAAAAABAm6gIAAAAAAACEiboAAAAAAAAA\n",
       "YaIuAAAAAAAAQJioCwAAAAAAABAm6gIAAAAAAACEiboAAAAAAAAAYaIuAAAAAAAAQJioCwAAAAAA\n",
       "ABAm6gIAAAAAAACEiboAAAAAAAAAYaIuAAAAAAAAQJioCwAAAAAAABAm6gIAAAAAAACEiboAAAAA\n",
       "AAAAYaIuAAAAAAAAQJioCwAAAAAAABAm6gIAAAAAAACEiboAAAAAAAAAYaIuAAAAAAAAQJioCwAA\n",
       "AAAAABAm6gIAAAAAAACEiboAAAAAAAAAYaIuAAAAAAAAQJioCwAAAAAAABAm6gIAAAAAAACEiboA\n",
       "AAAAAAAAYaIuAAAAAAAAQJioCwAAAAAAABAm6gIAAAAAAACEiboAAAAAAAAAYaIuAAAAAAAAQJio\n",
       "CwAAAAAAABD2mR4AAAAAAMDv6ZwzPeGJe+/0hOfWWtMTntt7T08A+FeeugAAAAAAAABhoi4AAAAA\n",
       "AABAmKgLAAAAAAAAECbqAgAAAAAAAISJugAAAAAAAABhoi4AAAAAAABAmKgLAAAAAAAAECbqAgAA\n",
       "AAAAAISJugAAAAAAAABhoi4AAAAAAABAmKgLAAAAAAAAECbqAgAAAAAAAISJugAAAAAAAABhoi4A\n",
       "AAAAAABAmKgLAAAAAAAAECbqAgAAAAAAAISJugAAAAAAAABhoi4AAAAAAABAmKgLAAAAAAAAECbq\n",
       "AgAA8Ff7dmhsSQwEQZA8IP9tEpRBgufDxV9NgUwLmlc0AAAAECbqAgAAAAAAAISJugAAAAAAAABh\n",
       "oi4AAAAAAABAmKgLAAAAAAAAECbqAgAAAAAAAISJugAAAAAAAABhoi4AAAAAAABAmKgLAAAAAAAA\n",
       "ECbqAgAAAAAAAISJugAAAAAAAABhoi4AAAAAAABAmKgLAAAAAAAAECbqAgAAAAAAAISJugAAAAAA\n",
       "AABhoi4AAAAAAABAmKgLAAAAAAAAECbqAgAAAAAAAISJugAAAAAAAABhoi4AAAAAAABAmKgLAAAA\n",
       "AAAAECbqAgAAAAAAAIT9pgcAAAAAAEDZOWd6wnP33ukJz621pid8bu89PQH4T566AAAAAAAAAGGi\n",
       "LgAAAAAAAECYqAsAAAAAAAAQJuoCAAAAAAAAhIm6AAAAAAAAAGGiLgAAAAAAAECYqAsAAAAAAAAQ\n",
       "JuoCAAAAAAAAhIm6AAAAAAAAAGGiLgAAAAAAAECYqAsAAAAAAAAQJuoCAAAAAAAAhIm6AAAAAAAA\n",
       "AGGiLgAAAAAAAECYqAsAAAAAAAAQJuoCAAAAAAAAhIm6AAAAAAAAAGGiLgAAAAAAAECYqAsAAAAA\n",
       "AAAQJuoCAAAAAAAAhIm6AAAAAAAAAGGiLgAAAAAAAECYqAsAAAAAAAAQJuoCAAAAAAAAhIm6AAAA\n",
       "AAAAAGGiLgAAAAAAAECYqAsAAAAAAAAQJuoCAAAAAAAAhIm6AAAAAAAAAGGiLgAAAAAAAECYqAsA\n",
       "AAAAAAAQJuoCAAAAAAAAhIm6AAAAAAAAAGGiLgAAAAAAAECYqAsAAAAAAAAQJuoCAAAAAAAAhIm6\n",
       "AAAAAAAAAGGiLgAAAAAAAEDYb3oAAAAAAADQcs6ZnvDcvXd6wufWWtMTntt7T0+AP+GpCwAAAAAA\n",
       "ABAm6gIAAAAAAACEiboAAAAAAAAAYaIuAAAAAAAAQJioCwAAAAAAABAm6gIAAAAAAACEiboAAAAA\n",
       "AAAAYaIuAAAAAAAAQJioCwAAAAAAABAm6gIAAAAAAACEiboAAAAAAAAAYaIuAAAAAAAAQJioCwAA\n",
       "AAAAABAm6gIAAAAAAACEiboAAAAAAAAAYaIuAAAAAAAAQJioCwAAAAAAABAm6gIAAAAAAACEiboA\n",
       "AAAAAAAAYaIuAAAAAAAAQJioCwAAAAAAABAm6gIAAAAAAACEiboAAAAAAAAAYaIuAAAAAAAAQJio\n",
       "CwAAAAAAABAm6gIAAAAAAACEiboAAAAAAAAAYaIuAAAAAAAAQJioCwAAAAAAABAm6gIAAAAAAACE\n",
       "iboAAAAAAAAAYaIuAAAAAAAAQJioCwAAAAAAABAm6gIAAAAAAACEiboAAAAAAAAAYaIuAAAAAAAA\n",
       "QJioCwAAAAAAABAm6gIAAAAAAACEiboAAAAAAAAAYaIuAAAAAAAAQNhvegAAAAAAAMC0c870hM/d\n",
       "e6cnPLfWmp7wub339AQe8NQFAAAAAAAACBN1AQAAAAAAAMJEXQAAAAAAAIAwURcAAAAAAAAgTNQF\n",
       "AAAAAAAACBN1AQAAAAAAAMJEXQAAAAAAAIAwURcAAAAAAAAgTNQFAAAAAAAACBN1AQAAAAAAAMJE\n",
       "XQAAAAAAAIAwURcAAAAAAAAgTNQFAAAAAAAACBN1AQAAAAAAAMJEXQAAAAAAAIAwURcAAAAAAAAg\n",
       "TNQFAAAAAAAACBN1AQAAAAAAAMJEXQAAAAAAAIAwURcAAAAAAAAgTNQFAAAAAAAACBN1AQAAAAAA\n",
       "AMJEXQAAAAAAAIAwURcAAAAAAAAgTNQFAAAAAAAACBN1AQAAAAAAAMJEXQAAAAAAAIAwURcAAAAA\n",
       "AAAgTNQFAAAAAAAACBN1AQAAAAAAAMJEXQAAAAAAAIAwURcAAAAAAAAgTNQFAAAAAAAACBN1AQAA\n",
       "AAAAAMJEXQAAAAAAAIAwURcAAAAAAAAgTNQFAAAAAAAACBN1AQAAAAAAAMJ+0wMAAAAAAAD43jln\n",
       "esJz997pCZ9ba01PeG7vPT3hOU9dAAAAAAAAgDBRFwAAAAAAACBM1AUAAAAAAAAIE3UBAAAAAAAA\n",
       "wkRdAAAAAAAAgDBRFwAAAAAAACBM1AUAAAAAAAAIE3UBAAAAAAAAwkRdAAAAAAAAgDBRFwAAAAAA\n",
       "ACBM1AUAAAAAAAAIE3UBAAAAAAAAwkRdAAAAAAAAgDBRFwAAAAAAACBM1AUAAAAAAAAIE3UBAAAA\n",
       "AAAAwkRdAAAAAAAAgDBRFwAAAAAAACBM1AUAAAAAAAAIE3UBAAAAAAAAwkRdAAAAAAAAgDBRFwAA\n",
       "AAAAACBM1AUAAAAAAAAIE3UBAAAAAAAAwkRdAAAAAAAAgDBRFwAAAAAAACBM1AUAAAAAAAAIE3UB\n",
       "AAAAAAAAwkRdAAAAAAAAgDBRFwAAAAAAACBM1AUAAAAAAAAIE3UBAAAAAAAAwkRdAAAAAAAAgDBR\n",
       "FwAAAAAAACBM1AUAAAAAAAAIE3UBAAAAAAAAwkRdAAAAAAAAgDBRFwAAAAAAACBM1AUAAAAAAAAI\n",
       "E3UBAAAAAAAAwkRdAAAAAAAAgLDf9AAAAAAAAAD4wjlnesLn7r3TE55ba01PeM5TFwAAAAAAACBM\n",
       "1AUAAAAAAAAIE3UBAAAAAAAAwkRdAAAAAAAAgDBRFwAAAAAAACBM1AUAAAAAAAAIE3UBAAAAAAAA\n",
       "wkRdAAAAAAAAgDBRFwAAAAAAACBM1AUAAAAAAAAIE3UBAAAAAAAAwkRdAAAAAAAAgDBRFwAAAAAA\n",
       "ACBM1AUAAAAAAAAIE3UBAAAAAAAAwkRdAAAAAAAAgDBRFwAAAAAAACBM1AUAAAAAAAAIE3UBAAAA\n",
       "AAAAwkRdAAAAAAAAgDBRFwAAAAAAACBM1AUAAAAAAAAIE3UBAAAAAAAAwkRdAAAAAAAAgDBRFwAA\n",
       "AAAAACBM1AUAAAAAAAAIE3UBAAAAAAAAwkRdAAAAAAAAgDBRFwAAAAAAACBM1AUAAAAAAAAIE3UB\n",
       "AAAAAAAAwkRdAAAAAAAAgDBRFwAAAAAAACBM1AUAAAAAAAAIE3UBAAAAAAAAwkRdAAAAAAAAgDBR\n",
       "FwAAAAAAACBM1AUAAAAAAAAIE3UBAAAAAAAAwkRdAAAAAAAAgLB/0iH3hMZxh20AAAAASUVORK5C\n",
       "YII=\n",
       "\" transform=\"translate(204, 123)\"/>\n",
       "</g>\n",
       "<defs>\n",
       "  <clipPath id=\"clip533\">\n",
       "    <rect x=\"2160\" y=\"123\" width=\"73\" height=\"1301\"/>\n",
       "  </clipPath>\n",
       "</defs>\n",
       "<g clip-path=\"url(#clip533)\">\n",
       "<image width=\"72\" height=\"1300\" xlink:href=\"data:image/png;base64,\n",
       "iVBORw0KGgoAAAANSUhEUgAAAEgAAAUUCAYAAAB8mVRsAAAKg0lEQVR4nO3dwY3kMBAEQbJB/13W\n",
       "WDDMp/SIsOCQKLS4wGJvr7WexV/z9j/g6wQKAgWBgkBBoCBQECgIFAQKZ+/99r/h0ywoCBQECgIF\n",
       "RzpYUBAoCBQECo50sKAgUBAoCBQc6WBBQaAgUBAoONLBgoJAQaAgUHCkgwUFgYJAQaDgSAcLCgIF\n",
       "gYJAwZEOFhQECgIFgYIjHSwoCBQECgIFRzpYUBAoCBQECmdGoxt1gkBBoCBQECj4USNYUBAoCBQE\n",
       "Co50sKAgUBAoCBQc6WBBQaAgUBAoONLBgoJAQaAgUBAoCBQECgIFgYKXdLCgIFAQKAgUHOlgQUGg\n",
       "IFAQKPhF8qBOECgIFAQKXtLBgoJAQaAgUHCkgwUFgYJAQaDgSAcLCgIFgYJAwZEOFhQECgIFgYIj\n",
       "HSwoCBQECgIFgYKvWLCgIFAQKAgUHOlgQUGgIFAQKDjSwYKCQEGgIFBwpIMFBYGCQEGg4EgHCwoC\n",
       "BYGCQMGRDhYUBAoCBYGCIx0sKAgUBAoCBYGCQEGgIFAQKHhJBwsKAgWBgkDBkQ4WFAQKAgWBgiMd\n",
       "LCgIFAQKAgVHOlhQECgIFAQKjnSwoCBQECgIFAQKvmLBgoJAQaAgUHCkgwUFgYJAQaDgSAcLCgIF\n",
       "gYJAwZEOFhQECgIFgYIjHSwoCBQECgKFM6PRjTpBoCBQECh4SQcLCgIFgYJAwZEOFhQECgIFgYIj\n",
       "HSwoCBQECgIFRzpYUBAoCBQECgIFgYJAQaAgUPCSDhYUBAoCBYGCIx0sKAgUBAoCBYGCXyQP6gSB\n",
       "gkBBoOBHjWBBQaAgUBAoONLBgoJAQaAgUHCkgwUFgYJAQaDgSAcLCgIFgYJAwZEOFhQECgIFgYIj\n",
       "HSwoCBQECgIFRzpYUBAoCBQECo50sKAgUBAoCBQc6WBBQaAgUBAoONLBgoJAQaAgUHCkgwUFgYJA\n",
       "QaDgSAcLCgIFgYJAQaDgKxYsKAgUBAoCBYGCQEGgIFAQKHhJBwsKAgWBgkDBkQ4WFAQKAgWBgiMd\n",
       "LCgIFAQKAgVHOlhQECgIFAQKjnSwoCBQECgIFBzpYEFBoCBQECg40sGCgkBBoCBQcKSDBQWBgkBB\n",
       "oOBIBwsKAgWBgkDhzGh0o04QKAgUBAoCBT9qBAsKAgWBgkDBkQ4WFAQKAgWBgiMdLCgIFAQKAgVH\n",
       "OlhQECgIFAQKjnSwoCBQECgIFAQKAgWBgkBBoOAlHSwoCBQECgIFv0ge1AkCBYGCQMFLOlhQECgI\n",
       "FAQKjnSwoCBQECgIFBzpYEFBoCBQECg40sGCgkBBoCBQcKSDBQWBgkBBoCBQ8BULFhQECgIFgYIj\n",
       "HSwoCBQECgIFRzpYUBAoCBQECo50sKAgUBAoCBQc6WBBQaAgUBAoONLBgoJAQaAgUHCkgwUFgYJA\n",
       "QaDgSAcLCgIFgYJAQaAgUBAoCBQECl7SwYKCQEGgIFBwpIMFBYGCQEGg4EgHCwoCBYGCQMGRDhYU\n",
       "BAoCBYGCQMFXLFhQECgIFAQKjnSwoCBQECgIFBzpYEFBoCBQECg40sGCgkBBoCBQcKSDBQWBgkBB\n",
       "oHBmNLpRJwgUBAoCBS/pYEFBoCBQECg40sGCgkBBoCBQcKSDBQWBgkBBoOBIBwsKAgWBgkDBkQ4W\n",
       "FAQKAgWBgkBBoCBQECgIFLykgwUFgYJAQaAgUPCL5EGdIFAQKAgU/KgRLCgIFAQKAgVHOlhQECgI\n",
       "FAQKjnSwoCBQECgIFBzpYEFBoCBQECg40sGCgkBBoCBQcKSDBQWBgkBBoOBIBwsKAgWBgkDBkQ4W\n",
       "FAQKAgWBgiMdLCgIFAQKAgVHOlhQECgIFAQKjnSwoCBQECgIFBzpYEFBoCBQECgIFHzFggUFgYJA\n",
       "QaDgSAcLCgIFgYJAwZEOFhQECgIFgYJAQaAgUBAoCBS8pIMFBYGCQEGg4EgHCwoCBYGCQMGRDhYU\n",
       "BAoCBYGCIx0sKAgUBAoCBUc6WFAQKAgUBAr+O/WgThAoCBQECl7SwYKCQEGgIFBwpIMFBYGCQEGg\n",
       "IFDwFQsWFAQKAgWBgiMdLCgIFAQKAgVHOlhQECgIFAQKjnSwoCBQECgIFBzpYEFBoCBQECg40sGC\n",
       "gkBBoCBQcKSDBQWBgkBBoCBQECgIFAQKAgUv6WBBQaAgUBAo+OMmQZ0gUBAoCBS8pIMFBYGCQEGg\n",
       "4EgHCwoCBYGCQMGRDhYUBAoCBYGCQMFXLFhQECgIFAQKjnSwoCBQECgIFBzpYEFBoCBQECg40sGC\n",
       "gkBBoCBQcKSDBQWBgkBBoOBIBwsKAgWBgkDBkQ4WFAQKAgWBgiMdLCgIFAQKAgVHOlhQECgIFAQK\n",
       "jnSwoCBQECgIFAQKAgWBgkBBoOAlHSwoCBQECgIFRzpYUBAoCBQECgIFX7FgQUGgIFAQKDjSwYKC\n",
       "QEGgIFBwpIMFBYGCQEGg4H/JDOoEgYJAQaDgJR0sKAgUBAoCBUc6WFAQKAgUBAqOdLCgIFAQKAgU\n",
       "HOlgQUGgIFAQKDjSwYKCQEGgIFBwpIMFBYGCQEGg4EgHCwoCBYGCQMGRDhYUBAoCBYGCIx0sKAgU\n",
       "BAoCBYGCQEGgIFAQKAgU/KgRLCgIFAQKAgV/3CSoEwQKAgWBgpd0sKAgUBAoCBQc6WBBQaAgUBAo\n",
       "ONLBgoJAQaAgUHCkgwUFgYJAQaDgSAcLCgIFgYJAwZEOFhQECgIFgYIjHSwoCBQECgIFRzpYUBAo\n",
       "CBQECo50sKAgUBAoCBQc6WBBQaAgUBAoCBR8xYIFBYGCQEGg4EgHCwoCBYGCQMGRDhYUBAoCBYGC\n",
       "QEGgIFAQKAgUvKSDBQWBgkBBoOBIBwsKAgWBgkDBkQ4WFAQKAgWBgiMdLCgIFAQKAgX/v1hQJwgU\n",
       "BAoCBS/pYEFBoCBQECg40sGCgkBBoCBQcKSDBQWBgkBBoCBQ8BULFhQECgIFgYIjHSwoCBQECgIF\n",
       "RzpYUBAoCBQECo50sKAgUBAoCBQc6WBBQaAgUBAoONLBgoJAQaAgUHCkgwUFgYJAQaAgUBAoCBQE\n",
       "CgIFL+lgQUGgIFAQKDjSwYKCQEGgIFDwZwKDOkGgIFAQKHhJBwsKAgWBgkDBkQ4WFAQKAgWBgkDB\n",
       "VyxYUBAoCBQECo50sKAgUBAoCBQc6WBBQaAgUBAoONLBgoJAQaAgUHCkgwUFgYJAQaDgSAcLCgIF\n",
       "gYJAwZEOFhQECgIFgYIjHSwoCBQECgIFRzpYUBAoCBQECo50sKAgUBAoCBQECgIFgYJAQaDgJR0s\n",
       "KAgUBAoCBUc6WFAQKAgUBAoCBV+xYEFBoCBQECj4byOCOkGgIFAQKHhJBwsKAgWBgkDBkQ4WFAQK\n",
       "AgWBgiMdLCgIFAQKAgVHOlhQECgIFAQKjnSwoCBQECgIFBzpYEFBoCBQECg40sGCgkBBoCBQcKSD\n",
       "BQWBgkBBoOBIBwsKAgWBgkDBkQ4WFAQKAgWBgiMdLCgIFAQKAgWBgkBBoCBQECgIFPyoESwoCBQE\n",
       "CgIFRzpYUBAoCBQECv6Wa1AnCBQECgIFL+lgQUGgIFAQKDjSwYKCQEGgIFBwpIMFBYGCQEGg4EgH\n",
       "CwoCBYGCQMGRDhYUBAoCBYGCIx0sKAgUBAoCBUc6WFAQKAgUBAqOdLCgIFAQKAgUfst2EAIsS0iK\n",
       "AAAAAElFTkSuQmCC\n",
       "\" transform=\"translate(2161, 123)\"/>\n",
       "</g>\n",
       "<path clip-path=\"url(#clip530)\" d=\"M2268.76 1410.9 L2298.43 1410.9 L2298.43 1414.83 L2268.76 1414.83 L2268.76 1410.9 Z\" fill=\"#000000\" fill-rule=\"evenodd\" fill-opacity=\"1\" /><path clip-path=\"url(#clip530)\" d=\"M2318.52 1396.24 Q2314.91 1396.24 2313.08 1399.81 Q2311.28 1403.35 2311.28 1410.48 Q2311.28 1417.59 2313.08 1421.15 Q2314.91 1424.69 2318.52 1424.69 Q2322.16 1424.69 2323.96 1421.15 Q2325.79 1417.59 2325.79 1410.48 Q2325.79 1403.35 2323.96 1399.81 Q2322.16 1396.24 2318.52 1396.24 M2318.52 1392.54 Q2324.33 1392.54 2327.39 1397.15 Q2330.47 1401.73 2330.47 1410.48 Q2330.47 1419.21 2327.39 1423.81 Q2324.33 1428.4 2318.52 1428.4 Q2312.71 1428.4 2309.64 1423.81 Q2306.58 1419.21 2306.58 1410.48 Q2306.58 1401.73 2309.64 1397.15 Q2312.71 1392.54 2318.52 1392.54 Z\" fill=\"#000000\" fill-rule=\"evenodd\" fill-opacity=\"1\" /><path clip-path=\"url(#clip530)\" d=\"M2338.69 1421.85 L2343.57 1421.85 L2343.57 1427.73 L2338.69 1427.73 L2338.69 1421.85 Z\" fill=\"#000000\" fill-rule=\"evenodd\" fill-opacity=\"1\" /><path clip-path=\"url(#clip530)\" d=\"M2353.8 1393.17 L2372.16 1393.17 L2372.16 1397.1 L2358.08 1397.1 L2358.08 1405.57 Q2359.1 1405.23 2360.12 1405.06 Q2361.14 1404.88 2362.16 1404.88 Q2367.95 1404.88 2371.32 1408.05 Q2374.7 1411.22 2374.7 1416.64 Q2374.7 1422.22 2371.23 1425.32 Q2367.76 1428.4 2361.44 1428.4 Q2359.26 1428.4 2357 1428.03 Q2354.75 1427.66 2352.34 1426.92 L2352.34 1422.22 Q2354.43 1423.35 2356.65 1423.91 Q2358.87 1424.46 2361.35 1424.46 Q2365.35 1424.46 2367.69 1422.36 Q2370.03 1420.25 2370.03 1416.64 Q2370.03 1413.03 2367.69 1410.92 Q2365.35 1408.81 2361.35 1408.81 Q2359.47 1408.81 2357.6 1409.23 Q2355.75 1409.65 2353.8 1410.53 L2353.8 1393.17 Z\" fill=\"#000000\" fill-rule=\"evenodd\" fill-opacity=\"1\" /><path clip-path=\"url(#clip530)\" d=\"M2280.7 1138.12 Q2277.09 1138.12 2275.26 1141.69 Q2273.45 1145.23 2273.45 1152.36 Q2273.45 1159.47 2275.26 1163.03 Q2277.09 1166.57 2280.7 1166.57 Q2284.33 1166.57 2286.14 1163.03 Q2287.97 1159.47 2287.97 1152.36 Q2287.97 1145.23 2286.14 1141.69 Q2284.33 1138.12 2280.7 1138.12 M2280.7 1134.42 Q2286.51 1134.42 2289.57 1139.03 Q2292.64 1143.61 2292.64 1152.36 Q2292.64 1161.09 2289.57 1165.69 Q2286.51 1170.28 2280.7 1170.28 Q2274.89 1170.28 2271.81 1165.69 Q2268.76 1161.09 2268.76 1152.36 Q2268.76 1143.61 2271.81 1139.03 Q2274.89 1134.42 2280.7 1134.42 Z\" fill=\"#000000\" fill-rule=\"evenodd\" fill-opacity=\"1\" /><path clip-path=\"url(#clip530)\" d=\"M2280.7 880.003 Q2277.09 880.003 2275.26 883.568 Q2273.45 887.11 2273.45 894.239 Q2273.45 901.346 2275.26 904.911 Q2277.09 908.452 2280.7 908.452 Q2284.33 908.452 2286.14 904.911 Q2287.97 901.346 2287.97 894.239 Q2287.97 887.11 2286.14 883.568 Q2284.33 880.003 2280.7 880.003 M2280.7 876.3 Q2286.51 876.3 2289.57 880.906 Q2292.64 885.489 2292.64 894.239 Q2292.64 902.966 2289.57 907.573 Q2286.51 912.156 2280.7 912.156 Q2274.89 912.156 2271.81 907.573 Q2268.76 902.966 2268.76 894.239 Q2268.76 885.489 2271.81 880.906 Q2274.89 876.3 2280.7 876.3 Z\" fill=\"#000000\" fill-rule=\"evenodd\" fill-opacity=\"1\" /><path clip-path=\"url(#clip530)\" d=\"M2300.86 905.605 L2305.75 905.605 L2305.75 911.485 L2300.86 911.485 L2300.86 905.605 Z\" fill=\"#000000\" fill-rule=\"evenodd\" fill-opacity=\"1\" /><path clip-path=\"url(#clip530)\" d=\"M2315.98 876.925 L2334.33 876.925 L2334.33 880.86 L2320.26 880.86 L2320.26 889.332 Q2321.28 888.985 2322.3 888.823 Q2323.32 888.638 2324.33 888.638 Q2330.12 888.638 2333.5 891.809 Q2336.88 894.98 2336.88 900.397 Q2336.88 905.975 2333.41 909.077 Q2329.94 912.156 2323.62 912.156 Q2321.44 912.156 2319.17 911.786 Q2316.93 911.415 2314.52 910.674 L2314.52 905.975 Q2316.6 907.11 2318.83 907.665 Q2321.05 908.221 2323.52 908.221 Q2327.53 908.221 2329.87 906.114 Q2332.2 904.008 2332.2 900.397 Q2332.2 896.786 2329.87 894.679 Q2327.53 892.573 2323.52 892.573 Q2321.65 892.573 2319.77 892.989 Q2317.92 893.406 2315.98 894.286 L2315.98 876.925 Z\" fill=\"#000000\" fill-rule=\"evenodd\" fill-opacity=\"1\" /><path clip-path=\"url(#clip530)\" d=\"M2269.43 649.429 L2277.07 649.429 L2277.07 623.063 L2268.76 624.73 L2268.76 620.471 L2277.02 618.804 L2281.7 618.804 L2281.7 649.429 L2289.33 649.429 L2289.33 653.364 L2269.43 653.364 L2269.43 649.429 Z\" fill=\"#000000\" fill-rule=\"evenodd\" fill-opacity=\"1\" /><path clip-path=\"url(#clip530)\" d=\"M2298.78 647.485 L2303.66 647.485 L2303.66 653.364 L2298.78 653.364 L2298.78 647.485 Z\" fill=\"#000000\" fill-rule=\"evenodd\" fill-opacity=\"1\" /><path clip-path=\"url(#clip530)\" d=\"M2323.85 621.883 Q2320.24 621.883 2318.41 625.448 Q2316.6 628.989 2316.6 636.119 Q2316.6 643.225 2318.41 646.79 Q2320.24 650.332 2323.85 650.332 Q2327.48 650.332 2329.29 646.79 Q2331.12 643.225 2331.12 636.119 Q2331.12 628.989 2329.29 625.448 Q2327.48 621.883 2323.85 621.883 M2323.85 618.179 Q2329.66 618.179 2332.71 622.786 Q2335.79 627.369 2335.79 636.119 Q2335.79 644.846 2332.71 649.452 Q2329.66 654.036 2323.85 654.036 Q2318.04 654.036 2314.96 649.452 Q2311.9 644.846 2311.9 636.119 Q2311.9 627.369 2314.96 622.786 Q2318.04 618.179 2323.85 618.179 Z\" fill=\"#000000\" fill-rule=\"evenodd\" fill-opacity=\"1\" /><path clip-path=\"url(#clip530)\" d=\"M2269.43 391.309 L2277.07 391.309 L2277.07 364.943 L2268.76 366.61 L2268.76 362.35 L2277.02 360.684 L2281.7 360.684 L2281.7 391.309 L2289.33 391.309 L2289.33 395.244 L2269.43 395.244 L2269.43 391.309 Z\" fill=\"#000000\" fill-rule=\"evenodd\" fill-opacity=\"1\" /><path clip-path=\"url(#clip530)\" d=\"M2298.78 389.364 L2303.66 389.364 L2303.66 395.244 L2298.78 395.244 L2298.78 389.364 Z\" fill=\"#000000\" fill-rule=\"evenodd\" fill-opacity=\"1\" /><path clip-path=\"url(#clip530)\" d=\"M2313.89 360.684 L2332.25 360.684 L2332.25 364.619 L2318.18 364.619 L2318.18 373.091 Q2319.2 372.744 2320.21 372.582 Q2321.23 372.397 2322.25 372.397 Q2328.04 372.397 2331.42 375.568 Q2334.8 378.739 2334.8 384.156 Q2334.8 389.735 2331.33 392.836 Q2327.85 395.915 2321.53 395.915 Q2319.36 395.915 2317.09 395.545 Q2314.84 395.174 2312.44 394.434 L2312.44 389.735 Q2314.52 390.869 2316.74 391.424 Q2318.96 391.98 2321.44 391.98 Q2325.45 391.98 2327.78 389.873 Q2330.12 387.767 2330.12 384.156 Q2330.12 380.545 2327.78 378.438 Q2325.45 376.332 2321.44 376.332 Q2319.57 376.332 2317.69 376.748 Q2315.84 377.165 2313.89 378.045 L2313.89 360.684 Z\" fill=\"#000000\" fill-rule=\"evenodd\" fill-opacity=\"1\" /><path clip-path=\"url(#clip530)\" d=\"M2274.38 133.188 L2290.7 133.188 L2290.7 137.123 L2268.76 137.123 L2268.76 133.188 Q2271.42 130.434 2276 125.804 Q2280.61 121.151 2281.79 119.809 Q2284.03 117.285 2284.91 115.549 Q2285.82 113.79 2285.82 112.1 Q2285.82 109.346 2283.87 107.61 Q2281.95 105.873 2278.85 105.873 Q2276.65 105.873 2274.2 106.637 Q2271.77 107.401 2268.99 108.952 L2268.99 104.23 Q2271.81 103.096 2274.27 102.517 Q2276.72 101.938 2278.76 101.938 Q2284.13 101.938 2287.32 104.624 Q2290.52 107.309 2290.52 111.799 Q2290.52 113.929 2289.7 115.85 Q2288.92 117.748 2286.81 120.341 Q2286.23 121.012 2283.13 124.23 Q2280.03 127.424 2274.38 133.188 Z\" fill=\"#000000\" fill-rule=\"evenodd\" fill-opacity=\"1\" /><path clip-path=\"url(#clip530)\" d=\"M2300.51 131.244 L2305.4 131.244 L2305.4 137.123 L2300.51 137.123 L2300.51 131.244 Z\" fill=\"#000000\" fill-rule=\"evenodd\" fill-opacity=\"1\" /><path clip-path=\"url(#clip530)\" d=\"M2325.58 105.642 Q2321.97 105.642 2320.14 109.207 Q2318.34 112.748 2318.34 119.878 Q2318.34 126.984 2320.14 130.549 Q2321.97 134.091 2325.58 134.091 Q2329.22 134.091 2331.02 130.549 Q2332.85 126.984 2332.85 119.878 Q2332.85 112.748 2331.02 109.207 Q2329.22 105.642 2325.58 105.642 M2325.58 101.938 Q2331.39 101.938 2334.45 106.545 Q2337.53 111.128 2337.53 119.878 Q2337.53 128.605 2334.45 133.211 Q2331.39 137.795 2325.58 137.795 Q2319.77 137.795 2316.7 133.211 Q2313.64 128.605 2313.64 119.878 Q2313.64 111.128 2316.7 106.545 Q2319.77 101.938 2325.58 101.938 Z\" fill=\"#000000\" fill-rule=\"evenodd\" fill-opacity=\"1\" /><polyline clip-path=\"url(#clip530)\" style=\"stroke:#000000; stroke-linecap:butt; stroke-linejoin:round; stroke-width:4; stroke-opacity:1; fill:none\" points=\"\n",
       "  2232.76,1423.18 2232.76,1414.07 2256.76,1414.07 2232.76,1414.07 2232.76,1155.95 2256.76,1155.95 2232.76,1155.95 2232.76,897.833 2256.76,897.833 2232.76,897.833 \n",
       "  2232.76,639.713 2256.76,639.713 2232.76,639.713 2232.76,381.593 2256.76,381.593 2232.76,381.593 2232.76,123.472 2256.76,123.472 2232.76,123.472 \n",
       "  \n",
       "  \"/>\n",
       "</svg>\n"
      ]
     },
     "metadata": {},
     "output_type": "display_data"
    }
   ],
   "source": [
    "using Plots, ColorSchemes, LaTeXStrings\n",
    "\n",
    "\n",
    "L\n",
    "gr()\n",
    "\n",
    "data = L\n",
    "# display(data)\n",
    "fig1 = heatmap(1:size(data,2),\n",
    "    1:size(data,1), data,\n",
    "    c=cgrad([:white, :black]),\n",
    "    xlabel=\"x values\", ylabel=\"y values\",\n",
    "    title=\"My title\", dpi=150, yflip=true)\n",
    "display(fig1)"
   ]
  },
  {
   "cell_type": "code",
   "execution_count": 9,
   "metadata": {},
   "outputs": [
    {
     "data": {
      "text/plain": [
       "6×6 UpperTriangular{Float64, Matrix{Float64}}:\n",
       " 2.0  -0.5       0.0        0.0        0.0        0.0\n",
       "  ⋅    1.93649  -0.516398   0.0        0.0        0.0\n",
       "  ⋅     ⋅        1.93218   -0.517549   0.0        0.0\n",
       "  ⋅     ⋅         ⋅         1.93188   -0.517632   0.0\n",
       "  ⋅     ⋅         ⋅          ⋅         1.93185   -0.517638\n",
       "  ⋅     ⋅         ⋅          ⋅          ⋅         1.93185"
      ]
     },
     "metadata": {},
     "output_type": "display_data"
    }
   ],
   "source": [
    "U"
   ]
  },
  {
   "cell_type": "code",
   "execution_count": 14,
   "metadata": {},
   "outputs": [
    {
     "data": {
      "text/plain": [
       "6×6 SparseArrays.SparseMatrixCSC{Float64, Int64} with 16 stored entries:\n",
       "  4.0  -2.0    ⋅     ⋅     ⋅     ⋅ \n",
       " -2.0   5.0  -2.0    ⋅     ⋅     ⋅ \n",
       "   ⋅   -2.0   5.0  -2.0    ⋅     ⋅ \n",
       "   ⋅     ⋅   -2.0   5.0  -2.0    ⋅ \n",
       "   ⋅     ⋅     ⋅   -2.0   5.0  -2.0\n",
       "   ⋅     ⋅     ⋅     ⋅   -2.0   5.0"
      ]
     },
     "metadata": {},
     "output_type": "display_data"
    }
   ],
   "source": [
    "UU = Bidiagonal(2ones(n),-ones(n-1),:U)\n",
    "UU' * UU"
   ]
  },
  {
   "cell_type": "code",
   "execution_count": 24,
   "metadata": {},
   "outputs": [
    {
     "data": {
      "text/latex": [
       "$\\left[ \\begin{array}{r}b_{1}\\\\b_{2}\\\\b_{3}\\\\b_{4}\\\\b_{5}\\\\b_{6}\\\\b_{7}\\\\b_{8}\\\\b_{9}\\\\b_{10}\\end{array} \\right]$\n"
      ],
      "text/plain": [
       "10-element Vector{Sym}:\n",
       "  b_1\n",
       "  b_2\n",
       "  b_3\n",
       "  b_4\n",
       "  b_5\n",
       "  b_6\n",
       "  b_7\n",
       "  b_8\n",
       "  b_9\n",
       " b_10"
      ]
     },
     "metadata": {},
     "output_type": "display_data"
    }
   ],
   "source": [
    "dd0 = symbols(\"d_(1:11)\", real=True)\n",
    "d = [i for i in dd0]\n",
    "\n",
    "bb0 = symbols(\"b_(1:11)\", real=True)\n",
    "b = [i for i in bb0]\n",
    "\n",
    "\n",
    "\n",
    "\n",
    "# yy0 = symbols(\"y_(1:6)\", real=True)\n",
    "# uu0 = symbols(\"u_(1:6)\", real=True)\n",
    "# vv0 = symbols(\"v_(1:6)\", real=True)\n",
    "# pp0 = symbols(\"p_(1:6)\", real=True)\n",
    "# qq0 = symbols(\"q_(1:6)\", real=True)\n",
    "# ds = [i for i in dd0]\n",
    "# ys = [i for i in yy0]\n",
    "# us = [i for i in uu0]\n",
    "# vs = [i for i in vv0]\n",
    "# ps = [i for i in pp0]\n",
    "# qs = [i for i in qq0]"
   ]
  },
  {
   "cell_type": "code",
   "execution_count": 65,
   "metadata": {},
   "outputs": [
    {
     "data": {
      "text/latex": [
       "$r \\left(\\frac{r^{2} r^{2 n} \\left(r^{2} - 1\\right)}{r^{2 k} - r^{2 n + 2}} + 1\\right)$"
      ],
      "text/plain": [
       "  / 2  2*n / 2    \\    \\\n",
       "  |r *r   *\\r  - 1/    |\n",
       "r*|---------------- + 1|\n",
       "  | 2*k    2*n + 2     |\n",
       "  \\r    - r            /"
      ]
     },
     "metadata": {},
     "output_type": "display_data"
    }
   ],
   "source": [
    "n = 10\n",
    "\n",
    "k = 5\n",
    "\n",
    "ns = symbols(\"n\", real=True, positive=True)\n",
    "ks = symbols(\"k\", real=True, positive=True)\n",
    "\n",
    "r = symbols(\"r\", real=True, positive=True)\n",
    "\n",
    "\n",
    "\n",
    "\n",
    "\n",
    "\n",
    "dmax = symbols(\"d_max\", real=True, positive=True)\n",
    "dmin = symbols(\"d_min\", real=True, positive=True)\n",
    "bmax = symbols(\"b_max\", real=True, negative=True)\n",
    "bmin = symbols(\"b_min\", real=True, negative=True)\n",
    "\n",
    "rmax = -dmax/bmin\n",
    "rmin = -dmin/bmax\n",
    "\n",
    "rmax*(1-(dmin^2*rmin^(2*(ns-ks))) / dmax^2*(ns-ks+1)*rmax^(2*(ns-ks)))\n",
    "\n",
    "\n",
    "\n",
    "# simplify(r*(1+r^2*((r^2-1)*(r^(2*ns))) / (r^(2*ks) - r^(2*(ns+1)))))\n",
    "\n",
    "r*(1+r^2*((r^2-1)*(r^(2*ns))) / (r^(2*ks) - r^(2*(ns+1))))"
   ]
  },
  {
   "cell_type": "code",
   "execution_count": 31,
   "metadata": {},
   "outputs": [
    {
     "data": {
      "text/latex": [
       "$\\frac{1}{d_{10}^{2}} + \\frac{1}{b_{9}^{2}} + \\frac{d_{9}^{2}}{b_{8}^{2} b_{9}^{2}} + \\frac{d_{8}^{2} d_{9}^{2}}{b_{7}^{2} b_{8}^{2} b_{9}^{2}} + \\frac{d_{7}^{2} d_{8}^{2} d_{9}^{2}}{b_{6}^{2} b_{7}^{2} b_{8}^{2} b_{9}^{2}} + \\frac{d_{6}^{2} d_{7}^{2} d_{8}^{2} d_{9}^{2}}{b_{5}^{2} b_{6}^{2} b_{7}^{2} b_{8}^{2} b_{9}^{2}}$"
      ],
      "text/plain": [
       "                     2          2    2            2    2    2          2    2 \n",
       "  1      1        d_9        d_8 *d_9          d_7 *d_8 *d_9        d_6 *d_7 *\n",
       "----- + ---- + --------- + -------------- + ------------------- + ------------\n",
       "    2      2      2    2      2    2    2      2    2    2    2      2    2   \n",
       "d_10    b_9    b_8 *b_9    b_7 *b_8 *b_9    b_6 *b_7 *b_8 *b_9    b_5 *b_6 *b_\n",
       "\n",
       "   2    2   \n",
       "d_8 *d_9    \n",
       "------------\n",
       " 2    2    2\n",
       "7 *b_8 *b_9 "
      ]
     },
     "metadata": {},
     "output_type": "display_data"
    }
   ],
   "source": [
    "\n",
    "ans2 = 0\n",
    "for l in k:n\n",
    "ans1 = 1\n",
    "ans1 /= d[l]^2\n",
    "    for i in l:n-1\n",
    "        ans1 *= (-d[i]/b[i])^2\n",
    "    end\n",
    "    ans2+=ans1\n",
    "\n",
    "end\n",
    "ans2"
   ]
  },
  {
   "cell_type": "code",
   "execution_count": 34,
   "metadata": {},
   "outputs": [
    {
     "data": {
      "text/latex": [
       "$\\frac{d_{6}^{2} d_{7}^{2} d_{8}^{2} d_{9}^{2}}{b_{5}^{2} b_{6}^{2} b_{7}^{2} b_{8}^{2} b_{9}^{2}}$"
      ],
      "text/plain": [
       "     2    2    2    2   \n",
       "  d_6 *d_7 *d_8 *d_9    \n",
       "------------------------\n",
       "   2    2    2    2    2\n",
       "b_5 *b_6 *b_7 *b_8 *b_9 "
      ]
     },
     "metadata": {},
     "output_type": "display_data"
    }
   ],
   "source": [
    "ans3 = 1\n",
    "ans3 /= d[k]^2\n",
    "for i in k:n-1\n",
    "    ans3 *= (-d[i]/b[i])^2\n",
    "end\n",
    "ans3"
   ]
  },
  {
   "cell_type": "code",
   "execution_count": 40,
   "metadata": {},
   "outputs": [
    {
     "data": {
      "text/latex": [
       "$- \\frac{b_{5} d_{5} \\left(b_{6}^{2} b_{7}^{2} b_{8}^{2} b_{9}^{2} + b_{6}^{2} b_{7}^{2} b_{8}^{2} d_{10}^{2} + b_{6}^{2} b_{7}^{2} d_{10}^{2} d_{9}^{2} + b_{6}^{2} d_{10}^{2} d_{8}^{2} d_{9}^{2} + d_{10}^{2} d_{7}^{2} d_{8}^{2} d_{9}^{2}\\right)}{b_{5}^{2} b_{6}^{2} b_{7}^{2} b_{8}^{2} b_{9}^{2} + b_{5}^{2} b_{6}^{2} b_{7}^{2} b_{8}^{2} d_{10}^{2} + b_{5}^{2} b_{6}^{2} b_{7}^{2} d_{10}^{2} d_{9}^{2} + b_{5}^{2} b_{6}^{2} d_{10}^{2} d_{8}^{2} d_{9}^{2} + b_{5}^{2} d_{10}^{2} d_{7}^{2} d_{8}^{2} d_{9}^{2} + d_{10}^{2} d_{6}^{2} d_{7}^{2} d_{8}^{2} d_{9}^{2}}$"
      ],
      "text/plain": [
       "                             /   2    2    2    2      2    2    2     2      \n",
       "                    -b_5*d_5*\\b_6 *b_7 *b_8 *b_9  + b_6 *b_7 *b_8 *d_10  + b_6\n",
       "------------------------------------------------------------------------------\n",
       "   2    2    2    2    2      2    2    2    2     2      2    2    2     2   \n",
       "b_5 *b_6 *b_7 *b_8 *b_9  + b_5 *b_6 *b_7 *b_8 *d_10  + b_5 *b_6 *b_7 *d_10 *d_\n",
       "\n",
       "2    2     2    2      2     2    2    2       2    2    2    2\\              \n",
       " *b_7 *d_10 *d_9  + b_6 *d_10 *d_8 *d_9  + d_10 *d_7 *d_8 *d_9 /              \n",
       "------------------------------------------------------------------------------\n",
       " 2      2    2     2    2    2      2     2    2    2    2       2    2    2  \n",
       "9  + b_5 *b_6 *d_10 *d_8 *d_9  + b_5 *d_10 *d_7 *d_8 *d_9  + d_10 *d_6 *d_7 *d\n",
       "\n",
       "        \n",
       "        \n",
       "--------\n",
       "  2    2\n",
       "_8 *d_9 "
      ]
     },
     "metadata": {},
     "output_type": "display_data"
    }
   ],
   "source": [
    "factor((1- ans3 / ans2)*(-d[k]/b[k]))"
   ]
  },
  {
   "cell_type": "code",
   "execution_count": null,
   "metadata": {},
   "outputs": [],
   "source": []
  }
 ],
 "metadata": {
  "kernelspec": {
   "display_name": "Julia 1.7.1",
   "language": "julia",
   "name": "julia-1.7"
  },
  "language_info": {
   "file_extension": ".jl",
   "mimetype": "application/julia",
   "name": "julia",
   "version": "1.7.1"
  },
  "orig_nbformat": 4,
  "vscode": {
   "interpreter": {
    "hash": "38cca0c38332a56087b24af0bc80247f4fced29cb4f7f437d91dc159adec9c4e"
   }
  }
 },
 "nbformat": 4,
 "nbformat_minor": 2
}
