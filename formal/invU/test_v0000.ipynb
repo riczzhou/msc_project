{
 "cells": [
  {
   "cell_type": "code",
   "execution_count": 4,
   "metadata": {},
   "outputs": [
    {
     "name": "stdout",
     "output_type": "stream",
     "text": [
      "\u001b[32m\u001b[1m      Status\u001b[22m\u001b[39m `~/.julia/environments/v1.7/Project.toml`\n",
      " \u001b[90m [aae01518] \u001b[39mBandedMatrices v0.17.0\n",
      " \u001b[90m [6e4b80f9] \u001b[39mBenchmarkTools v1.3.1\n",
      " \u001b[90m [8e7c35d0] \u001b[39mBlockArrays v0.16.18\n",
      " \u001b[90m [336ed68f] \u001b[39mCSV v0.10.4\n",
      " \u001b[90m [ce91de38] \u001b[39mColorBitstring v0.1.1\n",
      " \u001b[90m [a93c6f00] \u001b[39mDataFrames v1.3.4\n",
      " \u001b[90m [7073ff75] \u001b[39mIJulia v1.23.3\n",
      " \u001b[90m [b964fa9f] \u001b[39mLaTeXStrings v1.3.0\n",
      " \u001b[90m [5078a376] \u001b[39mLazyArrays v0.22.10\n",
      " \u001b[90m [a3b82374] \u001b[39mMatrixFactorizations v0.9.1\n",
      " \u001b[90m [91a5bcdd] \u001b[39mPlots v1.29.0\n",
      " \u001b[90m [f27b6e38] \u001b[39mPolynomials v3.1.4\n",
      " \u001b[90m [438e738f] \u001b[39mPyCall v1.93.1\n",
      " \u001b[90m [d330b81b] \u001b[39mPyPlot v2.10.0\n",
      " \u001b[90m [295af30f] \u001b[39mRevise v3.3.3\n",
      " \u001b[90m [f8ebbe35] \u001b[39mSemiseparableMatrices v0.3.3\n",
      " \u001b[90m [3cc68bcd] \u001b[39mSetRounding v0.2.1\n",
      " \u001b[90m [24249f21] \u001b[39mSymPy v1.1.6\n",
      " \u001b[90m [ade2ca70] \u001b[39mDates\n",
      " \u001b[90m [37e2e46d] \u001b[39mLinearAlgebra\n",
      " \u001b[90m [9a3f8284] \u001b[39mRandom\n",
      " \u001b[90m [8dfed614] \u001b[39mTest\n"
     ]
    }
   ],
   "source": [
    "using Pkg\n",
    "Pkg.status()\n",
    "using SymPy\n",
    "using BenchmarkTools, LinearAlgebra, LazyArrays, BandedMatrices\n",
    "using PyPlot"
   ]
  },
  {
   "cell_type": "code",
   "execution_count": 2,
   "metadata": {},
   "outputs": [
    {
     "data": {
      "text/plain": [
       "ppl (generic function with 1 method)"
      ]
     },
     "execution_count": 2,
     "metadata": {},
     "output_type": "execute_result"
    }
   ],
   "source": [
    "function ppl(context)\n",
    "    println(sympy.latex(context))\n",
    "end"
   ]
  },
  {
   "cell_type": "code",
   "execution_count": 3,
   "metadata": {},
   "outputs": [],
   "source": [
    "xx0 = symbols(\"x_(1:6)\", real=True)\n",
    "yy0 = symbols(\"y_(1:6)\", real=True)\n",
    "uu0 = symbols(\"u_(1:6)\", real=True)\n",
    "vv0 = symbols(\"v_(1:6)\", real=True)\n",
    "pp0 = symbols(\"p_(1:6)\", real=True)\n",
    "qq0 = symbols(\"q_(1:6)\", real=True)\n",
    "xs = [i for i in xx0]\n",
    "ys = [i for i in yy0]\n",
    "us = [i for i in uu0]\n",
    "vs = [i for i in vv0]\n",
    "ps = [i for i in pp0]\n",
    "qs = [i for i in qq0]\n",
    "\n",
    "xf = rand(6)\n",
    "yf = rand(6);"
   ]
  },
  {
   "cell_type": "code",
   "execution_count": 4,
   "metadata": {},
   "outputs": [
    {
     "data": {
      "text/latex": [
       "$\\left[ \\begin{array}{rrrrr}x_{1} y_{1}&x_{1} y_{2}&x_{1} y_{3}&x_{1} y_{4}&x_{1} y_{5}\\\\x_{1} y_{2}&x_{2} y_{2}&x_{2} y_{3}&x_{2} y_{4}&x_{2} y_{5}\\\\x_{1} y_{3}&x_{2} y_{3}&x_{3} y_{3}&x_{3} y_{4}&x_{3} y_{5}\\\\x_{1} y_{4}&x_{2} y_{4}&x_{3} y_{4}&x_{4} y_{4}&x_{4} y_{5}\\\\x_{1} y_{5}&x_{2} y_{5}&x_{3} y_{5}&x_{4} y_{5}&x_{5} y_{5}\\end{array}\\right]$\n"
      ],
      "text/plain": [
       "5×5 Matrix{Sym}:\n",
       " x₁⋅y₁  x₁⋅y₂  x₁⋅y₃  x₁⋅y₄  x₁⋅y₅\n",
       " x₁⋅y₂  x₂⋅y₂  x₂⋅y₃  x₂⋅y₄  x₂⋅y₅\n",
       " x₁⋅y₃  x₂⋅y₃  x₃⋅y₃  x₃⋅y₄  x₃⋅y₅\n",
       " x₁⋅y₄  x₂⋅y₄  x₃⋅y₄  x₄⋅y₄  x₄⋅y₅\n",
       " x₁⋅y₅  x₂⋅y₅  x₃⋅y₅  x₄⋅y₅  x₅⋅y₅"
      ]
     },
     "execution_count": 4,
     "metadata": {},
     "output_type": "execute_result"
    }
   ],
   "source": [
    "Ss = triu(xs * ys', 1) + tril(ys * xs')"
   ]
  },
  {
   "cell_type": "code",
   "execution_count": 5,
   "metadata": {},
   "outputs": [
    {
     "data": {
      "text/latex": [
       "$\\left[ \\begin{array}{rrrrr}u_{1} v_{1}&u_{1} v_{2}&u_{1} v_{3}&u_{1} v_{4}&u_{1} v_{5}\\\\0&u_{2} v_{2}&u_{2} v_{3}&u_{2} v_{4}&u_{2} v_{5}\\\\0&0&u_{3} v_{3}&u_{3} v_{4}&u_{3} v_{5}\\\\0&0&0&u_{4} v_{4}&u_{4} v_{5}\\\\0&0&0&0&u_{5} v_{5}\\end{array}\\right]$\n"
      ],
      "text/plain": [
       "5×5 Matrix{Sym}:\n",
       " u₁⋅v₁  u₁⋅v₂  u₁⋅v₃  u₁⋅v₄  u₁⋅v₅\n",
       "       0  u₂⋅v₂  u₂⋅v₃  u₂⋅v₄  u₂⋅v₅\n",
       "       0        0  u₃⋅v₃  u₃⋅v₄  u₃⋅v₅\n",
       "       0        0        0  u₄⋅v₄  u₄⋅v₅\n",
       "       0        0        0        0  u₅⋅v₅"
      ]
     },
     "metadata": {},
     "output_type": "display_data"
    },
    {
     "data": {
      "text/latex": [
       "$\\left[ \\begin{array}{rrrrr}p_{1} q_{1}&0&0&0&0\\\\p_{2} q_{1}&p_{2} q_{2}&0&0&0\\\\p_{3} q_{1}&p_{3} q_{2}&p_{3} q_{3}&0&0\\\\p_{4} q_{1}&p_{4} q_{2}&p_{4} q_{3}&p_{4} q_{4}&0\\\\p_{5} q_{1}&p_{5} q_{2}&p_{5} q_{3}&p_{5} q_{4}&p_{5} q_{5}\\end{array}\\right]$\n"
      ],
      "text/plain": [
       "5×5 Matrix{Sym}:\n",
       " p₁⋅q₁        0        0        0        0\n",
       " p₂⋅q₁  p₂⋅q₂        0        0        0\n",
       " p₃⋅q₁  p₃⋅q₂  p₃⋅q₃        0        0\n",
       " p₄⋅q₁  p₄⋅q₂  p₄⋅q₃  p₄⋅q₄        0\n",
       " p₅⋅q₁  p₅⋅q₂  p₅⋅q₃  p₅⋅q₄  p₅⋅q₅"
      ]
     },
     "metadata": {},
     "output_type": "display_data"
    },
    {
     "data": {
      "text/latex": [
       "$\\left[ \\begin{array}{rrrrr}p_{1} q_{1} u_{1} v_{1} + p_{2} q_{1} u_{1} v_{2} + p_{3} q_{1} u_{1} v_{3} + p_{4} q_{1} u_{1} v_{4} + p_{5} q_{1} u_{1} v_{5}&p_{2} q_{2} u_{1} v_{2} + p_{3} q_{2} u_{1} v_{3} + p_{4} q_{2} u_{1} v_{4} + p_{5} q_{2} u_{1} v_{5}&p_{3} q_{3} u_{1} v_{3} + p_{4} q_{3} u_{1} v_{4} + p_{5} q_{3} u_{1} v_{5}&p_{4} q_{4} u_{1} v_{4} + p_{5} q_{4} u_{1} v_{5}&p_{5} q_{5} u_{1} v_{5}\\\\p_{2} q_{1} u_{2} v_{2} + p_{3} q_{1} u_{2} v_{3} + p_{4} q_{1} u_{2} v_{4} + p_{5} q_{1} u_{2} v_{5}&p_{2} q_{2} u_{2} v_{2} + p_{3} q_{2} u_{2} v_{3} + p_{4} q_{2} u_{2} v_{4} + p_{5} q_{2} u_{2} v_{5}&p_{3} q_{3} u_{2} v_{3} + p_{4} q_{3} u_{2} v_{4} + p_{5} q_{3} u_{2} v_{5}&p_{4} q_{4} u_{2} v_{4} + p_{5} q_{4} u_{2} v_{5}&p_{5} q_{5} u_{2} v_{5}\\\\p_{3} q_{1} u_{3} v_{3} + p_{4} q_{1} u_{3} v_{4} + p_{5} q_{1} u_{3} v_{5}&p_{3} q_{2} u_{3} v_{3} + p_{4} q_{2} u_{3} v_{4} + p_{5} q_{2} u_{3} v_{5}&p_{3} q_{3} u_{3} v_{3} + p_{4} q_{3} u_{3} v_{4} + p_{5} q_{3} u_{3} v_{5}&p_{4} q_{4} u_{3} v_{4} + p_{5} q_{4} u_{3} v_{5}&p_{5} q_{5} u_{3} v_{5}\\\\p_{4} q_{1} u_{4} v_{4} + p_{5} q_{1} u_{4} v_{5}&p_{4} q_{2} u_{4} v_{4} + p_{5} q_{2} u_{4} v_{5}&p_{4} q_{3} u_{4} v_{4} + p_{5} q_{3} u_{4} v_{5}&p_{4} q_{4} u_{4} v_{4} + p_{5} q_{4} u_{4} v_{5}&p_{5} q_{5} u_{4} v_{5}\\\\p_{5} q_{1} u_{5} v_{5}&p_{5} q_{2} u_{5} v_{5}&p_{5} q_{3} u_{5} v_{5}&p_{5} q_{4} u_{5} v_{5}&p_{5} q_{5} u_{5} v_{5}\\end{array}\\right]$\n"
      ],
      "text/plain": [
       "5×5 Matrix{Sym}:\n",
       " p₁⋅q₁⋅u₁⋅v₁ + p₂⋅q₁⋅u₁⋅v₂ + p₃⋅q₁⋅u₁⋅v₃ + p₄⋅q₁⋅u₁⋅v₄ + p₅⋅q₁⋅u₁⋅v₅  …  p₅⋅q₅⋅u₁⋅v₅\n",
       "                   p₂⋅q₁⋅u₂⋅v₂ + p₃⋅q₁⋅u₂⋅v₃ + p₄⋅q₁⋅u₂⋅v₄ + p₅⋅q₁⋅u₂⋅v₅     p₅⋅q₅⋅u₂⋅v₅\n",
       "                                     p₃⋅q₁⋅u₃⋅v₃ + p₄⋅q₁⋅u₃⋅v₄ + p₅⋅q₁⋅u₃⋅v₅     p₅⋅q₅⋅u₃⋅v₅\n",
       "                                                       p₄⋅q₁⋅u₄⋅v₄ + p₅⋅q₁⋅u₄⋅v₅     p₅⋅q₅⋅u₄⋅v₅\n",
       "                                                                         p₅⋅q₁⋅u₅⋅v₅     p₅⋅q₅⋅u₅⋅v₅"
      ]
     },
     "execution_count": 5,
     "metadata": {},
     "output_type": "execute_result"
    }
   ],
   "source": [
    "display(triu(us * vs'))\n",
    "display(tril(ps * qs'))\n",
    "triu(us * vs') * tril(ps * qs')"
   ]
  },
  {
   "cell_type": "code",
   "execution_count": 6,
   "metadata": {},
   "outputs": [
    {
     "data": {
      "text/latex": [
       "$\\left[ \\begin{array}{rrrrr}x_{1}^{2} y_{1}^{2} + x_{1}^{2} y_{2}^{2} + x_{1}^{2} y_{3}^{2} + x_{1}^{2} y_{4}^{2} + x_{1}^{2} y_{5}^{2}&x_{1} x_{2} y_{2}^{2} + x_{1} x_{2} y_{3}^{2} + x_{1} x_{2} y_{4}^{2} + x_{1} x_{2} y_{5}^{2}&x_{1} x_{3} y_{3}^{2} + x_{1} x_{3} y_{4}^{2} + x_{1} x_{3} y_{5}^{2}&x_{1} x_{4} y_{4}^{2} + x_{1} x_{4} y_{5}^{2}&x_{1} x_{5} y_{5}^{2}\\\\x_{1} x_{2} y_{2}^{2} + x_{1} x_{2} y_{3}^{2} + x_{1} x_{2} y_{4}^{2} + x_{1} x_{2} y_{5}^{2}&x_{2}^{2} y_{2}^{2} + x_{2}^{2} y_{3}^{2} + x_{2}^{2} y_{4}^{2} + x_{2}^{2} y_{5}^{2}&x_{2} x_{3} y_{3}^{2} + x_{2} x_{3} y_{4}^{2} + x_{2} x_{3} y_{5}^{2}&x_{2} x_{4} y_{4}^{2} + x_{2} x_{4} y_{5}^{2}&x_{2} x_{5} y_{5}^{2}\\\\x_{1} x_{3} y_{3}^{2} + x_{1} x_{3} y_{4}^{2} + x_{1} x_{3} y_{5}^{2}&x_{2} x_{3} y_{3}^{2} + x_{2} x_{3} y_{4}^{2} + x_{2} x_{3} y_{5}^{2}&x_{3}^{2} y_{3}^{2} + x_{3}^{2} y_{4}^{2} + x_{3}^{2} y_{5}^{2}&x_{3} x_{4} y_{4}^{2} + x_{3} x_{4} y_{5}^{2}&x_{3} x_{5} y_{5}^{2}\\\\x_{1} x_{4} y_{4}^{2} + x_{1} x_{4} y_{5}^{2}&x_{2} x_{4} y_{4}^{2} + x_{2} x_{4} y_{5}^{2}&x_{3} x_{4} y_{4}^{2} + x_{3} x_{4} y_{5}^{2}&x_{4}^{2} y_{4}^{2} + x_{4}^{2} y_{5}^{2}&x_{4} x_{5} y_{5}^{2}\\\\x_{1} x_{5} y_{5}^{2}&x_{2} x_{5} y_{5}^{2}&x_{3} x_{5} y_{5}^{2}&x_{4} x_{5} y_{5}^{2}&x_{5}^{2} y_{5}^{2}\\end{array}\\right]$\n"
      ],
      "text/plain": [
       "5×5 Matrix{Sym}:\n",
       " x_1^2*y_1^2 + x_1^2*y_2^2 + x_1^2*y_3^2 + x_1^2*y_4^2 + x_1^2*y_5^2  …  x_1*x_5*y_5^2\n",
       "       x_1*x_2*y_2^2 + x_1*x_2*y_3^2 + x_1*x_2*y_4^2 + x_1*x_2*y_5^2     x_2*x_5*y_5^2\n",
       "                       x_1*x_3*y_3^2 + x_1*x_3*y_4^2 + x_1*x_3*y_5^2     x_3*x_5*y_5^2\n",
       "                                       x_1*x_4*y_4^2 + x_1*x_4*y_5^2     x_4*x_5*y_5^2\n",
       "                                                       x_1*x_5*y_5^2       x_5^2*y_5^2"
      ]
     },
     "execution_count": 6,
     "metadata": {},
     "output_type": "execute_result"
    }
   ],
   "source": [
    "triu(xs * ys') * tril(ys * xs')"
   ]
  },
  {
   "cell_type": "code",
   "execution_count": 7,
   "metadata": {},
   "outputs": [
    {
     "data": {
      "text/plain": [
       "6"
      ]
     },
     "execution_count": 7,
     "metadata": {},
     "output_type": "execute_result"
    }
   ],
   "source": [
    "Sf = triu(xf * yf', 1) + tril(yf * xf')\n",
    "rank(Sf)"
   ]
  },
  {
   "cell_type": "code",
   "execution_count": 8,
   "metadata": {},
   "outputs": [
    {
     "data": {
      "text/plain": [
       "6×6 Matrix{Float64}:\n",
       "  4.82007      -3.20865       4.19526e-17  …  -9.05962e-17   2.67993e-16\n",
       " -3.20865      -0.980123      2.20869          1.61353e-18   1.81847e-17\n",
       "  3.08659e-17   2.20869      -0.00367193      -1.15888e-16   1.38312e-16\n",
       " -2.03374e-16  -1.49441e-16  -2.29194          3.70812       6.13729e-17\n",
       " -2.43071e-16   1.47952e-16   5.22825e-16      3.74044      -4.64825\n",
       "  2.85933e-16  -1.03743e-16  -1.85044e-16  …  -4.64825       5.24061"
      ]
     },
     "execution_count": 8,
     "metadata": {},
     "output_type": "execute_result"
    }
   ],
   "source": [
    "inv(Sf)"
   ]
  },
  {
   "cell_type": "code",
   "execution_count": 9,
   "metadata": {},
   "outputs": [
    {
     "data": {
      "text/plain": [
       "6×6 Tridiagonal{Float64, Vector{Float64}}:\n",
       "  4.82007  -3.20865     ⋅            ⋅          ⋅         ⋅ \n",
       " -3.20865  -0.980123   2.20869       ⋅          ⋅         ⋅ \n",
       "   ⋅        2.20869   -0.00367193  -2.29194     ⋅         ⋅ \n",
       "   ⋅         ⋅        -2.29194     -0.392611   3.70812    ⋅ \n",
       "   ⋅         ⋅          ⋅           3.70812    3.74044  -4.64825\n",
       "   ⋅         ⋅          ⋅            ⋅        -4.64825   5.24061"
      ]
     },
     "execution_count": 9,
     "metadata": {},
     "output_type": "execute_result"
    }
   ],
   "source": [
    "Tridiagonal(inv(Sf))"
   ]
  },
  {
   "cell_type": "code",
   "execution_count": 10,
   "metadata": {},
   "outputs": [
    {
     "data": {
      "text/plain": [
       "false"
      ]
     },
     "execution_count": 10,
     "metadata": {},
     "output_type": "execute_result"
    }
   ],
   "source": [
    "isposdef(Tridiagonal(inv(Sf)))"
   ]
  },
  {
   "cell_type": "code",
   "execution_count": 11,
   "metadata": {},
   "outputs": [
    {
     "data": {
      "text/plain": [
       "true"
      ]
     },
     "execution_count": 11,
     "metadata": {},
     "output_type": "execute_result"
    }
   ],
   "source": [
    "n = 6\n",
    "A = Tridiagonal(rand(n,n))\n",
    "T = Matrix(A + A' + 100*I)\n",
    "isposdef(T)\n",
    "C = cholesky(T)\n",
    "L = C.L\n",
    "U = C.U\n",
    "L * L' ≈ T\n",
    "U' * U ≈ T"
   ]
  },
  {
   "cell_type": "code",
   "execution_count": 12,
   "metadata": {},
   "outputs": [
    {
     "data": {
      "text/plain": [
       "invBidiagUxy (generic function with 1 method)"
      ]
     },
     "execution_count": 12,
     "metadata": {},
     "output_type": "execute_result"
    }
   ],
   "source": [
    "include(\"backsub.jl\")\n",
    "include(\"invBiU.jl\")"
   ]
  },
  {
   "cell_type": "code",
   "execution_count": 13,
   "metadata": {},
   "outputs": [
    {
     "data": {
      "text/plain": [
       "6×6 UpperTriangular{Float64, Matrix{Float64}}:\n",
       " 10.0771   0.0689894   0.0         0.0          0.0         0.0\n",
       "   ⋅      10.0008      0.0565751   0.0          0.0         0.0\n",
       "   ⋅        ⋅         10.0145      0.00692577   0.0         0.0\n",
       "   ⋅        ⋅           ⋅         10.0063       0.0944234   0.0\n",
       "   ⋅        ⋅           ⋅           ⋅          10.0127      0.0194731\n",
       "   ⋅        ⋅           ⋅           ⋅            ⋅         10.0734"
      ]
     },
     "execution_count": 13,
     "metadata": {},
     "output_type": "execute_result"
    }
   ],
   "source": [
    "U"
   ]
  },
  {
   "cell_type": "code",
   "execution_count": 14,
   "metadata": {},
   "outputs": [
    {
     "data": {
      "text/plain": [
       "6×6 Matrix{Float64}:\n",
       " 0.0992346  -0.000684559   3.86729e-6   …   2.52423e-11  -4.87964e-14\n",
       " 0.0         0.099992     -0.000564887     -3.68708e-9    7.12759e-12\n",
       " 0.0         0.0           0.0998553        6.51767e-7   -1.25995e-9\n",
       " 0.0         0.0           0.0             -0.00094244    1.82185e-6\n",
       " 0.0         0.0           0.0              0.0998728    -0.000193067\n",
       " 0.0         0.0           0.0          …   0.0           0.0992717"
      ]
     },
     "execution_count": 14,
     "metadata": {},
     "output_type": "execute_result"
    }
   ],
   "source": [
    "Uinv, xU, yU = invBidiagUxy(U)\n",
    "Uinv * U ≈ I\n",
    "Uinv"
   ]
  },
  {
   "cell_type": "code",
   "execution_count": 15,
   "metadata": {},
   "outputs": [
    {
     "data": {
      "text/plain": [
       "6×6 LowerTriangular{Float64, Matrix{Float64}}:\n",
       " 10.0771       ⋅           ⋅            ⋅           ⋅           ⋅ \n",
       "  0.0689894  10.0008       ⋅            ⋅           ⋅           ⋅ \n",
       "  0.0         0.0565751  10.0145        ⋅           ⋅           ⋅ \n",
       "  0.0         0.0         0.00692577  10.0063       ⋅           ⋅ \n",
       "  0.0         0.0         0.0          0.0944234  10.0127       ⋅ \n",
       "  0.0         0.0         0.0          0.0         0.0194731  10.0734"
      ]
     },
     "execution_count": 15,
     "metadata": {},
     "output_type": "execute_result"
    }
   ],
   "source": [
    "L"
   ]
  },
  {
   "cell_type": "code",
   "execution_count": 16,
   "metadata": {},
   "outputs": [
    {
     "data": {
      "text/plain": [
       "6×6 adjoint(::Matrix{Float64}) with eltype Float64:\n",
       "  0.0992346     0.0           0.0         …   0.0          0.0\n",
       " -0.000684559   0.099992      0.0             0.0          0.0\n",
       "  3.86729e-6   -0.000564887   0.0998553       0.0          0.0\n",
       " -2.67671e-9    3.90981e-7   -6.91139e-5      0.0          0.0\n",
       "  2.52423e-11  -3.68708e-9    6.51767e-7      0.0998728    0.0\n",
       " -4.87964e-14   7.12759e-12  -1.25995e-9  …  -0.000193067  0.0992717"
      ]
     },
     "execution_count": 16,
     "metadata": {},
     "output_type": "execute_result"
    }
   ],
   "source": [
    "Linv0, xL, yL = invBidiagUxy(L')\n",
    "Linv = Linv0'\n",
    "Linv * L ≈ I\n",
    "Linv"
   ]
  },
  {
   "cell_type": "code",
   "execution_count": 17,
   "metadata": {},
   "outputs": [],
   "source": [
    "# S = triu(xU * yU', 1) + tril(yL * xL')"
   ]
  },
  {
   "cell_type": "code",
   "execution_count": 18,
   "metadata": {},
   "outputs": [
    {
     "data": {
      "text/plain": [
       "true"
      ]
     },
     "execution_count": 18,
     "metadata": {},
     "output_type": "execute_result"
    }
   ],
   "source": [
    "xL == xU\n",
    "yL == yU"
   ]
  },
  {
   "cell_type": "code",
   "execution_count": 19,
   "metadata": {},
   "outputs": [
    {
     "data": {
      "text/plain": [
       "6×6 Matrix{Float64}:\n",
       "  0.00984798   -6.84526e-5    3.8617e-7    …   2.52102e-12  -4.8441e-15\n",
       " -6.84526e-5    0.00999871   -5.6407e-5       -3.68241e-10   7.07568e-13\n",
       "  3.8617e-7    -5.6407e-5     0.00997108       6.5094e-8    -1.25077e-10\n",
       " -2.67527e-10   3.9077e-8    -6.90766e-6      -9.41244e-5    1.80858e-7\n",
       "  2.52102e-12  -3.68241e-10   6.5094e-8        0.00997461   -1.9166e-5\n",
       " -4.8441e-15    7.07568e-13  -1.25077e-10  …  -1.9166e-5     0.00985487"
      ]
     },
     "execution_count": 19,
     "metadata": {},
     "output_type": "execute_result"
    }
   ],
   "source": [
    "Tinv = Uinv * Linv\n",
    "# Tinv ≈ triu(xU * yU') * tril(yL * xL')\n",
    "# Tinv - Tinv'"
   ]
  },
  {
   "cell_type": "code",
   "execution_count": 20,
   "metadata": {},
   "outputs": [
    {
     "data": {
      "text/plain": [
       "6×6 Matrix{Float64}:\n",
       " 0.0           0.0           0.0           5.16988e-26  0.0          0.0\n",
       " 0.0          -1.73472e-18   0.0          -6.61744e-24  0.0          0.0\n",
       " 0.0           0.0          -1.73472e-18   0.0          1.32349e-23  0.0\n",
       " 5.16988e-26  -6.61744e-24   0.0          -1.73472e-18  0.0          0.0\n",
       " 0.0           0.0           1.32349e-23   0.0          0.0          0.0\n",
       " 0.0           0.0           0.0           0.0          0.0          0.0"
      ]
     },
     "execution_count": 20,
     "metadata": {},
     "output_type": "execute_result"
    }
   ],
   "source": [
    "function getCoef(u, v)\n",
    "    T = eltype(u)\n",
    "    n = length(u)\n",
    "    coef = zeros(T, n)\n",
    "    coef[n] = u[n]*v[n]\n",
    "    for i in n-1:-1:1\n",
    "        coef[i] = coef[i+1] + u[i]*v[i]\n",
    "    end\n",
    "    coef\n",
    "    # println(coef[1] - u'*v)\n",
    "end\n",
    "\n",
    "function onepairsym(x, y)\n",
    "    p = x\n",
    "    q = x .* getCoef(y,y)\n",
    "    (p, q)\n",
    "end\n",
    "\n",
    "function getSSsym(p, q)\n",
    "    triu(p * q') + tril(q * p', -1)\n",
    "    triu(p * q', 1) + tril(q * p')\n",
    "end\n",
    "\n",
    "# getCoef(uuu, vvv)\n",
    "p,q = onepairsym(xU, yU)\n",
    "\n",
    "getSSsym(p,q) - Tinv"
   ]
  },
  {
   "cell_type": "code",
   "execution_count": 21,
   "metadata": {},
   "outputs": [
    {
     "data": {
      "text/plain": [
       "6.509401891585355e-8"
      ]
     },
     "metadata": {},
     "output_type": "display_data"
    },
    {
     "data": {
      "text/plain": [
       "6.509401891585355e-8"
      ]
     },
     "metadata": {},
     "output_type": "display_data"
    },
    {
     "data": {
      "text/plain": [
       "testf22 (generic function with 1 method)"
      ]
     },
     "execution_count": 21,
     "metadata": {},
     "output_type": "execute_result"
    }
   ],
   "source": [
    "function testf1(x, y, i, j, n)\n",
    "    if i <= j\n",
    "        s = y[j].^2\n",
    "        for k in j+1:n\n",
    "            s += y[k].^2\n",
    "        end\n",
    "    else\n",
    "        s = y[i].^2\n",
    "        for k in i+1:n\n",
    "            s += y[k].^2\n",
    "        end\n",
    "    end\n",
    "    x[i]*x[j]*s\n",
    "end\n",
    "function testf11(x, y, i, j, n)\n",
    "    k = max(i, j)\n",
    "    x[i]*x[j] * (y[k:n])'*y[k:n]\n",
    "end\n",
    "i, j = 3, 5\n",
    "display(Tinv[i,j])\n",
    "display(testf11(xU, yU, i, j, n))\n",
    "\n",
    "\n",
    "function testf2(u, v, p, q, i, j, n)\n",
    "    if i <= j\n",
    "        s = p[j] * v[j]\n",
    "        for k in j+1:n\n",
    "            s += p[k] * v[k]\n",
    "        end\n",
    "    else\n",
    "        s = p[i] * v[i]\n",
    "        for k in i+1:n\n",
    "            s += p[k] * v[k]\n",
    "        end\n",
    "    end\n",
    "    q[j]*u[i]*s\n",
    "end\n",
    "\n",
    "function testf22(u, v, p, q, i, j, n)\n",
    "    k = max(i, j)\n",
    "    q[j]*u[i] * (p[k:n])'*v[k:n]\n",
    "end"
   ]
  },
  {
   "cell_type": "code",
   "execution_count": 22,
   "metadata": {},
   "outputs": [
    {
     "name": "stdout",
     "output_type": "stream",
     "text": [
      "true\n",
      "true\n",
      "true\n",
      "true\n",
      "true\n",
      "true\n",
      "true\n",
      "true\n",
      "true\n",
      "true\n",
      "true\n",
      "true\n",
      "true\n",
      "true\n",
      "true\n",
      "true\n",
      "true\n",
      "true\n",
      "true\n",
      "true\n",
      "true\n",
      "true\n",
      "true\n",
      "true\n",
      "true\n",
      "true\n",
      "true\n",
      "true\n",
      "true\n",
      "true\n",
      "true\n",
      "true\n",
      "true\n",
      "true\n",
      "true\n",
      "true\n"
     ]
    }
   ],
   "source": [
    "uuu = rand(n)\n",
    "vvv = rand(n)\n",
    "ppp = rand(n)\n",
    "qqq = rand(n)\n",
    "AAA = triu(uuu * vvv') * tril(ppp * qqq')\n",
    "\n",
    "\n",
    "for i in 1:n\n",
    "    for j in 1:n\n",
    "        println(Tinv[i,j] ≈ testf11(xU, yU, i, j, n))\n",
    "        # println(AAA[i,j] ≈ testf22(uuu, vvv, ppp, qqq, i, j, n))\n",
    "    end\n",
    "end\n"
   ]
  },
  {
   "cell_type": "code",
   "execution_count": 23,
   "metadata": {},
   "outputs": [
    {
     "data": {
      "text/plain": [
       "6×6 Matrix{Float64}:\n",
       " 0.0  0.0  0.0  0.0  0.0  0.0\n",
       " 0.0  0.0  0.0  0.0  0.0  0.0\n",
       " 0.0  0.0  0.0  0.0  0.0  0.0\n",
       " 0.0  0.0  0.0  0.0  0.0  0.0\n",
       " 0.0  0.0  0.0  0.0  0.0  0.0\n",
       " 0.0  0.0  0.0  0.0  0.0  0.0"
      ]
     },
     "execution_count": 23,
     "metadata": {},
     "output_type": "execute_result"
    }
   ],
   "source": [
    "function generateSymSS(x, y)\n",
    "    # tril(ỹ * x̃') + triu(x̃ * ỹ', 1)\n",
    "    T = eltype(x)\n",
    "    n = length(x)\n",
    "    SS = zeros(T, n, n)\n",
    "    for i in 1:n\n",
    "        for j in 1:n\n",
    "            if i <= j\n",
    "                SS[i,j] = y[j]*x[i]\n",
    "            else\n",
    "                SS[i,j] = y[i]*x[j]\n",
    "            end\n",
    "        end\n",
    "    end\n",
    "    SS\n",
    "end\n",
    "\n",
    "xx = rand(6)\n",
    "yy = rand(6)\n",
    "\n",
    "generateSymSS(xx,yy) - triu(xx * yy', 1) - tril(yy * xx')"
   ]
  },
  {
   "cell_type": "code",
   "execution_count": 24,
   "metadata": {},
   "outputs": [
    {
     "name": "stdout",
     "output_type": "stream",
     "text": [
      "  69.757 ns (1 allocation: 368 bytes)\n",
      "  281.827 ns (7 allocations: 1.83 KiB)\n"
     ]
    }
   ],
   "source": [
    "@btime generateSymSS(xx,yy);\n",
    "@btime triu(xx * yy', 1) + tril(yy * xx');"
   ]
  },
  {
   "cell_type": "code",
   "execution_count": null,
   "metadata": {},
   "outputs": [],
   "source": []
  },
  {
   "cell_type": "code",
   "execution_count": 77,
   "metadata": {},
   "outputs": [
    {
     "data": {
      "text/plain": [
       "9×9 Matrix{Int64}:\n",
       "  4  -1   0  -1   0   0   0   0   0\n",
       " -1   4  -1   0  -1   0   0   0   0\n",
       "  0  -1   4   0   0  -1   0   0   0\n",
       " -1   0   0   4  -1   0  -1   0   0\n",
       "  0  -1   0  -1   4  -1   0  -1   0\n",
       "  0   0  -1   0  -1   4   0   0  -1\n",
       "  0   0   0  -1   0   0   4  -1   0\n",
       "  0   0   0   0  -1   0  -1   4  -1\n",
       "  0   0   0   0   0  -1   0  -1   4"
      ]
     },
     "execution_count": 77,
     "metadata": {},
     "output_type": "execute_result"
    }
   ],
   "source": [
    "m = 3\n",
    "TTT = Tridiagonal(rand(m,m))\n",
    "\n",
    "\n",
    "TTT = [-2 1 0; 1 -2 1; 0 1 -2]\n",
    "III = -one(TTT)\n",
    "\n",
    "kron(TTT, III) + kron(III, TTT)"
   ]
  },
  {
   "cell_type": "code",
   "execution_count": 141,
   "metadata": {},
   "outputs": [
    {
     "data": {
      "image/png": "[encoded data removed]",
      "text/plain": [
       "Figure(PyObject <Figure size 640x480 with 1 Axes>)"
      ]
     },
     "metadata": {},
     "output_type": "display_data"
    },
    {
     "data": {
      "text/plain": [
       "1-element Vector{PyCall.PyObject}:\n",
       " PyObject <matplotlib.lines.Line2D object at 0x2f7495b50>"
      ]
     },
     "execution_count": 141,
     "metadata": {},
     "output_type": "execute_result"
    }
   ],
   "source": [
    "plot(1:100, (rand(100, 100) + 100I) \\ one(rand(100,100))[:,end])"
   ]
  },
  {
   "cell_type": "code",
   "execution_count": 134,
   "metadata": {},
   "outputs": [
    {
     "data": {
      "text/plain": [
       "100-element Vector{Float64}:\n",
       "  0.0016734284938963496\n",
       " -0.004873412282240887\n",
       "  0.00024399063527789854\n",
       " -0.0011088442280594282\n",
       " -6.882105463369413e-5\n",
       " -0.002169293622009982\n",
       "  2.9158319279035872e-5\n",
       "  0.0002722436206289816\n",
       "  0.0046906055756326505\n",
       " -0.0019706800448094546\n",
       " -0.001896629749874448\n",
       " -7.653066781027511e-5\n",
       "  0.00410928272366268\n",
       "  ⋮\n",
       " -0.001981282044651007\n",
       " -0.0011614158000633772\n",
       "  0.00328190852293823\n",
       "  0.004143020340141302\n",
       " -0.003832874777589152\n",
       " -0.00025752999298743647\n",
       " -0.0035476289119486704\n",
       "  0.0037032158041894504\n",
       "  0.00022916567750522014\n",
       " -0.0011052897890164526\n",
       " -0.0034341143466252045\n",
       "  0.0963370982165279"
      ]
     },
     "execution_count": 134,
     "metadata": {},
     "output_type": "execute_result"
    }
   ],
   "source": [
    "(rand(100, 100) + 1I) \\ one(rand(100,100))[:,end]"
   ]
  },
  {
   "cell_type": "code",
   "execution_count": 198,
   "metadata": {},
   "outputs": [
    {
     "data": {
      "text/plain": [
       "invBlockBiU (generic function with 1 method)"
      ]
     },
     "execution_count": 198,
     "metadata": {},
     "output_type": "execute_result"
    }
   ],
   "source": [
    "\n",
    "function invR(A)\n",
    "    if size(A)[1] != size(A)[2]\n",
    "        return A' * inv(A * A')\n",
    "    else\n",
    "        return inv(A)\n",
    "    end\n",
    "end\n",
    "function invL(A)\n",
    "    if size(A)[1] != size(A)[2]\n",
    "        return inv(A' * A) * A'\n",
    "    else\n",
    "        return inv(A)\n",
    "    end\n",
    "end\n",
    "\n",
    "function invBlockBiU(U, bw) # have problem\n",
    "    n = size(U)[2]\n",
    "    r = rem(n, bw)\n",
    "    T = eltype(U)\n",
    "    E_k = zeros(T, n, bw)\n",
    "    E_k[n-bw+1:n, :] = one(U[n-bw+1:n, n-bw+1:n])\n",
    "    # X = qr(U) \\ E_k\n",
    "    # if typeof(U) == BandedMatrix\n",
    "        X = qr(U) \\ E_k\n",
    "    #     print(11111111111111111)\n",
    "    # else\n",
    "        # X = U \\ E_k\n",
    "    Yt = zeros(T, bw, n)\n",
    "    for i in n : -bw : r+bw\n",
    "        Di = U[i-bw+1:i, i-bw+1:i]\n",
    "        Xi = X[i-bw+1:i, :]\n",
    "        # if typeof(U) == BandedMatrix\n",
    "            Yti = qr(Di * Xi) \\ I\n",
    "        # else\n",
    "            # Yti = inv(Di * Xi)\n",
    "            \n",
    "        # Yti = qr(Di * Xi) \\ I\n",
    "        # Yti = inv(Di * Xi)\n",
    "        Yt[:, i-bw+1:i] = Yti\n",
    "    end\n",
    "    D0 = U[1:r, 1:r]\n",
    "    # D0inv = qr(D0) \\ I\n",
    "    X0 = X[1:r, :]\n",
    "    Yt0 = invR(D0 * X0)\n",
    "    Yt[:, 1:r] = Yt0\n",
    "    Uinv = triu(X * Yt)\n",
    "    Uinv\n",
    "end\n"
   ]
  },
  {
   "cell_type": "code",
   "execution_count": 206,
   "metadata": {},
   "outputs": [
    {
     "data": {
      "text/plain": [
       "BandedMatrix{BigFloat, Matrix{BigFloat}, Base.OneTo{Int64}}"
      ]
     },
     "metadata": {},
     "output_type": "display_data"
    },
    {
     "data": {
      "text/plain": [
       "false"
      ]
     },
     "metadata": {},
     "output_type": "display_data"
    },
    {
     "data": {
      "text/plain": [
       "6.52160475290256761666715646758864085342787655731736573052000100001317459915963e-15"
      ]
     },
     "execution_count": 206,
     "metadata": {},
     "output_type": "execute_result"
    }
   ],
   "source": [
    "include(\"genTestMat.jl\")\n",
    "\n",
    "n = 1000\n",
    "bw = 2\n",
    "U = generateTestTriangular(n, bw, BandedMatrix, BigFloat)\n",
    "\n",
    "# U = generateTestTriangular(n, bw, UpperTriangular, BigFloat)\n",
    "# U = generateTestTriangular(n, bw, Matrix, BigFloat)\n",
    "# U = generateTestTriangular(n, bw, Bidiagonal, BigFloat)\n",
    "# Bidiagonal\n",
    "# display(U)\n",
    "display(typeof(U))\n",
    "# U = generateTestTriangular(n, bw, Bidiagonal, Float64)\n",
    "# U = generateTestTriangular(n, bw, BandedMatrix, Float64)\n",
    "\n",
    "\n",
    "Uinv = invBlockBiU(U, bw)\n",
    "II = U * Uinv\n",
    "# display(II)\n",
    "display(II ≈ I)\n",
    "norm(II - I)\n",
    "\n",
    "# invBidiagU(U)"
   ]
  },
  {
   "cell_type": "code",
   "execution_count": 197,
   "metadata": {},
   "outputs": [
    {
     "data": {
      "text/plain": [
       "10×10 Matrix{BigFloat}:\n",
       " 1.0  4.17612e-06  -8.10128e-07  0.0          …   0.0          0.0\n",
       " 0.0  1.00492      -0.00140571   7.35062e-06      0.0          0.0\n",
       " 0.0  0.0           1.00032      3.95996e-06      0.0          0.0\n",
       " 0.0  0.0           0.0          1.00002          0.0          0.0\n",
       " 0.0  0.0           0.0          0.0              3.00249e-07  0.0\n",
       " 0.0  0.0           0.0          0.0          …  -1.45409e-07  0.0\n",
       " 0.0  0.0           0.0          0.0              1.76355e-06  0.0\n",
       " 0.0  0.0           0.0          0.0             -0.00219096   6.44986e-06\n",
       " 0.0  0.0           0.0          0.0              0.998953     1.43187e-06\n",
       " 0.0  0.0           0.0          0.0              0.0          1.0"
      ]
     },
     "execution_count": 197,
     "metadata": {},
     "output_type": "execute_result"
    }
   ],
   "source": [
    "x = rand(n)\n",
    "\n",
    "b = U * x\n",
    "\n",
    "x1 = Uinv * b\n",
    "norm(x - x1)\n",
    "\n",
    "\n",
    "II[1:10, 1:10]"
   ]
  },
  {
   "cell_type": "code",
   "execution_count": 190,
   "metadata": {},
   "outputs": [
    {
     "data": {
      "image/png": "[encoded data removed]",
      "text/plain": [
       "Figure(PyObject <Figure size 640x480 with 1 Axes>)"
      ]
     },
     "metadata": {},
     "output_type": "display_data"
    },
    {
     "data": {
      "text/plain": [
       "PyObject <matplotlib.image.AxesImage object at 0x3b3a6ca30>"
      ]
     },
     "execution_count": 190,
     "metadata": {},
     "output_type": "execute_result"
    }
   ],
   "source": [
    "spy(II)"
   ]
  },
  {
   "cell_type": "code",
   "execution_count": 191,
   "metadata": {},
   "outputs": [
    {
     "data": {
      "text/plain": [
       "1000×1000 Matrix{BigFloat}:\n",
       " 1.0  4.17612e-06  -8.10128e-07  …  0.0  0.0  0.0  0.0  0.0  0.0  0.0\n",
       " 0.0  1.00492      -0.00140571      0.0  0.0  0.0  0.0  0.0  0.0  0.0\n",
       " 0.0  0.0           1.00032         0.0  0.0  0.0  0.0  0.0  0.0  0.0\n",
       " 0.0  0.0           0.0             0.0  0.0  0.0  0.0  0.0  0.0  0.0\n",
       " 0.0  0.0           0.0             0.0  0.0  0.0  0.0  0.0  0.0  0.0\n",
       " 0.0  0.0           0.0          …  0.0  0.0  0.0  0.0  0.0  0.0  0.0\n",
       " 0.0  0.0           0.0             0.0  0.0  0.0  0.0  0.0  0.0  0.0\n",
       " 0.0  0.0           0.0             0.0  0.0  0.0  0.0  0.0  0.0  0.0\n",
       " 0.0  0.0           0.0             0.0  0.0  0.0  0.0  0.0  0.0  0.0\n",
       " 0.0  0.0           0.0             0.0  0.0  0.0  0.0  0.0  0.0  0.0\n",
       " 0.0  0.0           0.0          …  0.0  0.0  0.0  0.0  0.0  0.0  0.0\n",
       " 0.0  0.0           0.0             0.0  0.0  0.0  0.0  0.0  0.0  0.0\n",
       " 0.0  0.0           0.0             0.0  0.0  0.0  0.0  0.0  0.0  0.0\n",
       " ⋮                               ⋱            ⋮                   \n",
       " 0.0  0.0           0.0             0.0  0.0  0.0  0.0  0.0  0.0  0.0\n",
       " 0.0  0.0           0.0             0.0  0.0  0.0  0.0  0.0  0.0  0.0\n",
       " 0.0  0.0           0.0          …  0.0  0.0  0.0  0.0  0.0  0.0  0.0\n",
       " 0.0  0.0           0.0             0.0  0.0  0.0  0.0  0.0  0.0  0.0\n",
       " 0.0  0.0           0.0             0.0  0.0  0.0  0.0  0.0  0.0  0.0\n",
       " 0.0  0.0           0.0             1.0  0.0  0.0  0.0  0.0  0.0  0.0\n",
       " 0.0  0.0           0.0             0.0  1.0  0.0  0.0  0.0  0.0  0.0\n",
       " 0.0  0.0           0.0          …  0.0  0.0  1.0  0.0  0.0  0.0  0.0\n",
       " 0.0  0.0           0.0             0.0  0.0  0.0  1.0  0.0  0.0  0.0\n",
       " 0.0  0.0           0.0             0.0  0.0  0.0  0.0  1.0  0.0  0.0\n",
       " 0.0  0.0           0.0             0.0  0.0  0.0  0.0  0.0  1.0  0.0\n",
       " 0.0  0.0           0.0             0.0  0.0  0.0  0.0  0.0  0.0  1.0"
      ]
     },
     "execution_count": 191,
     "metadata": {},
     "output_type": "execute_result"
    }
   ],
   "source": [
    "map!(x -> isapprox(x, 0, atol=1e-8) ? 0 : x, II, II)"
   ]
  },
  {
   "cell_type": "code",
   "execution_count": 192,
   "metadata": {},
   "outputs": [
    {
     "data": {
      "image/png": "[encoded data removed]",
      "text/plain": [
       "Figure(PyObject <Figure size 640x480 with 1 Axes>)"
      ]
     },
     "metadata": {},
     "output_type": "display_data"
    },
    {
     "data": {
      "text/plain": [
       "PyObject <matplotlib.image.AxesImage object at 0x3af001c10>"
      ]
     },
     "execution_count": 192,
     "metadata": {},
     "output_type": "execute_result"
    }
   ],
   "source": [
    "spy(II)"
   ]
  },
  {
   "cell_type": "code",
   "execution_count": 193,
   "metadata": {},
   "outputs": [
    {
     "data": {
      "image/png": "[encoded data removed]",
      "text/plain": [
       "Figure(PyObject <Figure size 640x480 with 1 Axes>)"
      ]
     },
     "metadata": {},
     "output_type": "display_data"
    },
    {
     "data": {
      "text/plain": [
       "PyObject <matplotlib.image.AxesImage object at 0x3b037e670>"
      ]
     },
     "execution_count": 193,
     "metadata": {},
     "output_type": "execute_result"
    }
   ],
   "source": [
    "spy(II[1:200, 1:200])"
   ]
  },
  {
   "cell_type": "code",
   "execution_count": 14,
   "metadata": {},
   "outputs": [
    {
     "data": {
      "text/plain": [
       "100×100 Tridiagonal{Float64, Vector{Float64}}:\n",
       "  4.0  -1.0    ⋅     ⋅     ⋅     ⋅   …    ⋅     ⋅     ⋅     ⋅     ⋅     ⋅ \n",
       " -1.0   4.0  -1.0    ⋅     ⋅     ⋅        ⋅     ⋅     ⋅     ⋅     ⋅     ⋅ \n",
       "   ⋅   -1.0   4.0  -1.0    ⋅     ⋅        ⋅     ⋅     ⋅     ⋅     ⋅     ⋅ \n",
       "   ⋅     ⋅   -1.0   4.0  -1.0    ⋅        ⋅     ⋅     ⋅     ⋅     ⋅     ⋅ \n",
       "   ⋅     ⋅     ⋅   -1.0   4.0  -1.0       ⋅     ⋅     ⋅     ⋅     ⋅     ⋅ \n",
       "   ⋅     ⋅     ⋅     ⋅   -1.0   4.0  …    ⋅     ⋅     ⋅     ⋅     ⋅     ⋅ \n",
       "   ⋅     ⋅     ⋅     ⋅     ⋅   -1.0       ⋅     ⋅     ⋅     ⋅     ⋅     ⋅ \n",
       "   ⋅     ⋅     ⋅     ⋅     ⋅     ⋅        ⋅     ⋅     ⋅     ⋅     ⋅     ⋅ \n",
       "   ⋅     ⋅     ⋅     ⋅     ⋅     ⋅        ⋅     ⋅     ⋅     ⋅     ⋅     ⋅ \n",
       "   ⋅     ⋅     ⋅     ⋅     ⋅     ⋅        ⋅     ⋅     ⋅     ⋅     ⋅     ⋅ \n",
       "   ⋅     ⋅     ⋅     ⋅     ⋅     ⋅   …    ⋅     ⋅     ⋅     ⋅     ⋅     ⋅ \n",
       "   ⋅     ⋅     ⋅     ⋅     ⋅     ⋅        ⋅     ⋅     ⋅     ⋅     ⋅     ⋅ \n",
       "   ⋅     ⋅     ⋅     ⋅     ⋅     ⋅        ⋅     ⋅     ⋅     ⋅     ⋅     ⋅ \n",
       "  ⋮                             ⋮    ⋱         ⋮                      \n",
       "   ⋅     ⋅     ⋅     ⋅     ⋅     ⋅        ⋅     ⋅     ⋅     ⋅     ⋅     ⋅ \n",
       "   ⋅     ⋅     ⋅     ⋅     ⋅     ⋅        ⋅     ⋅     ⋅     ⋅     ⋅     ⋅ \n",
       "   ⋅     ⋅     ⋅     ⋅     ⋅     ⋅   …    ⋅     ⋅     ⋅     ⋅     ⋅     ⋅ \n",
       "   ⋅     ⋅     ⋅     ⋅     ⋅     ⋅        ⋅     ⋅     ⋅     ⋅     ⋅     ⋅ \n",
       "   ⋅     ⋅     ⋅     ⋅     ⋅     ⋅        ⋅     ⋅     ⋅     ⋅     ⋅     ⋅ \n",
       "   ⋅     ⋅     ⋅     ⋅     ⋅     ⋅      -1.0    ⋅     ⋅     ⋅     ⋅     ⋅ \n",
       "   ⋅     ⋅     ⋅     ⋅     ⋅     ⋅       4.0  -1.0    ⋅     ⋅     ⋅     ⋅ \n",
       "   ⋅     ⋅     ⋅     ⋅     ⋅     ⋅   …  -1.0   4.0  -1.0    ⋅     ⋅     ⋅ \n",
       "   ⋅     ⋅     ⋅     ⋅     ⋅     ⋅        ⋅   -1.0   4.0  -1.0    ⋅     ⋅ \n",
       "   ⋅     ⋅     ⋅     ⋅     ⋅     ⋅        ⋅     ⋅   -1.0   4.0  -1.0    ⋅ \n",
       "   ⋅     ⋅     ⋅     ⋅     ⋅     ⋅        ⋅     ⋅     ⋅   -1.0   4.0  -1.0\n",
       "   ⋅     ⋅     ⋅     ⋅     ⋅     ⋅        ⋅     ⋅     ⋅     ⋅   -1.0   4.0"
      ]
     },
     "metadata": {},
     "output_type": "display_data"
    },
    {
     "data": {
      "text/plain": [
       "100×100 UpperTriangular{Float64, Matrix{Float64}}:\n",
       " 2.0  -0.5       0.0        0.0       …   0.0        0.0        0.0\n",
       "  ⋅    1.93649  -0.516398   0.0           0.0        0.0        0.0\n",
       "  ⋅     ⋅        1.93218   -0.517549      0.0        0.0        0.0\n",
       "  ⋅     ⋅         ⋅         1.93188       0.0        0.0        0.0\n",
       "  ⋅     ⋅         ⋅          ⋅            0.0        0.0        0.0\n",
       "  ⋅     ⋅         ⋅          ⋅        …   0.0        0.0        0.0\n",
       "  ⋅     ⋅         ⋅          ⋅            0.0        0.0        0.0\n",
       "  ⋅     ⋅         ⋅          ⋅            0.0        0.0        0.0\n",
       "  ⋅     ⋅         ⋅          ⋅            0.0        0.0        0.0\n",
       "  ⋅     ⋅         ⋅          ⋅            0.0        0.0        0.0\n",
       "  ⋅     ⋅         ⋅          ⋅        …   0.0        0.0        0.0\n",
       "  ⋅     ⋅         ⋅          ⋅            0.0        0.0        0.0\n",
       "  ⋅     ⋅         ⋅          ⋅            0.0        0.0        0.0\n",
       " ⋮                                    ⋱                        \n",
       "  ⋅     ⋅         ⋅          ⋅            0.0        0.0        0.0\n",
       "  ⋅     ⋅         ⋅          ⋅            0.0        0.0        0.0\n",
       "  ⋅     ⋅         ⋅          ⋅        …   0.0        0.0        0.0\n",
       "  ⋅     ⋅         ⋅          ⋅            0.0        0.0        0.0\n",
       "  ⋅     ⋅         ⋅          ⋅            0.0        0.0        0.0\n",
       "  ⋅     ⋅         ⋅          ⋅            0.0        0.0        0.0\n",
       "  ⋅     ⋅         ⋅          ⋅            0.0        0.0        0.0\n",
       "  ⋅     ⋅         ⋅          ⋅        …   0.0        0.0        0.0\n",
       "  ⋅     ⋅         ⋅          ⋅           -0.517638   0.0        0.0\n",
       "  ⋅     ⋅         ⋅          ⋅            1.93185   -0.517638   0.0\n",
       "  ⋅     ⋅         ⋅          ⋅             ⋅         1.93185   -0.517638\n",
       "  ⋅     ⋅         ⋅          ⋅             ⋅          ⋅         1.93185"
      ]
     },
     "execution_count": 14,
     "metadata": {},
     "output_type": "execute_result"
    }
   ],
   "source": [
    "n = 100\n",
    "T = Tridiagonal(-ones(n-1), 4*ones(n), -ones(n-1))\n",
    "display(T)\n",
    "T = Matrix(T)\n",
    "isposdef(T)\n",
    "C = cholesky(T)\n",
    "L = C.L\n",
    "U = C.U"
   ]
  },
  {
   "cell_type": "code",
   "execution_count": 13,
   "metadata": {},
   "outputs": [
    {
     "data": {
      "text/plain": [
       "100×100 LowerTriangular{Float64, Matrix{Float64}}:\n",
       "  2.0    ⋅          ⋅          ⋅        …    ⋅          ⋅         ⋅ \n",
       " -0.5   1.93649     ⋅          ⋅             ⋅          ⋅         ⋅ \n",
       "  0.0  -0.516398   1.93218     ⋅             ⋅          ⋅         ⋅ \n",
       "  0.0   0.0       -0.517549   1.93188        ⋅          ⋅         ⋅ \n",
       "  0.0   0.0        0.0       -0.517632       ⋅          ⋅         ⋅ \n",
       "  0.0   0.0        0.0        0.0       …    ⋅          ⋅         ⋅ \n",
       "  0.0   0.0        0.0        0.0            ⋅          ⋅         ⋅ \n",
       "  0.0   0.0        0.0        0.0            ⋅          ⋅         ⋅ \n",
       "  0.0   0.0        0.0        0.0            ⋅          ⋅         ⋅ \n",
       "  0.0   0.0        0.0        0.0            ⋅          ⋅         ⋅ \n",
       "  0.0   0.0        0.0        0.0       …    ⋅          ⋅         ⋅ \n",
       "  0.0   0.0        0.0        0.0            ⋅          ⋅         ⋅ \n",
       "  0.0   0.0        0.0        0.0            ⋅          ⋅         ⋅ \n",
       "  ⋮                                     ⋱                        \n",
       "  0.0   0.0        0.0        0.0            ⋅          ⋅         ⋅ \n",
       "  0.0   0.0        0.0        0.0            ⋅          ⋅         ⋅ \n",
       "  0.0   0.0        0.0        0.0       …    ⋅          ⋅         ⋅ \n",
       "  0.0   0.0        0.0        0.0            ⋅          ⋅         ⋅ \n",
       "  0.0   0.0        0.0        0.0            ⋅          ⋅         ⋅ \n",
       "  0.0   0.0        0.0        0.0            ⋅          ⋅         ⋅ \n",
       "  0.0   0.0        0.0        0.0            ⋅          ⋅         ⋅ \n",
       "  0.0   0.0        0.0        0.0       …    ⋅          ⋅         ⋅ \n",
       "  0.0   0.0        0.0        0.0            ⋅          ⋅         ⋅ \n",
       "  0.0   0.0        0.0        0.0           1.93185     ⋅         ⋅ \n",
       "  0.0   0.0        0.0        0.0          -0.517638   1.93185    ⋅ \n",
       "  0.0   0.0        0.0        0.0           0.0       -0.517638  1.93185"
      ]
     },
     "execution_count": 13,
     "metadata": {},
     "output_type": "execute_result"
    }
   ],
   "source": [
    "L"
   ]
  },
  {
   "cell_type": "code",
   "execution_count": 11,
   "metadata": {},
   "outputs": [
    {
     "data": {
      "text/plain": [
       "10×10 UpperTriangular{Float64, Matrix{Float64}}:\n",
       " 2.0  -0.5       0.0        0.0       …   0.0        0.0        0.0\n",
       "  ⋅    1.93649  -0.516398   0.0           0.0        0.0        0.0\n",
       "  ⋅     ⋅        1.93218   -0.517549      0.0        0.0        0.0\n",
       "  ⋅     ⋅         ⋅         1.93188       0.0        0.0        0.0\n",
       "  ⋅     ⋅         ⋅          ⋅            0.0        0.0        0.0\n",
       "  ⋅     ⋅         ⋅          ⋅        …   0.0        0.0        0.0\n",
       "  ⋅     ⋅         ⋅          ⋅           -0.517638   0.0        0.0\n",
       "  ⋅     ⋅         ⋅          ⋅            1.93185   -0.517638   0.0\n",
       "  ⋅     ⋅         ⋅          ⋅             ⋅         1.93185   -0.517638\n",
       "  ⋅     ⋅         ⋅          ⋅             ⋅          ⋅         1.93185"
      ]
     },
     "execution_count": 11,
     "metadata": {},
     "output_type": "execute_result"
    }
   ],
   "source": [
    "U"
   ]
  },
  {
   "cell_type": "code",
   "execution_count": 17,
   "metadata": {},
   "outputs": [
    {
     "data": {
      "text/plain": [
       "3×3 Bidiagonal{Float64, Vector{Float64}}:\n",
       " 1.0  1.0   ⋅ \n",
       "  ⋅   1.0  1.0\n",
       "  ⋅    ⋅   1.0"
      ]
     },
     "execution_count": 17,
     "metadata": {},
     "output_type": "execute_result"
    }
   ],
   "source": [
    "Bidiagonal(ones(3), ones(2), :U)"
   ]
  },
  {
   "cell_type": "code",
   "execution_count": null,
   "metadata": {},
   "outputs": [],
   "source": []
  }
 ],
 "metadata": {
  "kernelspec": {
   "display_name": "Julia 1.7.1",
   "language": "julia",
   "name": "julia-1.7"
  },
  "language_info": {
   "file_extension": ".jl",
   "mimetype": "application/julia",
   "name": "julia",
   "version": "1.7.1"
  },
  "orig_nbformat": 4,
  "vscode": {
   "interpreter": {
    "hash": "38cca0c38332a56087b24af0bc80247f4fced29cb4f7f437d91dc159adec9c4e"
   }
  }
 },
 "nbformat": 4,
 "nbformat_minor": 2
}
