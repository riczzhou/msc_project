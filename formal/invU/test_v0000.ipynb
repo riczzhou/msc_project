{
 "cells": [
  {
   "cell_type": "code",
   "execution_count": 1,
   "metadata": {},
   "outputs": [
    {
     "name": "stdout",
     "output_type": "stream",
     "text": [
      "\u001b[32m\u001b[1m      Status\u001b[22m\u001b[39m `~/.julia/environments/v1.7/Project.toml`\n",
      " \u001b[90m [aae01518] \u001b[39mBandedMatrices v0.17.0\n",
      " \u001b[90m [6e4b80f9] \u001b[39mBenchmarkTools v1.3.1\n",
      " \u001b[90m [8e7c35d0] \u001b[39mBlockArrays v0.16.18\n",
      " \u001b[90m [ce91de38] \u001b[39mColorBitstring v0.1.1\n",
      " \u001b[90m [7073ff75] \u001b[39mIJulia v1.23.3\n",
      " \u001b[90m [5078a376] \u001b[39mLazyArrays v0.22.10\n",
      " \u001b[90m [a3b82374] \u001b[39mMatrixFactorizations v0.9.1\n",
      " \u001b[90m [91a5bcdd] \u001b[39mPlots v1.29.0\n",
      " \u001b[90m [f27b6e38] \u001b[39mPolynomials v3.1.4\n",
      " \u001b[90m [438e738f] \u001b[39mPyCall v1.93.1\n",
      " \u001b[90m [d330b81b] \u001b[39mPyPlot v2.10.0\n",
      " \u001b[90m [295af30f] \u001b[39mRevise v3.3.3\n",
      " \u001b[90m [f8ebbe35] \u001b[39mSemiseparableMatrices v0.3.3\n",
      " \u001b[90m [3cc68bcd] \u001b[39mSetRounding v0.2.1\n",
      " \u001b[90m [24249f21] \u001b[39mSymPy v1.1.6\n",
      " \u001b[90m [37e2e46d] \u001b[39mLinearAlgebra\n",
      " \u001b[90m [9a3f8284] \u001b[39mRandom\n",
      " \u001b[90m [8dfed614] \u001b[39mTest\n"
     ]
    }
   ],
   "source": [
    "using Pkg\n",
    "Pkg.status()\n",
    "using SymPy\n",
    "using BenchmarkTools, LinearAlgebra, LazyArrays, BandedMatrices"
   ]
  },
  {
   "cell_type": "code",
   "execution_count": 3,
   "metadata": {},
   "outputs": [
    {
     "data": {
      "text/plain": [
       "ppl (generic function with 1 method)"
      ]
     },
     "execution_count": 3,
     "metadata": {},
     "output_type": "execute_result"
    }
   ],
   "source": [
    "function ppl(context)\n",
    "    println(sympy.latex(context))\n",
    "end"
   ]
  },
  {
   "cell_type": "code",
   "execution_count": 15,
   "metadata": {},
   "outputs": [],
   "source": [
    "xx0 = symbols(\"x_(1:6)\", real=True)\n",
    "yy0 = symbols(\"y_(1:6)\", real=True)\n",
    "xs = [i for i in xx0]\n",
    "ys = [i for i in yy0]\n",
    "xf = rand(6)\n",
    "yf = rand(6);"
   ]
  },
  {
   "cell_type": "code",
   "execution_count": 16,
   "metadata": {},
   "outputs": [
    {
     "data": {
      "text/latex": [
       "$\\left[ \\begin{array}{rrrrr}x_{1} y_{1}&x_{1} y_{2}&x_{1} y_{3}&x_{1} y_{4}&x_{1} y_{5}\\\\x_{1} y_{2}&x_{2} y_{2}&x_{2} y_{3}&x_{2} y_{4}&x_{2} y_{5}\\\\x_{1} y_{3}&x_{2} y_{3}&x_{3} y_{3}&x_{3} y_{4}&x_{3} y_{5}\\\\x_{1} y_{4}&x_{2} y_{4}&x_{3} y_{4}&x_{4} y_{4}&x_{4} y_{5}\\\\x_{1} y_{5}&x_{2} y_{5}&x_{3} y_{5}&x_{4} y_{5}&x_{5} y_{5}\\end{array}\\right]$\n"
      ],
      "text/plain": [
       "5×5 Matrix{Sym}:\n",
       " x₁⋅y₁  x₁⋅y₂  x₁⋅y₃  x₁⋅y₄  x₁⋅y₅\n",
       " x₁⋅y₂  x₂⋅y₂  x₂⋅y₃  x₂⋅y₄  x₂⋅y₅\n",
       " x₁⋅y₃  x₂⋅y₃  x₃⋅y₃  x₃⋅y₄  x₃⋅y₅\n",
       " x₁⋅y₄  x₂⋅y₄  x₃⋅y₄  x₄⋅y₄  x₄⋅y₅\n",
       " x₁⋅y₅  x₂⋅y₅  x₃⋅y₅  x₄⋅y₅  x₅⋅y₅"
      ]
     },
     "execution_count": 16,
     "metadata": {},
     "output_type": "execute_result"
    }
   ],
   "source": [
    "Ss = triu(xs * ys', 1) + tril(ys * xs')"
   ]
  },
  {
   "cell_type": "code",
   "execution_count": 20,
   "metadata": {},
   "outputs": [
    {
     "data": {
      "text/plain": [
       "6"
      ]
     },
     "execution_count": 20,
     "metadata": {},
     "output_type": "execute_result"
    }
   ],
   "source": [
    "Sf = triu(xf * yf', 1) + tril(yf * xf')\n",
    "rank(Sf)"
   ]
  },
  {
   "cell_type": "code",
   "execution_count": 21,
   "metadata": {},
   "outputs": [
    {
     "data": {
      "text/plain": [
       "6×6 Matrix{Float64}:\n",
       " 128.155        -15.6791        2.14982e-15  …   6.67994e-15  -6.55774e-17\n",
       " -15.6791         1.29027       1.32858         -6.91199e-16   2.36326e-18\n",
       "   1.19748e-15    1.32858       0.333956        -5.92087e-16  -2.16045e-17\n",
       "  -3.56515e-15    2.69116e-16  -1.52385         -5.82871      -4.46382e-17\n",
       "   5.25333e-15   -5.19112e-16  -2.67878e-16      3.8143        3.58752\n",
       "  -1.70601e-16    2.40604e-17   2.84286e-18  …   3.58752      -0.174701"
      ]
     },
     "execution_count": 21,
     "metadata": {},
     "output_type": "execute_result"
    }
   ],
   "source": [
    "inv(Sf)"
   ]
  },
  {
   "cell_type": "code",
   "execution_count": 22,
   "metadata": {},
   "outputs": [
    {
     "data": {
      "text/plain": [
       "6×6 Tridiagonal{Float64, Vector{Float64}}:\n",
       " 128.155   -15.6791     ⋅          ⋅         ⋅         ⋅ \n",
       " -15.6791    1.29027   1.32858     ⋅         ⋅         ⋅ \n",
       "    ⋅        1.32858   0.333956  -1.52385    ⋅         ⋅ \n",
       "    ⋅         ⋅       -1.52385    5.00978  -5.82871    ⋅ \n",
       "    ⋅         ⋅         ⋅        -5.82871   3.8143    3.58752\n",
       "    ⋅         ⋅         ⋅          ⋅        3.58752  -0.174701"
      ]
     },
     "execution_count": 22,
     "metadata": {},
     "output_type": "execute_result"
    }
   ],
   "source": [
    "Tridiagonal(inv(Sf))"
   ]
  },
  {
   "cell_type": "code",
   "execution_count": 23,
   "metadata": {},
   "outputs": [
    {
     "data": {
      "text/plain": [
       "false"
      ]
     },
     "execution_count": 23,
     "metadata": {},
     "output_type": "execute_result"
    }
   ],
   "source": [
    "isposdef(Tridiagonal(inv(Sf)))"
   ]
  },
  {
   "cell_type": "code",
   "execution_count": 47,
   "metadata": {},
   "outputs": [
    {
     "data": {
      "text/plain": [
       "true"
      ]
     },
     "execution_count": 47,
     "metadata": {},
     "output_type": "execute_result"
    }
   ],
   "source": [
    "n = 6\n",
    "A = rand(n,n)\n",
    "T = A * A'\n",
    "isposdef(T)\n",
    "C = cholesky(T)\n",
    "L = C.L\n",
    "U = C.U\n",
    "L * L' ≈ T\n",
    "U' * U ≈ T"
   ]
  },
  {
   "cell_type": "code",
   "execution_count": 45,
   "metadata": {},
   "outputs": [
    {
     "data": {
      "text/plain": [
       "true"
      ]
     },
     "execution_count": 45,
     "metadata": {},
     "output_type": "execute_result"
    }
   ],
   "source": [
    "include(\"backsub.jl\")"
   ]
  },
  {
   "cell_type": "code",
   "execution_count": 44,
   "metadata": {},
   "outputs": [
    {
     "data": {
      "text/plain": [
       "true"
      ]
     },
     "execution_count": 44,
     "metadata": {},
     "output_type": "execute_result"
    }
   ],
   "source": [
    "# LU(T)\n",
    "\n"
   ]
  },
  {
   "cell_type": "code",
   "execution_count": null,
   "metadata": {},
   "outputs": [],
   "source": []
  }
 ],
 "metadata": {
  "kernelspec": {
   "display_name": "Julia 1.7.1",
   "language": "julia",
   "name": "julia-1.7"
  },
  "language_info": {
   "file_extension": ".jl",
   "mimetype": "application/julia",
   "name": "julia",
   "version": "1.7.1"
  },
  "orig_nbformat": 4,
  "vscode": {
   "interpreter": {
    "hash": "38cca0c38332a56087b24af0bc80247f4fced29cb4f7f437d91dc159adec9c4e"
   }
  }
 },
 "nbformat": 4,
 "nbformat_minor": 2
}
