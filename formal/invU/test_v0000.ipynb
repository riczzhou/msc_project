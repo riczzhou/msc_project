{
 "cells": [
  {
   "cell_type": "code",
   "execution_count": 1,
   "metadata": {},
   "outputs": [
    {
     "name": "stdout",
     "output_type": "stream",
     "text": [
      "\u001b[32m\u001b[1m      Status\u001b[22m\u001b[39m `~/.julia/environments/v1.7/Project.toml`\n",
      " \u001b[90m [aae01518] \u001b[39mBandedMatrices v0.17.0\n",
      " \u001b[90m [6e4b80f9] \u001b[39mBenchmarkTools v1.3.1\n",
      " \u001b[90m [8e7c35d0] \u001b[39mBlockArrays v0.16.18\n",
      " \u001b[90m [ce91de38] \u001b[39mColorBitstring v0.1.1\n",
      " \u001b[90m [7073ff75] \u001b[39mIJulia v1.23.3\n",
      " \u001b[90m [5078a376] \u001b[39mLazyArrays v0.22.10\n",
      " \u001b[90m [a3b82374] \u001b[39mMatrixFactorizations v0.9.1\n",
      " \u001b[90m [91a5bcdd] \u001b[39mPlots v1.29.0\n",
      " \u001b[90m [f27b6e38] \u001b[39mPolynomials v3.1.4\n",
      " \u001b[90m [438e738f] \u001b[39mPyCall v1.93.1\n",
      " \u001b[90m [d330b81b] \u001b[39mPyPlot v2.10.0\n",
      " \u001b[90m [295af30f] \u001b[39mRevise v3.3.3\n",
      " \u001b[90m [f8ebbe35] \u001b[39mSemiseparableMatrices v0.3.3\n",
      " \u001b[90m [3cc68bcd] \u001b[39mSetRounding v0.2.1\n",
      " \u001b[90m [24249f21] \u001b[39mSymPy v1.1.6\n",
      " \u001b[90m [37e2e46d] \u001b[39mLinearAlgebra\n",
      " \u001b[90m [9a3f8284] \u001b[39mRandom\n",
      " \u001b[90m [8dfed614] \u001b[39mTest\n"
     ]
    }
   ],
   "source": [
    "using Pkg\n",
    "Pkg.status()\n",
    "using SymPy\n",
    "using BenchmarkTools, LinearAlgebra, LazyArrays, BandedMatrices"
   ]
  },
  {
   "cell_type": "code",
   "execution_count": 2,
   "metadata": {},
   "outputs": [
    {
     "data": {
      "text/plain": [
       "ppl (generic function with 1 method)"
      ]
     },
     "execution_count": 2,
     "metadata": {},
     "output_type": "execute_result"
    }
   ],
   "source": [
    "function ppl(context)\n",
    "    println(sympy.latex(context))\n",
    "end"
   ]
  },
  {
   "cell_type": "code",
   "execution_count": 94,
   "metadata": {},
   "outputs": [],
   "source": [
    "xx0 = symbols(\"x_(1:6)\", real=True)\n",
    "yy0 = symbols(\"y_(1:6)\", real=True)\n",
    "uu0 = symbols(\"u_(1:6)\", real=True)\n",
    "vv0 = symbols(\"v_(1:6)\", real=True)\n",
    "pp0 = symbols(\"p_(1:6)\", real=True)\n",
    "qq0 = symbols(\"q_(1:6)\", real=True)\n",
    "xs = [i for i in xx0]\n",
    "ys = [i for i in yy0]\n",
    "us = [i for i in uu0]\n",
    "vs = [i for i in vv0]\n",
    "ps = [i for i in pp0]\n",
    "qs = [i for i in qq0]\n",
    "\n",
    "xf = rand(6)\n",
    "yf = rand(6);"
   ]
  },
  {
   "cell_type": "code",
   "execution_count": 95,
   "metadata": {},
   "outputs": [
    {
     "data": {
      "text/latex": [
       "$\\left[ \\begin{array}{rrrrr}x_{1} y_{1}&x_{1} y_{2}&x_{1} y_{3}&x_{1} y_{4}&x_{1} y_{5}\\\\x_{1} y_{2}&x_{2} y_{2}&x_{2} y_{3}&x_{2} y_{4}&x_{2} y_{5}\\\\x_{1} y_{3}&x_{2} y_{3}&x_{3} y_{3}&x_{3} y_{4}&x_{3} y_{5}\\\\x_{1} y_{4}&x_{2} y_{4}&x_{3} y_{4}&x_{4} y_{4}&x_{4} y_{5}\\\\x_{1} y_{5}&x_{2} y_{5}&x_{3} y_{5}&x_{4} y_{5}&x_{5} y_{5}\\end{array}\\right]$\n"
      ],
      "text/plain": [
       "5×5 Matrix{Sym}:\n",
       " x₁⋅y₁  x₁⋅y₂  x₁⋅y₃  x₁⋅y₄  x₁⋅y₅\n",
       " x₁⋅y₂  x₂⋅y₂  x₂⋅y₃  x₂⋅y₄  x₂⋅y₅\n",
       " x₁⋅y₃  x₂⋅y₃  x₃⋅y₃  x₃⋅y₄  x₃⋅y₅\n",
       " x₁⋅y₄  x₂⋅y₄  x₃⋅y₄  x₄⋅y₄  x₄⋅y₅\n",
       " x₁⋅y₅  x₂⋅y₅  x₃⋅y₅  x₄⋅y₅  x₅⋅y₅"
      ]
     },
     "execution_count": 95,
     "metadata": {},
     "output_type": "execute_result"
    }
   ],
   "source": [
    "Ss = triu(xs * ys', 1) + tril(ys * xs')"
   ]
  },
  {
   "cell_type": "code",
   "execution_count": 164,
   "metadata": {},
   "outputs": [
    {
     "data": {
      "text/latex": [
       "$\\left[ \\begin{array}{rrrrr}u_{1} v_{1}&u_{1} v_{2}&u_{1} v_{3}&u_{1} v_{4}&u_{1} v_{5}\\\\0&u_{2} v_{2}&u_{2} v_{3}&u_{2} v_{4}&u_{2} v_{5}\\\\0&0&u_{3} v_{3}&u_{3} v_{4}&u_{3} v_{5}\\\\0&0&0&u_{4} v_{4}&u_{4} v_{5}\\\\0&0&0&0&u_{5} v_{5}\\end{array}\\right]$\n"
      ],
      "text/plain": [
       "5×5 Matrix{Sym}:\n",
       " u₁⋅v₁  u₁⋅v₂  u₁⋅v₃  u₁⋅v₄  u₁⋅v₅\n",
       "       0  u₂⋅v₂  u₂⋅v₃  u₂⋅v₄  u₂⋅v₅\n",
       "       0        0  u₃⋅v₃  u₃⋅v₄  u₃⋅v₅\n",
       "       0        0        0  u₄⋅v₄  u₄⋅v₅\n",
       "       0        0        0        0  u₅⋅v₅"
      ]
     },
     "metadata": {},
     "output_type": "display_data"
    },
    {
     "data": {
      "text/latex": [
       "$\\left[ \\begin{array}{rrrrr}p_{1} q_{1}&0&0&0&0\\\\p_{2} q_{1}&p_{2} q_{2}&0&0&0\\\\p_{3} q_{1}&p_{3} q_{2}&p_{3} q_{3}&0&0\\\\p_{4} q_{1}&p_{4} q_{2}&p_{4} q_{3}&p_{4} q_{4}&0\\\\p_{5} q_{1}&p_{5} q_{2}&p_{5} q_{3}&p_{5} q_{4}&p_{5} q_{5}\\end{array}\\right]$\n"
      ],
      "text/plain": [
       "5×5 Matrix{Sym}:\n",
       " p₁⋅q₁        0        0        0        0\n",
       " p₂⋅q₁  p₂⋅q₂        0        0        0\n",
       " p₃⋅q₁  p₃⋅q₂  p₃⋅q₃        0        0\n",
       " p₄⋅q₁  p₄⋅q₂  p₄⋅q₃  p₄⋅q₄        0\n",
       " p₅⋅q₁  p₅⋅q₂  p₅⋅q₃  p₅⋅q₄  p₅⋅q₅"
      ]
     },
     "metadata": {},
     "output_type": "display_data"
    },
    {
     "data": {
      "text/latex": [
       "$\\left[ \\begin{array}{rrrrr}p_{1} q_{1} u_{1} v_{1} + p_{2} q_{1} u_{1} v_{2} + p_{3} q_{1} u_{1} v_{3} + p_{4} q_{1} u_{1} v_{4} + p_{5} q_{1} u_{1} v_{5}&p_{2} q_{2} u_{1} v_{2} + p_{3} q_{2} u_{1} v_{3} + p_{4} q_{2} u_{1} v_{4} + p_{5} q_{2} u_{1} v_{5}&p_{3} q_{3} u_{1} v_{3} + p_{4} q_{3} u_{1} v_{4} + p_{5} q_{3} u_{1} v_{5}&p_{4} q_{4} u_{1} v_{4} + p_{5} q_{4} u_{1} v_{5}&p_{5} q_{5} u_{1} v_{5}\\\\p_{2} q_{1} u_{2} v_{2} + p_{3} q_{1} u_{2} v_{3} + p_{4} q_{1} u_{2} v_{4} + p_{5} q_{1} u_{2} v_{5}&p_{2} q_{2} u_{2} v_{2} + p_{3} q_{2} u_{2} v_{3} + p_{4} q_{2} u_{2} v_{4} + p_{5} q_{2} u_{2} v_{5}&p_{3} q_{3} u_{2} v_{3} + p_{4} q_{3} u_{2} v_{4} + p_{5} q_{3} u_{2} v_{5}&p_{4} q_{4} u_{2} v_{4} + p_{5} q_{4} u_{2} v_{5}&p_{5} q_{5} u_{2} v_{5}\\\\p_{3} q_{1} u_{3} v_{3} + p_{4} q_{1} u_{3} v_{4} + p_{5} q_{1} u_{3} v_{5}&p_{3} q_{2} u_{3} v_{3} + p_{4} q_{2} u_{3} v_{4} + p_{5} q_{2} u_{3} v_{5}&p_{3} q_{3} u_{3} v_{3} + p_{4} q_{3} u_{3} v_{4} + p_{5} q_{3} u_{3} v_{5}&p_{4} q_{4} u_{3} v_{4} + p_{5} q_{4} u_{3} v_{5}&p_{5} q_{5} u_{3} v_{5}\\\\p_{4} q_{1} u_{4} v_{4} + p_{5} q_{1} u_{4} v_{5}&p_{4} q_{2} u_{4} v_{4} + p_{5} q_{2} u_{4} v_{5}&p_{4} q_{3} u_{4} v_{4} + p_{5} q_{3} u_{4} v_{5}&p_{4} q_{4} u_{4} v_{4} + p_{5} q_{4} u_{4} v_{5}&p_{5} q_{5} u_{4} v_{5}\\\\p_{5} q_{1} u_{5} v_{5}&p_{5} q_{2} u_{5} v_{5}&p_{5} q_{3} u_{5} v_{5}&p_{5} q_{4} u_{5} v_{5}&p_{5} q_{5} u_{5} v_{5}\\end{array}\\right]$\n"
      ],
      "text/plain": [
       "5×5 Matrix{Sym}:\n",
       " p₁⋅q₁⋅u₁⋅v₁ + p₂⋅q₁⋅u₁⋅v₂ + p₃⋅q₁⋅u₁⋅v₃ + p₄⋅q₁⋅u₁⋅v₄ + p₅⋅q₁⋅u₁⋅v₅  …  p₅⋅q₅⋅u₁⋅v₅\n",
       "                   p₂⋅q₁⋅u₂⋅v₂ + p₃⋅q₁⋅u₂⋅v₃ + p₄⋅q₁⋅u₂⋅v₄ + p₅⋅q₁⋅u₂⋅v₅     p₅⋅q₅⋅u₂⋅v₅\n",
       "                                     p₃⋅q₁⋅u₃⋅v₃ + p₄⋅q₁⋅u₃⋅v₄ + p₅⋅q₁⋅u₃⋅v₅     p₅⋅q₅⋅u₃⋅v₅\n",
       "                                                       p₄⋅q₁⋅u₄⋅v₄ + p₅⋅q₁⋅u₄⋅v₅     p₅⋅q₅⋅u₄⋅v₅\n",
       "                                                                         p₅⋅q₁⋅u₅⋅v₅     p₅⋅q₅⋅u₅⋅v₅"
      ]
     },
     "execution_count": 164,
     "metadata": {},
     "output_type": "execute_result"
    }
   ],
   "source": [
    "display(triu(us * vs'))\n",
    "display(tril(ps * qs'))\n",
    "triu(us * vs') * tril(ps * qs')"
   ]
  },
  {
   "cell_type": "code",
   "execution_count": 97,
   "metadata": {},
   "outputs": [
    {
     "data": {
      "text/latex": [
       "$\\left[ \\begin{array}{rrrrr}x_{1}^{2} y_{1}^{2} + x_{1}^{2} y_{2}^{2} + x_{1}^{2} y_{3}^{2} + x_{1}^{2} y_{4}^{2} + x_{1}^{2} y_{5}^{2}&x_{1} x_{2} y_{2}^{2} + x_{1} x_{2} y_{3}^{2} + x_{1} x_{2} y_{4}^{2} + x_{1} x_{2} y_{5}^{2}&x_{1} x_{3} y_{3}^{2} + x_{1} x_{3} y_{4}^{2} + x_{1} x_{3} y_{5}^{2}&x_{1} x_{4} y_{4}^{2} + x_{1} x_{4} y_{5}^{2}&x_{1} x_{5} y_{5}^{2}\\\\x_{1} x_{2} y_{2}^{2} + x_{1} x_{2} y_{3}^{2} + x_{1} x_{2} y_{4}^{2} + x_{1} x_{2} y_{5}^{2}&x_{2}^{2} y_{2}^{2} + x_{2}^{2} y_{3}^{2} + x_{2}^{2} y_{4}^{2} + x_{2}^{2} y_{5}^{2}&x_{2} x_{3} y_{3}^{2} + x_{2} x_{3} y_{4}^{2} + x_{2} x_{3} y_{5}^{2}&x_{2} x_{4} y_{4}^{2} + x_{2} x_{4} y_{5}^{2}&x_{2} x_{5} y_{5}^{2}\\\\x_{1} x_{3} y_{3}^{2} + x_{1} x_{3} y_{4}^{2} + x_{1} x_{3} y_{5}^{2}&x_{2} x_{3} y_{3}^{2} + x_{2} x_{3} y_{4}^{2} + x_{2} x_{3} y_{5}^{2}&x_{3}^{2} y_{3}^{2} + x_{3}^{2} y_{4}^{2} + x_{3}^{2} y_{5}^{2}&x_{3} x_{4} y_{4}^{2} + x_{3} x_{4} y_{5}^{2}&x_{3} x_{5} y_{5}^{2}\\\\x_{1} x_{4} y_{4}^{2} + x_{1} x_{4} y_{5}^{2}&x_{2} x_{4} y_{4}^{2} + x_{2} x_{4} y_{5}^{2}&x_{3} x_{4} y_{4}^{2} + x_{3} x_{4} y_{5}^{2}&x_{4}^{2} y_{4}^{2} + x_{4}^{2} y_{5}^{2}&x_{4} x_{5} y_{5}^{2}\\\\x_{1} x_{5} y_{5}^{2}&x_{2} x_{5} y_{5}^{2}&x_{3} x_{5} y_{5}^{2}&x_{4} x_{5} y_{5}^{2}&x_{5}^{2} y_{5}^{2}\\end{array}\\right]$\n"
      ],
      "text/plain": [
       "5×5 Matrix{Sym}:\n",
       " x_1^2*y_1^2 + x_1^2*y_2^2 + x_1^2*y_3^2 + x_1^2*y_4^2 + x_1^2*y_5^2  …  x_1*x_5*y_5^2\n",
       "       x_1*x_2*y_2^2 + x_1*x_2*y_3^2 + x_1*x_2*y_4^2 + x_1*x_2*y_5^2     x_2*x_5*y_5^2\n",
       "                       x_1*x_3*y_3^2 + x_1*x_3*y_4^2 + x_1*x_3*y_5^2     x_3*x_5*y_5^2\n",
       "                                       x_1*x_4*y_4^2 + x_1*x_4*y_5^2     x_4*x_5*y_5^2\n",
       "                                                       x_1*x_5*y_5^2       x_5^2*y_5^2"
      ]
     },
     "execution_count": 97,
     "metadata": {},
     "output_type": "execute_result"
    }
   ],
   "source": [
    "triu(xs * ys') * tril(ys * xs')"
   ]
  },
  {
   "cell_type": "code",
   "execution_count": 5,
   "metadata": {},
   "outputs": [
    {
     "data": {
      "text/plain": [
       "6"
      ]
     },
     "execution_count": 5,
     "metadata": {},
     "output_type": "execute_result"
    }
   ],
   "source": [
    "Sf = triu(xf * yf', 1) + tril(yf * xf')\n",
    "rank(Sf)"
   ]
  },
  {
   "cell_type": "code",
   "execution_count": 6,
   "metadata": {},
   "outputs": [
    {
     "data": {
      "text/plain": [
       "6×6 Matrix{Float64}:\n",
       " -11.241         6.4846       -2.09602e-15  …  -1.23579e-16   1.83847e-15\n",
       "   6.4846       -1.78968      -3.47178         -3.0938e-17   -9.09585e-16\n",
       "  -1.91392e-15  -3.47178      -1.50094          6.31215e-16  -3.51476e-16\n",
       "   6.73981e-16   8.28104e-17   5.92388          2.79054       2.04174e-16\n",
       "  -2.24043e-16  -4.66405e-17   7.08211e-16     -1.19801      -2.26906\n",
       "   1.73171e-15  -1.06216e-15   2.29846e-16  …  -2.26906      72.1225"
      ]
     },
     "execution_count": 6,
     "metadata": {},
     "output_type": "execute_result"
    }
   ],
   "source": [
    "inv(Sf)"
   ]
  },
  {
   "cell_type": "code",
   "execution_count": 7,
   "metadata": {},
   "outputs": [
    {
     "data": {
      "text/plain": [
       "6×6 Tridiagonal{Float64, Vector{Float64}}:\n",
       " -11.241    6.4846     ⋅         ⋅         ⋅         ⋅ \n",
       "   6.4846  -1.78968  -3.47178    ⋅         ⋅         ⋅ \n",
       "    ⋅      -3.47178  -1.50094   5.92388    ⋅         ⋅ \n",
       "    ⋅        ⋅        5.92388  -7.26941   2.79054    ⋅ \n",
       "    ⋅        ⋅         ⋅        2.79054  -1.19801  -2.26906\n",
       "    ⋅        ⋅         ⋅         ⋅       -2.26906  72.1225"
      ]
     },
     "execution_count": 7,
     "metadata": {},
     "output_type": "execute_result"
    }
   ],
   "source": [
    "Tridiagonal(inv(Sf))"
   ]
  },
  {
   "cell_type": "code",
   "execution_count": 8,
   "metadata": {},
   "outputs": [
    {
     "data": {
      "text/plain": [
       "false"
      ]
     },
     "execution_count": 8,
     "metadata": {},
     "output_type": "execute_result"
    }
   ],
   "source": [
    "isposdef(Tridiagonal(inv(Sf)))"
   ]
  },
  {
   "cell_type": "code",
   "execution_count": 128,
   "metadata": {},
   "outputs": [
    {
     "data": {
      "text/plain": [
       "true"
      ]
     },
     "execution_count": 128,
     "metadata": {},
     "output_type": "execute_result"
    }
   ],
   "source": [
    "n = 6\n",
    "A = Tridiagonal(rand(n,n))\n",
    "T = Matrix(A + A' + 100*I)\n",
    "isposdef(T)\n",
    "C = cholesky(T)\n",
    "L = C.L\n",
    "U = C.U\n",
    "L * L' ≈ T\n",
    "U' * U ≈ T"
   ]
  },
  {
   "cell_type": "code",
   "execution_count": 129,
   "metadata": {},
   "outputs": [
    {
     "data": {
      "text/plain": [
       "invBidiagUxy (generic function with 1 method)"
      ]
     },
     "execution_count": 129,
     "metadata": {},
     "output_type": "execute_result"
    }
   ],
   "source": [
    "include(\"backsub.jl\")\n",
    "include(\"invBiU.jl\")"
   ]
  },
  {
   "cell_type": "code",
   "execution_count": 130,
   "metadata": {},
   "outputs": [
    {
     "data": {
      "text/plain": [
       "6×6 UpperTriangular{Float64, Matrix{Float64}}:\n",
       " 10.0547   0.140684   0.0        0.0        0.0        0.0\n",
       "   ⋅      10.0282     0.114973   0.0        0.0        0.0\n",
       "   ⋅        ⋅        10.0285     0.140468   0.0        0.0\n",
       "   ⋅        ⋅          ⋅        10.0245     0.153173   0.0\n",
       "   ⋅        ⋅          ⋅          ⋅        10.0778     0.0876967\n",
       "   ⋅        ⋅          ⋅          ⋅          ⋅        10.0973"
      ]
     },
     "execution_count": 130,
     "metadata": {},
     "output_type": "execute_result"
    }
   ],
   "source": [
    "U"
   ]
  },
  {
   "cell_type": "code",
   "execution_count": 131,
   "metadata": {},
   "outputs": [
    {
     "data": {
      "text/plain": [
       "6×6 Matrix{Float64}:\n",
       " 0.0994557  -0.00139524   1.59959e-5  -2.24142e-7   3.40675e-9  -2.95883e-11\n",
       " 0.0         0.0997186   -0.00114324   1.60195e-5  -2.43482e-7   2.11469e-9\n",
       " 0.0         0.0          0.0997155   -0.00139726   2.1237e-5   -1.84448e-7\n",
       " 0.0         0.0          0.0          0.0997558   -0.00151619   1.31684e-5\n",
       " 0.0         0.0          0.0          0.0          0.0992279   -0.000861814\n",
       " 0.0         0.0          0.0          0.0          0.0          0.0990368"
      ]
     },
     "execution_count": 131,
     "metadata": {},
     "output_type": "execute_result"
    }
   ],
   "source": [
    "Uinv, xU, yU = invBidiagUxy(U)\n",
    "Uinv * U ≈ I\n",
    "Uinv"
   ]
  },
  {
   "cell_type": "code",
   "execution_count": 132,
   "metadata": {},
   "outputs": [
    {
     "data": {
      "text/plain": [
       "6×6 LowerTriangular{Float64, Matrix{Float64}}:\n",
       " 10.0547      ⋅          ⋅          ⋅          ⋅           ⋅ \n",
       "  0.140684  10.0282      ⋅          ⋅          ⋅           ⋅ \n",
       "  0.0        0.114973  10.0285      ⋅          ⋅           ⋅ \n",
       "  0.0        0.0        0.140468  10.0245      ⋅           ⋅ \n",
       "  0.0        0.0        0.0        0.153173  10.0778       ⋅ \n",
       "  0.0        0.0        0.0        0.0        0.0876967  10.0973"
      ]
     },
     "execution_count": 132,
     "metadata": {},
     "output_type": "execute_result"
    }
   ],
   "source": [
    "L"
   ]
  },
  {
   "cell_type": "code",
   "execution_count": 133,
   "metadata": {},
   "outputs": [
    {
     "data": {
      "text/plain": [
       "6×6 adjoint(::Matrix{Float64}) with eltype Float64:\n",
       "  0.0994557     0.0          0.0          0.0          0.0          0.0\n",
       " -0.00139524    0.0997186    0.0          0.0          0.0          0.0\n",
       "  1.59959e-5   -0.00114324   0.0997155    0.0          0.0          0.0\n",
       " -2.24142e-7    1.60195e-5  -0.00139726   0.0997558    0.0          0.0\n",
       "  3.40675e-9   -2.43482e-7   2.1237e-5   -0.00151619   0.0992279    0.0\n",
       " -2.95883e-11   2.11469e-9  -1.84448e-7   1.31684e-5  -0.000861814  0.0990368"
      ]
     },
     "execution_count": 133,
     "metadata": {},
     "output_type": "execute_result"
    }
   ],
   "source": [
    "Linv0, xL, yL = invBidiagUxy(L')\n",
    "Linv = Linv0'\n",
    "Linv * L ≈ I\n",
    "Linv"
   ]
  },
  {
   "cell_type": "code",
   "execution_count": 134,
   "metadata": {},
   "outputs": [],
   "source": [
    "# S = triu(xU * yU', 1) + tril(yL * xL')"
   ]
  },
  {
   "cell_type": "code",
   "execution_count": 135,
   "metadata": {},
   "outputs": [
    {
     "data": {
      "text/plain": [
       "true"
      ]
     },
     "execution_count": 135,
     "metadata": {},
     "output_type": "execute_result"
    }
   ],
   "source": [
    "xL == xU\n",
    "yL == yU"
   ]
  },
  {
   "cell_type": "code",
   "execution_count": 160,
   "metadata": {},
   "outputs": [
    {
     "data": {
      "text/plain": [
       "6×6 Matrix{Float64}:\n",
       "  0.00989338   -0.00013915    1.59536e-6   …   3.3807e-10  -2.93033e-12\n",
       " -0.00013915    0.00994511   -0.000114021     -2.4162e-8    2.09432e-10\n",
       "  1.59536e-6   -0.000114021   0.00994513       2.10746e-6  -1.82671e-8\n",
       " -2.23647e-8    1.59841e-6   -0.000139417     -0.00015046   1.30416e-6\n",
       "  3.3807e-10   -2.4162e-8     2.10746e-6       0.00984692  -8.53514e-5\n",
       " -2.93033e-12   2.09432e-10  -1.82671e-8   …  -8.53514e-5   0.00980829"
      ]
     },
     "execution_count": 160,
     "metadata": {},
     "output_type": "execute_result"
    }
   ],
   "source": [
    "Tinv = Uinv * Linv\n",
    "# Tinv ≈ triu(xU * yU') * tril(yL * xL')\n",
    "# Tinv - Tinv'"
   ]
  },
  {
   "cell_type": "code",
   "execution_count": 239,
   "metadata": {},
   "outputs": [
    {
     "data": {
      "text/plain": [
       "6×6 Matrix{Float64}:\n",
       " -1.73472e-18   2.71051e-20  0.0          -6.61744e-24   5.16988e-26  0.0\n",
       "  2.71051e-20  -1.73472e-18  2.71051e-20   0.0          -3.30872e-24  0.0\n",
       "  0.0           2.71051e-20  1.73472e-18   0.0           4.23516e-22  0.0\n",
       " -6.61744e-24   0.0          0.0          -1.73472e-18   0.0          0.0\n",
       "  5.16988e-26  -3.30872e-24  4.23516e-22   0.0           1.73472e-18  0.0\n",
       "  0.0           0.0          0.0           0.0           0.0          0.0"
      ]
     },
     "execution_count": 239,
     "metadata": {},
     "output_type": "execute_result"
    }
   ],
   "source": [
    "function getCoef(u, v)\n",
    "    T = eltype(u)\n",
    "    n = length(u)\n",
    "    coef = zeros(T, n)\n",
    "    coef[n] = u[n]*v[n]\n",
    "    for i in n-1:-1:1\n",
    "        coef[i] = coef[i+1] + u[i]*v[i]\n",
    "    end\n",
    "    coef\n",
    "    # println(coef[1] - u'*v)\n",
    "end\n",
    "\n",
    "function onepairsym(x, y)\n",
    "    p = x\n",
    "    q = x .* getCoef(y,y)\n",
    "    (p, q)\n",
    "end\n",
    "\n",
    "function getSSsym(p, q)\n",
    "    triu(p * q') + tril(q * p', -1)\n",
    "    triu(p * q', 1) + tril(q * p')\n",
    "end\n",
    "\n",
    "# getCoef(uuu, vvv)\n",
    "p,q = onepairsym(xU, yU)\n",
    "\n",
    "getSSsym(p,q) - Tinv"
   ]
  },
  {
   "cell_type": "code",
   "execution_count": 225,
   "metadata": {},
   "outputs": [
    {
     "data": {
      "text/plain": [
       "2.10746093984313e-6"
      ]
     },
     "metadata": {},
     "output_type": "display_data"
    },
    {
     "data": {
      "text/plain": [
       "2.1074609398431303e-6"
      ]
     },
     "metadata": {},
     "output_type": "display_data"
    },
    {
     "data": {
      "text/plain": [
       "testf22 (generic function with 1 method)"
      ]
     },
     "execution_count": 225,
     "metadata": {},
     "output_type": "execute_result"
    }
   ],
   "source": [
    "function testf1(x, y, i, j, n)\n",
    "    if i <= j\n",
    "        s = y[j].^2\n",
    "        for k in j+1:n\n",
    "            s += y[k].^2\n",
    "        end\n",
    "    else\n",
    "        s = y[i].^2\n",
    "        for k in i+1:n\n",
    "            s += y[k].^2\n",
    "        end\n",
    "    end\n",
    "    x[i]*x[j]*s\n",
    "end\n",
    "function testf11(x, y, i, j, n)\n",
    "    k = max(i, j)\n",
    "    x[i]*x[j] * (y[k:n])'*y[k:n]\n",
    "end\n",
    "i, j = 3, 5\n",
    "display(Tinv[i,j])\n",
    "display(testf11(xU, yU, i, j, n))\n",
    "\n",
    "\n",
    "function testf2(u, v, p, q, i, j, n)\n",
    "    if i <= j\n",
    "        s = p[j] * v[j]\n",
    "        for k in j+1:n\n",
    "            s += p[k] * v[k]\n",
    "        end\n",
    "    else\n",
    "        s = p[i] * v[i]\n",
    "        for k in i+1:n\n",
    "            s += p[k] * v[k]\n",
    "        end\n",
    "    end\n",
    "    q[j]*u[i]*s\n",
    "end\n",
    "\n",
    "function testf22(u, v, p, q, i, j, n)\n",
    "    k = max(i, j)\n",
    "    q[j]*u[i] * (p[k:n])'*v[k:n]\n",
    "end"
   ]
  },
  {
   "cell_type": "code",
   "execution_count": 233,
   "metadata": {},
   "outputs": [
    {
     "name": "stdout",
     "output_type": "stream",
     "text": [
      "true\n",
      "true\n",
      "true\n",
      "true\n",
      "true\n",
      "true\n",
      "true\n",
      "true\n",
      "true\n",
      "true\n",
      "true\n",
      "true\n",
      "true\n",
      "true\n",
      "true\n",
      "true\n",
      "true\n",
      "true\n",
      "true\n",
      "true\n",
      "true\n",
      "true\n",
      "true\n",
      "true\n",
      "true\n",
      "true\n",
      "true\n",
      "true\n",
      "true\n",
      "true\n",
      "true\n",
      "true\n",
      "true\n",
      "true\n",
      "true\n",
      "true\n"
     ]
    }
   ],
   "source": [
    "uuu = rand(n)\n",
    "vvv = rand(n)\n",
    "ppp = rand(n)\n",
    "qqq = rand(n)\n",
    "AAA = triu(uuu * vvv') * tril(ppp * qqq')\n",
    "\n",
    "\n",
    "for i in 1:n\n",
    "    for j in 1:n\n",
    "        println(Tinv[i,j] ≈ testf11(xU, yU, i, j, n))\n",
    "        # println(AAA[i,j] ≈ testf22(uuu, vvv, ppp, qqq, i, j, n))\n",
    "    end\n",
    "end\n"
   ]
  },
  {
   "cell_type": "code",
   "execution_count": 241,
   "metadata": {},
   "outputs": [
    {
     "data": {
      "text/plain": [
       "6×6 Matrix{Float64}:\n",
       " 0.0  0.0  0.0  0.0  0.0  0.0\n",
       " 0.0  0.0  0.0  0.0  0.0  0.0\n",
       " 0.0  0.0  0.0  0.0  0.0  0.0\n",
       " 0.0  0.0  0.0  0.0  0.0  0.0\n",
       " 0.0  0.0  0.0  0.0  0.0  0.0\n",
       " 0.0  0.0  0.0  0.0  0.0  0.0"
      ]
     },
     "execution_count": 241,
     "metadata": {},
     "output_type": "execute_result"
    }
   ],
   "source": [
    "function generateSymSS(x, y)\n",
    "    # tril(ỹ * x̃') + triu(x̃ * ỹ', 1)\n",
    "    T = eltype(x)\n",
    "    n = length(x)\n",
    "    SS = zeros(T, n, n)\n",
    "    for i in 1:n\n",
    "        for j in 1:n\n",
    "            if i <= j\n",
    "                SS[i,j] = y[j]*x[i]\n",
    "            else\n",
    "                SS[i,j] = y[i]*x[j]\n",
    "            end\n",
    "        end\n",
    "    end\n",
    "    SS\n",
    "end\n",
    "\n",
    "xx = rand(6)\n",
    "yy = rand(6)\n",
    "\n",
    "generateSymSS(xx,yy) - triu(xx * yy', 1) - tril(yy * xx')"
   ]
  },
  {
   "cell_type": "code",
   "execution_count": 244,
   "metadata": {},
   "outputs": [
    {
     "name": "stdout",
     "output_type": "stream",
     "text": [
      "  69.117 ns (1 allocation: 368 bytes)\n",
      "  281.067 ns (7 allocations: 1.83 KiB)\n"
     ]
    }
   ],
   "source": [
    "@btime generateSymSS(xx,yy);\n",
    "@btime triu(xx * yy', 1) + tril(yy * xx');"
   ]
  },
  {
   "cell_type": "code",
   "execution_count": null,
   "metadata": {},
   "outputs": [],
   "source": []
  }
 ],
 "metadata": {
  "kernelspec": {
   "display_name": "Julia 1.7.1",
   "language": "julia",
   "name": "julia-1.7"
  },
  "language_info": {
   "file_extension": ".jl",
   "mimetype": "application/julia",
   "name": "julia",
   "version": "1.7.1"
  },
  "orig_nbformat": 4,
  "vscode": {
   "interpreter": {
    "hash": "38cca0c38332a56087b24af0bc80247f4fced29cb4f7f437d91dc159adec9c4e"
   }
  }
 },
 "nbformat": 4,
 "nbformat_minor": 2
}
