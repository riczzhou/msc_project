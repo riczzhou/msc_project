{
 "cells": [
  {
   "cell_type": "code",
   "execution_count": 2,
   "metadata": {},
   "outputs": [
    {
     "name": "stdout",
     "output_type": "stream",
     "text": [
      "\u001b[32m\u001b[1m      Status\u001b[22m\u001b[39m `~/.julia/environments/v1.7/Project.toml`\n",
      " \u001b[90m [aae01518] \u001b[39mBandedMatrices v0.17.0\n",
      " \u001b[90m [6e4b80f9] \u001b[39mBenchmarkTools v1.3.1\n",
      " \u001b[90m [8e7c35d0] \u001b[39mBlockArrays v0.16.18\n",
      " \u001b[90m [336ed68f] \u001b[39mCSV v0.10.4\n",
      " \u001b[90m [ce91de38] \u001b[39mColorBitstring v0.1.1\n",
      " \u001b[90m [35d6a980] \u001b[39mColorSchemes v3.19.0\n",
      " \u001b[90m [a93c6f00] \u001b[39mDataFrames v1.3.4\n",
      " \u001b[90m [28b8d3ca] \u001b[39mGR v0.64.4\n",
      " \u001b[90m [7073ff75] \u001b[39mIJulia v1.23.3\n",
      " \u001b[90m [b964fa9f] \u001b[39mLaTeXStrings v1.3.0\n",
      " \u001b[90m [5078a376] \u001b[39mLazyArrays v0.22.10\n",
      " \u001b[90m [a3b82374] \u001b[39mMatrixFactorizations v0.9.1\n",
      " \u001b[90m [91a5bcdd] \u001b[39mPlots v1.29.0\n",
      " \u001b[90m [f27b6e38] \u001b[39mPolynomials v3.1.4\n",
      " \u001b[90m [438e738f] \u001b[39mPyCall v1.93.1\n",
      " \u001b[90m [d330b81b] \u001b[39mPyPlot v2.10.0\n",
      " \u001b[90m [295af30f] \u001b[39mRevise v3.3.3\n",
      " \u001b[90m [f8ebbe35] \u001b[39mSemiseparableMatrices v0.3.3\n",
      " \u001b[90m [3cc68bcd] \u001b[39mSetRounding v0.2.1\n",
      " \u001b[90m [24249f21] \u001b[39mSymPy v1.1.6\n",
      " \u001b[90m [ade2ca70] \u001b[39mDates\n",
      " \u001b[90m [37e2e46d] \u001b[39mLinearAlgebra\n",
      " \u001b[90m [9a3f8284] \u001b[39mRandom\n",
      " \u001b[90m [8dfed614] \u001b[39mTest\n"
     ]
    }
   ],
   "source": [
    "using Pkg\n",
    "Pkg.status()\n",
    "using SymPy\n",
    "using BenchmarkTools, LinearAlgebra, LazyArrays, BandedMatrices\n",
    "using PyPlot"
   ]
  },
  {
   "cell_type": "code",
   "execution_count": 198,
   "metadata": {},
   "outputs": [
    {
     "data": {
      "text/plain": [
       "invBlockBiU (generic function with 1 method)"
      ]
     },
     "execution_count": 198,
     "metadata": {},
     "output_type": "execute_result"
    }
   ],
   "source": [
    "\n",
    "function invR(A)\n",
    "    if size(A)[1] != size(A)[2]\n",
    "        return A' * inv(A * A')\n",
    "    else\n",
    "        return inv(A)\n",
    "    end\n",
    "end\n",
    "function invL(A)\n",
    "    if size(A)[1] != size(A)[2]\n",
    "        return inv(A' * A) * A'\n",
    "    else\n",
    "        return inv(A)\n",
    "    end\n",
    "end\n",
    "\n",
    "function invBlockBiU(U, bw) # have problem\n",
    "    n = size(U)[2]\n",
    "    r = rem(n, bw)\n",
    "    T = eltype(U)\n",
    "    E_k = zeros(T, n, bw)\n",
    "    E_k[n-bw+1:n, :] = one(U[n-bw+1:n, n-bw+1:n])\n",
    "    # X = qr(U) \\ E_k\n",
    "    # if typeof(U) == BandedMatrix\n",
    "        X = qr(U) \\ E_k\n",
    "    #     print(11111111111111111)\n",
    "    # else\n",
    "        # X = U \\ E_k\n",
    "    Yt = zeros(T, bw, n)\n",
    "    for i in n : -bw : r+bw\n",
    "        Di = U[i-bw+1:i, i-bw+1:i]\n",
    "        Xi = X[i-bw+1:i, :]\n",
    "        # if typeof(U) == BandedMatrix\n",
    "            Yti = qr(Di * Xi) \\ I\n",
    "        # else\n",
    "            # Yti = inv(Di * Xi)\n",
    "            \n",
    "        # Yti = qr(Di * Xi) \\ I\n",
    "        # Yti = inv(Di * Xi)\n",
    "        Yt[:, i-bw+1:i] = Yti\n",
    "    end\n",
    "    D0 = U[1:r, 1:r]\n",
    "    # D0inv = qr(D0) \\ I\n",
    "    X0 = X[1:r, :]\n",
    "    Yt0 = invR(D0 * X0)\n",
    "    Yt[:, 1:r] = Yt0\n",
    "    Uinv = triu(X * Yt)\n",
    "    Uinv\n",
    "end\n"
   ]
  },
  {
   "cell_type": "code",
   "execution_count": 206,
   "metadata": {},
   "outputs": [
    {
     "data": {
      "text/plain": [
       "BandedMatrix{BigFloat, Matrix{BigFloat}, Base.OneTo{Int64}}"
      ]
     },
     "metadata": {},
     "output_type": "display_data"
    },
    {
     "data": {
      "text/plain": [
       "false"
      ]
     },
     "metadata": {},
     "output_type": "display_data"
    },
    {
     "data": {
      "text/plain": [
       "6.52160475290256761666715646758864085342787655731736573052000100001317459915963e-15"
      ]
     },
     "execution_count": 206,
     "metadata": {},
     "output_type": "execute_result"
    }
   ],
   "source": [
    "include(\"genTestMat.jl\")\n",
    "\n",
    "n = 1000\n",
    "bw = 2\n",
    "U = generateTestTriangular(n, bw, BandedMatrix, BigFloat)\n",
    "\n",
    "# U = generateTestTriangular(n, bw, UpperTriangular, BigFloat)\n",
    "# U = generateTestTriangular(n, bw, Matrix, BigFloat)\n",
    "# U = generateTestTriangular(n, bw, Bidiagonal, BigFloat)\n",
    "# Bidiagonal\n",
    "# display(U)\n",
    "display(typeof(U))\n",
    "# U = generateTestTriangular(n, bw, Bidiagonal, Float64)\n",
    "# U = generateTestTriangular(n, bw, BandedMatrix, Float64)\n",
    "\n",
    "\n",
    "Uinv = invBlockBiU(U, bw)\n",
    "II = U * Uinv\n",
    "# display(II)\n",
    "display(II ≈ I)\n",
    "norm(II - I)\n",
    "\n",
    "# invBidiagU(U)"
   ]
  },
  {
   "cell_type": "code",
   "execution_count": 197,
   "metadata": {},
   "outputs": [
    {
     "data": {
      "text/plain": [
       "10×10 Matrix{BigFloat}:\n",
       " 1.0  4.17612e-06  -8.10128e-07  0.0          …   0.0          0.0\n",
       " 0.0  1.00492      -0.00140571   7.35062e-06      0.0          0.0\n",
       " 0.0  0.0           1.00032      3.95996e-06      0.0          0.0\n",
       " 0.0  0.0           0.0          1.00002          0.0          0.0\n",
       " 0.0  0.0           0.0          0.0              3.00249e-07  0.0\n",
       " 0.0  0.0           0.0          0.0          …  -1.45409e-07  0.0\n",
       " 0.0  0.0           0.0          0.0              1.76355e-06  0.0\n",
       " 0.0  0.0           0.0          0.0             -0.00219096   6.44986e-06\n",
       " 0.0  0.0           0.0          0.0              0.998953     1.43187e-06\n",
       " 0.0  0.0           0.0          0.0              0.0          1.0"
      ]
     },
     "execution_count": 197,
     "metadata": {},
     "output_type": "execute_result"
    }
   ],
   "source": [
    "x = rand(n)\n",
    "\n",
    "b = U * x\n",
    "\n",
    "x1 = Uinv * b\n",
    "norm(x - x1)\n",
    "\n",
    "\n",
    "II[1:10, 1:10]"
   ]
  },
  {
   "cell_type": "code",
   "execution_count": 190,
   "metadata": {},
   "outputs": [
    {
     "data": {
      "image/png": "[encoded data removed]",
      "text/plain": [
       "Figure(PyObject <Figure size 640x480 with 1 Axes>)"
      ]
     },
     "metadata": {},
     "output_type": "display_data"
    },
    {
     "data": {
      "text/plain": [
       "PyObject <matplotlib.image.AxesImage object at 0x3b3a6ca30>"
      ]
     },
     "execution_count": 190,
     "metadata": {},
     "output_type": "execute_result"
    }
   ],
   "source": [
    "spy(II)"
   ]
  },
  {
   "cell_type": "code",
   "execution_count": 191,
   "metadata": {},
   "outputs": [
    {
     "data": {
      "text/plain": [
       "1000×1000 Matrix{BigFloat}:\n",
       " 1.0  4.17612e-06  -8.10128e-07  …  0.0  0.0  0.0  0.0  0.0  0.0  0.0\n",
       " 0.0  1.00492      -0.00140571      0.0  0.0  0.0  0.0  0.0  0.0  0.0\n",
       " 0.0  0.0           1.00032         0.0  0.0  0.0  0.0  0.0  0.0  0.0\n",
       " 0.0  0.0           0.0             0.0  0.0  0.0  0.0  0.0  0.0  0.0\n",
       " 0.0  0.0           0.0             0.0  0.0  0.0  0.0  0.0  0.0  0.0\n",
       " 0.0  0.0           0.0          …  0.0  0.0  0.0  0.0  0.0  0.0  0.0\n",
       " 0.0  0.0           0.0             0.0  0.0  0.0  0.0  0.0  0.0  0.0\n",
       " 0.0  0.0           0.0             0.0  0.0  0.0  0.0  0.0  0.0  0.0\n",
       " 0.0  0.0           0.0             0.0  0.0  0.0  0.0  0.0  0.0  0.0\n",
       " 0.0  0.0           0.0             0.0  0.0  0.0  0.0  0.0  0.0  0.0\n",
       " 0.0  0.0           0.0          …  0.0  0.0  0.0  0.0  0.0  0.0  0.0\n",
       " 0.0  0.0           0.0             0.0  0.0  0.0  0.0  0.0  0.0  0.0\n",
       " 0.0  0.0           0.0             0.0  0.0  0.0  0.0  0.0  0.0  0.0\n",
       " ⋮                               ⋱            ⋮                   \n",
       " 0.0  0.0           0.0             0.0  0.0  0.0  0.0  0.0  0.0  0.0\n",
       " 0.0  0.0           0.0             0.0  0.0  0.0  0.0  0.0  0.0  0.0\n",
       " 0.0  0.0           0.0          …  0.0  0.0  0.0  0.0  0.0  0.0  0.0\n",
       " 0.0  0.0           0.0             0.0  0.0  0.0  0.0  0.0  0.0  0.0\n",
       " 0.0  0.0           0.0             0.0  0.0  0.0  0.0  0.0  0.0  0.0\n",
       " 0.0  0.0           0.0             1.0  0.0  0.0  0.0  0.0  0.0  0.0\n",
       " 0.0  0.0           0.0             0.0  1.0  0.0  0.0  0.0  0.0  0.0\n",
       " 0.0  0.0           0.0          …  0.0  0.0  1.0  0.0  0.0  0.0  0.0\n",
       " 0.0  0.0           0.0             0.0  0.0  0.0  1.0  0.0  0.0  0.0\n",
       " 0.0  0.0           0.0             0.0  0.0  0.0  0.0  1.0  0.0  0.0\n",
       " 0.0  0.0           0.0             0.0  0.0  0.0  0.0  0.0  1.0  0.0\n",
       " 0.0  0.0           0.0             0.0  0.0  0.0  0.0  0.0  0.0  1.0"
      ]
     },
     "execution_count": 191,
     "metadata": {},
     "output_type": "execute_result"
    }
   ],
   "source": [
    "map!(x -> isapprox(x, 0, atol=1e-8) ? 0 : x, II, II)"
   ]
  },
  {
   "cell_type": "code",
   "execution_count": 192,
   "metadata": {},
   "outputs": [
    {
     "data": {
      "image/png": "[encoded data removed]",
      "text/plain": [
       "Figure(PyObject <Figure size 640x480 with 1 Axes>)"
      ]
     },
     "metadata": {},
     "output_type": "display_data"
    },
    {
     "data": {
      "text/plain": [
       "PyObject <matplotlib.image.AxesImage object at 0x3af001c10>"
      ]
     },
     "execution_count": 192,
     "metadata": {},
     "output_type": "execute_result"
    }
   ],
   "source": [
    "spy(II)"
   ]
  },
  {
   "cell_type": "code",
   "execution_count": 193,
   "metadata": {},
   "outputs": [
    {
     "data": {
      "image/png": "[encoded data removed]",
      "text/plain": [
       "Figure(PyObject <Figure size 640x480 with 1 Axes>)"
      ]
     },
     "metadata": {},
     "output_type": "display_data"
    },
    {
     "data": {
      "text/plain": [
       "PyObject <matplotlib.image.AxesImage object at 0x3b037e670>"
      ]
     },
     "execution_count": 193,
     "metadata": {},
     "output_type": "execute_result"
    }
   ],
   "source": [
    "spy(II[1:200, 1:200])"
   ]
  }
 ],
 "metadata": {
  "kernelspec": {
   "display_name": "Julia 1.7.1",
   "language": "julia",
   "name": "julia-1.7"
  },
  "language_info": {
   "file_extension": ".jl",
   "mimetype": "application/julia",
   "name": "julia",
   "version": "1.7.1"
  },
  "orig_nbformat": 4,
  "vscode": {
   "interpreter": {
    "hash": "38cca0c38332a56087b24af0bc80247f4fced29cb4f7f437d91dc159adec9c4e"
   }
  }
 },
 "nbformat": 4,
 "nbformat_minor": 2
}
