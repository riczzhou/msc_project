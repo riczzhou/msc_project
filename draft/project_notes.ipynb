{
 "cells": [
  {
   "cell_type": "markdown",
   "metadata": {},
   "source": [
    "# MSc Project\n",
    "## Week 1\n",
    "### Try to find $u, v$ such that $triu(uv^{T}, 0) = U^{-1}$ where $U$ is a bidiagonal matrix.\n",
    "#### Directly method"
   ]
  },
  {
   "cell_type": "code",
   "execution_count": 1,
   "metadata": {},
   "outputs": [],
   "source": [
    "import sympy as sym\n",
    "import math\n",
    "import numpy as np\n",
    "from numpy import random"
   ]
  },
  {
   "cell_type": "code",
   "execution_count": 2,
   "metadata": {},
   "outputs": [],
   "source": [
    "A, B, C, D, E, F, a, b, c, d, e, f = sym.symbols('A B C D E F alpha beta gamma delta epsilon zeta')\n",
    "x1, x2, x3, x4 = sym.symbols('x_1 x_2 x_3 x_4')\n",
    "y1, y2, y3, y4 = sym.symbols('y_1 y_2 y_3 y_4')"
   ]
  },
  {
   "cell_type": "code",
   "execution_count": 3,
   "metadata": {},
   "outputs": [
    {
     "data": {
      "text/latex": [
       "$\\displaystyle \\left[\\begin{matrix}A & \\alpha\\\\0 & B\\end{matrix}\\right]$"
      ],
      "text/plain": [
       "Matrix([\n",
       "[A, alpha],\n",
       "[0,     B]])"
      ]
     },
     "execution_count": 3,
     "metadata": {},
     "output_type": "execute_result"
    }
   ],
   "source": [
    "U2 =  sym.Matrix(\n",
    "    [[A, a],\n",
    "     [0, B]])\n",
    "U2"
   ]
  },
  {
   "cell_type": "code",
   "execution_count": 4,
   "metadata": {},
   "outputs": [
    {
     "data": {
      "text/latex": [
       "$\\displaystyle \\left[\\begin{matrix}\\frac{1}{A} & - \\frac{\\alpha}{A B}\\\\0 & \\frac{1}{B}\\end{matrix}\\right]$"
      ],
      "text/plain": [
       "Matrix([\n",
       "[1/A, -alpha/(A*B)],\n",
       "[  0,          1/B]])"
      ]
     },
     "execution_count": 4,
     "metadata": {},
     "output_type": "execute_result"
    }
   ],
   "source": [
    "U2i = U2.inv()\n",
    "U2i"
   ]
  },
  {
   "cell_type": "code",
   "execution_count": 5,
   "metadata": {},
   "outputs": [
    {
     "data": {
      "text/latex": [
       "$\\displaystyle \\left[\\begin{matrix}x_{1} y_{1} & x_{1} y_{2}\\\\x_{2} y_{1} & x_{2} y_{2}\\end{matrix}\\right]$"
      ],
      "text/plain": [
       "Matrix([\n",
       "[x_1*y_1, x_1*y_2],\n",
       "[x_2*y_1, x_2*y_2]])"
      ]
     },
     "execution_count": 5,
     "metadata": {},
     "output_type": "execute_result"
    }
   ],
   "source": [
    "u2 = sym.Matrix([[x1], [x2]])\n",
    "vt2 = sym.Matrix([[y1, y2]])\n",
    "u2*vt2"
   ]
  },
  {
   "cell_type": "markdown",
   "metadata": {},
   "source": [
    "Solving\n",
    "\\begin{align*}\n",
    "x_{1}y_{1} &= \\frac{1}{A}\\\\\n",
    "x_{1}y_{2} &= -\\frac{\\alpha}{AB}\\\\\n",
    "x_{2}y_{2} &= \\frac{1}{B}\n",
    "\\end{align*}\n",
    "\\\n",
    "Solution\n",
    "\\begin{align*}\n",
    "x_{2} &= -\\frac{Ax_{1}}{\\alpha}\\\\\n",
    "y_{1} &= \\frac{1}{Ax_{1}}\\\\\n",
    "y_{2} &= -\\frac{\\alpha}{ABx_{1}}\n",
    "\\end{align*}\n",
    "for $x_1 \\neq 0$\n",
    "\\\n",
    "Let $x_1 = 1$, then\n",
    "\\begin{align*}\n",
    "x_{2} &= -\\frac{A}{\\alpha}\\\\\n",
    "y_{1} &= \\frac{1}{A}\\\\\n",
    "y_{2} &= -\\frac{\\alpha}{AB}\n",
    "\\end{align*}\n"
   ]
  },
  {
   "cell_type": "code",
   "execution_count": 6,
   "metadata": {},
   "outputs": [
    {
     "data": {
      "text/latex": [
       "$\\displaystyle \\left[\\begin{matrix}\\frac{1}{A} & - \\frac{\\alpha}{A B}\\\\- \\frac{1}{\\alpha} & \\frac{1}{B}\\end{matrix}\\right]$"
      ],
      "text/plain": [
       "Matrix([\n",
       "[     1/A, -alpha/(A*B)],\n",
       "[-1/alpha,          1/B]])"
      ]
     },
     "execution_count": 6,
     "metadata": {},
     "output_type": "execute_result"
    }
   ],
   "source": [
    "u2 = sym.Matrix([[1], [-A/a]])\n",
    "vt2 = sym.Matrix([[1/A, -a/(A*B)]])\n",
    "u2*vt2"
   ]
  },
  {
   "cell_type": "code",
   "execution_count": 7,
   "metadata": {},
   "outputs": [
    {
     "data": {
      "text/latex": [
       "$\\displaystyle \\left[\\begin{matrix}A & \\alpha & 0\\\\0 & B & \\beta\\\\0 & 0 & C\\end{matrix}\\right]$"
      ],
      "text/plain": [
       "Matrix([\n",
       "[A, alpha,    0],\n",
       "[0,     B, beta],\n",
       "[0,     0,    C]])"
      ]
     },
     "execution_count": 7,
     "metadata": {},
     "output_type": "execute_result"
    }
   ],
   "source": [
    "U3 =  sym.Matrix(\n",
    "    [[A, a, 0],\n",
    "     [0, B, b],\n",
    "     [0, 0, C]])\n",
    "U3"
   ]
  },
  {
   "cell_type": "code",
   "execution_count": 8,
   "metadata": {},
   "outputs": [
    {
     "data": {
      "text/latex": [
       "$\\displaystyle \\left[\\begin{matrix}\\frac{1}{A} & - \\frac{\\alpha}{A B} & \\frac{\\alpha \\beta}{A B C}\\\\0 & \\frac{1}{B} & - \\frac{\\beta}{B C}\\\\0 & 0 & \\frac{1}{C}\\end{matrix}\\right]$"
      ],
      "text/plain": [
       "Matrix([\n",
       "[1/A, -alpha/(A*B), alpha*beta/(A*B*C)],\n",
       "[  0,          1/B,        -beta/(B*C)],\n",
       "[  0,            0,                1/C]])"
      ]
     },
     "execution_count": 8,
     "metadata": {},
     "output_type": "execute_result"
    }
   ],
   "source": [
    "U3i = U3.inv()\n",
    "U3i"
   ]
  },
  {
   "cell_type": "code",
   "execution_count": 9,
   "metadata": {},
   "outputs": [
    {
     "data": {
      "text/latex": [
       "$\\displaystyle \\left[\\begin{matrix}x_{1} y_{1} & x_{1} y_{2} & x_{1} y_{3}\\\\x_{2} y_{1} & x_{2} y_{2} & x_{2} y_{3}\\\\x_{3} y_{1} & x_{3} y_{2} & x_{3} y_{3}\\end{matrix}\\right]$"
      ],
      "text/plain": [
       "Matrix([\n",
       "[x_1*y_1, x_1*y_2, x_1*y_3],\n",
       "[x_2*y_1, x_2*y_2, x_2*y_3],\n",
       "[x_3*y_1, x_3*y_2, x_3*y_3]])"
      ]
     },
     "execution_count": 9,
     "metadata": {},
     "output_type": "execute_result"
    }
   ],
   "source": [
    "u3 = sym.Matrix([[x1], [x2], [x3]])\n",
    "vt3 = sym.Matrix([[y1, y2, y3]])\n",
    "u3*vt3"
   ]
  },
  {
   "cell_type": "code",
   "execution_count": 10,
   "metadata": {},
   "outputs": [
    {
     "data": {
      "text/latex": [
       "$\\displaystyle \\left[\\begin{matrix}\\frac{1}{A} & - \\frac{\\alpha}{A B} & \\frac{\\alpha \\beta}{A B C}\\\\- \\frac{1}{\\alpha} & \\frac{1}{B} & - \\frac{\\beta}{B C}\\\\\\frac{B}{\\alpha \\beta} & - \\frac{1}{\\beta} & \\frac{1}{C}\\end{matrix}\\right]$"
      ],
      "text/plain": [
       "Matrix([\n",
       "[           1/A, -alpha/(A*B), alpha*beta/(A*B*C)],\n",
       "[      -1/alpha,          1/B,        -beta/(B*C)],\n",
       "[B/(alpha*beta),      -1/beta,                1/C]])"
      ]
     },
     "execution_count": 10,
     "metadata": {},
     "output_type": "execute_result"
    }
   ],
   "source": [
    "u3 = sym.Matrix([[1], [-A/a], [A*B/(a*b)]])\n",
    "vt3 = sym.Matrix([[1/A, -a/(A*B), a*b/(A*B*C)]])\n",
    "u3*vt3"
   ]
  },
  {
   "cell_type": "code",
   "execution_count": 11,
   "metadata": {},
   "outputs": [
    {
     "data": {
      "text/latex": [
       "$\\displaystyle \\left[\\begin{matrix}A & \\alpha & 0 & 0\\\\0 & B & \\beta & 0\\\\0 & 0 & C & \\gamma\\\\0 & 0 & 0 & D\\end{matrix}\\right]$"
      ],
      "text/plain": [
       "Matrix([\n",
       "[A, alpha,    0,     0],\n",
       "[0,     B, beta,     0],\n",
       "[0,     0,    C, gamma],\n",
       "[0,     0,    0,     D]])"
      ]
     },
     "execution_count": 11,
     "metadata": {},
     "output_type": "execute_result"
    }
   ],
   "source": [
    "U4 =  sym.Matrix(\n",
    "    [[A, a, 0, 0],\n",
    "     [0, B, b, 0],\n",
    "     [0, 0, C, c],\n",
    "     [0, 0, 0, D]])\n",
    "U4"
   ]
  },
  {
   "cell_type": "code",
   "execution_count": 12,
   "metadata": {},
   "outputs": [
    {
     "data": {
      "text/latex": [
       "$\\displaystyle \\left[\\begin{matrix}\\frac{1}{A} & - \\frac{\\alpha}{A B} & \\frac{\\alpha \\beta}{A B C} & - \\frac{\\alpha \\beta \\gamma}{A B C D}\\\\0 & \\frac{1}{B} & - \\frac{\\beta}{B C} & \\frac{\\beta \\gamma}{B C D}\\\\0 & 0 & \\frac{1}{C} & - \\frac{\\gamma}{C D}\\\\0 & 0 & 0 & \\frac{1}{D}\\end{matrix}\\right]$"
      ],
      "text/plain": [
       "Matrix([\n",
       "[1/A, -alpha/(A*B), alpha*beta/(A*B*C), -alpha*beta*gamma/(A*B*C*D)],\n",
       "[  0,          1/B,        -beta/(B*C),          beta*gamma/(B*C*D)],\n",
       "[  0,            0,                1/C,                -gamma/(C*D)],\n",
       "[  0,            0,                  0,                         1/D]])"
      ]
     },
     "execution_count": 12,
     "metadata": {},
     "output_type": "execute_result"
    }
   ],
   "source": [
    "U4i = U4.inv()\n",
    "U4i"
   ]
  },
  {
   "cell_type": "code",
   "execution_count": 13,
   "metadata": {},
   "outputs": [
    {
     "data": {
      "text/latex": [
       "$\\displaystyle \\left[\\begin{matrix}x_{1} y_{1} & x_{1} y_{2} & x_{1} y_{3} & x_{1} y_{4}\\\\x_{2} y_{1} & x_{2} y_{2} & x_{2} y_{3} & x_{2} y_{4}\\\\x_{3} y_{1} & x_{3} y_{2} & x_{3} y_{3} & x_{3} y_{4}\\\\x_{4} y_{1} & x_{4} y_{2} & x_{4} y_{3} & x_{4} y_{4}\\end{matrix}\\right]$"
      ],
      "text/plain": [
       "Matrix([\n",
       "[x_1*y_1, x_1*y_2, x_1*y_3, x_1*y_4],\n",
       "[x_2*y_1, x_2*y_2, x_2*y_3, x_2*y_4],\n",
       "[x_3*y_1, x_3*y_2, x_3*y_3, x_3*y_4],\n",
       "[x_4*y_1, x_4*y_2, x_4*y_3, x_4*y_4]])"
      ]
     },
     "execution_count": 13,
     "metadata": {},
     "output_type": "execute_result"
    }
   ],
   "source": [
    "u4 = sym.Matrix([[x1], [x2], [x3], [x4]])\n",
    "vt4 = sym.Matrix([[y1, y2, y3, y4]])\n",
    "u4*vt4"
   ]
  },
  {
   "cell_type": "code",
   "execution_count": 14,
   "metadata": {},
   "outputs": [
    {
     "data": {
      "text/latex": [
       "$\\displaystyle \\left[\\begin{matrix}\\frac{1}{A} & - \\frac{\\alpha}{A B} & \\frac{\\alpha \\beta}{A B C} & - \\frac{\\alpha \\beta \\gamma}{A B C D}\\\\- \\frac{1}{\\alpha} & \\frac{1}{B} & - \\frac{\\beta}{B C} & \\frac{\\beta \\gamma}{B C D}\\\\\\frac{B}{\\alpha \\beta} & - \\frac{1}{\\beta} & \\frac{1}{C} & - \\frac{\\gamma}{C D}\\end{matrix}\\right]$"
      ],
      "text/plain": [
       "Matrix([\n",
       "[           1/A, -alpha/(A*B), alpha*beta/(A*B*C), -alpha*beta*gamma/(A*B*C*D)],\n",
       "[      -1/alpha,          1/B,        -beta/(B*C),          beta*gamma/(B*C*D)],\n",
       "[B/(alpha*beta),      -1/beta,                1/C,                -gamma/(C*D)]])"
      ]
     },
     "execution_count": 14,
     "metadata": {},
     "output_type": "execute_result"
    }
   ],
   "source": [
    "u4 = sym.Matrix([[1], [-A/a], [A*B/(a*b)], [-A*B*C/(a*b*c)]])\n",
    "vt3 = sym.Matrix([[1/A, -a/(A*B), a*b/(A*B*C), -a*b*c/(A*B*C*D)]])\n",
    "u3*vt3"
   ]
  },
  {
   "cell_type": "code",
   "execution_count": 70,
   "metadata": {},
   "outputs": [
    {
     "name": "stdout",
     "output_type": "stream",
     "text": [
      "2.830524433501838e-16\n"
     ]
    }
   ],
   "source": [
    "random.seed(4396)\n",
    "def gen_U(n):\n",
    "    a = random.randn(n-1)\n",
    "    d = random.randn(n)\n",
    "    U = np.diag(d, 0) + np.diag(a, 1)\n",
    "    return U\n",
    "# Only for no zero in main and upper super diagonal\n",
    "def U_inv(U):\n",
    "    n = len(U)\n",
    "    x = np.zeros(n)\n",
    "    y = np.zeros(n)\n",
    "    md = np.diagonal(U, offset = 0)\n",
    "    md0 = np.diagonal(U, offset = 0)[:n]\n",
    "    usd = np.diagonal(U, offset = 1)\n",
    "\n",
    "    for i in range(n):\n",
    "        # set x1 = 1\n",
    "        if i == 0:\n",
    "            x[i] = 1\n",
    "            y[i] = 1/U[i, i]\n",
    "        # compute sgn\n",
    "        sgn = (-1)**(i)\n",
    "        # compute x\n",
    "        x[i] = sgn * np.prod(md0[:i]) / np.prod(usd[:i])\n",
    "\n",
    "        # compute y\n",
    "        y[i] = sgn * np.prod(usd[:i]) / np.prod(md[:i+1])\n",
    "\n",
    "    Uinv = np.triu(np.outer(x, y), 0)\n",
    "    return Uinv\n",
    "\n",
    "U = (gen_U(4))\n",
    "# U[1, 2] = 0\n",
    "Uinv = U_inv(U)\n",
    "Uinv0 = np.linalg.inv(U)\n",
    "print(np.linalg.norm(Uinv0 - Uinv))\n"
   ]
  },
  {
   "cell_type": "code",
   "execution_count": 16,
   "metadata": {},
   "outputs": [
    {
     "data": {
      "text/latex": [
       "$\\displaystyle \\left[\\begin{matrix}A & \\alpha & 0 & 0 & 0\\\\0 & B & 0 & 0 & 0\\\\0 & 0 & C & \\gamma & 0\\\\0 & 0 & 0 & D & 0\\\\0 & 0 & 0 & 0 & E\\end{matrix}\\right]$"
      ],
      "text/plain": [
       "Matrix([\n",
       "[A, alpha, 0,     0, 0],\n",
       "[0,     B, 0,     0, 0],\n",
       "[0,     0, C, gamma, 0],\n",
       "[0,     0, 0,     D, 0],\n",
       "[0,     0, 0,     0, E]])"
      ]
     },
     "execution_count": 16,
     "metadata": {},
     "output_type": "execute_result"
    }
   ],
   "source": [
    "U5 =  sym.Matrix(\n",
    "    [[A, a, 0, 0, 0],\n",
    "     [0, B, 0, 0, 0],\n",
    "     [0, 0, C, c, 0],\n",
    "     [0, 0, 0, D, 0],\n",
    "     [0, 0, 0, 0, E]])\n",
    "U5"
   ]
  },
  {
   "cell_type": "code",
   "execution_count": 17,
   "metadata": {},
   "outputs": [
    {
     "data": {
      "text/latex": [
       "$\\displaystyle \\left[\\begin{matrix}\\frac{1}{A} & - \\frac{\\alpha}{A B} & 0 & 0 & 0\\\\0 & \\frac{1}{B} & 0 & 0 & 0\\\\0 & 0 & \\frac{1}{C} & - \\frac{\\gamma}{C D} & 0\\\\0 & 0 & 0 & \\frac{1}{D} & 0\\\\0 & 0 & 0 & 0 & \\frac{1}{E}\\end{matrix}\\right]$"
      ],
      "text/plain": [
       "Matrix([\n",
       "[1/A, -alpha/(A*B),   0,            0,   0],\n",
       "[  0,          1/B,   0,            0,   0],\n",
       "[  0,            0, 1/C, -gamma/(C*D),   0],\n",
       "[  0,            0,   0,          1/D,   0],\n",
       "[  0,            0,   0,            0, 1/E]])"
      ]
     },
     "execution_count": 17,
     "metadata": {},
     "output_type": "execute_result"
    }
   ],
   "source": [
    "U5i = U5.inv()\n",
    "U5i"
   ]
  },
  {
   "cell_type": "markdown",
   "metadata": {},
   "source": [
    "## Week 2\n",
    "### Try to use back-substitution algorithm for solving $U^{-1}$ from $UX = I$\n",
    "#### $UX = I \\Rightarrow UXe_j = Ie_j \\Rightarrow Ux_j = e_j$, where $X = [x_1 \\ x_2 \\ \\cdots \\ x_n] = U^{-1}$, $e_j = [0 \\ 0 \\cdots \\ 1 \\ \\cdots \\ 0]^T$ with $1$ in the $j^{th}$ row."
   ]
  },
  {
   "cell_type": "markdown",
   "metadata": {},
   "source": [
    "### Solving an upper triangular system, $Ux = b$, $U \\in {\\mathbb{C}}^{n \\times n}$ and $U_{i,j} = 0$ for $i > j$.\n",
    "#### - $x_n = \\frac{b_n}{U_{n,n}}$ \n",
    "#### - For $i = n-1, n-2, ..., 1$"
   ]
  },
  {
   "cell_type": "code",
   "execution_count": 44,
   "metadata": {},
   "outputs": [
    {
     "name": "stdout",
     "output_type": "stream",
     "text": [
      "0.0\n"
     ]
    }
   ],
   "source": [
    "def U_inv_backsub(U):\n",
    "    \"\"\"\n",
    "    For finding the inverse of bidiagnal matrix by back subsitution, column by column, Ux_j = e_j\n",
    "    \"\"\"\n",
    "    n = len(U)\n",
    "    X = np.zeros((n, n))\n",
    "    # I = np.eye(n)\n",
    "    for j in range(n):\n",
    "        if n-1 == j:\n",
    "            X[n-1, j] = 1 / U[n-1, n-1]\n",
    "        else:\n",
    "            X[n-1, j] = 0\n",
    "\n",
    "        # X[n-1, j] = I[n-1, j] / U[n-1, n-1]\n",
    "\n",
    "        for i in range(n-2, -1, -1):\n",
    "            # print(2)\n",
    "            if i == j:\n",
    "                X[i, j] = (1 - U[i, i+1] * X[i+1, j]) / U[i,i]\n",
    "            else:\n",
    "                X[i, j] = (- U[i, i+1] * X[i+1, j]) / U[i,i]\n",
    "\n",
    "            # X[i, j] = (I[i, j] - U[i, i+1] * X[i+1, j]) / U[i,i]\n",
    "\n",
    "    return X\n",
    "\n",
    "U = (gen_U(4))\n",
    "# U[1, 2] = 0\n",
    "Uinv = U_inv_backsub(U)\n",
    "Uinv0 = np.linalg.inv(U)\n",
    "print(np.linalg.norm(Uinv0 - Uinv))"
   ]
  },
  {
   "cell_type": "markdown",
   "metadata": {},
   "source": [
    "## Week 3\n",
    "### Try to find the relation between columns of the result from the back-subsitution"
   ]
  },
  {
   "cell_type": "code",
   "execution_count": 19,
   "metadata": {},
   "outputs": [],
   "source": [
    "d1, d2, d3, d4, d5, d6 = sym.symbols('d_1 d_2 d_3 d_4 d_5 d_6')\n",
    "a1, a2, a3, a4, a5 = sym.symbols('a_1 a_2 a_3 a_4 a_5')"
   ]
  },
  {
   "cell_type": "code",
   "execution_count": 76,
   "metadata": {},
   "outputs": [
    {
     "data": {
      "text/latex": [
       "$\\displaystyle \\left[\\begin{matrix}1 & a_{1} & 0 & 0 & 0 & 0\\\\0 & 1 & a_{2} & 0 & 0 & 0\\\\0 & 0 & 1 & a_{3} & 0 & 0\\\\0 & 0 & 0 & 1 & a_{4} & 0\\\\0 & 0 & 0 & 0 & 1 & a_{5}\\\\0 & 0 & 0 & 0 & 0 & 1\\end{matrix}\\right]$"
      ],
      "text/plain": [
       "Matrix([\n",
       "[1, a_1,   0,   0,   0,   0],\n",
       "[0,   1, a_2,   0,   0,   0],\n",
       "[0,   0,   1, a_3,   0,   0],\n",
       "[0,   0,   0,   1, a_4,   0],\n",
       "[0,   0,   0,   0,   1, a_5],\n",
       "[0,   0,   0,   0,   0,   1]])"
      ]
     },
     "execution_count": 76,
     "metadata": {},
     "output_type": "execute_result"
    }
   ],
   "source": [
    "U61 =  sym.Matrix(\n",
    "    [[1, a1, 0, 0, 0, 0],\n",
    "     [0, 1, a2, 0, 0, 0],\n",
    "     [0, 0, 1, a3, 0, 0],\n",
    "     [0, 0, 0, 1, a4, 0],\n",
    "     [0, 0, 0, 0, 1, a5],\n",
    "     [0, 0, 0, 0, 0, 1]])\n",
    "U61"
   ]
  },
  {
   "cell_type": "code",
   "execution_count": 77,
   "metadata": {},
   "outputs": [
    {
     "data": {
      "text/latex": [
       "$\\displaystyle \\left[\\begin{matrix}1 & - a_{1} & a_{1} a_{2} & - a_{1} a_{2} a_{3} & a_{1} a_{2} a_{3} a_{4} & - a_{1} a_{2} a_{3} a_{4} a_{5}\\\\0 & 1 & - a_{2} & a_{2} a_{3} & - a_{2} a_{3} a_{4} & a_{2} a_{3} a_{4} a_{5}\\\\0 & 0 & 1 & - a_{3} & a_{3} a_{4} & - a_{3} a_{4} a_{5}\\\\0 & 0 & 0 & 1 & - a_{4} & a_{4} a_{5}\\\\0 & 0 & 0 & 0 & 1 & - a_{5}\\\\0 & 0 & 0 & 0 & 0 & 1\\end{matrix}\\right]$"
      ],
      "text/plain": [
       "Matrix([\n",
       "[1, -a_1, a_1*a_2, -a_1*a_2*a_3, a_1*a_2*a_3*a_4, -a_1*a_2*a_3*a_4*a_5],\n",
       "[0,    1,    -a_2,      a_2*a_3,    -a_2*a_3*a_4,      a_2*a_3*a_4*a_5],\n",
       "[0,    0,       1,         -a_3,         a_3*a_4,         -a_3*a_4*a_5],\n",
       "[0,    0,       0,            1,            -a_4,              a_4*a_5],\n",
       "[0,    0,       0,            0,               1,                 -a_5],\n",
       "[0,    0,       0,            0,               0,                    1]])"
      ]
     },
     "execution_count": 77,
     "metadata": {},
     "output_type": "execute_result"
    }
   ],
   "source": [
    "U61i = U61.inv()\n",
    "U61i"
   ]
  },
  {
   "cell_type": "code",
   "execution_count": 78,
   "metadata": {},
   "outputs": [
    {
     "name": "stdout",
     "output_type": "stream",
     "text": [
      "-1/(a_1*a_2*a_3*a_4*a_5)\n",
      "1/(a_2*a_3*a_4*a_5)\n",
      "-1/(a_3*a_4*a_5)\n",
      "1/(a_4*a_5)\n",
      "-1/a_5\n"
     ]
    }
   ],
   "source": [
    "# for j in range(5):\n",
    "#     for i in range(6):\n",
    "#         print(U6i[i, 5] / U6i[i, j])\n",
    "for j in range(5):\n",
    "    print(U61i[0, j] / U61i[0, 5])"
   ]
  },
  {
   "cell_type": "code",
   "execution_count": 79,
   "metadata": {},
   "outputs": [
    {
     "data": {
      "text/latex": [
       "$\\displaystyle \\left[\\begin{matrix}1 & - a_{1} & a_{1} a_{2} & - a_{1} a_{2} a_{3} & a_{1} a_{2} a_{3} a_{4} & - a_{1} a_{2} a_{3} a_{4} a_{5}\\\\- \\frac{1}{a_{1}} & 1 & - a_{2} & a_{2} a_{3} & - a_{2} a_{3} a_{4} & a_{2} a_{3} a_{4} a_{5}\\\\\\frac{1}{a_{1} a_{2}} & - \\frac{1}{a_{2}} & 1 & - a_{3} & a_{3} a_{4} & - a_{3} a_{4} a_{5}\\\\- \\frac{1}{a_{1} a_{2} a_{3}} & \\frac{1}{a_{2} a_{3}} & - \\frac{1}{a_{3}} & 1 & - a_{4} & a_{4} a_{5}\\\\\\frac{1}{a_{1} a_{2} a_{3} a_{4}} & - \\frac{1}{a_{2} a_{3} a_{4}} & \\frac{1}{a_{3} a_{4}} & - \\frac{1}{a_{4}} & 1 & - a_{5}\\\\- \\frac{1}{a_{1} a_{2} a_{3} a_{4} a_{5}} & \\frac{1}{a_{2} a_{3} a_{4} a_{5}} & - \\frac{1}{a_{3} a_{4} a_{5}} & \\frac{1}{a_{4} a_{5}} & - \\frac{1}{a_{5}} & 1\\end{matrix}\\right]$"
      ],
      "text/plain": [
       "Matrix([\n",
       "[                       1,                -a_1,          a_1*a_2, -a_1*a_2*a_3, a_1*a_2*a_3*a_4, -a_1*a_2*a_3*a_4*a_5],\n",
       "[                  -1/a_1,                   1,             -a_2,      a_2*a_3,    -a_2*a_3*a_4,      a_2*a_3*a_4*a_5],\n",
       "[             1/(a_1*a_2),              -1/a_2,                1,         -a_3,         a_3*a_4,         -a_3*a_4*a_5],\n",
       "[        -1/(a_1*a_2*a_3),         1/(a_2*a_3),           -1/a_3,            1,            -a_4,              a_4*a_5],\n",
       "[     1/(a_1*a_2*a_3*a_4),    -1/(a_2*a_3*a_4),      1/(a_3*a_4),       -1/a_4,               1,                 -a_5],\n",
       "[-1/(a_1*a_2*a_3*a_4*a_5), 1/(a_2*a_3*a_4*a_5), -1/(a_3*a_4*a_5),  1/(a_4*a_5),          -1/a_5,                    1]])"
      ]
     },
     "execution_count": 79,
     "metadata": {},
     "output_type": "execute_result"
    }
   ],
   "source": [
    "x6 = U61i[:, 5]\n",
    "yt6 = sym.Matrix([[-1/(a1*a2*a3*a4*a5), 1/(a2*a3*a4*a5), -1/(a3*a4*a5), 1/(a4*a5), -1/a5, 1]])\n",
    "x6*yt6"
   ]
  },
  {
   "cell_type": "code",
   "execution_count": 80,
   "metadata": {},
   "outputs": [
    {
     "data": {
      "text/latex": [
       "$\\displaystyle \\left[\\begin{matrix}0 & 0 & 0 & 0 & 0 & 0\\\\0 & 0 & 0 & 0 & 0 & 0\\\\0 & 0 & 0 & 0 & 0 & 0\\\\0 & 0 & 0 & 0 & 0 & 0\\\\0 & 0 & 0 & 0 & 0 & 0\\\\0 & 0 & 0 & 0 & 0 & 0\\end{matrix}\\right]$"
      ],
      "text/plain": [
       "Matrix([\n",
       "[0, 0, 0, 0, 0, 0],\n",
       "[0, 0, 0, 0, 0, 0],\n",
       "[0, 0, 0, 0, 0, 0],\n",
       "[0, 0, 0, 0, 0, 0],\n",
       "[0, 0, 0, 0, 0, 0],\n",
       "[0, 0, 0, 0, 0, 0]])"
      ]
     },
     "execution_count": 80,
     "metadata": {},
     "output_type": "execute_result"
    }
   ],
   "source": [
    "np.triu(x6*yt6) - U61i"
   ]
  },
  {
   "cell_type": "code",
   "execution_count": 120,
   "metadata": {},
   "outputs": [
    {
     "name": "stdout",
     "output_type": "stream",
     "text": [
      "5.241047207555275e-16\n"
     ]
    }
   ],
   "source": [
    "def gen_U_week3_onediag(n):\n",
    "    a = random.randn(n-1)\n",
    "    U_onediag = np.eye(n) + np.diag(a, 1)\n",
    "    return U_onediag\n",
    "\n",
    "# Only for no zero in main and upper super diagonal\n",
    "def U_inv_week3_onediag(U, FLOP = False):\n",
    "\n",
    "    n = len(U)\n",
    "    x = np.zeros(n)\n",
    "    y = np.zeros(n)\n",
    "    x[-1] = 1\n",
    "    y[-1] = 1\n",
    "    a = np.diagonal(U, offset = 1)\n",
    "    if not FLOP:\n",
    "        FLOP = 5 + (n-1)\n",
    "\n",
    "    for i in range(n-1):\n",
    "        x[i] = np.prod(-a[i:])\n",
    "        y[i] = 1 / x[i]\n",
    "        if not FLOP:\n",
    "            FLOP = 3 + len(a[i:]) + (len(a[i:])-1)\n",
    "\n",
    "    Uinv = np.triu(np.outer(x, y), 0)\n",
    "    return Uinv\n",
    "\n",
    "U = (gen_U_week3_onediag(10))\n",
    "# print(U)\n",
    "Uinv = U_inv_week3_onediag(U)\n",
    "Uinv0 = np.linalg.inv(U)\n",
    "print(np.linalg.norm(Uinv0 - Uinv))\n",
    "# %timeit np.linalg.inv(U)\n",
    "# %timeit U_inv_week3_onediag(U)"
   ]
  },
  {
   "cell_type": "code",
   "execution_count": 81,
   "metadata": {},
   "outputs": [
    {
     "data": {
      "text/latex": [
       "$\\displaystyle \\left[\\begin{matrix}d_{1} & a_{1} & 0 & 0 & 0 & 0\\\\0 & d_{2} & a_{2} & 0 & 0 & 0\\\\0 & 0 & d_{3} & a_{3} & 0 & 0\\\\0 & 0 & 0 & d_{4} & a_{4} & 0\\\\0 & 0 & 0 & 0 & d_{5} & a_{5}\\\\0 & 0 & 0 & 0 & 0 & d_{6}\\end{matrix}\\right]$"
      ],
      "text/plain": [
       "Matrix([\n",
       "[d_1, a_1,   0,   0,   0,   0],\n",
       "[  0, d_2, a_2,   0,   0,   0],\n",
       "[  0,   0, d_3, a_3,   0,   0],\n",
       "[  0,   0,   0, d_4, a_4,   0],\n",
       "[  0,   0,   0,   0, d_5, a_5],\n",
       "[  0,   0,   0,   0,   0, d_6]])"
      ]
     },
     "execution_count": 81,
     "metadata": {},
     "output_type": "execute_result"
    }
   ],
   "source": [
    "d1, d2, d3, d4, d5, d6= sym.symbols('d_1 d_2 d_3 d_4 d_5 d_6')\n",
    "U6 =  sym.Matrix(\n",
    "    [[d1, a1, 0, 0, 0, 0],\n",
    "     [0, d2, a2, 0, 0, 0],\n",
    "     [0, 0, d3, a3, 0, 0],\n",
    "     [0, 0, 0, d4, a4, 0],\n",
    "     [0, 0, 0, 0, d5, a5],\n",
    "     [0, 0, 0, 0, 0, d6]])\n",
    "U6"
   ]
  },
  {
   "cell_type": "code",
   "execution_count": 82,
   "metadata": {},
   "outputs": [
    {
     "data": {
      "text/latex": [
       "$\\displaystyle \\left[\\begin{matrix}\\frac{1}{d_{1}} & - \\frac{a_{1}}{d_{1} d_{2}} & \\frac{a_{1} a_{2}}{d_{1} d_{2} d_{3}} & - \\frac{a_{1} a_{2} a_{3}}{d_{1} d_{2} d_{3} d_{4}} & \\frac{a_{1} a_{2} a_{3} a_{4}}{d_{1} d_{2} d_{3} d_{4} d_{5}} & - \\frac{a_{1} a_{2} a_{3} a_{4} a_{5}}{d_{1} d_{2} d_{3} d_{4} d_{5} d_{6}}\\\\0 & \\frac{1}{d_{2}} & - \\frac{a_{2}}{d_{2} d_{3}} & \\frac{a_{2} a_{3}}{d_{2} d_{3} d_{4}} & - \\frac{a_{2} a_{3} a_{4}}{d_{2} d_{3} d_{4} d_{5}} & \\frac{a_{2} a_{3} a_{4} a_{5}}{d_{2} d_{3} d_{4} d_{5} d_{6}}\\\\0 & 0 & \\frac{1}{d_{3}} & - \\frac{a_{3}}{d_{3} d_{4}} & \\frac{a_{3} a_{4}}{d_{3} d_{4} d_{5}} & - \\frac{a_{3} a_{4} a_{5}}{d_{3} d_{4} d_{5} d_{6}}\\\\0 & 0 & 0 & \\frac{1}{d_{4}} & - \\frac{a_{4}}{d_{4} d_{5}} & \\frac{a_{4} a_{5}}{d_{4} d_{5} d_{6}}\\\\0 & 0 & 0 & 0 & \\frac{1}{d_{5}} & - \\frac{a_{5}}{d_{5} d_{6}}\\\\0 & 0 & 0 & 0 & 0 & \\frac{1}{d_{6}}\\end{matrix}\\right]$"
      ],
      "text/plain": [
       "Matrix([\n",
       "[1/d_1, -a_1/(d_1*d_2), a_1*a_2/(d_1*d_2*d_3), -a_1*a_2*a_3/(d_1*d_2*d_3*d_4), a_1*a_2*a_3*a_4/(d_1*d_2*d_3*d_4*d_5), -a_1*a_2*a_3*a_4*a_5/(d_1*d_2*d_3*d_4*d_5*d_6)],\n",
       "[    0,          1/d_2,        -a_2/(d_2*d_3),          a_2*a_3/(d_2*d_3*d_4),        -a_2*a_3*a_4/(d_2*d_3*d_4*d_5),          a_2*a_3*a_4*a_5/(d_2*d_3*d_4*d_5*d_6)],\n",
       "[    0,              0,                 1/d_3,                 -a_3/(d_3*d_4),                 a_3*a_4/(d_3*d_4*d_5),                 -a_3*a_4*a_5/(d_3*d_4*d_5*d_6)],\n",
       "[    0,              0,                     0,                          1/d_4,                        -a_4/(d_4*d_5),                          a_4*a_5/(d_4*d_5*d_6)],\n",
       "[    0,              0,                     0,                              0,                                 1/d_5,                                 -a_5/(d_5*d_6)],\n",
       "[    0,              0,                     0,                              0,                                     0,                                          1/d_6]])"
      ]
     },
     "execution_count": 82,
     "metadata": {},
     "output_type": "execute_result"
    }
   ],
   "source": [
    "U6i = U6.inv()\n",
    "U6i"
   ]
  },
  {
   "cell_type": "code",
   "execution_count": 83,
   "metadata": {},
   "outputs": [
    {
     "name": "stdout",
     "output_type": "stream",
     "text": [
      "-d_2*d_3*d_4*d_5*d_6/(a_1*a_2*a_3*a_4*a_5)\n",
      "d_3*d_4*d_5*d_6/(a_2*a_3*a_4*a_5)\n",
      "-d_4*d_5*d_6/(a_3*a_4*a_5)\n",
      "d_5*d_6/(a_4*a_5)\n",
      "-d_6/a_5\n"
     ]
    }
   ],
   "source": [
    "for j in range(5):\n",
    "    print(U6i[0, j] / U6i[0, 5])"
   ]
  },
  {
   "cell_type": "code",
   "execution_count": 73,
   "metadata": {},
   "outputs": [
    {
     "data": {
      "text/latex": [
       "$\\displaystyle \\left[\\begin{matrix}1 & a_{1} & b_{1} & 0 & 0 & 0\\\\0 & 1 & a_{2} & b_{2} & 0 & 0\\\\0 & 0 & 1 & a_{3} & b_{3} & 0\\\\0 & 0 & 0 & 1 & a_{4} & b_{4}\\\\0 & 0 & 0 & 0 & 1 & a_{5}\\\\0 & 0 & 0 & 0 & 0 & 1\\end{matrix}\\right]$"
      ],
      "text/plain": [
       "Matrix([\n",
       "[1, a_1, b_1,   0,   0,   0],\n",
       "[0,   1, a_2, b_2,   0,   0],\n",
       "[0,   0,   1, a_3, b_3,   0],\n",
       "[0,   0,   0,   1, a_4, b_4],\n",
       "[0,   0,   0,   0,   1, a_5],\n",
       "[0,   0,   0,   0,   0,   1]])"
      ]
     },
     "execution_count": 73,
     "metadata": {},
     "output_type": "execute_result"
    }
   ],
   "source": [
    "b1, b2, b3, b4 = sym.symbols('b_1 b_2 b_3 b_4')\n",
    "U6_tri =  sym.Matrix(\n",
    "    [[1, a1, b1, 0, 0, 0],\n",
    "     [0, 1, a2, b2, 0, 0],\n",
    "     [0, 0, 1, a3, b3, 0],\n",
    "     [0, 0, 0, 1, a4, b4],\n",
    "     [0, 0, 0, 0, 1, a5],\n",
    "     [0, 0, 0, 0, 0, 1]])\n",
    "U6_tri"
   ]
  },
  {
   "cell_type": "code",
   "execution_count": 95,
   "metadata": {},
   "outputs": [
    {
     "data": {
      "text/latex": [
       "$\\displaystyle \\left[\\begin{matrix}1 & - a_{1} & a_{1} a_{2} - b_{1} & - a_{1} a_{2} a_{3} + a_{1} b_{2} + a_{3} b_{1} & a_{1} a_{2} a_{3} a_{4} - a_{1} a_{2} b_{3} - a_{1} a_{4} b_{2} - a_{3} a_{4} b_{1} + b_{1} b_{3} & - a_{1} a_{2} a_{3} a_{4} a_{5} + a_{1} a_{2} a_{3} b_{4} + a_{1} a_{2} a_{5} b_{3} + a_{1} a_{4} a_{5} b_{2} - a_{1} b_{2} b_{4} + a_{3} a_{4} a_{5} b_{1} - a_{3} b_{1} b_{4} - a_{5} b_{1} b_{3}\\\\0 & 1 & - a_{2} & a_{2} a_{3} - b_{2} & - a_{2} a_{3} a_{4} + a_{2} b_{3} + a_{4} b_{2} & a_{2} a_{3} a_{4} a_{5} - a_{2} a_{3} b_{4} - a_{2} a_{5} b_{3} - a_{4} a_{5} b_{2} + b_{2} b_{4}\\\\0 & 0 & 1 & - a_{3} & a_{3} a_{4} - b_{3} & - a_{3} a_{4} a_{5} + a_{3} b_{4} + a_{5} b_{3}\\\\0 & 0 & 0 & 1 & - a_{4} & a_{4} a_{5} - b_{4}\\\\0 & 0 & 0 & 0 & 1 & - a_{5}\\\\0 & 0 & 0 & 0 & 0 & 1\\end{matrix}\\right]$"
      ],
      "text/plain": [
       "Matrix([\n",
       "[1, -a_1, a_1*a_2 - b_1, -a_1*a_2*a_3 + a_1*b_2 + a_3*b_1, a_1*a_2*a_3*a_4 - a_1*a_2*b_3 - a_1*a_4*b_2 - a_3*a_4*b_1 + b_1*b_3, -a_1*a_2*a_3*a_4*a_5 + a_1*a_2*a_3*b_4 + a_1*a_2*a_5*b_3 + a_1*a_4*a_5*b_2 - a_1*b_2*b_4 + a_3*a_4*a_5*b_1 - a_3*b_1*b_4 - a_5*b_1*b_3],\n",
       "[0,    1,          -a_2,                    a_2*a_3 - b_2,                                    -a_2*a_3*a_4 + a_2*b_3 + a_4*b_2,                                                                    a_2*a_3*a_4*a_5 - a_2*a_3*b_4 - a_2*a_5*b_3 - a_4*a_5*b_2 + b_2*b_4],\n",
       "[0,    0,             1,                             -a_3,                                                       a_3*a_4 - b_3,                                                                                                       -a_3*a_4*a_5 + a_3*b_4 + a_5*b_3],\n",
       "[0,    0,             0,                                1,                                                                -a_4,                                                                                                                          a_4*a_5 - b_4],\n",
       "[0,    0,             0,                                0,                                                                   1,                                                                                                                                   -a_5],\n",
       "[0,    0,             0,                                0,                                                                   0,                                                                                                                                      1]])"
      ]
     },
     "execution_count": 95,
     "metadata": {},
     "output_type": "execute_result"
    }
   ],
   "source": [
    "U6i_tri = U6_tri.inv()\n",
    "U6i_tri"
   ]
  },
  {
   "cell_type": "code",
   "execution_count": 157,
   "metadata": {},
   "outputs": [
    {
     "data": {
      "text/latex": [
       "$\\displaystyle \\left[\\begin{matrix}1 & a_{1} & b_{1} & 0\\\\0 & 1 & a_{2} & b_{2}\\\\0 & 0 & 1 & a_{3}\\\\0 & 0 & 0 & 1\\end{matrix}\\right]$"
      ],
      "text/plain": [
       "Matrix([\n",
       "[1, a_1, b_1,   0],\n",
       "[0,   1, a_2, b_2],\n",
       "[0,   0,   1, a_3],\n",
       "[0,   0,   0,   1]])"
      ]
     },
     "execution_count": 157,
     "metadata": {},
     "output_type": "execute_result"
    }
   ],
   "source": [
    "U4_tri =  sym.Matrix(\n",
    "    [[1, a1, b1, 0],\n",
    "     [0, 1, a2, b2],\n",
    "     [0, 0, 1, a3],\n",
    "     [0, 0, 0, 1,]])\n",
    "U4_tri\n",
    "\n"
   ]
  },
  {
   "cell_type": "code",
   "execution_count": 156,
   "metadata": {},
   "outputs": [
    {
     "data": {
      "text/latex": [
       "$\\displaystyle \\left[\\begin{matrix}1 & - a_{1} & a_{1} a_{2} - b_{1} & - a_{1} a_{2} a_{3} + a_{1} b_{2} + a_{3} b_{1}\\\\0 & 1 & - a_{2} & a_{2} a_{3} - b_{2}\\\\0 & 0 & 1 & - a_{3}\\\\0 & 0 & 0 & 1\\end{matrix}\\right]$"
      ],
      "text/plain": [
       "Matrix([\n",
       "[1, -a_1, a_1*a_2 - b_1, -a_1*a_2*a_3 + a_1*b_2 + a_3*b_1],\n",
       "[0,    1,          -a_2,                    a_2*a_3 - b_2],\n",
       "[0,    0,             1,                             -a_3],\n",
       "[0,    0,             0,                                1]])"
      ]
     },
     "execution_count": 156,
     "metadata": {},
     "output_type": "execute_result"
    }
   ],
   "source": [
    "U4i_tri = U4_tri.inv()\n",
    "U4i_tri\n",
    "# a, b = sym.symbols('alpha beta')\n",
    "# a * U4i_tri[:, 3] + b * U4i_tri[:, 2]"
   ]
  },
  {
   "cell_type": "code",
   "execution_count": 137,
   "metadata": {},
   "outputs": [
    {
     "data": {
      "text/latex": [
       "$\\displaystyle \\left[\\begin{matrix}- a_{1}\\\\1\\\\0\\\\0\\end{matrix}\\right]$"
      ],
      "text/plain": [
       "Matrix([\n",
       "[-a_1],\n",
       "[   1],\n",
       "[   0],\n",
       "[   0]])"
      ]
     },
     "execution_count": 137,
     "metadata": {},
     "output_type": "execute_result"
    }
   ],
   "source": [
    "U4i_tri[:,1]"
   ]
  },
  {
   "cell_type": "code",
   "execution_count": 154,
   "metadata": {},
   "outputs": [
    {
     "data": {
      "text/latex": [
       "$\\displaystyle \\left[\\begin{matrix}- \\frac{- a_{1} a_{2} a_{3} + a_{1} b_{2} + a_{3} b_{1}}{b_{2}}\\\\- \\frac{a_{2} a_{3} - b_{2}}{b_{2}}\\end{matrix}\\right]$"
      ],
      "text/plain": [
       "Matrix([\n",
       "[-(-a_1*a_2*a_3 + a_1*b_2 + a_3*b_1)/b_2],\n",
       "[                   -(a_2*a_3 - b_2)/b_2]])"
      ]
     },
     "execution_count": 154,
     "metadata": {},
     "output_type": "execute_result"
    }
   ],
   "source": [
    "U4i_tri[:2,-1] * (-1/b2)"
   ]
  },
  {
   "cell_type": "code",
   "execution_count": 160,
   "metadata": {},
   "outputs": [
    {
     "data": {
      "text/latex": [
       "$\\displaystyle \\left[\\begin{matrix}- \\frac{a_{3} \\left(a_{1} a_{2} - b_{1}\\right)}{b_{2}}\\\\\\frac{a_{2} a_{3}}{b_{2}}\\end{matrix}\\right]$"
      ],
      "text/plain": [
       "Matrix([\n",
       "[-a_3*(a_1*a_2 - b_1)/b_2],\n",
       "[             a_2*a_3/b_2]])"
      ]
     },
     "execution_count": 160,
     "metadata": {},
     "output_type": "execute_result"
    }
   ],
   "source": [
    "U4i_tri[:2,-2] * (-a3/b2)"
   ]
  },
  {
   "cell_type": "code",
   "execution_count": 161,
   "metadata": {},
   "outputs": [
    {
     "data": {
      "text/latex": [
       "$\\displaystyle \\left[\\begin{matrix}- a_{1}\\\\1\\end{matrix}\\right]$"
      ],
      "text/plain": [
       "Matrix([\n",
       "[-a_1],\n",
       "[   1]])"
      ]
     },
     "execution_count": 161,
     "metadata": {},
     "output_type": "execute_result"
    }
   ],
   "source": [
    "U4i_tri[:2,-3]"
   ]
  },
  {
   "cell_type": "code",
   "execution_count": 162,
   "metadata": {},
   "outputs": [
    {
     "data": {
      "text/latex": [
       "$\\displaystyle \\left[\\begin{matrix}a_{1} - \\frac{a_{3} \\left(a_{1} a_{2} - b_{1}\\right)}{b_{2}} - \\frac{- a_{1} a_{2} a_{3} + a_{1} b_{2} + a_{3} b_{1}}{b_{2}}\\\\\\frac{a_{2} a_{3}}{b_{2}} - 1 - \\frac{a_{2} a_{3} - b_{2}}{b_{2}}\\end{matrix}\\right]$"
      ],
      "text/plain": [
       "Matrix([\n",
       "[a_1 - a_3*(a_1*a_2 - b_1)/b_2 - (-a_1*a_2*a_3 + a_1*b_2 + a_3*b_1)/b_2],\n",
       "[                                 a_2*a_3/b_2 - 1 - (a_2*a_3 - b_2)/b_2]])"
      ]
     },
     "execution_count": 162,
     "metadata": {},
     "output_type": "execute_result"
    }
   ],
   "source": [
    "U4i_tri[:2,-1] * (-1/b2) + U4i_tri[:2,-2] * (-a3/b2) - U4i_tri[:2,-3]"
   ]
  },
  {
   "cell_type": "code",
   "execution_count": 164,
   "metadata": {},
   "outputs": [
    {
     "data": {
      "text/latex": [
       "$\\displaystyle \\left[\\begin{matrix}-1 + \\frac{a_{3} \\left(a_{1} a_{2} - b_{1}\\right)}{a_{1} b_{2}} + \\frac{- a_{1} a_{2} a_{3} + a_{1} b_{2} + a_{3} b_{1}}{a_{1} b_{2}}\\end{matrix}\\right]$"
      ],
      "text/plain": [
       "Matrix([[-1 + a_3*(a_1*a_2 - b_1)/(a_1*b_2) + (-a_1*a_2*a_3 + a_1*b_2 + a_3*b_1)/(a_1*b_2)]])"
      ]
     },
     "execution_count": 164,
     "metadata": {},
     "output_type": "execute_result"
    }
   ],
   "source": [
    "U4i_tri[:1,-1] * (-1/b2) * (1/-a1) + U4i_tri[:1,-2] * (-a3/b2) * (1/-a1) - U4i_tri[:1,-4]"
   ]
  },
  {
   "cell_type": "code",
   "execution_count": 116,
   "metadata": {},
   "outputs": [
    {
     "name": "stdout",
     "output_type": "stream",
     "text": [
      "5\n",
      "[[ 1.         -1.10989961 -0.20743864  0.36014872  0.40011931]\n",
      " [ 0.          1.         -0.21795799 -0.40210657 -0.79688715]\n",
      " [ 0.          0.          1.          0.19171954  1.07787982]\n",
      " [ 0.          0.          0.          1.          1.55959982]\n",
      " [ 0.          0.          0.          0.          1.        ]]\n",
      "[[ 1.          0.          0.          0.          0.        ]\n",
      " [-0.90098239  1.          0.          0.          0.        ]\n",
      " [-4.82070261 -4.58804017  1.          0.          0.        ]\n",
      " [ 2.77663069 -2.48690292  5.21595232  1.          0.        ]\n",
      " [ 2.49925454 -1.25488282  0.92774722  0.64119012  1.        ]]\n",
      "[[ 1.         -1.10989961 -0.20743864  0.36014872  0.40011931]\n",
      " [-0.90098239  1.         -0.21795799 -0.40210657 -0.79688715]\n",
      " [-4.82070261 -4.58804017  1.          0.19171954  1.07787982]\n",
      " [ 2.77663069 -2.48690292  5.21595232  1.          1.55959982]\n",
      " [ 2.49925454 -1.25488282  0.92774722  0.64119012  1.        ]]\n",
      "5\n",
      "(0, 1, 2, 3, 4)\n"
     ]
    }
   ],
   "source": [
    "from copy import deepcopy\n",
    "\n",
    "def gen_Utri_week3_onediag(n):\n",
    "    a = random.randn(n-1)\n",
    "    b = random.randn(n-2)\n",
    "    Utri_onediag = np.eye(n) + np.diag(a, 1) + np.diag(b, 2)\n",
    "    return Utri_onediag\n",
    "    \n",
    "n = 5\n",
    "U = gen_Utri_week3_onediag(n)\n",
    "\n",
    "Uinv = np.linalg.inv(U)\n",
    "rank = np.linalg.matrix_rank(Uinv)\n",
    "print(rank)\n",
    "print(Uinv)\n",
    "Uinvl = deepcopy(Uinv).T\n",
    "\n",
    "for i in range(n):\n",
    "    for j in range(n):\n",
    "        if i>j:\n",
    "            Uinvl[i, j] = 1 / Uinvl[i, j]\n",
    "\n",
    "print(Uinvl)\n",
    "\n",
    "guess = Uinv + Uinvl - np.eye(n)\n",
    "print(guess)\n",
    "rank = np.linalg.matrix_rank(guess)\n",
    "print(rank)\n",
    "# # for j in range(5):\n",
    "# # j = 4\n",
    "# # print(U6i_tri[0, j] / U6i_tri[0, 5])\n",
    "\n",
    "_, indexes = sym.Matrix(guess).T.rref()\n",
    "print(indexes)"
   ]
  }
 ],
 "metadata": {
  "interpreter": {
   "hash": "38cca0c38332a56087b24af0bc80247f4fced29cb4f7f437d91dc159adec9c4e"
  },
  "kernelspec": {
   "display_name": "Python 3.9.7 64-bit ('base': conda)",
   "language": "python",
   "name": "python3"
  },
  "language_info": {
   "codemirror_mode": {
    "name": "ipython",
    "version": 3
   },
   "file_extension": ".py",
   "mimetype": "text/x-python",
   "name": "python",
   "nbconvert_exporter": "python",
   "pygments_lexer": "ipython3",
   "version": "3.9.7"
  },
  "orig_nbformat": 4
 },
 "nbformat": 4,
 "nbformat_minor": 2
}
