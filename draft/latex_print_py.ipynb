{
 "cells": [
  {
   "cell_type": "code",
   "execution_count": 152,
   "metadata": {},
   "outputs": [],
   "source": [
    "from sympy import *\n",
    "\n",
    "from IPython.display import display, Latex\n"
   ]
  },
  {
   "cell_type": "code",
   "execution_count": 159,
   "metadata": {},
   "outputs": [
    {
     "data": {
      "text/latex": [
       "$\\displaystyle \\left[\\begin{matrix}x_{11} y_{11} + x_{12} y_{12} & x_{11} y_{21} + x_{12} y_{22} & x_{11} y_{31} + x_{12} y_{32} & x_{11} y_{41} + x_{12} y_{42} & x_{11} y_{51} + x_{12} y_{52}\\\\x_{21} y_{11} + x_{22} y_{12} & x_{21} y_{21} + x_{22} y_{22} & x_{21} y_{31} + x_{22} y_{32} & x_{21} y_{41} + x_{22} y_{42} & x_{21} y_{51} + x_{22} y_{52}\\\\x_{31} y_{11} + x_{32} y_{12} & x_{31} y_{21} + x_{32} y_{22} & x_{31} y_{31} + x_{32} y_{32} & x_{31} y_{41} + x_{32} y_{42} & x_{31} y_{51} + x_{32} y_{52}\\\\x_{41} y_{11} + x_{42} y_{12} & x_{41} y_{21} + x_{42} y_{22} & x_{41} y_{31} + x_{42} y_{32} & x_{41} y_{41} + x_{42} y_{42} & x_{41} y_{51} + x_{42} y_{52}\\\\x_{51} y_{11} + x_{52} y_{12} & x_{51} y_{21} + x_{52} y_{22} & x_{51} y_{31} + x_{52} y_{32} & x_{51} y_{41} + x_{52} y_{42} & x_{51} y_{51} + x_{52} y_{52}\\end{matrix}\\right]$"
      ],
      "text/plain": [
       "Matrix([\n",
       "[x_{11}*y_{11} + x_{12}*y_{12}, x_{11}*y_{21} + x_{12}*y_{22}, x_{11}*y_{31} + x_{12}*y_{32}, x_{11}*y_{41} + x_{12}*y_{42}, x_{11}*y_{51} + x_{12}*y_{52}],\n",
       "[x_{21}*y_{11} + x_{22}*y_{12}, x_{21}*y_{21} + x_{22}*y_{22}, x_{21}*y_{31} + x_{22}*y_{32}, x_{21}*y_{41} + x_{22}*y_{42}, x_{21}*y_{51} + x_{22}*y_{52}],\n",
       "[x_{31}*y_{11} + x_{32}*y_{12}, x_{31}*y_{21} + x_{32}*y_{22}, x_{31}*y_{31} + x_{32}*y_{32}, x_{31}*y_{41} + x_{32}*y_{42}, x_{31}*y_{51} + x_{32}*y_{52}],\n",
       "[x_{41}*y_{11} + x_{42}*y_{12}, x_{41}*y_{21} + x_{42}*y_{22}, x_{41}*y_{31} + x_{42}*y_{32}, x_{41}*y_{41} + x_{42}*y_{42}, x_{41}*y_{51} + x_{42}*y_{52}],\n",
       "[x_{51}*y_{11} + x_{52}*y_{12}, x_{51}*y_{21} + x_{52}*y_{22}, x_{51}*y_{31} + x_{52}*y_{32}, x_{51}*y_{41} + x_{52}*y_{42}, x_{51}*y_{51} + x_{52}*y_{52}]])"
      ]
     },
     "metadata": {},
     "output_type": "display_data"
    },
    {
     "name": "stdout",
     "output_type": "stream",
     "text": [
      "\\left[\\begin{matrix}x_{11} y_{11} + x_{12} y_{12} & x_{11} y_{21} + x_{12} y_{22} & x_{11} y_{31} + x_{12} y_{32} & x_{11} y_{41} + x_{12} y_{42} & x_{11} y_{51} + x_{12} y_{52}\\\\x_{21} y_{11} + x_{22} y_{12} & x_{21} y_{21} + x_{22} y_{22} & x_{21} y_{31} + x_{22} y_{32} & x_{21} y_{41} + x_{22} y_{42} & x_{21} y_{51} + x_{22} y_{52}\\\\x_{31} y_{11} + x_{32} y_{12} & x_{31} y_{21} + x_{32} y_{22} & x_{31} y_{31} + x_{32} y_{32} & x_{31} y_{41} + x_{32} y_{42} & x_{31} y_{51} + x_{32} y_{52}\\\\x_{41} y_{11} + x_{42} y_{12} & x_{41} y_{21} + x_{42} y_{22} & x_{41} y_{31} + x_{42} y_{32} & x_{41} y_{41} + x_{42} y_{42} & x_{41} y_{51} + x_{42} y_{52}\\\\x_{51} y_{11} + x_{52} y_{12} & x_{51} y_{21} + x_{52} y_{22} & x_{51} y_{31} + x_{52} y_{32} & x_{51} y_{41} + x_{52} y_{42} & x_{51} y_{51} + x_{52} y_{52}\\end{matrix}\\right]\n",
      "2.8877953669649172\n",
      "[[ 0.38915477  1.74317052  1.11717825  1.26842486 -2.66928521]\n",
      " [ 0.          0.35455355 -2.2174258  -1.56964704 -0.61898196]\n",
      " [ 0.          0.         -0.00424952  0.12879565  0.39413356]\n",
      " [ 0.          0.          0.          0.36138687 -2.88438463]\n",
      " [ 0.          0.          0.          0.         -1.02146496]]\n",
      "[[ 0.34576458  2.6961498   0.25106364  2.43763616 -2.66928521]\n",
      " [ 0.          0.39840575 -2.82073207 -0.97735101 -0.61898196]\n",
      " [ 0.          0.          0.41524487 -0.11756708  0.39413356]\n",
      " [ 0.          0.          0.          2.44914023 -2.88438463]\n",
      " [ 0.          0.          0.          0.         -1.02146496]]\n"
     ]
    },
    {
     "data": {
      "text/plain": [
       "array([[ 1.86936103,  1.31893832,  4.36412246,  2.37935315, -5.30586419],\n",
       "       [-1.21097208, -3.20438353, -2.8607856 , -2.17312943,  3.64589308],\n",
       "       [-0.02861524,  0.56522575, -0.01043644, -0.33818148,  0.39575005],\n",
       "       [ 0.63719989, -2.31368446, -1.04466038,  0.81057855, -0.42012476],\n",
       "       [-0.64850035,  0.1019958 ,  0.70790544, -0.25559931, -0.20646972]])"
      ]
     },
     "execution_count": 159,
     "metadata": {},
     "output_type": "execute_result"
    }
   ],
   "source": [
    "n = 5\n",
    "U = zeros(n, n)\n",
    "Ut = zeros(n, n)\n",
    "D = zeros(n, n)\n",
    "A = zeros(n, n)\n",
    "X = zeros(n, 2)\n",
    "Y = zeros(n, 2)\n",
    "# X = zeros(n, 1)\n",
    "# Y = zeros(n, 1)\n",
    "for i in range(n):\n",
    "    # if X.shape[1] == 1:\n",
    "    #     exec(\"x%s = symbols(r'x_{%s}')\"%(i+1, i+1))\n",
    "    #     exec('X[i] = x%s'%(i+1))\n",
    "    #     exec(\"y%s = symbols(r'y_{%s}')\"%(i+1, i+1))\n",
    "    #     exec('Y[i] = y%s'%(i+1))\n",
    "    for j in range(n):\n",
    "        if X.shape[1] == 1:\n",
    "            exec(\"x%s = symbols(r'x_{%s}')\"%(i+1, i+1))\n",
    "            exec('X[i] = x%s'%(i+1))\n",
    "            exec(\"y%s = symbols(r'y_{%s}')\"%(i+1, i+1))\n",
    "            exec('Y[i] = y%s'%(i+1))\n",
    "\n",
    "        elif j < X.shape[1]:\n",
    "            # print((i,j))\n",
    "            exec(\"x%s%s = symbols(r'x_{%s%s}')\"%(i+1, j+1, i+1, j+1))\n",
    "            exec('X[i, j] = x%s%s'%(i+1, j+1))\n",
    "            exec(\"y%s%s = symbols(r'y_{%s%s}')\"%(i+1, j+1, i+1, j+1))\n",
    "            exec('Y[i, j] = y%s%s'%(i+1, j+1))\n",
    "\n",
    "        exec(\"u%s%s = symbols(r'u_{%s%s}')\"%(i+1, j+1, i+1, j+1))\n",
    "        exec(\"u%s%st = symbols(r'\\\\tilde{u}_{%s%s}')\"%(i+1, j+1, i+1, j+1))\n",
    "        exec(\"a%s%s = symbols(r'a_{%s%s}')\"%(i+1, j+1, i+1, j+1))\n",
    "        if j == i:\n",
    "            U[i, j] = 1\n",
    "            exec('Ut[i, j] = u%s%st'%(i+1, j+1))\n",
    "            exec('D[i, j] = 1 / u%s%st'%(i+1, j+1))\n",
    "\n",
    "        elif j == i + 1:\n",
    "            exec('U[i, j] = u%s%s'%(i+1, j+1))\n",
    "            exec('Ut[i, j] = u%s%st'%(i+1, j+1))\n",
    "        \n",
    "        elif j == i + 2:\n",
    "            exec('U[i, j] = u%s%s'%(i+1, j+1))\n",
    "\n",
    "        if i <= j:\n",
    "            exec('A[i, j] = a%s%s'%(i+1, j+1))\n",
    "\n",
    "\n",
    "\n",
    "\n",
    "def pl(X):\n",
    "    print(latex(X))\n",
    "    return \n",
    "\n",
    "\n",
    "import numpy as np\n",
    "\n",
    "display(X @ Y.T)\n",
    "\n",
    "# display(U @ (X @ Y.T))\n",
    "\n",
    "\n",
    "pl(X @ Y.T)\n",
    "\n",
    "# Y[1, 0] = 0\n",
    "# pl(eye(5)[:, 3:5] @ Y.T)\n",
    "# eye(5)[:, 3:5] @ Y.T\n",
    "\n",
    "\n",
    "UU = np.triu(np.random.randn(5,5))\n",
    "xx = np.random.randn(5,2)\n",
    "yy = np.random.randn(5,2)\n",
    "\n",
    "\n",
    "print(np.linalg.norm(UU @ np.triu(xx @ yy.T) - np.triu(UU @ (xx @ yy.T))))\n",
    "\n",
    "\n",
    "print(UU @ np.triu(xx @ yy.T))\n",
    "print(np.triu(UU @ (xx @ yy.T)))\n",
    "\n",
    "\n",
    "\n",
    "\n",
    "AAA = np.triu(np.random.randn(5,5))\n",
    "BBB = np.triu(np.random.randn(5,5))\n",
    "BBB = np.random.randn(5,5)\n",
    "\n",
    "\n",
    "# BBB = xx @ yy.T\n",
    "\n",
    "np.triu(AAA @ BBB) - AAA @ BBB\n",
    "\n",
    "# np.linalg.matrix_rank(xx @ yy.T)\n",
    "\n",
    "# U @ (X @ Y.T)\n",
    "AAA @ BBB"
   ]
  },
  {
   "cell_type": "code",
   "execution_count": 154,
   "metadata": {},
   "outputs": [
    {
     "data": {
      "text/plain": [
       "1"
      ]
     },
     "execution_count": 154,
     "metadata": {},
     "output_type": "execute_result"
    }
   ],
   "source": [
    "X.shape[1]"
   ]
  },
  {
   "cell_type": "code",
   "execution_count": 155,
   "metadata": {},
   "outputs": [
    {
     "name": "stdout",
     "output_type": "stream",
     "text": [
      "\\left[\\begin{matrix}y_{1} & y_{2} & y_{3} & y_{4} & y_{5}\\end{matrix}\\right]\n"
     ]
    }
   ],
   "source": [
    "pl(Y.T)"
   ]
  },
  {
   "cell_type": "code",
   "execution_count": 156,
   "metadata": {},
   "outputs": [
    {
     "data": {
      "text/latex": [
       "$\\displaystyle 16 \\sqrt{2}$"
      ],
      "text/plain": [
       "16*sqrt(2)"
      ]
     },
     "execution_count": 156,
     "metadata": {},
     "output_type": "execute_result"
    }
   ],
   "source": [
    "sqrt(512)"
   ]
  },
  {
   "cell_type": "code",
   "execution_count": 157,
   "metadata": {},
   "outputs": [
    {
     "data": {
      "text/plain": [
       "[12 - 8*sqrt(2), 8*sqrt(2) + 12]"
      ]
     },
     "execution_count": 157,
     "metadata": {},
     "output_type": "execute_result"
    }
   ],
   "source": [
    "a = symbols(\"a\")\n",
    "solve(a**2 - 24*a + 16)"
   ]
  },
  {
   "cell_type": "code",
   "execution_count": 151,
   "metadata": {},
   "outputs": [
    {
     "data": {
      "text/latex": [
       "$\\displaystyle \\frac{d}{d t} \\operatorname{u_{0}}{\\left(t \\right)} = \\frac{a^{3} g \\operatorname{u_{0}}{\\left(t \\right)}}{c}$"
      ],
      "text/plain": [
       "Eq(Derivative(u_0(t), t), a**3*g*u_0(t)/c)"
      ]
     },
     "metadata": {},
     "output_type": "display_data"
    },
    {
     "data": {
      "text/latex": [
       "$\\displaystyle \\frac{d}{d t} \\operatorname{u_{1}}{\\left(t \\right)} = \\frac{a^{2} g \\operatorname{u_{1}}^{2}{\\left(t \\right)}}{\\operatorname{u_{0}}^{2}{\\left(t \\right)}}$"
      ],
      "text/plain": [
       "Eq(Derivative(u_1(t), t), a**2*g*u_1(t)**2/u_0(t)**2)"
      ]
     },
     "metadata": {},
     "output_type": "display_data"
    },
    {
     "data": {
      "text/latex": [
       "$\\displaystyle \\operatorname{u_{0}}{\\left(t \\right)} = e^{\\frac{a^{3} g \\left(C_{2} + t\\right)}{c}}$"
      ],
      "text/plain": [
       "Eq(u_0(t), exp(a**3*g*(C2 + t)/c))"
      ]
     },
     "metadata": {},
     "output_type": "display_data"
    },
    {
     "data": {
      "text/latex": [
       "$\\displaystyle \\operatorname{u_{1}}{\\left(t \\right)} = - \\frac{2 a e^{\\frac{2 a^{3} g \\left(C_{2} + t\\right)}{c}}}{C_{1} a e^{\\frac{2 a^{3} g \\left(C_{2} + t\\right)}{c}} - c}$"
      ],
      "text/plain": [
       "Eq(u_1(t), -2*a*exp(2*a**3*g*(C2 + t)/c)/(C1*a*exp(2*a**3*g*(C2 + t)/c) - c))"
      ]
     },
     "metadata": {},
     "output_type": "display_data"
    }
   ],
   "source": [
    "#代码\n",
    "\n",
    "from sympy import Function, dsolve, Derivative, symbols, Eq\n",
    "\n",
    "from sympy.abc import t, a, b, c, g\n",
    "\n",
    "t = symbols('t')\n",
    "\n",
    "u0, u1 =symbols('u_0 u_1', cls=Function)\n",
    "\n",
    "#注意这里的x和y之间的逗号可以省略，即可以写成x, y=symbols('x y', cls=Function)。这行代码等效于x=Function('x')和y=Function('y')\n",
    "\n",
    "eq=(Eq(Derivative(u0(t), t, 1), a**3*g*u0(t)/c), Eq(Derivative(u1(t), t, 1), a**2*g*(u1(t))**2/(u0(t))**2))\n",
    "\n",
    "\n",
    "\n",
    "display(eq[0])\n",
    "display(eq[1])\n",
    "#注意这里使用了Eq()函数，所以在第一行导入了from sympy import Eq。Eq()函数内的逗号相当于是等于号，等号左边和右边分别为微分方程左边和右边的表达式，如对于本例的第一个微分方程，除了写成Eq(Derivative(x(t), t, 2), 12*(x(t) + y(t)))外，还可以写成Eq(Derivative(x(t), t, 2)- 12*(x(t) + y(t)), 0)，注意这后面的0不能省略。\n",
    "\n",
    "#同样地，对于第一个例子求解单个微分方程的情况，如果要使用Eq函数，则应该写成eq=Eq(Derivative(x(t), t, 4) - 22*Derivative(x(t), t, 2) - 24*x(t), 0)和result=dsolve(eq)，并且要在第一行代码导入Eq函数。\n",
    "\n",
    "#如果在该例中，我们不想使用Eq()函数，则上行代码应该写为eq=(Derivative(x(t), t, 2)-12*(x(t) + y(t)), Derivative(y(t), t, 2)- 12*x(t) - 10*y(t))\n",
    "\n",
    "#简而言之就是，如果要使用Eq函数，则需要写成微分方程等号左右两边的表达式，当右边为0时，也需要写出来；如果不使用Eq函数，则只需要写出微分方程等号左边的表达式，此时等号右边应为0，且不需要写出来。\n",
    "\n",
    "result=dsolve(eq)\n",
    "\n",
    "display(result[0])\n",
    "\n",
    "display(result[1])"
   ]
  },
  {
   "cell_type": "code",
   "execution_count": null,
   "metadata": {},
   "outputs": [],
   "source": []
  }
 ],
 "metadata": {
  "interpreter": {
   "hash": "38cca0c38332a56087b24af0bc80247f4fced29cb4f7f437d91dc159adec9c4e"
  },
  "kernelspec": {
   "display_name": "Python 3.9.7 ('base')",
   "language": "python",
   "name": "python3"
  },
  "language_info": {
   "codemirror_mode": {
    "name": "ipython",
    "version": 3
   },
   "file_extension": ".py",
   "mimetype": "text/x-python",
   "name": "python",
   "nbconvert_exporter": "python",
   "pygments_lexer": "ipython3",
   "version": "3.9.7"
  },
  "orig_nbformat": 4
 },
 "nbformat": 4,
 "nbformat_minor": 2
}
