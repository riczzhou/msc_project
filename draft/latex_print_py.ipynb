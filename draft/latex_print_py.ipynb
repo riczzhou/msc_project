{
 "cells": [
  {
   "cell_type": "code",
   "execution_count": 2,
   "metadata": {},
   "outputs": [],
   "source": [
    "from sympy import *\n",
    "\n",
    "from IPython.display import display, Latex\n"
   ]
  },
  {
   "cell_type": "code",
   "execution_count": 12,
   "metadata": {},
   "outputs": [],
   "source": [
    "n = 5\n",
    "U = zeros(n, n)\n",
    "Ut = zeros(n, n)\n",
    "D = zeros(n, n)\n",
    "A = zeros(n, n)\n",
    "X = zeros(n, 2)\n",
    "Y = zeros(n, 2)\n",
    "# X = zeros(n, 1)\n",
    "# Y = zeros(n, 1)\n",
    "for i in range(n):\n",
    "    # if X.shape[1] == 1:\n",
    "    #     exec(\"x%s = symbols(r'x_{%s}')\"%(i+1, i+1))\n",
    "    #     exec('X[i] = x%s'%(i+1))\n",
    "    #     exec(\"y%s = symbols(r'y_{%s}')\"%(i+1, i+1))\n",
    "    #     exec('Y[i] = y%s'%(i+1))\n",
    "    for j in range(n):\n",
    "        if X.shape[1] == 1:\n",
    "            exec(\"x%s = symbols(r'x_{%s}')\"%(i+1, i+1))\n",
    "            exec('X[i] = x%s'%(i+1))\n",
    "            exec(\"y%s = symbols(r'y_{%s}')\"%(i+1, i+1))\n",
    "            exec('Y[i] = y%s'%(i+1))\n",
    "\n",
    "        elif j < X.shape[1]:\n",
    "            # print((i,j))\n",
    "            exec(\"x%s%s = symbols(r'x_{%s%s}')\"%(i+1, j+1, i+1, j+1))\n",
    "            exec('X[i, j] = x%s%s'%(i+1, j+1))\n",
    "            exec(\"y%s%s = symbols(r'y_{%s%s}')\"%(i+1, j+1, i+1, j+1))\n",
    "            exec('Y[i, j] = y%s%s'%(i+1, j+1))\n",
    "\n",
    "        exec(\"u%s%s = symbols(r'u_{%s%s}')\"%(i+1, j+1, i+1, j+1))\n",
    "        exec(\"u%s%st = symbols(r'\\\\tilde{u}_{%s%s}')\"%(i+1, j+1, i+1, j+1))\n",
    "        exec(\"a%s%s = symbols(r'a_{%s%s}')\"%(i+1, j+1, i+1, j+1))\n",
    "        \n",
    "        exec(\"d%s = symbols(r'd_{%s}')\"%(i+1, i+1))\n",
    "\n",
    "        if j == i:\n",
    "            U[i, j] = 1\n",
    "            exec('U[i, j] = d%s'%(i+1))\n",
    "            exec('Ut[i, j] = u%s%st'%(i+1, j+1))\n",
    "            exec('D[i, j] = 1 / u%s%st'%(i+1, j+1))\n",
    "\n",
    "        elif j == i + 1:\n",
    "            exec('U[i, j] = u%s%s'%(i+1, j+1))\n",
    "            exec('Ut[i, j] = u%s%st'%(i+1, j+1))\n",
    "        \n",
    "        elif j == i + 2:\n",
    "            exec('U[i, j] = u%s%s'%(i+1, j+1))\n",
    "\n",
    "        if i <= j:\n",
    "            exec('A[i, j] = a%s%s'%(i+1, j+1))\n",
    "\n",
    "\n",
    "U\n",
    "\n",
    "def pl(X):\n",
    "    print(latex(X))\n",
    "    return \n",
    "\n",
    "\n",
    "# import numpy as np\n",
    "\n",
    "# display(X @ Y.T)\n",
    "\n",
    "# display(U @ (X @ Y.T))\n",
    "\n",
    "\n",
    "# pl(X @ Y.T)\n"
   ]
  },
  {
   "cell_type": "code",
   "execution_count": 13,
   "metadata": {},
   "outputs": [
    {
     "name": "stdout",
     "output_type": "stream",
     "text": [
      "\\left[\\begin{matrix}d_{1} & u^{1}_{1} & u^{2}_{1} & 0 & 0 & 0 & 0 & 0 & 0\\\\0 & d_{2} & u^{1}_{2} & u^{2}_{2} & 0 & 0 & 0 & 0 & 0\\\\0 & 0 & d_{3} & u^{1}_{3} & u^{2}_{3} & 0 & 0 & 0 & 0\\\\0 & 0 & 0 & d_{4} & u^{1}_{4} & u^{2}_{4} & 0 & 0 & 0\\\\0 & 0 & 0 & 0 & d_{5} & u^{1}_{5} & u^{2}_{5} & 0 & 0\\\\0 & 0 & 0 & 0 & 0 & d_{6} & u^{1}_{6} & u^{2}_{6} & 0\\\\0 & 0 & 0 & 0 & 0 & 0 & d_{7} & u^{1}_{7} & u^{2}_{7}\\\\0 & 0 & 0 & 0 & 0 & 0 & 0 & d_{8} & u^{1}_{8}\\\\0 & 0 & 0 & 0 & 0 & 0 & 0 & 0 & d_{9}\\end{matrix}\\right]\n"
     ]
    }
   ],
   "source": [
    "n = 9\n",
    "U = zeros(n, n)\n",
    "Ut = zeros(n, n)\n",
    "D = zeros(n, n)\n",
    "A = zeros(n, n)\n",
    "X = zeros(n, 2)\n",
    "Y = zeros(n, 2)\n",
    "# X = zeros(n, 1)\n",
    "# Y = zeros(n, 1)\n",
    "for i in range(n):\n",
    "    # if X.shape[1] == 1:\n",
    "    #     exec(\"x%s = symbols(r'x_{%s}')\"%(i+1, i+1))\n",
    "    #     exec('X[i] = x%s'%(i+1))\n",
    "    #     exec(\"y%s = symbols(r'y_{%s}')\"%(i+1, i+1))\n",
    "    #     exec('Y[i] = y%s'%(i+1))\n",
    "    for j in range(n):\n",
    "        # if X.shape[1] == 1:\n",
    "        #     exec(\"x%s = symbols(r'x_{%s}')\"%(i+1, i+1))\n",
    "        #     exec('X[i] = x%s'%(i+1))\n",
    "        #     exec(\"y%s = symbols(r'y_{%s}')\"%(i+1, i+1))\n",
    "        #     exec('Y[i] = y%s'%(i+1))\n",
    "\n",
    "        # elif j < X.shape[1]:\n",
    "        #     # print((i,j))\n",
    "        #     exec(\"x%s%s = symbols(r'x_{%s%s}')\"%(i+1, j+1, i+1, j+1))\n",
    "        #     exec('X[i, j] = x%s%s'%(i+1, j+1))\n",
    "        #     exec(\"y%s%s = symbols(r'y_{%s%s}')\"%(i+1, j+1, i+1, j+1))\n",
    "        #     exec('Y[i, j] = y%s%s'%(i+1, j+1))\n",
    "\n",
    "        exec(\"b1%s = symbols(r'u^{1}_{%s}')\"%(i+1, i+1))\n",
    "        exec(\"b2%s = symbols(r'u^{2}_{%s}')\"%(i+1, i+1))\n",
    "        # exec(\"u%s%st = symbols(r'\\\\tilde{u}_{%s%s}')\"%(i+1, j+1, i+1, j+1))\n",
    "        # exec(\"a%s%s = symbols(r'a_{%s%s}')\"%(i+1, j+1, i+1, j+1))\n",
    "        \n",
    "        exec(\"d%s = symbols(r'd_{%s}')\"%(i+1, i+1))\n",
    "\n",
    "        if j == i:\n",
    "            exec('U[i, j] = d%s'%(i+1))\n",
    "            # exec('Ut[i, j] = u%s%st'%(i+1, j+1))\n",
    "            # exec('D[i, j] = 1 / u%s%st'%(i+1, j+1))\n",
    "\n",
    "        elif j == i + 1:\n",
    "            exec('U[i, j] = b1%s'%(i+1))\n",
    "            # exec('Ut[i, j] = u%s%st'%(i+1, j+1))\n",
    "        \n",
    "        elif j == i + 2:\n",
    "            exec('U[i, j] = b2%s'%(i+1))\n",
    "\n",
    "        # if i <= j:\n",
    "            # exec('A[i, j] = a%s%s'%(i+1, j+1))\n",
    "\n",
    "\n",
    "U\n",
    "pl(U)\n"
   ]
  },
  {
   "cell_type": "code",
   "execution_count": 155,
   "metadata": {},
   "outputs": [
    {
     "name": "stdout",
     "output_type": "stream",
     "text": [
      "\\left[\\begin{matrix}y_{1} & y_{2} & y_{3} & y_{4} & y_{5}\\end{matrix}\\right]\n"
     ]
    }
   ],
   "source": [
    "pl(Y.T)"
   ]
  },
  {
   "cell_type": "code",
   "execution_count": null,
   "metadata": {},
   "outputs": [],
   "source": []
  }
 ],
 "metadata": {
  "interpreter": {
   "hash": "38cca0c38332a56087b24af0bc80247f4fced29cb4f7f437d91dc159adec9c4e"
  },
  "kernelspec": {
   "display_name": "Python 3.9.7 ('base')",
   "language": "python",
   "name": "python3"
  },
  "language_info": {
   "codemirror_mode": {
    "name": "ipython",
    "version": 3
   },
   "file_extension": ".py",
   "mimetype": "text/x-python",
   "name": "python",
   "nbconvert_exporter": "python",
   "pygments_lexer": "ipython3",
   "version": "3.9.7"
  },
  "orig_nbformat": 4
 },
 "nbformat": 4,
 "nbformat_minor": 2
}
