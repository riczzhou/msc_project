{
 "cells": [
  {
   "cell_type": "code",
   "execution_count": 2,
   "metadata": {},
   "outputs": [
    {
     "name": "stdout",
     "output_type": "stream",
     "text": [
      "\u001b[32m\u001b[1m      Status\u001b[22m\u001b[39m `~/.julia/environments/v1.7/Project.toml`\n",
      " \u001b[90m [aae01518] \u001b[39mBandedMatrices v0.17.0\n",
      " \u001b[90m [6e4b80f9] \u001b[39mBenchmarkTools v1.3.1\n",
      " \u001b[90m [ce91de38] \u001b[39mColorBitstring v0.1.1\n",
      " \u001b[90m [7073ff75] \u001b[39mIJulia v1.23.3\n",
      " \u001b[90m [5078a376] \u001b[39mLazyArrays v0.22.10\n",
      " \u001b[90m [a3b82374] \u001b[39mMatrixFactorizations v0.9.1\n",
      " \u001b[90m [91a5bcdd] \u001b[39mPlots v1.29.0\n",
      " \u001b[90m [438e738f] \u001b[39mPyCall v1.93.1\n",
      " \u001b[90m [295af30f] \u001b[39mRevise v3.3.3\n",
      " \u001b[90m [f8ebbe35] \u001b[39mSemiseparableMatrices v0.3.3\n",
      " \u001b[90m [3cc68bcd] \u001b[39mSetRounding v0.2.1\n",
      " \u001b[90m [24249f21] \u001b[39mSymPy v1.1.6\n",
      " \u001b[90m [37e2e46d] \u001b[39mLinearAlgebra\n",
      " \u001b[90m [9a3f8284] \u001b[39mRandom\n",
      " \u001b[90m [8dfed614] \u001b[39mTest\n"
     ]
    }
   ],
   "source": [
    "using Pkg\n",
    "Pkg.status()\n",
    "using SymPy\n",
    "using BenchmarkTools, LinearAlgebra, LazyArrays, BandedMatrices"
   ]
  },
  {
   "cell_type": "code",
   "execution_count": 223,
   "metadata": {},
   "outputs": [
    {
     "data": {
      "text/plain": [
       "(u_51, u_52, u_53, u_54, u_55)"
      ]
     },
     "execution_count": 223,
     "metadata": {},
     "output_type": "execute_result"
    }
   ],
   "source": [
    "u1, u2, u3, u4, u5 = symbols(\"u_(1:6)\", real=True)\n",
    "x1, x2, x3, x4, x5 = symbols(\"x_(1:6)\", real=True)\n",
    "y1, y2, y3, y4, y5 = symbols(\"y_(1:6)\", real=True)\n",
    "\n",
    "a11, a12, a13, a14, a15 = symbols(\"a_1(1:6)\", real=True)\n",
    "a21, a22, a23, a24, a25 = symbols(\"a_2(1:6)\", real=True)\n",
    "a31, a32, a33, a34, a35 = symbols(\"a_3(1:6)\", real=True)\n",
    "a41, a42, a43, a44, a45 = symbols(\"a_4(1:6)\", real=True)\n",
    "a51, a52, a53, a54, a55 = symbols(\"a_5(1:6)\", real=True)\n",
    "\n",
    "u11, u12, u13, u14, u15 = symbols(\"u_1(1:6)\", real=True)\n",
    "u21, u22, u23, u24, u25 = symbols(\"u_2(1:6)\", real=True)\n",
    "u31, u32, u33, u34, u35 = symbols(\"u_3(1:6)\", real=True)\n",
    "u41, u42, u43, u44, u45 = symbols(\"u_4(1:6)\", real=True)\n",
    "u51, u52, u53, u54, u55 = symbols(\"u_5(1:6)\", real=True)\n",
    "# u1 = symbols(\"u^1_(1:6)\", real=True)\n",
    "\n",
    "\n",
    "# for i in 1:2\n",
    "#     u$i = symbols(\"u_(1:6)^$i\", real=True)\n",
    "# end\n",
    "# # u$i\n",
    "\n",
    "# using Printf\n",
    "\n",
    "# function genU(n, bw)\n",
    "\n",
    "#     U = zeros(n, n)\n",
    "#     for i in 1:n\n",
    "#         for j in i:min(i+bw, n)\n",
    "#             stri = string(i)\n",
    "#             strj = string(j)\n",
    "#             # str = \"u_$i$j\"\n",
    "#             # display(\"$i$j\")\n",
    "#             U[i, j] = symbols(println(\"u_$j^$i\"), real=True)\n",
    "#         end\n",
    "#     end\n",
    "#     U\n",
    "# end\n",
    "# genU(10, 1)\n",
    "# # u1[1]"
   ]
  },
  {
   "cell_type": "code",
   "execution_count": 248,
   "metadata": {},
   "outputs": [
    {
     "data": {
      "text/latex": [
       "$\\left[ \\begin{array}{rrrr}1&u_{1}&0&0\\\\0&1&u_{2}&0\\\\0&0&1&u_{3}\\\\0&0&0&1\\end{array}\\right]$\n"
      ],
      "text/plain": [
       "4×4 Matrix{Sym}:\n",
       " 1  u₁    0    0\n",
       " 0    1  u₂    0\n",
       " 0    0    1  u₃\n",
       " 0    0    0    1"
      ]
     },
     "execution_count": 248,
     "metadata": {},
     "output_type": "execute_result"
    }
   ],
   "source": [
    "dv = [1, 1, 1, 1]\n",
    "ev = [u1, u2, u3]\n",
    "U = Bidiagonal(dv, ev, :U)\n",
    "\n",
    "\n",
    "U = [1 u1 0 0 ;\n",
    "     0 1 u2 0 ;\n",
    "     0 0 1 u3 ;\n",
    "     0 0 0 1  ]\n"
   ]
  },
  {
   "cell_type": "code",
   "execution_count": 266,
   "metadata": {},
   "outputs": [
    {
     "data": {
      "text/latex": [
       "$\\left[ \\begin{array}{rrrrr}u^{0}_{1}&u^{1}_{1}&0&0&0\\\\0&u^{0}_{2}&u^{1}_{2}&0&0\\\\0&0&u^{0}_{3}&u^{1}_{3}&0\\\\0&0&0&u^{0}_{4}&u^{1}_{4}\\\\0&0&0&0&u^{0}_{5}\\end{array}\\right]$\n"
      ],
      "text/plain": [
       "5×5 Bidiagonal{Sym, Vector{Sym}}:\n",
       " u⁰₁  u¹₁      ⋅      ⋅      ⋅\n",
       "     ⋅  u⁰₂  u¹₂      ⋅      ⋅\n",
       "     ⋅      ⋅  u⁰₃  u¹₃      ⋅\n",
       "     ⋅      ⋅      ⋅  u⁰₄  u¹₄\n",
       "     ⋅      ⋅      ⋅      ⋅  u⁰₅"
      ]
     },
     "execution_count": 266,
     "metadata": {},
     "output_type": "execute_result"
    }
   ],
   "source": [
    "function ppl(context)\n",
    "    println(sympy.latex(context))\n",
    "end\n",
    "\n",
    "uu0 = symbols(\"u^0_(1:6)\", real=True)\n",
    "uu1 = symbols(\"u^1_(1:5)\", real=True)\n",
    "\n",
    "uu0 = [i for i in uu0]\n",
    "uu1 = [i for i in uu1]\n",
    "\n",
    "\n",
    "AA = Bidiagonal(uu0, uu1, :U)\n",
    "\n",
    "# DD = Diagonal(1 ./ uu0)\n",
    "\n",
    "# AA*DD - DD*AA\n",
    "\n",
    "\n",
    "# ppl(U)"
   ]
  },
  {
   "cell_type": "code",
   "execution_count": 253,
   "metadata": {},
   "outputs": [
    {
     "data": {
      "text/latex": [
       "$\\left[ \\begin{array}{rrrr}a_{11}&a_{12}&a_{13}&a_{14}\\\\0&a_{22}&a_{23}&a_{24}\\\\0&0&a_{33}&a_{34}\\\\0&0&0&a_{44}\\end{array}\\right]$\n"
      ],
      "text/plain": [
       "4×4 Matrix{Sym}:\n",
       " a₁₁  a₁₂  a₁₃  a₁₄\n",
       "    0  a₂₂  a₂₃  a₂₄\n",
       "    0     0  a₃₃  a₃₄\n",
       "    0     0     0  a₄₄"
      ]
     },
     "metadata": {},
     "output_type": "display_data"
    },
    {
     "data": {
      "text/latex": [
       "$\\left[ \\begin{array}{rrrr}x_{1} y_{1}&x_{1} y_{2}&x_{1} y_{3}&x_{1} y_{4}\\\\0&x_{2} y_{2}&x_{2} y_{3}&x_{2} y_{4}\\\\0&0&x_{3} y_{3}&x_{3} y_{4}\\\\0&0&0&x_{4} y_{4}\\end{array}\\right]$\n"
      ],
      "text/plain": [
       "4×4 Matrix{Sym}:\n",
       " x₁⋅y₁  x₁⋅y₂  x₁⋅y₃  x₁⋅y₄\n",
       "       0  x₂⋅y₂  x₂⋅y₃  x₂⋅y₄\n",
       "       0        0  x₃⋅y₃  x₃⋅y₄\n",
       "       0        0        0  x₄⋅y₄"
      ]
     },
     "metadata": {},
     "output_type": "display_data"
    }
   ],
   "source": [
    "x = [x1, x2, x3, x4]\n",
    "y = [y1, y2, y3, y4]\n",
    "A = [a11 a12 a13 a14 ;\n",
    "     a21 a22 a23 a24 ;\n",
    "     a31 a32 a33 a34 ;\n",
    "     a41 a42 a43 a44 ]\n",
    "\n",
    "A = triu(A, 0)\n",
    "display(A)\n",
    "\n",
    "A1 = triu(x * y', 0)\n",
    "display(A1)\n"
   ]
  },
  {
   "cell_type": "code",
   "execution_count": 226,
   "metadata": {},
   "outputs": [
    {
     "data": {
      "text/latex": [
       "$\\left[ \\begin{array}{rrrr}a_{11}&a_{12} + a_{22} u_{1}&a_{13} + a_{23} u_{1}&a_{14} + a_{24} u_{1}\\\\0&a_{22}&a_{23} + a_{33} u_{2}&a_{24} + a_{34} u_{2}\\\\0&0&a_{33}&a_{34} + a_{44} u_{3}\\\\0&0&0&a_{44}\\end{array}\\right]$\n"
      ],
      "text/plain": [
       "4×4 Matrix{Sym}:\n",
       " a₁₁  a₁₂ + a₂₂⋅u₁  a₁₃ + a₂₃⋅u₁  a₁₄ + a₂₄⋅u₁\n",
       "    0             a₂₂  a₂₃ + a₃₃⋅u₂  a₂₄ + a₃₄⋅u₂\n",
       "    0                0             a₃₃  a₃₄ + a₄₄⋅u₃\n",
       "    0                0                0             a₄₄"
      ]
     },
     "execution_count": 226,
     "metadata": {},
     "output_type": "execute_result"
    }
   ],
   "source": [
    "U * A"
   ]
  },
  {
   "cell_type": "code",
   "execution_count": 7,
   "metadata": {},
   "outputs": [
    {
     "data": {
      "text/plain": [
       "(a, b, c, d)"
      ]
     },
     "execution_count": 7,
     "metadata": {},
     "output_type": "execute_result"
    }
   ],
   "source": [
    "@vars a b c d"
   ]
  },
  {
   "cell_type": "code",
   "execution_count": 8,
   "metadata": {},
   "outputs": [
    {
     "data": {
      "text/latex": [
       "$\\left[ \\begin{array}{rrrr}0&0&0&0\\\\0&0&0&0\\\\0&0&0&0\\\\y_{1}&y_{2}&y_{3}&y_{4}\\end{array}\\right]$\n"
      ],
      "text/plain": [
       "4×4 Matrix{Sym}:\n",
       "   0    0    0    0\n",
       "   0    0    0    0\n",
       "   0    0    0    0\n",
       " y₁  y₂  y₃  y₄"
      ]
     },
     "execution_count": 8,
     "metadata": {},
     "output_type": "execute_result"
    }
   ],
   "source": [
    "e4 = [0, 0, 0, 1]\n",
    "e4 * y'"
   ]
  },
  {
   "cell_type": "code",
   "execution_count": 9,
   "metadata": {},
   "outputs": [
    {
     "data": {
      "text/latex": [
       "$\\left[ \\begin{array}{rrrr}0&0&0&0\\\\0&0&0&0\\\\0&0&0&0\\\\0&0&0&0\\end{array}\\right]$\n"
      ],
      "text/plain": [
       "4×4 Matrix{Sym}:\n",
       " 0  0  0  0\n",
       " 0  0  0  0\n",
       " 0  0  0  0\n",
       " 0  0  0  0"
      ]
     },
     "execution_count": 9,
     "metadata": {},
     "output_type": "execute_result"
    }
   ],
   "source": [
    "A11 = U\n",
    "B11 = e4\n",
    "\n",
    "X11 = A11 \\ B11\n",
    "\n",
    "triu(A11 * X11 * (1 ./ X11)', 1)\n"
   ]
  },
  {
   "cell_type": "code",
   "execution_count": 10,
   "metadata": {},
   "outputs": [
    {
     "data": {
      "text/latex": [
       "$\\left[ \\begin{array}{rrrr}1&- u_{1}&u_{1} u_{2}&- u_{1} u_{2} u_{3}\\\\0&1&- u_{2}&u_{2} u_{3}\\\\0&0&1&- u_{3}\\\\0&0&0&1\\end{array}\\right]$\n"
      ],
      "text/plain": [
       "4×4 Matrix{Sym}:\n",
       " 1  -u₁  u₁⋅u₂  -u₁⋅u₂⋅u₃\n",
       " 0     1     -u₂       u₂⋅u₃\n",
       " 0     0        1          -u₃\n",
       " 0     0        0             1"
      ]
     },
     "execution_count": 10,
     "metadata": {},
     "output_type": "execute_result"
    }
   ],
   "source": [
    "triu(X11 * (1 ./ X11)', 0)"
   ]
  },
  {
   "cell_type": "code",
   "execution_count": 11,
   "metadata": {},
   "outputs": [
    {
     "data": {
      "text/latex": [
       "$\\left[ \\begin{array}{rrrr}1&- u_{1}&u_{1} u_{2}&- u_{1} u_{2} u_{3}\\\\0&1&- u_{2}&u_{2} u_{3}\\\\0&0&1&- u_{3}\\\\0&0&0&1\\end{array}\\right]$\n"
      ],
      "text/plain": [
       "4×4 Matrix{Sym}:\n",
       " 1  -u₁  u₁⋅u₂  -u₁⋅u₂⋅u₃\n",
       " 0     1     -u₂       u₂⋅u₃\n",
       " 0     0        1          -u₃\n",
       " 0     0        0             1"
      ]
     },
     "execution_count": 11,
     "metadata": {},
     "output_type": "execute_result"
    }
   ],
   "source": [
    "inv(U)"
   ]
  },
  {
   "cell_type": "code",
   "execution_count": 12,
   "metadata": {},
   "outputs": [
    {
     "data": {
      "text/plain": [
       "4"
      ]
     },
     "execution_count": 12,
     "metadata": {},
     "output_type": "execute_result"
    }
   ],
   "source": [
    "size(U)[1]"
   ]
  },
  {
   "cell_type": "code",
   "execution_count": 411,
   "metadata": {},
   "outputs": [
    {
     "data": {
      "text/plain": [
       "35.15402481018372601771167248982052643908642408306572046390187348945877222932595"
      ]
     },
     "metadata": {},
     "output_type": "display_data"
    },
    {
     "data": {
      "text/plain": [
       "35.15402481018372601771167248982052643908642408306572046390187348945877222932595"
      ]
     },
     "metadata": {},
     "output_type": "display_data"
    },
    {
     "data": {
      "text/plain": [
       "35.1540248101837"
      ]
     },
     "metadata": {},
     "output_type": "display_data"
    },
    {
     "data": {
      "text/plain": [
       "35.15402481018372601771167248982052643908642408306572046390187348945877222932595"
      ]
     },
     "metadata": {},
     "output_type": "display_data"
    },
    {
     "data": {
      "text/plain": [
       "\"-------------------------\""
      ]
     },
     "metadata": {},
     "output_type": "display_data"
    },
    {
     "data": {
      "text/plain": [
       "0.0"
      ]
     },
     "metadata": {},
     "output_type": "display_data"
    },
    {
     "data": {
      "text/plain": [
       "1.800412155365235041586851169022533693704130233631326639507964447862194377489943e-15"
      ]
     },
     "metadata": {},
     "output_type": "display_data"
    },
    {
     "data": {
      "text/plain": [
       "0.0"
      ]
     },
     "metadata": {},
     "output_type": "display_data"
    },
    {
     "name": "stdout",
     "output_type": "stream",
     "text": [
      "  0.003132 seconds (60.02 k allocations: 3.281 MiB)\n",
      "  0.003560 seconds (100.00 k allocations: 5.417 MiB)\n",
      "  0.004136 seconds (139.99 k allocations: 7.553 MiB)\n",
      "  0.003913 seconds (120.00 k allocations: 6.561 MiB)\n"
     ]
    }
   ],
   "source": [
    "function backSub(U, b)\n",
    "    n = size(U)[1]\n",
    "    x = zeros(n)\n",
    "    x[end] = b[end] / U[end, end]\n",
    "    for i in n-1 : -1 : 1\n",
    "        sum_ = 0.0\n",
    "        for j in i+1 : n\n",
    "            sum_ += U[i, j] * x[j]\n",
    "        end\n",
    "        x[i] = (b[i] - sum_)/U[i, i]\n",
    "    end\n",
    "    x\n",
    "end\n",
    "\n",
    "function backSubBanded(U, b, bw=1)\n",
    "    T = eltype(U)\n",
    "    n = size(U)[1]\n",
    "    x = zeros(T, n)\n",
    "    x[end] = b[end] / U[end, end]\n",
    "\n",
    "    for i in n-1 : -1 : 1\n",
    "        sum_ = zero(T)\n",
    "        for j in i+1 : min(n, i+bw)\n",
    "            sum_ += U[i, j] * x[j]\n",
    "        end\n",
    "        x[i] = (b[i] - sum_) / U[i, i]\n",
    "\n",
    "    end\n",
    "    x\n",
    "end\n",
    "\n",
    "\n",
    "function backSubBandedBF(U, b, bw=1)\n",
    "    n = size(U)[1]\n",
    "    x = zeros(n)\n",
    "    for i in 1:n\n",
    "        x[i] = BigFloat(0.0)\n",
    "    end\n",
    "    x[end] = BigFloat(b[end]) / BigFloat(U[end, end])\n",
    "    for i in n-1 : -1 : 1\n",
    "        sum_ = BigFloat(0.0)\n",
    "        for j in i+1 : min(n, i+bw)\n",
    "            sum_ += BigFloat(U[i, j]) * BigFloat(x[j])\n",
    "        end\n",
    "        x[i] = (BigFloat(b[i]) - BigFloat(sum_)) / BigFloat(U[i, i])\n",
    "    end\n",
    "    x\n",
    "end\n",
    "\n",
    "function backSubBandedBFboardcast(U, b, bw=1)\n",
    "    n = size(U)[1]\n",
    "    x = BigFloat.(zeros(n))\n",
    "    x[end] = BigFloat.(b[end] / U[end, end])\n",
    "    for i in n-1 : -1 : 1\n",
    "        sum_ = BigFloat(0.0)\n",
    "        for j in i+1 : min(n, i+bw)\n",
    "            sum_ += BigFloat.(U[i, j] * x[j])\n",
    "        end\n",
    "        x[i] = BigFloat.((b[i] - sum_) / U[i, i])\n",
    "    end\n",
    "    x\n",
    "end\n",
    "\n",
    "using Random\n",
    "Random.seed!(0);\n",
    "\n",
    "\n",
    "n = 10000\n",
    "bw = 1\n",
    "U = BandedMatrix(rand(n, n), (0, bw))\n",
    "\n",
    "U = Bidiagonal(1 .+ BigFloat.(rand(n)), BigFloat.(rand(n-1)), :U)\n",
    "\n",
    "b = BigFloat.(rand(n))\n",
    "# x = BigFloat.(rand(n))\n",
    "# x = zeros(BigFloat, n)\n",
    "# x[end] = BigFloat(1.0)\n",
    "\n",
    "# b = U * x\n",
    "\n",
    "display(norm((U \\ b)))\n",
    "display(norm(backSubBanded(U, b, bw)))\n",
    "display(norm(backSubBandedBF(U, b, bw)))\n",
    "display(norm(backSubBandedBFboardcast(U, b, bw)))\n",
    "display(\"-------------------------\")\n",
    "\n",
    "\n",
    "# abserror = np.linalg.norm(corr - approx)\n",
    "# relerror = abserror/np.linalg.norm(corr)\n",
    "\n",
    "\n",
    "display(norm((big.(U) \\ b) - backSubBanded(U, b, bw)))\n",
    "display(norm((big.(U) \\ b) - backSubBandedBF(U, b, bw)))\n",
    "display(norm((big.(U) \\ b) - backSubBandedBFboardcast(U, b, bw)))\n",
    "\n",
    "\n",
    "@time U \\ b\n",
    "@time backSubBanded(U, b, bw);\n",
    "@time backSubBandedBF(U, b, bw);\n",
    "@time backSubBandedBFboardcast(U, b, bw);"
   ]
  },
  {
   "cell_type": "code",
   "execution_count": 398,
   "metadata": {},
   "outputs": [
    {
     "name": "stdout",
     "output_type": "stream",
     "text": [
      "  0.155115 seconds (6.00 M allocations: 327.859 MiB)\n",
      "  0.169652 seconds (3.17 M allocations: 184.781 MiB, 15.63% compilation time)\n",
      "  0.022963 seconds (112.86 k allocations: 21.368 MiB, 86.84% compilation time)\n",
      "  0.532454 seconds (13.26 M allocations: 723.360 MiB, 45.45% gc time, 7.82% compilation time)\n"
     ]
    },
    {
     "ename": "LoadError",
     "evalue": "DimensionMismatch(\"second dimension of A, 1000, does not match one of the lengths of x, 10000, or b, 10000\")",
     "output_type": "error",
     "traceback": [
      "DimensionMismatch(\"second dimension of A, 1000, does not match one of the lengths of x, 10000, or b, 10000\")",
      "",
      "Stacktrace:",
      " [1] naivesub!(A::Bidiagonal{BigFloat, Vector{BigFloat}}, b::Vector{BigFloat}, x::Vector{BigFloat})",
      "   @ LinearAlgebra /Applications/Julia-1.7.app/Contents/Resources/julia/share/julia/stdlib/v1.7/LinearAlgebra/src/bidiag.jl:786",
      " [2] naivesub!",
      "   @ /Applications/Julia-1.7.app/Contents/Resources/julia/share/julia/stdlib/v1.7/LinearAlgebra/src/bidiag.jl:783 [inlined]",
      " [3] ldiv!",
      "   @ /Applications/Julia-1.7.app/Contents/Resources/julia/share/julia/stdlib/v1.7/LinearAlgebra/src/bidiag.jl:731 [inlined]",
      " [4] \\(A::Bidiagonal{BigFloat, Vector{BigFloat}}, B::Vector{BigFloat})",
      "   @ LinearAlgebra /Applications/Julia-1.7.app/Contents/Resources/julia/share/julia/stdlib/v1.7/LinearAlgebra/src/bidiag.jl:827",
      " [5] top-level scope",
      "   @ show.jl:1047",
      " [6] eval",
      "   @ ./boot.jl:373 [inlined]",
      " [7] include_string(mapexpr::typeof(REPL.softscope), mod::Module, code::String, filename::String)",
      "   @ Base ./loading.jl:1196"
     ]
    }
   ],
   "source": [
    "n = 1000\n",
    "bw = 1\n",
    "U = BandedMatrix(rand(n, n), (0, bw))\n",
    "U = brand(n, n, 0, bw)\n",
    "U = Bidiagonal(BigFloat.(ones(n)), BigFloat.(rand(n-1)), :U)\n",
    "\n",
    "\n",
    "function invBiU(U)\n",
    "    n = size(U)[1]\n",
    "    e_n = zeros(n)\n",
    "    e_n[n] = 1.0\n",
    "    # x = U \\ e_n\n",
    "    x = backSubBanded(U, b, 1)\n",
    "    y = 1 ./ x\n",
    "    Uinv = triu(x * y', 0)\n",
    "end\n",
    "\n",
    "function invBiUBF(U)\n",
    "    n = size(U)[1]\n",
    "    e_n = zeros(n)\n",
    "    for i in 1:n-1\n",
    "        e_n[i] = BigFloat(0.0)\n",
    "    end\n",
    "    e_n[n] = BigFloat(1.0)\n",
    "    # x = U \\ e_n\n",
    "    x = backSubBandedBF(U, b, 1)\n",
    "    y = zeros(n)\n",
    "    for i in 1:n\n",
    "        y[i] = BigFloat(1) / BigFloat(x[i])\n",
    "    end\n",
    "    Uinv = triu(x * y', 0)\n",
    "end\n",
    "\n",
    "function invBiUBFboardcast(U)\n",
    "    n = size(U)[1]\n",
    "    e_n = BigFloat.(zeros(n))\n",
    "    e_n[n] = BigFloat.(1.0)\n",
    "    # x = U \\ e_n\n",
    "    x = backSubBandedBFboardcast(U, b, 1)\n",
    "    y = BigFloat.(1 ./ x)\n",
    "    Uinv = triu(BigFloat.(x) * BigFloat.(y'), 0)\n",
    "end\n",
    "\n",
    "\n",
    "@time inv(U)\n",
    "@time invBiU(U)\n",
    "@time invBiUBF(U)\n",
    "@time invBiUBFboardcast(U)\n",
    "\n",
    "@show U \\ b\n",
    "\n",
    "display(norm(invBiU(U) - inv(U)))\n",
    "display(norm(invBiUBF(U) - inv(U)))\n",
    "display(norm(invBiUBFboardcast(U) - inv(U)))\n",
    "\n",
    "# invBiU(U)"
   ]
  },
  {
   "cell_type": "code",
   "execution_count": null,
   "metadata": {},
   "outputs": [],
   "source": []
  },
  {
   "cell_type": "code",
   "execution_count": 16,
   "metadata": {},
   "outputs": [
    {
     "data": {
      "text/plain": [
       "(y_21, y_22, y_23, y_24, y_25)"
      ]
     },
     "execution_count": 16,
     "metadata": {},
     "output_type": "execute_result"
    }
   ],
   "source": [
    "x11, x12, x13, x14, x15 = symbols(\"x_1(1:6)\", real=True)\n",
    "y11, y12, y13, y14, y15 = symbols(\"y_1(1:6)\", real=True)\n",
    "x21, x22, x23, x24, x25 = symbols(\"x_2(1:6)\", real=True)\n",
    "y21, y22, y23, y24, y25 = symbols(\"y_2(1:6)\", real=True)"
   ]
  },
  {
   "cell_type": "code",
   "execution_count": 287,
   "metadata": {},
   "outputs": [
    {
     "data": {
      "text/latex": [
       "$\\left[ \\begin{array}{rrrr}x_{11} y_{11}&u_{1} x_{12} y_{12} + x_{11} y_{12}&u_{1} x_{12} y_{13} + u_{4} x_{13} y_{13} + x_{11} y_{13}&u_{1} x_{12} y_{14} + u_{4} x_{13} y_{14} + x_{11} y_{14}\\\\0&x_{12} y_{12}&u_{2} x_{13} y_{13} + x_{12} y_{13}&u_{2} x_{13} y_{14} + u_{5} x_{14} y_{14} + x_{12} y_{14}\\\\0&0&x_{13} y_{13}&u_{3} x_{14} y_{14} + x_{13} y_{14}\\\\0&0&0&x_{14} y_{14}\\end{array}\\right]$\n"
      ],
      "text/plain": [
       "4×4 Matrix{Sym}:\n",
       " x₁₁⋅y₁₁  …  u₁⋅x₁₂⋅y₁₄ + u₄⋅x₁₃⋅y₁₄ + x₁₁⋅y₁₄\n",
       "         0     u₂⋅x₁₃⋅y₁₄ + u₅⋅x₁₄⋅y₁₄ + x₁₂⋅y₁₄\n",
       "         0                     u₃⋅x₁₄⋅y₁₄ + x₁₃⋅y₁₄\n",
       "         0                                     x₁₄⋅y₁₄"
      ]
     },
     "metadata": {},
     "output_type": "display_data"
    },
    {
     "data": {
      "text/latex": [
       "$\\left[ \\begin{array}{rrrr}y_{11} \\left(u_{1} x_{12} + u_{4} x_{13} + x_{11}\\right)&y_{12} \\left(u_{1} x_{12} + u_{4} x_{13} + x_{11}\\right)&y_{13} \\left(u_{1} x_{12} + u_{4} x_{13} + x_{11}\\right)&y_{14} \\left(u_{1} x_{12} + u_{4} x_{13} + x_{11}\\right)\\\\y_{11} \\left(u_{2} x_{13} + u_{5} x_{14} + x_{12}\\right)&y_{12} \\left(u_{2} x_{13} + u_{5} x_{14} + x_{12}\\right)&y_{13} \\left(u_{2} x_{13} + u_{5} x_{14} + x_{12}\\right)&y_{14} \\left(u_{2} x_{13} + u_{5} x_{14} + x_{12}\\right)\\\\y_{11} \\left(u_{3} x_{14} + x_{13}\\right)&y_{12} \\left(u_{3} x_{14} + x_{13}\\right)&y_{13} \\left(u_{3} x_{14} + x_{13}\\right)&y_{14} \\left(u_{3} x_{14} + x_{13}\\right)\\\\x_{14} y_{11}&x_{14} y_{12}&x_{14} y_{13}&x_{14} y_{14}\\end{array}\\right]$\n"
      ],
      "text/plain": [
       "4×4 Matrix{Sym}:\n",
       " y₁₁⋅(u₁⋅x₁₂ + u₄⋅x₁₃ + x₁₁)  …  y₁₄⋅(u₁⋅x₁₂ + u₄⋅x₁₃ + x₁₁)\n",
       " y₁₁⋅(u₂⋅x₁₃ + u₅⋅x₁₄ + x₁₂)     y₁₄⋅(u₂⋅x₁₃ + u₅⋅x₁₄ + x₁₂)\n",
       "            y₁₁⋅(u₃⋅x₁₄ + x₁₃)                y₁₄⋅(u₃⋅x₁₄ + x₁₃)\n",
       "                         x₁₄⋅y₁₁                             x₁₄⋅y₁₄"
      ]
     },
     "metadata": {},
     "output_type": "display_data"
    },
    {
     "data": {
      "text/latex": [
       "$\\left[ \\begin{array}{rrrr}y_{11} \\left(u_{1} x_{12} + u_{4} x_{13} + x_{11}\\right)&y_{12} \\left(u_{1} x_{12} + u_{4} x_{13} + x_{11}\\right)&y_{13} \\left(u_{1} x_{12} + u_{4} x_{13} + x_{11}\\right)&y_{14} \\left(u_{1} x_{12} + u_{4} x_{13} + x_{11}\\right)\\\\0&y_{12} \\left(u_{2} x_{13} + u_{5} x_{14} + x_{12}\\right)&y_{13} \\left(u_{2} x_{13} + u_{5} x_{14} + x_{12}\\right)&y_{14} \\left(u_{2} x_{13} + u_{5} x_{14} + x_{12}\\right)\\\\0&0&y_{13} \\left(u_{3} x_{14} + x_{13}\\right)&y_{14} \\left(u_{3} x_{14} + x_{13}\\right)\\\\0&0&0&x_{14} y_{14}\\end{array}\\right]$\n"
      ],
      "text/plain": [
       "4×4 Matrix{Sym}:\n",
       " y₁₁⋅(u₁⋅x₁₂ + u₄⋅x₁₃ + x₁₁)  …  y₁₄⋅(u₁⋅x₁₂ + u₄⋅x₁₃ + x₁₁)\n",
       "                                 0     y₁₄⋅(u₂⋅x₁₃ + u₅⋅x₁₄ + x₁₂)\n",
       "                                 0                y₁₄⋅(u₃⋅x₁₄ + x₁₃)\n",
       "                                 0                             x₁₄⋅y₁₄"
      ]
     },
     "metadata": {},
     "output_type": "display_data"
    },
    {
     "data": {
      "text/latex": [
       "$\\left[ \\begin{array}{rrrr}- x_{11} y_{11} + y_{11} \\left(u_{1} x_{12} + u_{4} x_{13} + x_{11}\\right)&- u_{1} x_{12} y_{12} - x_{11} y_{12} + y_{12} \\left(u_{1} x_{12} + u_{4} x_{13} + x_{11}\\right)&- u_{1} x_{12} y_{13} - u_{4} x_{13} y_{13} - x_{11} y_{13} + y_{13} \\left(u_{1} x_{12} + u_{4} x_{13} + x_{11}\\right)&- u_{1} x_{12} y_{14} - u_{4} x_{13} y_{14} - x_{11} y_{14} + y_{14} \\left(u_{1} x_{12} + u_{4} x_{13} + x_{11}\\right)\\\\0&- x_{12} y_{12} + y_{12} \\left(u_{2} x_{13} + u_{5} x_{14} + x_{12}\\right)&- u_{2} x_{13} y_{13} - x_{12} y_{13} + y_{13} \\left(u_{2} x_{13} + u_{5} x_{14} + x_{12}\\right)&- u_{2} x_{13} y_{14} - u_{5} x_{14} y_{14} - x_{12} y_{14} + y_{14} \\left(u_{2} x_{13} + u_{5} x_{14} + x_{12}\\right)\\\\0&0&- x_{13} y_{13} + y_{13} \\left(u_{3} x_{14} + x_{13}\\right)&- u_{3} x_{14} y_{14} - x_{13} y_{14} + y_{14} \\left(u_{3} x_{14} + x_{13}\\right)\\\\0&0&0&0\\end{array}\\right]$\n"
      ],
      "text/plain": [
       "4×4 Matrix{Sym}:\n",
       " -x₁₁⋅y₁₁ + y₁₁⋅(u₁⋅x₁₂ + u₄⋅x₁₃ + x₁₁)  …  -u₁⋅x₁₂⋅y₁₄ - u₄⋅x₁₃⋅y₁₄ - x₁₁⋅y₁₄ + y₁₄⋅(u₁⋅x₁₂ + u₄⋅x₁₃ + x₁₁)\n",
       "                                              0     -u₂⋅x₁₃⋅y₁₄ - u₅⋅x₁₄⋅y₁₄ - x₁₂⋅y₁₄ + y₁₄⋅(u₂⋅x₁₃ + u₅⋅x₁₄ + x₁₂)\n",
       "                                              0                                -u₃⋅x₁₄⋅y₁₄ - x₁₃⋅y₁₄ + y₁₄⋅(u₃⋅x₁₄ + x₁₃)\n",
       "                                              0                                                                                  0"
      ]
     },
     "execution_count": 287,
     "metadata": {},
     "output_type": "execute_result"
    }
   ],
   "source": [
    "x1 = [x11, x12, x13, x14]\n",
    "x2 = [x21, x22, x23, x24]\n",
    "y1 = [y11, y12, y13, y14]\n",
    "y2 = [y21, y22, y23, y24]\n",
    "y1p = [0,0,0,0]\n",
    "x1p = [1,1,1,1]\n",
    "\n",
    "e3 = [0,0,1,0]\n",
    "e4 = [0,0,0,1]\n",
    "triu([e3 e4] * [y1 y2]', 1)\n",
    "# triu([e3 e4] * [y1p y2]', 1)\n",
    "\n",
    "\n",
    "triu([x1 x2] * [y1 y2]')\n",
    "\n",
    "\n",
    "\n",
    "# triu([x1p x2] * [y1p y2]')\n",
    "display(U * triu(x1 * y1'))\n",
    "\n",
    "display(U * x1 * y1')\n",
    "\n",
    "display(triu(U * x1 * y1'))\n",
    "\n",
    "triu(U * x1 * y1') - U * triu(x1 * y1')\n"
   ]
  },
  {
   "cell_type": "code",
   "execution_count": 272,
   "metadata": {},
   "outputs": [
    {
     "data": {
      "text/latex": [
       "$\\left[ \\begin{array}{rrrr}1&u_{1}&u_{4}&0\\\\0&1&u_{2}&u_{5}\\\\0&0&1&u_{3}\\\\0&0&0&1\\end{array}\\right]$\n"
      ],
      "text/plain": [
       "4×4 Matrix{Sym}:\n",
       " 1  u₁  u₄    0\n",
       " 0    1  u₂  u₅\n",
       " 0    0    1  u₃\n",
       " 0    0    0    1"
      ]
     },
     "metadata": {},
     "output_type": "display_data"
    },
    {
     "data": {
      "text/latex": [
       "$\\left[ \\begin{array}{rrrr}a_{11}&a_{12}&a_{13}&a_{14}\\\\0&a_{22}&a_{23}&a_{24}\\\\0&0&a_{33}&a_{34}\\\\0&0&0&a_{44}\\end{array}\\right]$\n"
      ],
      "text/plain": [
       "4×4 Matrix{Sym}:\n",
       " a₁₁  a₁₂  a₁₃  a₁₄\n",
       "    0  a₂₂  a₂₃  a₂₄\n",
       "    0     0  a₃₃  a₃₄\n",
       "    0     0     0  a₄₄"
      ]
     },
     "metadata": {},
     "output_type": "display_data"
    },
    {
     "data": {
      "text/latex": [
       "$\\left[ \\begin{array}{rrrr}1&- u_{1}&u_{1} u_{2} - u_{4}&- u_{1} u_{2} u_{3} + u_{1} u_{5} + u_{3} u_{4}\\\\0&1&- u_{2}&u_{2} u_{3} - u_{5}\\\\0&0&1&- u_{3}\\\\0&0&0&1\\end{array}\\right]$\n"
      ],
      "text/plain": [
       "4×4 Matrix{Sym}:\n",
       " 1  -u₁  u₁⋅u₂ - u₄  -u₁⋅u₂⋅u₃ + u₁⋅u₅ + u₃⋅u₄\n",
       " 0     1           -u₂                     u₂⋅u₃ - u₅\n",
       " 0     0              1                              -u₃\n",
       " 0     0              0                                 1"
      ]
     },
     "execution_count": 272,
     "metadata": {},
     "output_type": "execute_result"
    }
   ],
   "source": [
    "U = [1 u1 u4 0 ;\n",
    "     0 1 u2 u5 ;\n",
    "     0 0 1 u3 ;\n",
    "     0 0 0 1  ]\n",
    "display(U)\n",
    "A = [a11 a12 a13 a14 ;\n",
    "     a21 a22 a23 a24 ;\n",
    "     a31 a32 a33 a34 ;\n",
    "     a41 a42 a43 a44 ]\n",
    "\n",
    "A = triu(A, 0)\n",
    "display(A)\n",
    "\n",
    "U * A \n",
    "inv(U)"
   ]
  },
  {
   "cell_type": "code",
   "execution_count": null,
   "metadata": {},
   "outputs": [],
   "source": []
  },
  {
   "cell_type": "code",
   "execution_count": 281,
   "metadata": {},
   "outputs": [
    {
     "data": {
      "text/latex": [
       "$\\left[ \\begin{array}{rr}u_{1} u_{2} - u_{4}&- u_{1} u_{2} u_{3} + u_{1} u_{5} + u_{3} u_{4}\\\\- u_{2}&u_{2} u_{3} - u_{5}\\\\1&- u_{3}\\\\0&1\\end{array}\\right]$\n"
      ],
      "text/plain": [
       "4×2 Matrix{Sym}:\n",
       " u₁⋅u₂ - u₄  -u₁⋅u₂⋅u₃ + u₁⋅u₅ + u₃⋅u₄\n",
       "          -u₂                     u₂⋅u₃ - u₅\n",
       "             1                              -u₃\n",
       "             0                                 1"
      ]
     },
     "metadata": {},
     "output_type": "display_data"
    },
    {
     "data": {
      "text/latex": [
       "$\\left[ \\begin{array}{r}- u_{1} u_{2} u_{3} + u_{1} u_{5} + u_{3} u_{4}\\\\u_{2} u_{3} - u_{5}\\\\- u_{3}\\\\1\\end{array} \\right]$\n"
      ],
      "text/plain": [
       "4-element Vector{Sym}:\n",
       " -u₁⋅u₂⋅u₃ + u₁⋅u₅ + u₃⋅u₄\n",
       "                    u₂⋅u₃ - u₅\n",
       "                             -u₃\n",
       "                                1"
      ]
     },
     "metadata": {},
     "output_type": "display_data"
    },
    {
     "data": {
      "text/latex": [
       "$\\left[ \\begin{array}{r}u_{1} u_{2} - u_{4}\\\\- u_{2}\\\\1\\\\0\\end{array} \\right]$\n"
      ],
      "text/plain": [
       "4-element Vector{Sym}:\n",
       " u₁⋅u₂ - u₄\n",
       "          -u₂\n",
       "             1\n",
       "             0"
      ]
     },
     "metadata": {},
     "output_type": "display_data"
    },
    {
     "data": {
      "text/latex": [
       "$\\left[ \\begin{array}{rrrr}1&\\frac{- u_{1} u_{2} u_{3} + u_{1} u_{5} + u_{3} u_{4}}{2 \\left(u_{2} u_{3} - u_{5}\\right)} - \\frac{u_{1} u_{2} - u_{4}}{2 u_{2}}&\\frac{u_{1} u_{2}}{2} - \\frac{u_{4}}{2} - \\frac{- u_{1} u_{2} u_{3} + u_{1} u_{5} + u_{3} u_{4}}{2 u_{3}}&- u_{1} u_{2} u_{3} + u_{1} u_{5} + u_{3} u_{4}\\\\- \\frac{u_{2}}{2 \\left(u_{1} u_{2} - u_{4}\\right)} + \\frac{u_{2} u_{3} - u_{5}}{2 \\left(- u_{1} u_{2} u_{3} + u_{1} u_{5} + u_{3} u_{4}\\right)}&1&- \\frac{u_{2}}{2} - \\frac{u_{2} u_{3} - u_{5}}{2 u_{3}}&u_{2} u_{3} - u_{5}\\\\- \\frac{u_{3}}{2 \\left(- u_{1} u_{2} u_{3} + u_{1} u_{5} + u_{3} u_{4}\\right)} + \\frac{1}{2 \\left(u_{1} u_{2} - u_{4}\\right)}&- \\frac{u_{3}}{2 \\left(u_{2} u_{3} - u_{5}\\right)} - \\frac{1}{2 u_{2}}&1&- u_{3}\\\\\\frac{1}{2 \\left(- u_{1} u_{2} u_{3} + u_{1} u_{5} + u_{3} u_{4}\\right)}&\\frac{1}{2 \\left(u_{2} u_{3} - u_{5}\\right)}&- \\frac{1}{2 u_{3}}&1\\end{array}\\right]$\n"
      ],
      "text/plain": [
       "4×4 Matrix{Sym}:\n",
       "                                                                                 1  …  -u₁⋅u₂⋅u₃ + u₁⋅u₅ + u₃⋅u₄\n",
       " -u_2/(2*(u_1*u_2 - u_4)) + (u_2*u_3 - u_5)/(2*(-u_1*u_2*u_3 + u_1*u_5 + u_3*u_4))                        u₂⋅u₃ - u₅\n",
       "               -u_3/(2*(-u_1*u_2*u_3 + u_1*u_5 + u_3*u_4)) + 1/(2*(u_1*u_2 - u_4))                                 -u₃\n",
       "                                          1/(2*(-u_1*u_2*u_3 + u_1*u_5 + u_3*u_4))                                    1"
      ]
     },
     "metadata": {},
     "output_type": "display_data"
    },
    {
     "data": {
      "text/latex": [
       "$\\left[ \\begin{array}{rrrr}1&- u_{1}&u_{1} u_{2} - u_{4}&- u_{1} u_{2} u_{3} + u_{1} u_{5} + u_{3} u_{4}\\\\0&1&- u_{2}&u_{2} u_{3} - u_{5}\\\\0&0&1&- u_{3}\\\\0&0&0&1\\end{array}\\right]$\n"
      ],
      "text/plain": [
       "4×4 Matrix{Sym}:\n",
       " 1  -u₁  u₁⋅u₂ - u₄  -u₁⋅u₂⋅u₃ + u₁⋅u₅ + u₃⋅u₄\n",
       " 0     1           -u₂                     u₂⋅u₃ - u₅\n",
       " 0     0              1                              -u₃\n",
       " 0     0              0                                 1"
      ]
     },
     "metadata": {},
     "output_type": "display_data"
    },
    {
     "data": {
      "text/latex": [
       "$\\left[ \\begin{array}{rrrr}0&u_{1} + \\frac{- u_{1} u_{2} u_{3} + u_{1} u_{5} + u_{3} u_{4}}{2 \\left(u_{2} u_{3} - u_{5}\\right)} - \\frac{u_{1} u_{2} - u_{4}}{2 u_{2}}&- \\frac{u_{1} u_{2}}{2} + \\frac{u_{4}}{2} - \\frac{- u_{1} u_{2} u_{3} + u_{1} u_{5} + u_{3} u_{4}}{2 u_{3}}&0\\\\0&0&\\frac{u_{2}}{2} - \\frac{u_{2} u_{3} - u_{5}}{2 u_{3}}&0\\\\0&0&0&0\\\\0&0&0&0\\end{array}\\right]$\n"
      ],
      "text/plain": [
       "4×4 Matrix{Sym}:\n",
       " 0  …  0\n",
       " 0     0\n",
       " 0     0\n",
       " 0     0"
      ]
     },
     "execution_count": 281,
     "metadata": {},
     "output_type": "execute_result"
    }
   ],
   "source": [
    "e4 = [0, 0, 0, 1]\n",
    "e3 = [0, 0, 1, 0]\n",
    "\n",
    "\n",
    "display(U \\ [e3 e4])\n",
    "\n",
    "x1 = U \\ e4\n",
    "x2 = U \\ e3\n",
    "display(x1)\n",
    "display(x2)\n",
    "y1 = 1 ./ x1\n",
    "y1[1:end-1] ./= 2\n",
    "# y1 = [0,0,0,0]\n",
    "y2 = 1 ./ x2\n",
    "y2 ./= 2\n",
    "y2[end] = 0\n",
    "\n",
    "# y2 = [0,0,0,0]\n",
    "# y2[end]=0\n",
    "# y1 = [y11, y12, y13, y14]\n",
    "# y2 = [y21, y22, y23, y24]\n",
    "\n",
    "\n",
    "# U * [x2 x1] * [y2 y1]'\n",
    "A = [x2 x1] * [y2 y1]'\n",
    "display(A)\n",
    "display(inv(U))\n",
    "\n",
    "triu(A) - inv(U)\n",
    "\n",
    "# X = [x2 x1]\n",
    "# UX = U * X\n",
    "\n",
    "\n",
    "# triu(x2 * (1 ./ x2)', )\n",
    "\n",
    "# [e3 e4] * [y2 y1]'\n",
    "# [e4 e3] * [y2 y1]'"
   ]
  },
  {
   "cell_type": "code",
   "execution_count": null,
   "metadata": {},
   "outputs": [
    {
     "data": {
      "text/latex": [
       "$\\left[ \\begin{array}{rrrr}1&\\frac{- u_{11} u_{21} u_{31} + u_{11} u_{22} + u_{12} u_{31}}{u_{21} u_{31} - u_{22}}&- \\frac{- u_{11} u_{21} u_{31} + u_{11} u_{22} + u_{12} u_{31}}{u_{31}}&- u_{11} u_{21} u_{31} + u_{11} u_{22} + u_{12} u_{31}\\\\0&1&- \\frac{u_{21} u_{31} - u_{22}}{u_{31}}&u_{21} u_{31} - u_{22}\\\\0&0&1&- u_{31}\\\\0&0&0&1\\end{array}\\right]$\n"
      ],
      "text/plain": [
       "4×4 Matrix{Sym}:\n",
       " 1  …  -u₁₁⋅u₂₁⋅u₃₁ + u₁₁⋅u₂₂ + u₁₂⋅u₃₁\n",
       " 0                            u₂₁⋅u₃₁ - u₂₂\n",
       " 0                                       -u₃₁\n",
       " 0                                           1"
      ]
     },
     "execution_count": 97,
     "metadata": {},
     "output_type": "execute_result"
    }
   ],
   "source": [
    "triu(x1 * (1 ./ x1)')"
   ]
  },
  {
   "cell_type": "code",
   "execution_count": null,
   "metadata": {},
   "outputs": [
    {
     "data": {
      "text/latex": [
       "$\\left[ \\begin{array}{rrrr}1&- \\frac{u_{11} u_{21} - u_{12}}{u_{21}}&u_{11} u_{21} - u_{12}&\\left(u_{11} u_{21} - u_{12}\\right) \\overline{\\tilde{\\infty}}\\\\0&1&- u_{21}&- u_{21} \\overline{\\tilde{\\infty}}\\\\0&0&1&\\overline{\\tilde{\\infty}}\\\\0&0&0&0\\end{array}\\right]$\n"
      ],
      "text/plain": [
       "4×4 Matrix{Sym}:\n",
       " 1  -(u_11*u_21 - u_12)/u_21  …  (u_11*u_21 - u_12)*conjugate(zoo)\n",
       " 0                         1                  -u_21*conjugate(zoo)\n",
       " 0                         0                        conjugate(zoo)\n",
       " 0                         0                                     0"
      ]
     },
     "execution_count": 98,
     "metadata": {},
     "output_type": "execute_result"
    }
   ],
   "source": [
    "triu(x2 * (1 ./ x2)')"
   ]
  },
  {
   "cell_type": "code",
   "execution_count": 146,
   "metadata": {},
   "outputs": [
    {
     "name": "stdout",
     "output_type": "stream",
     "text": [
      "\\left[\\begin{matrix}1 & \\frac{x_{21}}{x_{22}} & \\frac{x_{21}}{x_{23}} & \\frac{x_{21}}{x_{24}}\\\\0 & 1 & \\frac{x_{22}}{x_{23}} & \\frac{x_{22}}{x_{24}}\\\\0 & 0 & 1 & \\frac{x_{23}}{x_{24}}\\\\0 & 0 & 0 & 1\\end{matrix}\\right]\n"
     ]
    }
   ],
   "source": [
    "println(sympy.latex(triu(x2 * (1 ./ x2)')))"
   ]
  },
  {
   "cell_type": "code",
   "execution_count": 147,
   "metadata": {},
   "outputs": [
    {
     "data": {
      "text/plain": [
       "ppl (generic function with 1 method)"
      ]
     },
     "execution_count": 147,
     "metadata": {},
     "output_type": "execute_result"
    }
   ],
   "source": []
  },
  {
   "cell_type": "code",
   "execution_count": 149,
   "metadata": {},
   "outputs": [
    {
     "name": "stdout",
     "output_type": "stream",
     "text": [
      "\\left[\\begin{matrix}a_{11} & a_{12} & a_{13} & a_{14}\\\\0 & a_{22} & a_{23} & a_{24}\\\\0 & 0 & a_{33} & a_{34}\\\\0 & 0 & 0 & a_{44}\\end{matrix}\\right]\n"
     ]
    }
   ],
   "source": [
    "ppl(A)"
   ]
  },
  {
   "cell_type": "code",
   "execution_count": 352,
   "metadata": {},
   "outputs": [
    {
     "data": {
      "text/plain": [
       "100×100 Matrix{Float64}:\n",
       " 0.2211     0.369553   0.160907   …  0.25765    0.207651   0.297148\n",
       " 0.134764   0.358732   0.148654      0.26225    0.190813   0.31031\n",
       " 0.374271   0.804387   0.340135      0.577082   0.437572   0.676074\n",
       " 0.688397   0.734343   0.343262      0.474108   0.446176   0.52229\n",
       " 1.01495    0.888316   0.432443      0.545807   0.564274   0.581918\n",
       " 0.856839   0.898106   0.42122    …  0.577567   0.547686   0.634677\n",
       " 0.395062   0.233114   0.125639      0.123659   0.165418   0.117472\n",
       " 0.407661   0.229123   0.125316      0.118597   0.165194   0.11016\n",
       " 0.890082   0.291822   0.194633      0.0946548  0.260358   0.0387796\n",
       " 0.248768   0.0853812  0.0558453     0.029466   0.0746058  0.014536\n",
       " 0.435319   0.224752   0.126272   …  0.110946   0.166816   0.0983578\n",
       " 0.59436    0.978089   0.426738      0.680522   0.550824   0.783944\n",
       " 0.15808    0.592198   0.239318      0.442716   0.306321   0.529889\n",
       " ⋮                                ⋱                        \n",
       " 0.363675   0.545945   0.241209      0.374996   0.311756   0.42884\n",
       " 0.293566   0.250022   0.12246       0.152419   0.159883   0.161621\n",
       " 0.467972   0.523495   0.242552   …  0.341442   0.315      0.37856\n",
       " 0.375781   0.235964   0.124898      0.128837   0.164192   0.125509\n",
       " 0.730131   0.277989   0.174286      0.108075   0.232153   0.0691784\n",
       " 0.470239   0.694579   0.307592      0.475941   0.397649   0.543525\n",
       " 0.811228   0.67185    0.331182      0.406174   0.432644   0.428179\n",
       " 0.317533   0.445436   0.198767   …  0.302794   0.257165   0.344193\n",
       " 0.491618   1.04803    0.443537      0.751271   0.570646   0.879763\n",
       " 0.592094   0.386893   0.202515      0.214901   0.265974   0.21237\n",
       " 0.467328   0.716931   0.315786      0.494001   0.408015   0.565955\n",
       " 0.0487619  0.184507   0.0745165     0.138009   0.0953726  0.165228"
      ]
     },
     "execution_count": 352,
     "metadata": {},
     "output_type": "execute_result"
    }
   ],
   "source": [
    "n = 100\n",
    "bw = 2\n",
    "U = BandedMatrix(rand(n, n), (0, bw))\n",
    "X = rand(n, bw)\n",
    "Y = rand(n, bw)\n",
    "\n",
    "\n",
    "\n",
    "\n",
    "X[end, 1] = 0\n",
    "Y[end, 1] = 0\n",
    "\n",
    "\n",
    "\n",
    "\n",
    "\n",
    "En = zeros(n, bw)\n",
    "En[end-1, 1] = 1\n",
    "En[end, 2] = 1\n",
    "En\n",
    "\n",
    "En_1 = zeros(n, bw)\n",
    "En_1[end-1-2, 1] = 1\n",
    "En_1[end-2, 2] = 1\n",
    "En_1\n",
    "\n",
    "X * Y'"
   ]
  },
  {
   "cell_type": "code",
   "execution_count": 334,
   "metadata": {},
   "outputs": [
    {
     "data": {
      "text/plain": [
       "100×2 Matrix{Float64}:\n",
       " 0.97004   0.231687\n",
       " 0.903401  0.190045\n",
       " 0.456737  0.0177905\n",
       " 0.485551  0.108317\n",
       " 0.757351  0.354038\n",
       " 0.566355  0.04885\n",
       " 0.527654  0.256755\n",
       " 1.09299   0.345871\n",
       " 1.08807   0.283839\n",
       " 0.2701    0.0154451\n",
       " 0.185165  0.0652795\n",
       " 0.647554  0.276655\n",
       " 0.722145  0.164901\n",
       " ⋮         \n",
       " 0.453826  0.086766\n",
       " 0.172434  0.0359049\n",
       " 0.597134  0.12199\n",
       " 0.336379  0.0858964\n",
       " 0.122934  0.0114519\n",
       " 0.904886  0.182803\n",
       " 0.403828  0.229825\n",
       " 0.76087   0.160464\n",
       " 0.454517  0.0294619\n",
       " 0.0       0.078564\n",
       " 0.0       0.0\n",
       " 0.0       0.0"
      ]
     },
     "execution_count": 334,
     "metadata": {},
     "output_type": "execute_result"
    }
   ],
   "source": [
    "triu(X * Y') * En_1"
   ]
  },
  {
   "cell_type": "code",
   "execution_count": 337,
   "metadata": {},
   "outputs": [
    {
     "data": {
      "text/plain": [
       "100×2 Matrix{Float64}:\n",
       " 0.97004   0.231687\n",
       " 0.903401  0.190045\n",
       " 0.456737  0.0177905\n",
       " 0.485551  0.108317\n",
       " 0.757351  0.354038\n",
       " 0.566355  0.04885\n",
       " 0.527654  0.256755\n",
       " 1.09299   0.345871\n",
       " 1.08807   0.283839\n",
       " 0.2701    0.0154451\n",
       " 0.185165  0.0652795\n",
       " 0.647554  0.276655\n",
       " 0.722145  0.164901\n",
       " ⋮         \n",
       " 0.453826  0.086766\n",
       " 0.172434  0.0359049\n",
       " 0.597134  0.12199\n",
       " 0.336379  0.0858964\n",
       " 0.122934  0.0114519\n",
       " 0.904886  0.182803\n",
       " 0.403828  0.229825\n",
       " 0.76087   0.160464\n",
       " 0.454517  0.0294619\n",
       " 0.755129  0.078564\n",
       " 0.385552  0.0720958\n",
       " 0.554324  0.0171337"
      ]
     },
     "execution_count": 337,
     "metadata": {},
     "output_type": "execute_result"
    }
   ],
   "source": [
    "(X * Y')[:, end-3:end-2]"
   ]
  },
  {
   "cell_type": "code",
   "execution_count": 343,
   "metadata": {},
   "outputs": [
    {
     "data": {
      "text/plain": [
       "2×2 Matrix{Float64}:\n",
       " 0.454517  0.0294619\n",
       " 0.755129  0.078564"
      ]
     },
     "execution_count": 343,
     "metadata": {},
     "output_type": "execute_result"
    }
   ],
   "source": [
    "X[end-3:end-2, :] * Y[end-3:end-2, :]'"
   ]
  },
  {
   "cell_type": "code",
   "execution_count": 344,
   "metadata": {},
   "outputs": [
    {
     "data": {
      "text/plain": [
       "2×2 Matrix{Float64}:\n",
       " 0.454517  0.0294619\n",
       " 0.657192  0.0203133"
      ]
     },
     "execution_count": 344,
     "metadata": {},
     "output_type": "execute_result"
    }
   ],
   "source": [
    "triu(X[end-3:end-2, :]) * Y[end-3:end-2, :]'"
   ]
  },
  {
   "cell_type": "code",
   "execution_count": 346,
   "metadata": {},
   "outputs": [
    {
     "data": {
      "text/plain": [
       "100×2 Matrix{Float64}:\n",
       " 0.0        0.0\n",
       " 0.0        0.0\n",
       " 0.0        0.0\n",
       " 0.0        0.0\n",
       " 0.0        0.0\n",
       " 0.0        0.0\n",
       " 0.0        0.0\n",
       " 0.0        0.0\n",
       " 0.0        0.0\n",
       " 0.0        0.0\n",
       " 0.0        0.0\n",
       " 0.0        0.0\n",
       " 0.0        0.0\n",
       " ⋮         \n",
       " 0.0        0.0\n",
       " 0.0        0.0\n",
       " 0.0        0.0\n",
       " 0.0        0.0\n",
       " 0.0        0.0\n",
       " 0.0        0.0\n",
       " 0.0        0.0\n",
       " 0.0        0.0\n",
       " 0.0        0.0\n",
       " 0.657192  -0.0582507\n",
       " 0.0        0.0\n",
       " 0.0        0.0"
      ]
     },
     "execution_count": 346,
     "metadata": {},
     "output_type": "execute_result"
    }
   ],
   "source": [
    "triu(X, -n+bw+2) * Y[end-3:end-2, :]' - triu(X * Y') * En_1"
   ]
  },
  {
   "cell_type": "code",
   "execution_count": 396,
   "metadata": {},
   "outputs": [
    {
     "data": {
      "text/plain": [
       "100×100 Matrix{Float64}:\n",
       " 0.282983   0.306876   0.300355   0.347896  …  0.499638  0.207396   0.626056\n",
       " 0.120468   0.13939    0.127864   0.818073     0.951957  0.0882907  0.869461\n",
       " 0.136947   0.154122   0.145354   0.598074     0.715948  0.100368   0.689696\n",
       " 0.216157   0.235395   0.229427   0.341331     0.465057  0.15842    0.546242\n",
       " 0.138175   0.150359   0.146658   0.209455     0.287642  0.101268   0.341316\n",
       " 0.126476   0.141052   0.13424    0.453883  …  0.552562  0.0926936  0.548351\n",
       " 0.0761315  0.0903066  0.0808053  0.6868       0.788971  0.0557964  0.702286\n",
       " 0.369855   0.402097   0.39256    0.532337     0.738692  0.271065   0.888121\n",
       " 0.249722   0.269875   0.265053   0.23562      0.362146  0.18302    0.488229\n",
       " 0.238667   0.264351   0.253319   0.717037     0.888826  0.174918   0.909255\n",
       " 0.449655   0.491224   0.47726    0.828698  …  1.09835   0.32955    1.24309\n",
       " 0.279247   0.306451   0.296391   0.620946     0.799399  0.204659   0.867658\n",
       " 0.172028   0.193569   0.182589   0.74874      0.896546  0.126078   0.864086\n",
       " ⋮                                          ⋱                       \n",
       " 0.195503   0.217267   0.207505   0.642887     0.78935   0.143283   0.794786\n",
       " 0.672139   0.721076   0.713402   0.227889     0.526419  0.492608   0.948445\n",
       " 0.0501487  0.0570324  0.0532274  0.264528  …  0.3124    0.0367537  0.293526\n",
       " 0.391335   0.425944   0.415359   0.601082     0.823334  0.286807   0.973745\n",
       " 0.0316153  0.0363726  0.0335562  0.198745     0.232231  0.0231707  0.213826\n",
       " 0.276622   0.301036   0.293604   0.421038     0.577743  0.202735   0.684846\n",
       " 0.356102   0.389802   0.377964   0.715925     0.935641  0.260986   1.03813\n",
       " 0.382421   0.412671   0.405898   0.31402   …  0.502939  0.280274   0.705544\n",
       " 0.17972    0.199093   0.190754   0.542434     0.672052  0.131716   0.686928\n",
       " 0.382729   0.413577   0.406225   0.358151     0.551759  0.2805     0.7456\n",
       " 0.250615   0.276195   0.266      0.646549     0.815936  0.183674   0.859033\n",
       " 0.655696   0.707277   0.69595    0.516468     0.838116  0.480557   1.18997"
      ]
     },
     "execution_count": 396,
     "metadata": {},
     "output_type": "execute_result"
    }
   ],
   "source": [
    "# X = triu(rand(2, 2))\n",
    "Y = triu(rand(2, 2))\n",
    "X = rand(2, 2)\n",
    "# Y = rand(2, 2)\n",
    "\n",
    "\n",
    "for i in 1:49\n",
    "    # X = [X ; triu(rand(2, 2))]\n",
    "    X = [X ; rand(2, 2)]\n",
    "    Y = [Y  triu(rand(2, 2))]\n",
    "    # Y = [Y  rand(2, 2)]\n",
    "end\n",
    "Y\n",
    "\n",
    "X * Y"
   ]
  },
  {
   "cell_type": "code",
   "execution_count": 397,
   "metadata": {},
   "outputs": [
    {
     "data": {
      "text/plain": [
       "2×2 Matrix{Float64}:\n",
       " 0.0  0.0\n",
       " 0.0  0.0908206"
      ]
     },
     "metadata": {},
     "output_type": "display_data"
    },
    {
     "data": {
      "text/plain": [
       "2×2 Matrix{Float64}:\n",
       " 0.0  0.0\n",
       " 0.0  0.0908206"
      ]
     },
     "metadata": {},
     "output_type": "display_data"
    },
    {
     "data": {
      "text/plain": [
       "2×2 Matrix{Float64}:\n",
       "  0.0      0.0\n",
       " -0.32848  0.0"
      ]
     },
     "metadata": {},
     "output_type": "display_data"
    }
   ],
   "source": [
    "X = rand(2,2)\n",
    "Y = rand(2,2)\n",
    "Y = triu(Y)\n",
    "# X = triu(X)\n",
    "\n",
    "display(triu(X*Y) - triu(X)*triu(Y))\n",
    "display(triu(X*Y) - triu(X)*Y)\n",
    "display(triu(X*Y) - X*triu(Y))\n"
   ]
  },
  {
   "cell_type": "code",
   "execution_count": 402,
   "metadata": {},
   "outputs": [
    {
     "data": {
      "text/plain": [
       "BigFloat"
      ]
     },
     "execution_count": 402,
     "metadata": {},
     "output_type": "execute_result"
    }
   ],
   "source": []
  },
  {
   "cell_type": "code",
   "execution_count": 42,
   "metadata": {},
   "outputs": [
    {
     "data": {
      "text/plain": [
       "6.065175769007365"
      ]
     },
     "metadata": {},
     "output_type": "display_data"
    },
    {
     "data": {
      "text/plain": [
       "69.91011711138495"
      ]
     },
     "execution_count": 42,
     "metadata": {},
     "output_type": "execute_result"
    }
   ],
   "source": [
    "n = 2*100\n",
    "bw = 2\n",
    "U = BandedMatrix(rand(n, n), (0, bw))\n",
    "U += I\n",
    "\n",
    "display(cond(U))\n",
    "# for i in 1:n\n",
    "#     U[i, i] = 1.0\n",
    "# end\n",
    "# display(U)\n",
    "\n",
    "\n",
    "E2 = zeros(n, 2)\n",
    "\n",
    "E2[end-1:end, :] = [1 0 ; 0 1]\n",
    "X = U \\ E2\n",
    "Yt = zeros(2, n)\n",
    "Yt[:, n-1:n] = [1 0 ; 0 1]\n",
    "\n",
    "\n",
    "# display(X)\n",
    "for i in n-3 : -2 : 1\n",
    "    # println((i, i+1))\n",
    "    Xi = X[i:i+1, :]\n",
    "    Di = U[i:i+1, i:i+1]\n",
    "    Yti = inv(Xi) * inv(Di)\n",
    "    Yt[:, i:i+1] = Yti\n",
    "    # display(Di)\n",
    "end \n",
    "\n",
    "\n",
    "norm(triu(X * Yt) - inv(U))\n",
    "# triu(X * Yt) - inv(U)\n",
    "# Y1 = inv(X1) * inv(D1)\n",
    "\n",
    "# A = vcat([1 2], [1 2])"
   ]
  },
  {
   "cell_type": "code",
   "execution_count": null,
   "metadata": {},
   "outputs": [],
   "source": []
  },
  {
   "cell_type": "code",
   "execution_count": null,
   "metadata": {},
   "outputs": [],
   "source": []
  }
 ],
 "metadata": {
  "kernelspec": {
   "display_name": "Julia 1.7.1",
   "language": "julia",
   "name": "julia-1.7"
  },
  "language_info": {
   "file_extension": ".jl",
   "mimetype": "application/julia",
   "name": "julia",
   "version": "1.7.1"
  },
  "orig_nbformat": 4
 },
 "nbformat": 4,
 "nbformat_minor": 2
}
