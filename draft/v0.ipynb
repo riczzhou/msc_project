{
 "cells": [
  {
   "cell_type": "code",
   "execution_count": 5,
   "metadata": {},
   "outputs": [
    {
     "name": "stdout",
     "output_type": "stream",
     "text": [
      "\u001b[32m\u001b[1m      Status\u001b[22m\u001b[39m `~/.julia/environments/v1.7/Project.toml`\n",
      " \u001b[90m [aae01518] \u001b[39mBandedMatrices v0.17.0\n",
      " \u001b[90m [6e4b80f9] \u001b[39mBenchmarkTools v1.3.1\n",
      " \u001b[90m [8e7c35d0] \u001b[39mBlockArrays v0.16.18\n",
      " \u001b[90m [ce91de38] \u001b[39mColorBitstring v0.1.1\n",
      " \u001b[90m [7073ff75] \u001b[39mIJulia v1.23.3\n",
      " \u001b[90m [5078a376] \u001b[39mLazyArrays v0.22.10\n",
      " \u001b[90m [a3b82374] \u001b[39mMatrixFactorizations v0.9.1\n",
      " \u001b[90m [91a5bcdd] \u001b[39mPlots v1.29.0\n",
      " \u001b[90m [f27b6e38] \u001b[39mPolynomials v3.1.4\n",
      " \u001b[90m [438e738f] \u001b[39mPyCall v1.93.1\n",
      " \u001b[90m [d330b81b] \u001b[39mPyPlot v2.10.0\n",
      " \u001b[90m [295af30f] \u001b[39mRevise v3.3.3\n",
      " \u001b[90m [f8ebbe35] \u001b[39mSemiseparableMatrices v0.3.3\n",
      " \u001b[90m [3cc68bcd] \u001b[39mSetRounding v0.2.1\n",
      " \u001b[90m [24249f21] \u001b[39mSymPy v1.1.6\n",
      " \u001b[90m [37e2e46d] \u001b[39mLinearAlgebra\n",
      " \u001b[90m [9a3f8284] \u001b[39mRandom\n",
      " \u001b[90m [8dfed614] \u001b[39mTest\n"
     ]
    }
   ],
   "source": [
    "using Pkg, SymPy\n",
    "using BenchmarkTools, LinearAlgebra, LazyArrays, BandedMatrices, BlockArrays\n",
    "using Polynomials\n",
    "\n",
    "Pkg.status()"
   ]
  },
  {
   "cell_type": "code",
   "execution_count": 16,
   "metadata": {},
   "outputs": [],
   "source": [
    "# l,u = 2,1          # block bandwidths\n",
    "# N = M = 4          # number of row/column blocks\n",
    "# cols = rows = 1:N  # block sizes\n",
    "\n",
    "# BlockBandedMatrix(Zeros(sum(rows),sum(cols)), rows,cols, (l,u)) # creates a block-banded matrix of zeros\n",
    "# BlockBandedMatrix(Ones(sum(rows),sum(cols)), rows,cols, (l,u)) # creates a block-banded matrix with ones in the non-zero entries\n",
    "# BlockBandedMatrix(I, rows,cols, (l,u))                          # creates a block-banded  identity matrix"
   ]
  },
  {
   "cell_type": "code",
   "execution_count": 17,
   "metadata": {},
   "outputs": [
    {
     "data": {
      "text/plain": [
       "BackwardSubstitutionM (generic function with 1 method)"
      ]
     },
     "execution_count": 17,
     "metadata": {},
     "output_type": "execute_result"
    }
   ],
   "source": [
    "function BackwardSubstitutionV(U, b)\n",
    "    T = eltype(U)\n",
    "    n = size(U)[2]\n",
    "    x = zeros(T, n)\n",
    "    x[n] = b[n] / U[n, n]\n",
    "    for i in n-1 : -1 : 1\n",
    "        sum_ = zero(T)\n",
    "        for j in i+1 : n\n",
    "            sum_ += U[i, j] * x[j]\n",
    "        end\n",
    "        x[i] = (b[i] - sum_) / U[i, i]\n",
    "    end\n",
    "    x\n",
    "end\n",
    "\n",
    "function BandedBackwardSubstitutionV(U, b, bw)\n",
    "    T = eltype(U)\n",
    "    n = size(U)[2]\n",
    "    x = zeros(T, n)\n",
    "    x[n] = b[n] / U[n, n]\n",
    "    for i in n-1 : -1 : 1\n",
    "        sum_ = zero(T)\n",
    "        for j in i+1 : min(n, i+bw)\n",
    "            sum_ += U[i, j] * x[j]\n",
    "        end\n",
    "        x[i] = (b[i] - sum_) / U[i, i]\n",
    "    end\n",
    "    x\n",
    "end\n",
    "\n",
    "function BandedBackwardSubstitutionM(U, B, bw)\n",
    "    T = eltype(U)\n",
    "    n = size(U)[2]\n",
    "    l = size(B)[2]\n",
    "    X = zeros(T, n, l)\n",
    "    for j in l : -1 : 1\n",
    "        X[:, j] = BandedBackwardSubstitutionV(U, B[:, j], bw)\n",
    "    end\n",
    "    X\n",
    "end\n",
    "\n",
    "function BackwardSubstitutionM(U, B)\n",
    "    T = eltype(U)\n",
    "    n = size(U)[2]\n",
    "    l = size(B)[2]\n",
    "    X = zeros(T, n, l)\n",
    "    for j in l : -1 : 1\n",
    "        X[:, j] = BackwardSubstitutionV(U, B[:, j])\n",
    "    end\n",
    "    X\n",
    "end"
   ]
  },
  {
   "cell_type": "code",
   "execution_count": 18,
   "metadata": {},
   "outputs": [
    {
     "name": "stdout",
     "output_type": "stream",
     "text": [
      "9\n",
      "(9, 9)\n",
      "8\n",
      "(8, 8)\n",
      "7\n",
      "(7, 7)\n",
      "6\n",
      "(6, 6)\n",
      "5\n",
      "(5, 5)\n",
      "4\n",
      "(4, 4)\n",
      "3\n",
      "(3, 3)\n",
      "2\n",
      "(2, 2)\n",
      "1\n",
      "(1, 1)\n",
      "(0, 0)\n",
      "(0, 0)\n",
      "(0, 1)\n",
      "(1, 0)\n"
     ]
    },
    {
     "data": {
      "text/plain": [
       "true"
      ]
     },
     "execution_count": 18,
     "metadata": {},
     "output_type": "execute_result"
    }
   ],
   "source": [
    "bw = 1\n",
    "n = bw*4 + 5\n",
    "\n",
    "U = big.(BandedMatrix(rand(n, n), (0, bw)))\n",
    "U += I\n",
    "T = eltype(U)\n",
    "n = size(U)[2]\n",
    "\n",
    "k = n ÷ bw\n",
    "\n",
    "r = rem(n, bw)\n",
    "\n",
    "E_k = one(U)[:, n-bw+1:n]\n",
    "X = BandedBackwardSubstitutionM(U, E_k, bw)\n",
    "\n",
    "U * X ≈ E_k\n",
    "\n",
    "\n",
    "\n",
    "Ytk = one(X[n-bw+1:n, :])\n",
    "\n",
    "# for i in n-3 : -2 : 1\n",
    "#     # println((i, i+1))\n",
    "#     Xi = X[i:i+1, :]\n",
    "#     Di = U[i:i+1, i:i+1]\n",
    "#     Yti = inv(Xi) * inv(Di)\n",
    "#     Yt[:, i:i+1] = Yti\n",
    "#     # display(Di)\n",
    "# end \n",
    "\n",
    "Yt = zero(X')\n",
    "for i in n : -bw : r+bw\n",
    "    println(i)\n",
    "    println((i-bw+1, i))\n",
    "    Di = U[i-bw+1:i, i-bw+1:i]\n",
    "    Xi = X[i-bw+1:i, :]\n",
    "    Yti = inv(Di * Xi)\n",
    "    # Yti = BackwardSubstitutionM(Xi, one(Xi)) * BackwardSubstitutionM(Di, one(Di))\n",
    "    # println(Yti * (Di * Xi) ≈ one(Di))\n",
    "    # println(norm(Yti * (Di * Xi) - one(Di)))\n",
    "    Yt[:, i-bw+1:i] = Yti\n",
    "    # print(U[i:i+bw-1, i:i+bw-1])\n",
    "end\n",
    "\n",
    "\n",
    "function invR(A)\n",
    "    A' * inv(A * A')\n",
    "end\n",
    "function invL(A)\n",
    "    inv(A' * A) * A'\n",
    "end\n",
    "\n",
    "\n",
    "\n",
    "\n",
    "D0 = U[1:r, 1:r]\n",
    "println(size(D0))\n",
    "D0inv = BackwardSubstitutionM(D0, one(D0))\n",
    "println(size(D0inv))\n",
    "# print(D0)\n",
    "X0 = X[1:r, :]\n",
    "println(size(X0))\n",
    "\n",
    "println(size(invR(X0)))\n",
    "X0\n",
    "D0\n",
    "Yt0 = invR(D0 * X0)\n",
    "Yt[:, 1:r] = Yt0\n",
    "\n",
    "BandedBackwardSubstitutionM(U, one(U), bw) ≈ triu(X * Yt)\n"
   ]
  },
  {
   "cell_type": "code",
   "execution_count": 19,
   "metadata": {},
   "outputs": [
    {
     "name": "stdout",
     "output_type": "stream",
     "text": [
      "  1.066186 seconds (58.53 M allocations: 3.053 GiB, 40.07% gc time)\n",
      "  2.482427 seconds (111.40 M allocations: 5.813 GiB, 36.05% gc time)\n"
     ]
    }
   ],
   "source": [
    "function invR(A)\n",
    "    A' * inv(A * A')\n",
    "end\n",
    "function invL(A)\n",
    "    inv(A' * A) * A'\n",
    "end\n",
    "\n",
    "function InvseBlockBiagonalUpper(U, bw)\n",
    "    n = size(U)[2]\n",
    "    r = rem(n, bw)\n",
    "    E_k = one(U)[:, n-bw+1:n]\n",
    "    # X = BandedBackwardSubstitutionM(U, E_k, bw)\n",
    "    X = qr(U) \\ E_k\n",
    "    Yt = zero(X')\n",
    "    for i in n : -bw : r+bw\n",
    "        Di = U[i-bw+1:i, i-bw+1:i]\n",
    "        Xi = X[i-bw+1:i, :]\n",
    "        # Yti = inv(Di * Xi)\n",
    "        Yti = qr(Di * Xi) \\ I\n",
    "        Yt[:, i-bw+1:i] = Yti\n",
    "    end\n",
    "    D0 = U[1:r, 1:r]\n",
    "    # D0inv = qr(D0) \\ I\n",
    "    # D0inv = inv(D0)\n",
    "    X0 = X[1:r, :]\n",
    "    Yt0 = invR(D0 * X0)\n",
    "    Yt[:, 1:r] = Yt0\n",
    "    Uinv = triu(X * Yt)\n",
    "    Uinv\n",
    "end\n",
    "\n",
    "\n",
    "bw = 30\n",
    "n = bw*10 + rand(1:bw-1)\n",
    "\n",
    "# U = big.(BandedMatrix(rand(n, n), (0, bw)))\n",
    "\n",
    "# U += 10 * I\n",
    "\n",
    "A = big.(rand(n, n))\n",
    "U = triu(A) - triu(A, bw+1) + I\n",
    "\n",
    "InvseBlockBiagonalUpper(U, bw) * U ≈ I\n",
    "# norm(InvseBlockBiagonalUpper(U, bw) * U - I)\n",
    "# norm(InvseBlockBiagonalUpper(U, bw) - inv(U))\n",
    "# inv(U)\n",
    "\n",
    "# @time qr(U) \\ I\n",
    "@time inv(U)\n",
    "@time InvseBlockBiagonalUpper(U, bw);\n",
    "\n"
   ]
  },
  {
   "cell_type": "code",
   "execution_count": 20,
   "metadata": {},
   "outputs": [
    {
     "data": {
      "text/plain": [
       "5.0"
      ]
     },
     "execution_count": 20,
     "metadata": {},
     "output_type": "execute_result"
    }
   ],
   "source": [
    "a = 21\n",
    "b = 4\n",
    "mod(a, b)\n",
    "# rem(a, b)\n",
    "a ÷ b\n",
    "# a % b\n",
    "floor(a / b)"
   ]
  },
  {
   "cell_type": "code",
   "execution_count": 21,
   "metadata": {},
   "outputs": [
    {
     "data": {
      "text/plain": [
       "1.0"
      ]
     },
     "execution_count": 21,
     "metadata": {},
     "output_type": "execute_result"
    }
   ],
   "source": [
    "pinv([1 , 2]) * [1 , 2]"
   ]
  },
  {
   "cell_type": "code",
   "execution_count": 22,
   "metadata": {},
   "outputs": [
    {
     "data": {
      "text/plain": [
       "4-element Vector{Int64}:\n",
       " 1\n",
       " 2\n",
       " 3\n",
       " 4"
      ]
     },
     "execution_count": 22,
     "metadata": {},
     "output_type": "execute_result"
    }
   ],
   "source": [
    "vcat([1, 2], [3, 4])"
   ]
  },
  {
   "cell_type": "code",
   "execution_count": 23,
   "metadata": {},
   "outputs": [
    {
     "data": {
      "text/plain": [
       "4×5 Matrix{Float64}:\n",
       " 0.855635  0.806933  0.832934  0.129183  0.589645\n",
       " 0.241545  0.892987  0.610927  0.764242  0.765393\n",
       " 0.886715  0.219863  0.067407  0.294785  0.0856965\n",
       " 0.741695  0.253621  0.928824  0.754843  0.420642"
      ]
     },
     "execution_count": 23,
     "metadata": {},
     "output_type": "execute_result"
    }
   ],
   "source": [
    "A = rand(4,5)"
   ]
  },
  {
   "cell_type": "code",
   "execution_count": 24,
   "metadata": {},
   "outputs": [
    {
     "data": {
      "text/plain": [
       "4×5 Matrix{Float64}:\n",
       " 0.0  0.0  0.832934  0.129183  0.589645\n",
       " 0.0  0.0  0.0       0.764242  0.765393\n",
       " 0.0  0.0  0.0       0.0       0.0856965\n",
       " 0.0  0.0  0.0       0.0       0.0"
      ]
     },
     "execution_count": 24,
     "metadata": {},
     "output_type": "execute_result"
    }
   ],
   "source": [
    "triu(A, 2)"
   ]
  },
  {
   "cell_type": "code",
   "execution_count": 25,
   "metadata": {},
   "outputs": [
    {
     "data": {
      "text/plain": [
       "Float64"
      ]
     },
     "execution_count": 25,
     "metadata": {},
     "output_type": "execute_result"
    }
   ],
   "source": [
    "eltype(A)"
   ]
  },
  {
   "cell_type": "code",
   "execution_count": 26,
   "metadata": {},
   "outputs": [],
   "source": [
    "\n",
    "# [1] E. Asplund, Inverses of matrices {a ij} which satisfy a ij= 0 for j> i+ p, Mathematica Scandinavica, (1959), pp. 57–60.\n",
    "#     [2] S. Chandrasekaran and M. Gu, Fast and stable eigendecomposition of symmetric banded plus semi-separable matrices, Linear Algebra and Its Applications, 313 (2000), pp. 107–114.\n",
    "#     [3] G. H. Golub and C. F. Van Loan, Matrix computations, JHU press, 2013.\n",
    "#     [4] N. Higham, Cholesky factorization, Wiley Interdisciplinary Reviews: Computational Statis-\n",
    "#     tics, 1 (2009), pp. 251 – 254.\n",
    "#     [5] N. J. Higham, Accuracy and stability of numerical algorithms, SIAM, 2002.\n",
    "#     [6] R. Hunger, Floating point operations in matrix-vector calculus, vol. 2019, Munich University of Technology, Inst. for Circuit Theory and Signal . . . , 2005.\n",
    "#     [7] J. Jain, H. Li, C.-K. Koh, and V. Balakrishnan, O (n) algorithms for banded plus semiseparable matrices, in Numerical methods for structured matrices and applications, Springer, 2010, pp. 347–358.\n",
    "#     [8] P. Rózsa, R. Bevilacqua, F. Romani, and P. Favati, On band matrices and their in- verses, Linear Algebra and Its Applications, 150 (1991), pp. 287–295.\n",
    "#     [9] R. Vandebril, M. V. Barel, G. Golub, and N. Mastronardi, A bibliography on semiseparable matrices, Calcolo, 42 (2005), pp. 249–270.\n",
    "#     [10] R. Vandebril, M. Van Barel, and N. Mastronardi, A note on the representation and definition of semiseparable matrices, Numerical Linear Algebra with Applications, 12 (2005), pp. 839–858.\n",
    "#     [11]\n",
    "#     , Matrix computations and semiseparable matrices: linear systems, vol. 1, JHU Press,\n",
    "#      2007."
   ]
  },
  {
   "cell_type": "code",
   "execution_count": 28,
   "metadata": {},
   "outputs": [
    {
     "data": {
      "text/plain": [
       "BackwardSubstitutionV (generic function with 1 method)"
      ]
     },
     "execution_count": 28,
     "metadata": {},
     "output_type": "execute_result"
    }
   ],
   "source": [
    "function BackwardSubstitutionV(U, b)\n",
    "    T = eltype(U)\n",
    "    n = size(U)[2]\n",
    "    x = zeros(T, n)\n",
    "    x[n] = b[n] / U[n, n]\n",
    "    for i in n-1 : -1 : 1\n",
    "        sum_ = zero(T)\n",
    "        for j in i+1 : n\n",
    "            sum_ += U[i, j] * x[j]\n",
    "        end\n",
    "        x[i] = (b[i] - sum_) / U[i, i]\n",
    "    end\n",
    "    x\n",
    "end"
   ]
  },
  {
   "cell_type": "code",
   "execution_count": 41,
   "metadata": {},
   "outputs": [
    {
     "data": {
      "text/plain": [
       "true"
      ]
     },
     "execution_count": 41,
     "metadata": {},
     "output_type": "execute_result"
    }
   ],
   "source": [
    "n = 10\n",
    "U = big.(triu(rand(n, n))) + 10*I\n",
    "b = big.(rand(n))\n",
    "x = BackwardSubstitutionV(U, b)\n",
    "U * x ≈ b"
   ]
  },
  {
   "cell_type": "code",
   "execution_count": 42,
   "metadata": {},
   "outputs": [
    {
     "data": {
      "text/plain": [
       "true"
      ]
     },
     "execution_count": 42,
     "metadata": {},
     "output_type": "execute_result"
    }
   ],
   "source": [
    "function BackwardSubstitutionV1(U, b)\n",
    "    T = eltype(U)\n",
    "    n = size(U)[2]\n",
    "    x = zeros(T, n)\n",
    "    x[n] = b[n] / U[n, n]\n",
    "    for i in n-1 : -1 : 1\n",
    "        # sum_ = zero(T)\n",
    "        x[i] = b[i]\n",
    "        for j in i+1 : n\n",
    "            x[i] -= U[i, j] * x[j]\n",
    "            # sum_ += U[i, j] * x[j]\n",
    "        end\n",
    "        # x[i] = (b[i] - sum_) / U[i, i]\n",
    "        x[i] /= U[i, i]\n",
    "    end\n",
    "    x\n",
    "end\n",
    "x = BackwardSubstitutionV1(U, b)\n",
    "U * x ≈ b"
   ]
  },
  {
   "cell_type": "code",
   "execution_count": 47,
   "metadata": {},
   "outputs": [
    {
     "data": {
      "text/plain": [
       "4.827428571428572e-6"
      ]
     },
     "execution_count": 47,
     "metadata": {},
     "output_type": "execute_result"
    }
   ],
   "source": [
    "t  = @belapsed xxx = BackwardSubstitutionV1(U, b)"
   ]
  },
  {
   "cell_type": "code",
   "execution_count": 50,
   "metadata": {},
   "outputs": [
    {
     "data": {
      "text/plain": [
       "4.827428571428572e-6"
      ]
     },
     "execution_count": 50,
     "metadata": {},
     "output_type": "execute_result"
    }
   ],
   "source": []
  },
  {
   "cell_type": "code",
   "execution_count": 35,
   "metadata": {},
   "outputs": [
    {
     "name": "stdout",
     "output_type": "stream",
     "text": [
      "  534.542 μs (20399 allocations: 1.09 MiB)\n"
     ]
    }
   ],
   "source": [
    "@btime BackwardSubstitutionV(U, b);"
   ]
  },
  {
   "cell_type": "code",
   "execution_count": 55,
   "metadata": {},
   "outputs": [
    {
     "data": {
      "text/plain": [
       "8"
      ]
     },
     "execution_count": 55,
     "metadata": {},
     "output_type": "execute_result"
    }
   ],
   "source": [
    "BLAS.get_num_threads()"
   ]
  },
  {
   "cell_type": "code",
   "execution_count": 54,
   "metadata": {},
   "outputs": [
    {
     "data": {
      "text/plain": [
       "BenchmarkTools.Trial: 10000 samples with 6 evaluations.\n",
       " Range \u001b[90m(\u001b[39m\u001b[36m\u001b[1mmin\u001b[22m\u001b[39m … \u001b[35mmax\u001b[39m\u001b[90m):  \u001b[39m\u001b[36m\u001b[1m4.931 μs\u001b[22m\u001b[39m … \u001b[35m491.417 μs\u001b[39m  \u001b[90m┊\u001b[39m GC \u001b[90m(\u001b[39mmin … max\u001b[90m): \u001b[39m 0.00% … 98.85%\n",
       " Time  \u001b[90m(\u001b[39m\u001b[34m\u001b[1mmedian\u001b[22m\u001b[39m\u001b[90m):     \u001b[39m\u001b[34m\u001b[1m5.090 μs               \u001b[22m\u001b[39m\u001b[90m┊\u001b[39m GC \u001b[90m(\u001b[39mmedian\u001b[90m):    \u001b[39m 0.00%\n",
       " Time  \u001b[90m(\u001b[39m\u001b[32m\u001b[1mmean\u001b[22m\u001b[39m ± \u001b[32mσ\u001b[39m\u001b[90m):   \u001b[39m\u001b[32m\u001b[1m5.900 μs\u001b[22m\u001b[39m ± \u001b[32m 19.090 μs\u001b[39m  \u001b[90m┊\u001b[39m GC \u001b[90m(\u001b[39mmean ± σ\u001b[90m):  \u001b[39m12.93% ±  3.95%\n",
       "\n",
       "  \u001b[39m \u001b[39m \u001b[39m \u001b[39m \u001b[39m \u001b[39m \u001b[39m \u001b[39m▂\u001b[39m▅\u001b[39m▇\u001b[39m█\u001b[39m█\u001b[34m▅\u001b[39m\u001b[39m▃\u001b[39m \u001b[39m \u001b[39m \u001b[39m \u001b[39m \u001b[39m \u001b[39m \u001b[39m \u001b[39m \u001b[39m \u001b[39m \u001b[39m \u001b[39m \u001b[39m \u001b[39m \u001b[39m \u001b[39m \u001b[39m \u001b[39m \u001b[39m \u001b[39m \u001b[39m \u001b[39m \u001b[39m \u001b[39m \u001b[39m \u001b[39m \u001b[39m \u001b[39m \u001b[39m \u001b[39m \u001b[39m \u001b[39m \u001b[39m \u001b[39m \u001b[39m \u001b[39m \u001b[39m \u001b[39m \u001b[39m \u001b[39m \u001b[39m \u001b[39m \u001b[39m \u001b[39m \u001b[39m \u001b[39m \n",
       "  \u001b[39m▂\u001b[39m▁\u001b[39m▂\u001b[39m▃\u001b[39m▃\u001b[39m▄\u001b[39m▇\u001b[39m█\u001b[39m█\u001b[39m█\u001b[39m█\u001b[39m█\u001b[34m█\u001b[39m\u001b[39m█\u001b[39m█\u001b[39m▇\u001b[39m▅\u001b[39m▄\u001b[39m▄\u001b[39m▃\u001b[39m▃\u001b[39m▃\u001b[39m▃\u001b[39m▃\u001b[39m▃\u001b[39m▃\u001b[39m▃\u001b[39m▃\u001b[39m▃\u001b[39m▂\u001b[39m▂\u001b[39m▃\u001b[39m▃\u001b[39m▃\u001b[39m▃\u001b[39m▃\u001b[39m▃\u001b[39m▂\u001b[39m▂\u001b[39m▂\u001b[39m▃\u001b[39m▂\u001b[39m▂\u001b[39m▂\u001b[39m▂\u001b[39m▂\u001b[39m▂\u001b[39m▂\u001b[39m▂\u001b[39m▂\u001b[39m▂\u001b[39m▂\u001b[39m▂\u001b[39m▂\u001b[39m▂\u001b[39m▂\u001b[39m▂\u001b[39m▂\u001b[39m▂\u001b[39m \u001b[39m▃\n",
       "  4.93 μs\u001b[90m         Histogram: frequency by time\u001b[39m        5.73 μs \u001b[0m\u001b[1m<\u001b[22m\n",
       "\n",
       " Memory estimate\u001b[90m: \u001b[39m\u001b[33m13.14 KiB\u001b[39m, allocs estimate\u001b[90m: \u001b[39m\u001b[33m239\u001b[39m."
      ]
     },
     "execution_count": 54,
     "metadata": {},
     "output_type": "execute_result"
    }
   ],
   "source": [
    "@benchmark BackwardSubstitutionV(U, b)"
   ]
  },
  {
   "cell_type": "code",
   "execution_count": null,
   "metadata": {},
   "outputs": [],
   "source": [
    "# def plot1(GU):\n",
    "# for j in range(len(GU)):\n",
    "#     GraphUse = GU[j]\n",
    "#     NN = [2**i+1 for i in range(4, 10)]\n",
    "#     t_data = np.zeros((4, len(NN)))\n",
    "#     i = 0\n",
    "#     for N in NN:\n",
    "#         repeat = 10\n",
    "#         mean_pop = 0.0\n",
    "#         mean_update = 0.0\n",
    "#         mean_add = 0.0\n",
    "#         mean_push = 0.0\n",
    "#         for _ in range(repeat):\n",
    "#             if GraphUse == '1':\n",
    "#                 G = test_graph1(N)\n",
    "#             elif GraphUse == '2':\n",
    "#                 G = test_graph2(N)\n",
    "#             elif GraphUse == 'C':\n",
    "#                 G = get_rand_complete_graph(N)\n",
    "#             elif GraphUse == 'l':\n",
    "#                 G = get_rand_line_graph(N)\n",
    "#             else:\n",
    "#                 G = get_rand_graph(N, 0)\n",
    "#             _, t_pop, t_update, t_add, t_push = gSearch(G, 0, True)\n",
    "#             mean_pop += t_pop\n",
    "#             mean_update += t_update\n",
    "#             mean_add += t_add\n",
    "#             mean_push += t_push\n",
    "#         t_data[0, i] = mean_pop / repeat\n",
    "#         t_data[1, i] = mean_update / repeat\n",
    "#         t_data[2, i] = mean_add / repeat\n",
    "#         t_data[3, i] = mean_push / repeat\n",
    "#         i += 1\n",
    "#     NN = np.array(NN)\n",
    "#     label1 = ['heap pop', 'heap update', 'heap add new', 'heap push']\n",
    "#     label2 = {'1': 'test graph 1', '2': 'test graph 2', 'C': 'random complete graph', 'l': 'random line graph', 'O' : 'random graph'}\n",
    "#     f = 1\n",
    "\n",
    "#     for i in range(0, 4, 3):\n",
    "        \n",
    "#         plt.loglog(NN, t_data[i, :], 'x-', base = 2, label = label1[i]+' of '+label2[GraphUse])\n",
    "#         a, b = np.polyfit(NN[f:]*np.log2(NN[f:]), t_data[i, f:], 1)\n",
    "#         plt.loglog(NN, a*NN*np.log2(NN)+b, 'k-.', label = r'LS fit for '+ label1[i]+' of '+label2[GraphUse], base = 2)\n",
    "\n",
    "# plt.title('Total time for heap pop and push during gSearch under different N')\n",
    "# plt.xlabel('N')\n",
    "# plt.ylabel('Wall time')\n",
    "\n",
    "# plt.grid()\n",
    "# plt.legend()\n",
    "# # plt.savefig(\"Q11_O_LS\", dpi=150)\n",
    "# plt.show()"
   ]
  },
  {
   "cell_type": "code",
   "execution_count": 57,
   "metadata": {},
   "outputs": [
    {
     "name": "stdout",
     "output_type": "stream",
     "text": [
      "Collecting package metadata (current_repodata.json): ...working... done\n",
      "Solving environment: ...working... done\n",
      "\n",
      "## Package Plan ##\n",
      "\n",
      "  environment location: /Users/zhiwei_zhou/.julia/conda/3\n",
      "\n",
      "  added / updated specs:\n",
      "    - matplotlib\n",
      "\n",
      "\n",
      "The following packages will be downloaded:\n",
      "\n",
      "    package                    |            build\n",
      "    ---------------------------|-----------------\n",
      "    brotli-1.0.9               |       h1c322ee_7          18 KB  conda-forge\n",
      "    brotli-bin-1.0.9           |       h1c322ee_7          17 KB  conda-forge\n",
      "    ca-certificates-2022.6.15  |       h4653dfc_0         149 KB  conda-forge\n",
      "    cycler-0.11.0              |     pyhd8ed1ab_0          10 KB  conda-forge\n",
      "    fonttools-4.33.3           |   py39h9eb174b_0         1.6 MB  conda-forge\n",
      "    freetype-2.10.4            |       h17b34a0_1         874 KB  conda-forge\n",
      "    giflib-5.2.1               |       h27ca646_2          72 KB  conda-forge\n",
      "    jpeg-9e                    |       he4db4b2_2         259 KB  conda-forge\n",
      "    kiwisolver-1.4.3           |   py39hab5e169_0          62 KB  conda-forge\n",
      "    lcms2-2.12                 |       had6a04f_0         369 KB  conda-forge\n",
      "    lerc-3.0                   |       hbdafb3b_0         145 KB  conda-forge\n",
      "    libbrotlicommon-1.0.9      |       h1c322ee_7          65 KB  conda-forge\n",
      "    libbrotlidec-1.0.9         |       h1c322ee_7          29 KB  conda-forge\n",
      "    libbrotlienc-1.0.9         |       h1c322ee_7         287 KB  conda-forge\n",
      "    libdeflate-1.10            |       h3422bc3_0          56 KB  conda-forge\n",
      "    libpng-1.6.37              |       hf7e6567_2         293 KB  conda-forge\n",
      "    libtiff-4.3.0              |       h2810ee2_4         574 KB  conda-forge\n",
      "    libwebp-1.2.2              |       h0d20362_0          79 KB  conda-forge\n",
      "    libwebp-base-1.2.2         |       h3422bc3_1         600 KB  conda-forge\n",
      "    lz4-c-1.9.3                |       hbdafb3b_1         147 KB  conda-forge\n",
      "    matplotlib-3.5.2           |   py39hdf13c20_0           6 KB  conda-forge\n",
      "    matplotlib-base-3.5.2      |   py39h4ee150f_0         7.4 MB  conda-forge\n",
      "    munkres-1.1.4              |     pyh9f0ad1d_0          12 KB  conda-forge\n",
      "    openssl-1.1.1q             |       ha287fd2_0         1.8 MB  conda-forge\n",
      "    pillow-9.0.1               |   py39h4d1bdd5_0         585 KB\n",
      "    readline-8.1.2             |       h46ed386_0         263 KB  conda-forge\n",
      "    unicodedata2-14.0.0        |   py39hb18efdd_1         502 KB  conda-forge\n",
      "    zstd-1.5.2                 |       hd705a24_1         374 KB  conda-forge\n",
      "    ------------------------------------------------------------\n",
      "                                           Total:        16.4 MB\n",
      "\n",
      "The following NEW packages will be INSTALLED:\n",
      "\n",
      "  brotli             conda-forge/osx-arm64::brotli-1.0.9-h1c322ee_7\n",
      "  brotli-bin         conda-forge/osx-arm64::brotli-bin-1.0.9-h1c322ee_7\n",
      "  cycler             conda-forge/noarch::cycler-0.11.0-pyhd8ed1ab_0\n",
      "  fonttools          conda-forge/osx-arm64::fonttools-4.33.3-py39h9eb174b_0\n",
      "  freetype           conda-forge/osx-arm64::freetype-2.10.4-h17b34a0_1\n",
      "  giflib             conda-forge/osx-arm64::giflib-5.2.1-h27ca646_2\n",
      "  jpeg               conda-forge/osx-arm64::jpeg-9e-he4db4b2_2\n",
      "  kiwisolver         conda-forge/osx-arm64::kiwisolver-1.4.3-py39hab5e169_0\n",
      "  lcms2              conda-forge/osx-arm64::lcms2-2.12-had6a04f_0\n",
      "  lerc               conda-forge/osx-arm64::lerc-3.0-hbdafb3b_0\n",
      "  libbrotlicommon    conda-forge/osx-arm64::libbrotlicommon-1.0.9-h1c322ee_7\n",
      "  libbrotlidec       conda-forge/osx-arm64::libbrotlidec-1.0.9-h1c322ee_7\n",
      "  libbrotlienc       conda-forge/osx-arm64::libbrotlienc-1.0.9-h1c322ee_7\n",
      "  libdeflate         conda-forge/osx-arm64::libdeflate-1.10-h3422bc3_0\n",
      "  libpng             conda-forge/osx-arm64::libpng-1.6.37-hf7e6567_2\n",
      "  libtiff            conda-forge/osx-arm64::libtiff-4.3.0-h2810ee2_4\n",
      "  libwebp            conda-forge/osx-arm64::libwebp-1.2.2-h0d20362_0\n",
      "  libwebp-base       conda-forge/osx-arm64::libwebp-base-1.2.2-h3422bc3_1\n",
      "  lz4-c              conda-forge/osx-arm64::lz4-c-1.9.3-hbdafb3b_1\n",
      "  matplotlib         conda-forge/osx-arm64::matplotlib-3.5.2-py39hdf13c20_0\n",
      "  matplotlib-base    conda-forge/osx-arm64::matplotlib-base-3.5.2-py39h4ee150f_0\n",
      "  munkres            conda-forge/noarch::munkres-1.1.4-pyh9f0ad1d_0\n",
      "  pillow             pkgs/main/osx-arm64::pillow-9.0.1-py39h4d1bdd5_0\n",
      "  unicodedata2       conda-forge/osx-arm64::unicodedata2-14.0.0-py39hb18efdd_1\n",
      "  zstd               conda-forge/osx-arm64::zstd-1.5.2-hd705a24_1\n",
      "\n",
      "The following packages will be UPDATED:\n",
      "\n",
      "  ca-certificates                    2022.5.18.1-h4653dfc_0 --> 2022.6.15-h4653dfc_0\n",
      "  openssl                                 1.1.1o-ha287fd2_0 --> 1.1.1q-ha287fd2_0\n",
      "  readline                                   8.1-hedafd6a_0 --> 8.1.2-h46ed386_0\n",
      "\n",
      "\n",
      "\n",
      "Downloading and Extracting Packages\n",
      "fonttools-4.33.3     | 1.6 MB    | #################################### | 100% \n",
      "matplotlib-3.5.2     | 6 KB      | #################################### | 100% \n",
      "libbrotlienc-1.0.9   | 287 KB    | #################################### | 100% \n",
      "libtiff-4.3.0        | 574 KB    | #################################### | 100% \n",
      "jpeg-9e              | 259 KB    | #################################### | 100% \n",
      "libpng-1.6.37        | 293 KB    | #################################### | 100% \n",
      "munkres-1.1.4        | 12 KB     | #################################### | 100% \n",
      "matplotlib-base-3.5. | 7.4 MB    | #################################### | 100% \n",
      "libdeflate-1.10      | 56 KB     | #################################### | 100% \n",
      "unicodedata2-14.0.0  | 502 KB    | #################################### | 100% \n",
      "libbrotlidec-1.0.9   | 29 KB     | #################################### | 100% \n",
      "lcms2-2.12           | 369 KB    | #################################### | 100% \n",
      "kiwisolver-1.4.3     | 62 KB     | #################################### | 100% \n",
      "brotli-bin-1.0.9     | 17 KB     | #################################### | 100% \n",
      "libbrotlicommon-1.0. | 65 KB     | #################################### | 100% \n",
      "zstd-1.5.2           | 374 KB    | #################################### | 100% \n",
      "lz4-c-1.9.3          | 147 KB    | #################################### | 100% \n",
      "pillow-9.0.1         | 585 KB    | #################################### | 100% \n",
      "ca-certificates-2022 | 149 KB    | #################################### | 100% \n",
      "freetype-2.10.4      | 874 KB    | #################################### | 100% \n",
      "lerc-3.0             | 145 KB    | #################################### | 100% \n",
      "cycler-0.11.0        | 10 KB     | #################################### | 100% \n",
      "readline-8.1.2       | 263 KB    | #################################### | 100% \n",
      "giflib-5.2.1         | 72 KB     | #################################### | 100% \n",
      "brotli-1.0.9         | 18 KB     | #################################### | 100% \n",
      "openssl-1.1.1q       | 1.8 MB    | #################################### | 100% \n",
      "libwebp-1.2.2        | 79 KB     | #################################### | 100% \n",
      "libwebp-base-1.2.2   | 600 KB    | #################################### | 100% \n",
      "Preparing transaction: ...working... done\n",
      "Verifying transaction: ...working... done\n",
      "Executing transaction: ...working... done\n",
      "Collecting package metadata (current_repodata.json): ...working... done\n",
      "Solving environment: ...working... done\n",
      "\n",
      "## Package Plan ##\n",
      "\n",
      "  environment location: /Users/zhiwei_zhou/.julia/conda/3\n",
      "\n",
      "  added / updated specs:\n",
      "    - pyqt\n",
      "\n",
      "\n",
      "The following packages will be downloaded:\n",
      "\n",
      "    package                    |            build\n",
      "    ---------------------------|-----------------\n",
      "    adwaita-icon-theme-41.0    |       ha770c72_1        10.7 MB  conda-forge\n",
      "    atk-1.0-2.36.0             |       heb41896_4         349 KB  conda-forge\n",
      "    cairo-1.16.0               |    he69dfd1_1008         1.3 MB  conda-forge\n",
      "    certifi-2022.6.15          |   py39h2804cbe_0         155 KB  conda-forge\n",
      "    conda-4.13.0               |   py39h2804cbe_1         992 KB  conda-forge\n",
      "    dbus-1.13.18               |       h8280c03_0         1.4 MB\n",
      "    epoxy-1.5.10               |       h1c322ee_1         347 KB  conda-forge\n",
      "    expat-2.4.8                |       h6b3803e_0         149 KB  conda-forge\n",
      "    fontconfig-2.13.94         |       heb65262_0         289 KB  conda-forge\n",
      "    fribidi-1.0.10             |       h27ca646_0          59 KB  conda-forge\n",
      "    gdk-pixbuf-2.42.8          |       hdded42e_0         574 KB  conda-forge\n",
      "    gettext-0.21.0             |       h826f4ad_0         2.6 MB\n",
      "    glib-2.70.2                |       hccf11d3_4         425 KB  conda-forge\n",
      "    glib-tools-2.70.2          |       hccf11d3_4          92 KB  conda-forge\n",
      "    graphite2-1.3.14           |       hc377ac9_1          75 KB\n",
      "    gtk3-3.24.34               |       h63e6b57_0         9.3 MB  conda-forge\n",
      "    harfbuzz-4.3.0             |       hb1b0ec1_0        1005 KB\n",
      "    hicolor-icon-theme-0.17    |       hce30654_2          13 KB  conda-forge\n",
      "    icu-68.2                   |       hbdafb3b_0        13.0 MB  conda-forge\n",
      "    krb5-1.19.3                |       hf9b2bbe_0         1.2 MB  conda-forge\n",
      "    libedit-3.1.20191231       |       hc8eb9b7_2          94 KB  conda-forge\n",
      "    libevent-2.1.10            |       hbae9a57_4         1.2 MB  conda-forge\n",
      "    libglib-2.70.2             |       h67e64d8_4         2.8 MB  conda-forge\n",
      "    libiconv-1.16              |       h642e427_0         1.3 MB  conda-forge\n",
      "    libpq-12.9                 |       h65cfe13_1         2.0 MB\n",
      "    librsvg-2.50.7             |       h90a7944_0         3.8 MB\n",
      "    libxml2-2.9.12             |       h8c5e841_0         1.1 MB\n",
      "    libxslt-1.1.34             |       h9833966_0         414 KB\n",
      "    nspr-4.33                  |       hc377ac9_0         222 KB\n",
      "    nss-3.74                   |       h142855e_0         1.7 MB\n",
      "    pango-1.50.7               |       h7271ec9_0         402 KB\n",
      "    pcre-8.45                  |       hbdafb3b_0         230 KB  conda-forge\n",
      "    pixman-0.40.0              |       h27ca646_0         285 KB  conda-forge\n",
      "    pyqt-5.15.2                |   py39he8f2410_0         4.3 MB\n",
      "    qt-5.15.2                  |       h4e944ae_2        31.6 MB\n",
      "    ------------------------------------------------------------\n",
      "                                           Total:        95.4 MB\n",
      "\n",
      "The following NEW packages will be INSTALLED:\n",
      "\n",
      "  adwaita-icon-theme conda-forge/noarch::adwaita-icon-theme-41.0-ha770c72_1\n",
      "  atk-1.0            conda-forge/osx-arm64::atk-1.0-2.36.0-heb41896_4\n",
      "  cairo              conda-forge/osx-arm64::cairo-1.16.0-he69dfd1_1008\n",
      "  dbus               pkgs/main/osx-arm64::dbus-1.13.18-h8280c03_0\n",
      "  epoxy              conda-forge/osx-arm64::epoxy-1.5.10-h1c322ee_1\n",
      "  expat              conda-forge/osx-arm64::expat-2.4.8-h6b3803e_0\n",
      "  fontconfig         conda-forge/osx-arm64::fontconfig-2.13.94-heb65262_0\n",
      "  fribidi            conda-forge/osx-arm64::fribidi-1.0.10-h27ca646_0\n",
      "  gdk-pixbuf         conda-forge/osx-arm64::gdk-pixbuf-2.42.8-hdded42e_0\n",
      "  gettext            pkgs/main/osx-arm64::gettext-0.21.0-h826f4ad_0\n",
      "  glib               conda-forge/osx-arm64::glib-2.70.2-hccf11d3_4\n",
      "  glib-tools         conda-forge/osx-arm64::glib-tools-2.70.2-hccf11d3_4\n",
      "  graphite2          pkgs/main/osx-arm64::graphite2-1.3.14-hc377ac9_1\n",
      "  gtk3               conda-forge/osx-arm64::gtk3-3.24.34-h63e6b57_0\n",
      "  harfbuzz           pkgs/main/osx-arm64::harfbuzz-4.3.0-hb1b0ec1_0\n",
      "  hicolor-icon-theme conda-forge/osx-arm64::hicolor-icon-theme-0.17-hce30654_2\n",
      "  icu                conda-forge/osx-arm64::icu-68.2-hbdafb3b_0\n",
      "  krb5               conda-forge/osx-arm64::krb5-1.19.3-hf9b2bbe_0\n",
      "  libedit            conda-forge/osx-arm64::libedit-3.1.20191231-hc8eb9b7_2\n",
      "  libevent           conda-forge/osx-arm64::libevent-2.1.10-hbae9a57_4\n",
      "  libglib            conda-forge/osx-arm64::libglib-2.70.2-h67e64d8_4\n",
      "  libiconv           conda-forge/osx-arm64::libiconv-1.16-h642e427_0\n",
      "  libpq              pkgs/main/osx-arm64::libpq-12.9-h65cfe13_1\n",
      "  librsvg            pkgs/main/osx-arm64::librsvg-2.50.7-h90a7944_0\n",
      "  libxml2            pkgs/main/osx-arm64::libxml2-2.9.12-h8c5e841_0\n",
      "  libxslt            pkgs/main/osx-arm64::libxslt-1.1.34-h9833966_0\n",
      "  nspr               pkgs/main/osx-arm64::nspr-4.33-hc377ac9_0\n",
      "  nss                pkgs/main/osx-arm64::nss-3.74-h142855e_0\n",
      "  pango              pkgs/main/osx-arm64::pango-1.50.7-h7271ec9_0\n",
      "  pcre               conda-forge/osx-arm64::pcre-8.45-hbdafb3b_0\n",
      "  pixman             conda-forge/osx-arm64::pixman-0.40.0-h27ca646_0\n",
      "  pyqt               pkgs/main/osx-arm64::pyqt-5.15.2-py39he8f2410_0\n",
      "  qt                 pkgs/main/osx-arm64::qt-5.15.2-h4e944ae_2\n",
      "\n",
      "The following packages will be UPDATED:\n",
      "\n",
      "  certifi                        2022.5.18.1-py39h2804cbe_0 --> 2022.6.15-py39h2804cbe_0\n",
      "  conda                               4.12.0-py39h2804cbe_0 --> 4.13.0-py39h2804cbe_1\n",
      "\n",
      "\n",
      "\n",
      "Downloading and Extracting Packages\n",
      "fribidi-1.0.10       | 59 KB     | #################################### | 100% \n",
      "gdk-pixbuf-2.42.8    | 574 KB    | #################################### | 100% \n",
      "dbus-1.13.18         | 1.4 MB    | #################################### | 100% \n",
      "librsvg-2.50.7       | 3.8 MB    | #################################### | 100% \n",
      "gtk3-3.24.34         | 9.3 MB    | #################################### | 100% \n",
      "nspr-4.33            | 222 KB    | #################################### | 100% \n",
      "expat-2.4.8          | 149 KB    | #################################### | 100% \n",
      "libxml2-2.9.12       | 1.1 MB    | #################################### | 100% \n",
      "libglib-2.70.2       | 2.8 MB    | #################################### | 100% \n",
      "libxslt-1.1.34       | 414 KB    | #################################### | 100% \n",
      "glib-tools-2.70.2    | 92 KB     | #################################### | 100% \n",
      "atk-1.0-2.36.0       | 349 KB    | #################################### | 100% \n",
      "libiconv-1.16        | 1.3 MB    | #################################### | 100% \n",
      "fontconfig-2.13.94   | 289 KB    | #################################### | 100% \n",
      "nss-3.74             | 1.7 MB    | #################################### | 100% \n",
      "krb5-1.19.3          | 1.2 MB    | #################################### | 100% \n",
      "pango-1.50.7         | 402 KB    | #################################### | 100% \n",
      "pyqt-5.15.2          | 4.3 MB    | #################################### | 100% \n",
      "gettext-0.21.0       | 2.6 MB    | #################################### | 100% \n",
      "harfbuzz-4.3.0       | 1005 KB   | #################################### | 100% \n",
      "hicolor-icon-theme-0 | 13 KB     | #################################### | 100% \n",
      "pcre-8.45            | 230 KB    | #################################### | 100% \n",
      "cairo-1.16.0         | 1.3 MB    | #################################### | 100% \n",
      "icu-68.2             | 13.0 MB   | #################################### | 100% \n",
      "qt-5.15.2            | 31.6 MB   | #################################### | 100% \n",
      "graphite2-1.3.14     | 75 KB     | #################################### | 100% \n",
      "libedit-3.1.20191231 | 94 KB     | #################################### | 100% \n",
      "epoxy-1.5.10         | 347 KB    | #################################### | 100% \n",
      "glib-2.70.2          | 425 KB    | #################################### | 100% \n",
      "adwaita-icon-theme-4 | 10.7 MB   | #################################### | 100% \n",
      "libevent-2.1.10      | 1.2 MB    | #################################### | 100% \n",
      "pixman-0.40.0        | 285 KB    | #################################### | 100% \n",
      "certifi-2022.6.15    | 155 KB    | #################################### | 100% \n",
      "conda-4.13.0         | 992 KB    | #################################### | 100% \n",
      "libpq-12.9           | 2.0 MB    | #################################### | 100% \n",
      "Preparing transaction: ...working... done\n",
      "Verifying transaction: ...working... done\n",
      "Executing transaction: ...working... \n",
      "\n",
      "\n",
      "done\n"
     ]
    },
    {
     "name": "stderr",
     "output_type": "stream",
     "text": [
      "┌ Info: Installing matplotlib via the Conda matplotlib package...\n",
      "└ @ PyCall /Users/zhiwei_zhou/.julia/packages/PyCall/7a7w0/src/PyCall.jl:711\n",
      "┌ Info: Running `conda install -y matplotlib` in root environment\n",
      "└ @ Conda /Users/zhiwei_zhou/.julia/packages/Conda/x2UxR/src/Conda.jl:127\n",
      "\n",
      "The environment is inconsistent, please check the package plan carefully\n",
      "The following packages are causing the inconsistency:\n",
      "\n",
      "  - conda-forge/noarch::requests==2.27.1=pyhd8ed1ab_0\n",
      "  - conda-forge/noarch::nbconvert-pandoc==6.5.0=pyhd8ed1ab_0\n",
      "  - conda-forge/noarch::tinycss2==1.1.1=pyhd8ed1ab_0\n",
      "  - conda-forge/noarch::jupyterlab_pygments==0.2.2=pyhd8ed1ab_0\n",
      "  - conda-forge/noarch::six==1.16.0=pyh6c4a22f_0\n",
      "  - conda-forge/noarch::flit-core==3.7.1=pyhd8ed1ab_0\n",
      "  - conda-forge/noarch::charset-normalizer==2.0.12=pyhd8ed1ab_0\n",
      "  - conda-forge/noarch::pure_eval==0.2.2=pyhd8ed1ab_0\n",
      "  - conda-forge/osx-arm64::jedi==0.18.1=py39h2804cbe_1\n",
      "  - conda-forge/osx-arm64::ipykernel==6.13.0=py39h32adebf_0\n",
      "  - conda-forge/noarch::nest-asyncio==1.5.5=pyhd8ed1ab_0\n",
      "  - conda-forge/noarch::pygments==2.12.0=pyhd8ed1ab_0\n",
      "  - conda-forge/noarch::attrs==21.4.0=pyhd8ed1ab_0\n",
      "  - conda-forge/noarch::send2trash==1.8.0=pyhd8ed1ab_0\n",
      "  - conda-forge/osx-arm64::pyzmq==23.0.0=py39h8faa4b9_0\n",
      "  - conda-forge/noarch::nbconvert==6.5.0=pyhd8ed1ab_0\n",
      "  - conda-forge/noarch::backcall==0.2.0=pyh9f0ad1d_0\n",
      "  - conda-forge/noarch::python-dateutil==2.8.2=pyhd8ed1ab_0\n",
      "  - conda-forge/noarch::jsonschema==4.5.1=pyhd8ed1ab_0\n",
      "  - conda-forge/osx-arm64::jupyter==1.0.0=py39h2804cbe_7\n",
      "  - conda-forge/noarch::zipp==3.8.0=pyhd8ed1ab_0\n",
      "  - conda-forge/noarch::ptyprocess==0.7.0=pyhd3deb0d_0\n",
      "  - conda-forge/noarch::pickleshare==0.7.5=py_1003\n",
      "  - conda-forge/noarch::packaging==21.3=pyhd8ed1ab_0\n",
      "  - conda-forge/osx-arm64::widgetsnbextension==3.6.0=py39h2804cbe_0\n",
      "  - conda-forge/noarch::pandocfilters==1.5.0=pyhd8ed1ab_0\n",
      "  - conda-forge/noarch::urllib3==1.26.9=pyhd8ed1ab_0\n",
      "  - conda-forge/noarch::wheel==0.37.1=pyhd8ed1ab_0\n",
      "  - conda-forge/noarch::nbformat==5.4.0=pyhd8ed1ab_0\n",
      "  - conda-forge/osx-arm64::readline==8.1=hedafd6a_0\n",
      "  - conda-forge/noarch::backports==1.0=py_2\n",
      "  - conda-forge/noarch::ipywidgets==7.7.0=pyhd8ed1ab_0\n",
      "  - conda-forge/osx-arm64::mistune==0.8.4=py39h5161555_1005\n",
      "  - conda-forge/noarch::webencodings==0.5.1=py_1\n",
      "  - conda-forge/osx-arm64::jupyter_core==4.10.0=py39h2804cbe_0\n",
      "  - conda-forge/osx-arm64::markupsafe==2.1.1=py39hb18efdd_1\n",
      "  - conda-forge/noarch::nbconvert-core==6.5.0=pyhd8ed1ab_0\n",
      "  - conda-forge/osx-arm64::sympy==1.10.1=py39h2804cbe_0\n",
      "  - conda-forge/noarch::stack_data==0.2.0=pyhd8ed1ab_0\n",
      "  - conda-forge/noarch::prometheus_client==0.14.1=pyhd8ed1ab_0\n",
      "  - conda-forge/noarch::mpmath==1.2.1=pyhd8ed1ab_0\n",
      "  - conda-forge/noarch::colorama==0.4.4=pyh9f0ad1d_0\n",
      "  - conda-forge/osx-arm64::importlib-metadata==4.11.4=py39h2804cbe_0\n",
      "  - conda-forge/osx-arm64::tornado==6.1=py39hb18efdd_3\n",
      "  - conda-forge/osx-arm64::sqlite==3.37.1=h7e3ccbd_0\n",
      "  - conda-forge/noarch::jinja2==3.1.2=pyhd8ed1ab_0\n",
      "  - conda-forge/osx-arm64::pyrsistent==0.18.1=py39hb18efdd_1\n",
      "  - conda-forge/noarch::jupyter_console==6.4.3=pyhd8ed1ab_0\n",
      "  - conda-forge/noarch::soupsieve==2.3.1=pyhd8ed1ab_0\n",
      "  - conda-forge/noarch::prompt_toolkit==3.0.29=hd8ed1ab_0\n",
      "  - conda-forge/osx-arm64::cffi==1.15.0=py39h52b1de0_0\n",
      "  - conda-forge/noarch::jupyter_client==7.3.1=pyhd8ed1ab_0\n",
      "  - conda-forge/noarch::argon2-cffi==21.3.0=pyhd8ed1ab_0\n",
      "  - conda-forge/noarch::bleach==5.0.0=pyhd8ed1ab_0\n",
      "  - conda-forge/noarch::defusedxml==0.7.1=pyhd8ed1ab_0\n",
      "  - conda-forge/noarch::pyopenssl==22.0.0=pyhd8ed1ab_0\n",
      "  - conda-forge/noarch::jupyterlab_widgets==1.1.0=pyhd8ed1ab_0\n",
      "  - conda-forge/noarch::notebook==6.4.11=pyha770c72_0\n",
      "  - conda-forge/osx-arm64::pysocks==1.7.1=py39h2804cbe_4\n",
      "  - conda-forge/osx-arm64::gmpy2==2.1.2=py39h6e385ed_0\n",
      "  - conda-forge/noarch::asttokens==2.0.5=pyhd8ed1ab_0\n",
      "  - conda-forge/osx-arm64::terminado==0.15.0=py39h2804cbe_0\n",
      "  - conda-forge/noarch::beautifulsoup4==4.11.1=pyha770c72_0\n",
      "  - conda-forge/noarch::importlib_resources==5.7.1=pyhd8ed1ab_1\n",
      "  - conda-forge/noarch::pyparsing==3.0.9=pyhd8ed1ab_0\n",
      "  - conda-forge/noarch::idna==3.3=pyhd8ed1ab_0\n",
      "  - conda-forge/osx-arm64::debugpy==1.6.0=py39h0ef5a74_0\n",
      "  - conda-forge/osx-arm64::psutil==5.9.1=py39h9eb174b_0\n",
      "  - conda-forge/osx-arm64::cryptography==36.0.2=py39hbe5e4b8_0\n",
      "  - conda-forge/noarch::python-fastjsonschema==2.15.3=pyhd8ed1ab_0\n",
      "  - conda-forge/osx-arm64::setuptools==60.10.0=py39h2804cbe_0\n",
      "  - conda-forge/noarch::tqdm==4.63.0=pyhd8ed1ab_0\n",
      "  - conda-forge/noarch::wcwidth==0.2.5=pyh9f0ad1d_2\n",
      "  - conda-forge/osx-arm64::brotlipy==0.7.0=py39h5161555_1003\n",
      "  - conda-forge/osx-arm64::ruamel_yaml==0.15.80=py39h5161555_1006\n",
      "  - conda-forge/osx-arm64::python==3.9.10=hd16f9c5_2_cpython\n",
      "  - conda-forge/noarch::traitlets==5.2.1.post0=pyhd8ed1ab_0\n",
      "  - conda-forge/osx-arm64::conda==4.12.0=py39h2804cbe_0\n",
      "  - conda-forge/osx-arm64::python_abi==3.9=2_cp39\n",
      "  - conda-forge/osx-arm64::argon2-cffi-bindings==21.2.0=py39hb18efdd_2\n",
      "  - conda-forge/noarch::executing==0.8.3=pyhd8ed1ab_0\n",
      "  - conda-forge/noarch::decorator==5.1.1=pyhd8ed1ab_0\n",
      "  - conda-forge/noarch::pexpect==4.8.0=pyh9f0ad1d_2\n",
      "  - conda-forge/osx-arm64::certifi==2022.5.18.1=py39h2804cbe_0\n",
      "  - conda-forge/osx-arm64::pycosat==0.6.3=py39h5161555_1009\n",
      "  - conda-forge/osx-arm64::conda-package-handling==1.8.0=py39hb18efdd_0\n",
      "  - conda-forge/noarch::appnope==0.1.3=pyhd8ed1ab_0\n",
      "  - conda-forge/noarch::prompt-toolkit==3.0.29=pyha770c72_0\n",
      "  - conda-forge/osx-arm64::numpy==1.22.4=py39h7df2422_0\n",
      "  - conda-forge/noarch::ipython_genutils==0.2.0=py_1\n",
      "  - conda-forge/noarch::nbclient==0.6.3=pyhd8ed1ab_0\n",
      "  - conda-forge/noarch::pip==22.0.4=pyhd8ed1ab_0\n",
      "  - conda-forge/noarch::matplotlib-inline==0.1.3=pyhd8ed1ab_0\n",
      "  - conda-forge/noarch::backports.functools_lru_cache==1.6.4=pyhd8ed1ab_0\n",
      "  - conda-forge/noarch::pycparser==2.21=pyhd8ed1ab_0\n",
      "  - conda-forge/noarch::entrypoints==0.4=pyhd8ed1ab_0\n",
      "  - conda-forge/noarch::parso==0.8.3=pyhd8ed1ab_0\n",
      "  - conda-forge/osx-arm64::ipython==8.3.0=py39h2804cbe_0\n",
      "\n",
      "\n",
      "==> WARNING: A newer version of conda exists. <==\n",
      "  current version: 4.12.0\n",
      "  latest version: 4.13.0\n",
      "\n",
      "Please update conda by running\n",
      "\n",
      "    $ conda update -n base conda\n",
      "\n",
      "\n",
      "WARNING conda.core.path_actions:verify(957): Unable to create environments file. Path not writable.\n",
      "  environment location: /Users/zhiwei_zhou/.conda/environments.txt\n",
      "\n",
      "WARNING conda.core.envs_manager:register_env(50): Unable to register environment. Path not writable or missing.\n",
      "  environment location: /Users/zhiwei_zhou/.julia/conda/3\n",
      "  registry file: /Users/zhiwei_zhou/.conda/environments.txt\n",
      "┌ Info: Installing pyqt package to avoid buggy tkagg backend.\n",
      "└ @ PyPlot /Users/zhiwei_zhou/.julia/packages/PyPlot/XaELc/src/init.jl:118\n",
      "┌ Info: Installing PyQt5 via the Conda pyqt package...\n",
      "└ @ PyCall /Users/zhiwei_zhou/.julia/packages/PyCall/7a7w0/src/PyCall.jl:711\n",
      "┌ Info: Running `conda install -y pyqt` in root environment\n",
      "└ @ Conda /Users/zhiwei_zhou/.julia/packages/Conda/x2UxR/src/Conda.jl:127\n",
      "WARNING conda.core.path_actions:verify(957): Unable to create environments file. Path not writable.\n",
      "  environment location: /Users/zhiwei_zhou/.conda/environments.txt\n",
      "\n",
      "WARNING conda.core.envs_manager:register_env(50): Unable to register environment. Path not writable or missing.\n",
      "  environment location: /Users/zhiwei_zhou/.julia/conda/3\n",
      "  registry file: /Users/zhiwei_zhou/.conda/environments.txt\n"
     ]
    }
   ],
   "source": [
    "using PyPlot\n"
   ]
  },
  {
   "cell_type": "code",
   "execution_count": 60,
   "metadata": {},
   "outputs": [
    {
     "data": {
      "image/png": "[encoded data removed]",
      "text/plain": [
       "Figure(PyObject <Figure size 640x480 with 1 Axes>)"
      ]
     },
     "metadata": {},
     "output_type": "display_data"
    },
    {
     "data": {
      "text/plain": [
       "PyObject Text(0.5, 1.0, 'Plot of $\\\\Gamma_3(x)$')"
      ]
     },
     "execution_count": 60,
     "metadata": {},
     "output_type": "execute_result"
    }
   ],
   "source": [
    "using PyPlot\n",
    "x = range(0; stop=2*pi, length=1000);\n",
    "y = sin.(3 * x + 4 * cos.(2 * x));\n",
    "plot(x, y, color=\"red\", linewidth=2.0, linestyle=\"--\")\n",
    "title(\"A sinusoidally modulated sinusoid\")\n",
    "title(L\"Plot of $\\Gamma_3(x)$\")"
   ]
  },
  {
   "cell_type": "code",
   "execution_count": 46,
   "metadata": {},
   "outputs": [],
   "source": [
    "function testfunc1(nlist)\n",
    "    timetake = zeros(length(nlist))\n",
    "    i = 1\n",
    "    for n in nlist\n",
    "        U = big.(rand(n, n))\n",
    "        U = triu(U) - triu(U, 2) + 100*I\n",
    "        b = big.(rand(n))\n",
    "        tki = 0.0\n",
    "        for _ in 1:100\n",
    "            tki += @elapsed InvBidiagU(U)\n",
    "        end\n",
    "        timetake[i] = tki / 100\n",
    "        i += 1\n",
    "    end\n",
    "    timetake;\n",
    "end\n",
    "\n",
    "\n",
    "\n",
    "\n",
    "\n",
    "function Timer4Func(func, dims)\n",
    "    timeusage = zeros(length(dims))\n",
    "    for (i, n) in enumerate(dims)\n",
    "        U = big.(rand(n, n))\n",
    "        U = triu(U) - triu(U, 2) + 100*I\n",
    "        b = big.(rand(n))\n",
    "        tki = 0.0\n",
    "        for _ in 1:100\n",
    "            tki += @elapsed InvBidiagU(U)\n",
    "        end\n",
    "        timeusage[i] = tki / 100\n",
    "    end\n",
    "    timeusage;\n",
    "end\n",
    "\n",
    "\n",
    "\n",
    "\n",
    "\n",
    "\n",
    "\n",
    "function testfunc2(nlist)\n",
    "    timetake = zeros(length(nlist))\n",
    "    i = 1\n",
    "    for n in nlist\n",
    "        a = randn(n)\n",
    "        b = randn(n)\n",
    "        tki = 0.0\n",
    "        for _ in 1:10\n",
    "            tki += @elapsed a + b\n",
    "        end\n",
    "        timetake[i] = tki / 10\n",
    "        i += 1\n",
    "    end\n",
    "    timetake;\n",
    "end\n",
    "\n",
    "nlist = [2^i for i in 6:12]\n",
    "tk1 = testfunc1(nlist);\n",
    "# tk2 = testfunc2(nlist);\n"
   ]
  },
  {
   "cell_type": "code",
   "execution_count": 70,
   "metadata": {},
   "outputs": [
    {
     "name": "stdout",
     "output_type": "stream",
     "text": [
      "-0.00176346 + 6.69778e-7*x\n",
      "(6.697782117591543e-7, -0.0017634559736900844)\n",
      "[-0.0015062611403745692, -0.0011633346959538822, -0.0003917501960073364, 0.0013228820260960989, 0.005095072914723655, 0.013325307580820143, 0.03115748269069587]\n",
      "-0.000526667 + 2.72233e-6*x + 1.31432e-9*x^2\n"
     ]
    },
    {
     "name": "stderr",
     "output_type": "stream",
     "text": [
      "No artists with labels found to put in legend.  Note that artists whose label start with an underscore are ignored when legend() is called with no argument.\n"
     ]
    },
    {
     "data": {
      "image/png": "[encoded data removed]",
      "text/plain": [
       "Figure(PyObject <Figure size 640x480 with 1 Axes>)"
      ]
     },
     "metadata": {},
     "output_type": "display_data"
    },
    {
     "data": {
      "text/plain": [
       "PyObject Text(0.5, 1.0, 'Total time for heap pop and push during gSearch under different N')"
      ]
     },
     "execution_count": 70,
     "metadata": {},
     "output_type": "execute_result"
    }
   ],
   "source": [
    "\n",
    "\n",
    "\n",
    "using PyPlot\n",
    "figure()\n",
    "loglog(nlist, tk1, color=\"red\", linewidth=2.0, linestyle=\"-.\", base = 2)\n",
    "# plot(nlist, tk1, color=\"red\", linewidth=2.0, linestyle=\"-.\")\n",
    "\n",
    "\n",
    "fst = 1\n",
    "lst = length(nlist)\n",
    "\n",
    "\n",
    "\n",
    "ploy1 = fit(nlist[fst:lst].*log2.(nlist[fst:lst]), tk1[fst:lst], 1)\n",
    "# ploy1 = fit(nlist.*log2.(nlist), tk1, 1)\n",
    "println(ploy1)\n",
    "b1, a1 = ploy1.coeffs[1], ploy1.coeffs[2]\n",
    "\n",
    "println((a1, b1))\n",
    "ttt = a1.*nlist.*log2.(nlist).+b1\n",
    "println(ttt)\n",
    "\n",
    "ploy2 = fit(nlist[fst:lst], tk1[fst:lst], 2)\n",
    "println(ploy2)\n",
    "c, b, a = ploy2.coeffs[1], ploy2.coeffs[2], ploy2.coeffs[3]\n",
    "\n",
    "# println((c, b, a ))\n",
    "# ttt = a1.*nlist.*log2.(nlist).+b1\n",
    "# println(ttt)\n",
    "\n",
    "\n",
    "\n",
    "\n",
    "# loglog(nlist, a1.*nlist.*log2.(nlist).+b1, color=\"blue\", linewidth=2.0, linestyle=\"dotted\", base = 2)\n",
    "\n",
    "# loglog(nlist, a1.*log2.(nlist).+b1, color=\"blue\", linewidth=2.0, linestyle=\"dotted\", base = 2)\n",
    "\n",
    "loglog(nlist, a.*nlist.^2 .+ b.*nlist .+ c, color=\"blue\", linewidth=2.0, linestyle=\"dotted\", base = 2)\n",
    "\n",
    "# plot(nlist, a.*nlist.^2 .+ b.*nlist .+ c, color=\"blue\", linewidth=2.0, linestyle=\"dotted\")\n",
    "\n",
    "\n",
    "# a*NN*np.log2(NN)+b\n",
    "\n",
    "\n",
    "xlabel(L\"$N$ $\\alpha$\")\n",
    "ylabel(\"Wall time\")\n",
    "grid()\n",
    "legend()\n",
    "title(\"Total time for heap pop and push during gSearch under different N\")\n",
    "\n",
    "\n"
   ]
  },
  {
   "cell_type": "code",
   "execution_count": 34,
   "metadata": {},
   "outputs": [
    {
     "name": "stdout",
     "output_type": "stream",
     "text": [
      "(1, 4)\n",
      "(2, 8)\n",
      "(3, 16)\n",
      "(4, 32)\n",
      "(5, 64)\n",
      "(6, 128)\n",
      "(7, 256)\n"
     ]
    }
   ],
   "source": [
    "nlist = [2^i for i in 2:8]\n",
    "for (i, n) in enumerate(nlist)\n",
    "    println((i,n))\n",
    "end"
   ]
  },
  {
   "cell_type": "code",
   "execution_count": 26,
   "metadata": {},
   "outputs": [
    {
     "data": {
      "text/plain": [
       "true"
      ]
     },
     "execution_count": 26,
     "metadata": {},
     "output_type": "execute_result"
    }
   ],
   "source": [
    "function BandBackSubVec(U, b, bᵤ)\n",
    "    T = eltype(U)\n",
    "    n = size(U)[2]\n",
    "    x = zeros(T, n)\n",
    "    x[n] = b[n] / U[n, n]\n",
    "    for i in n-1 : -1 : 1\n",
    "        x[i] = b[i]\n",
    "        for j in i+1 : min(n, i+bᵤ)\n",
    "            x[i] -= U[i, j] * x[j]\n",
    "        end\n",
    "        x[i] /= U[i, i]\n",
    "    end\n",
    "    x;\n",
    "end\n",
    "\n",
    "\n",
    "\n",
    "\n",
    "function BandBackSubVecBi(U, b)\n",
    "    T = eltype(U)\n",
    "    n = size(U)[2]\n",
    "    x = zeros(T, n)\n",
    "    x[n] = b[n] / U[n, n]\n",
    "    for i in n-1 : -1 : 1\n",
    "        x[i] = (b[i] - U[i, i+1] * x[i+1]) / U[i, i]\n",
    "    end\n",
    "    x;\n",
    "end\n",
    "\n",
    "\n",
    "\n",
    "\n",
    "function InvBidiagU1(U)\n",
    "    T = eltype(U)\n",
    "    n = size(U)[2]\n",
    "    e_n = one(U)[:, end]\n",
    "    x = BandBackSubVec(U, e_n, 1)\n",
    "    # x = U \\ e_n\n",
    "    y = inv.(U[diagind(U)] .* x)\n",
    "    Uinv = triu(x * y')\n",
    "    Uinv\n",
    "end\n",
    "\n",
    "\n",
    "function InvBidiagU(U)\n",
    "    T = eltype(U)\n",
    "    n = size(U)[2]\n",
    "    e_n = one(U)[:, end]\n",
    "    x = BandBackSubVecBi(U, e_n, 1)\n",
    "    y = inv.(U[diagind(U)] .* x)\n",
    "    # Uinv = zeros(T, n, n)\n",
    "    # for i in 1:n\n",
    "    #     for j in i:n\n",
    "    #         Uinv[i, j] = x[i] * y[j]\n",
    "    #     end\n",
    "    # end\n",
    "    # Uinv;\n",
    "end\n",
    "\n",
    "function atest(a,b)\n",
    "    a+b;\n",
    "end\n",
    "\n",
    "\n",
    "function tttt(f, a, b)\n",
    "    f(a,b)\n",
    "end\n",
    "\n",
    "\n",
    "tttt(atest, 1, 2)\n",
    "\n",
    "\n",
    "n = 100\n",
    "U = big.(BandedMatrix(rand(n, n), (0, 1))) + 100*I\n",
    "\n",
    "\n",
    "U = big.(rand(n, n))\n",
    "U = triu(U) - triu(U, 2) + 100*I\n",
    "\n",
    "b = big.(rand(n))\n",
    "# x = BandBackSubVec(U, b, 1)\n",
    "\n",
    "# U * x ≈ b\n",
    "\n",
    "# InvBidiagU1(U) * U ≈ I\n",
    "\n",
    "# println(typeof(U))\n",
    "# @btime InvBidiagU(U)\n",
    "# @btime InvBidiagU1(U)\n",
    "# @time inv(U)\n",
    "# @time U \\ b\n",
    "# @time inv(U)\n",
    "# @btime BandBackSubVec(U, b, 1)\n",
    "# @btime BandBackSubVecBi(U, b)\n",
    "U * BandBackSubVecBi(U, b) ≈ b"
   ]
  },
  {
   "cell_type": "code",
   "execution_count": 6,
   "metadata": {},
   "outputs": [],
   "source": [
    "#     NN = np.array(NN)\n",
    "#     label1 = ['heap pop', 'heap update', 'heap add new', 'heap push']\n",
    "#     label2 = {'1': 'test graph 1', '2': 'test graph 2', 'C': 'random complete graph', 'l': 'random line graph', 'O' : 'random graph'}\n",
    "#     f = 1\n",
    "\n",
    "#     for i in range(0, 4, 3):\n",
    "        \n",
    "#         plt.loglog(NN, t_data[i, :], 'x-', base = 2, label = label1[i]+' of '+label2[GraphUse])\n",
    "#         a, b = np.polyfit(NN[f:]*np.log2(NN[f:]), t_data[i, f:], 1)\n",
    "#         plt.loglog(NN, a*NN*np.log2(NN)+b, 'k-.', label = r'LS fit for '+ label1[i]+' of '+label2[GraphUse], base = 2)\n",
    "\n",
    "# plt.title('Total time for heap pop and push during gSearch under different N')\n",
    "# plt.xlabel('N')\n",
    "# plt.ylabel('Wall time')\n",
    "\n",
    "# plt.grid()\n",
    "# plt.legend()\n",
    "# # plt.savefig(\"Q11_O_LS\", dpi=150)\n",
    "# plt.show()"
   ]
  },
  {
   "cell_type": "code",
   "execution_count": 16,
   "metadata": {},
   "outputs": [
    {
     "name": "stdout",
     "output_type": "stream",
     "text": [
      "CartesianIndex(1, 1)\n",
      "0.8618024152278381\n",
      "CartesianIndex(2, 1)\n",
      "0.7431130598220125\n",
      "CartesianIndex(3, 1)\n",
      "0.22440719806385057\n",
      "CartesianIndex(1, 2)\n",
      "0.6624025640241005\n",
      "CartesianIndex(2, 2)\n",
      "0.8986946643434907\n",
      "CartesianIndex(3, 2)\n",
      "0.5922750187354885\n"
     ]
    }
   ],
   "source": [
    "A = rand(3,2)\n",
    "\n",
    "for i in CartesianIndices(A)\n",
    "    println(i)\n",
    "    println(A[i])\n",
    "\n",
    "end\n"
   ]
  },
  {
   "cell_type": "code",
   "execution_count": 93,
   "metadata": {},
   "outputs": [
    {
     "data": {
      "text/plain": [
       "100×100 Matrix{Float64}:\n",
       " 23.7835    0.78797   0.0        0.0       …   0.0        0.0        0.0\n",
       "  0.78797  23.5394    1.56442    0.0           0.0        0.0        0.0\n",
       "  0.0       1.56442  22.6193     0.336196      0.0        0.0        0.0\n",
       "  0.0       0.0       0.336196  23.6432        0.0        0.0        0.0\n",
       "  0.0       0.0       0.0        0.529334      0.0        0.0        0.0\n",
       "  0.0       0.0       0.0        0.0       …   0.0        0.0        0.0\n",
       "  0.0       0.0       0.0        0.0           0.0        0.0        0.0\n",
       "  0.0       0.0       0.0        0.0           0.0        0.0        0.0\n",
       "  0.0       0.0       0.0        0.0           0.0        0.0        0.0\n",
       "  0.0       0.0       0.0        0.0           0.0        0.0        0.0\n",
       "  0.78797   0.0       0.0        0.0       …   0.0        0.0        0.0\n",
       "  0.0       0.78797   0.0        0.0           0.0        0.0        0.0\n",
       "  0.0       0.0       0.78797    0.0           0.0        0.0        0.0\n",
       "  ⋮                                        ⋱                        \n",
       "  0.0       0.0       0.0        0.0           0.0        1.48186    0.0\n",
       "  0.0       0.0       0.0        0.0           0.0        0.0        1.48186\n",
       "  0.0       0.0       0.0        0.0       …   0.0        0.0        0.0\n",
       "  0.0       0.0       0.0        0.0           0.0        0.0        0.0\n",
       "  0.0       0.0       0.0        0.0           0.0        0.0        0.0\n",
       "  0.0       0.0       0.0        0.0           0.0        0.0        0.0\n",
       "  0.0       0.0       0.0        0.0           0.0        0.0        0.0\n",
       "  0.0       0.0       0.0        0.0       …   0.0        0.0        0.0\n",
       "  0.0       0.0       0.0        0.0           0.926594   0.0        0.0\n",
       "  0.0       0.0       0.0        0.0          21.1034     0.283635   0.0\n",
       "  0.0       0.0       0.0        0.0           0.283635  21.6878     1.48186\n",
       "  0.0       0.0       0.0        0.0           0.0        1.48186   21.4134"
      ]
     },
     "execution_count": 93,
     "metadata": {},
     "output_type": "execute_result"
    }
   ],
   "source": [
    "A = rand(10,10) + 5I\n",
    "A += A'\n",
    "D = Tridiagonal(A)\n",
    "II = one(D)\n",
    "DD = kron(D, II) + kron(II, D)"
   ]
  },
  {
   "cell_type": "code",
   "execution_count": 94,
   "metadata": {},
   "outputs": [
    {
     "data": {
      "image/png": "[encoded data removed]",
      "text/plain": [
       "Figure(PyObject <Figure size 640x480 with 1 Axes>)"
      ]
     },
     "metadata": {},
     "output_type": "display_data"
    },
    {
     "data": {
      "text/plain": [
       "PyObject <matplotlib.image.AxesImage object at 0x2e0c2a2b0>"
      ]
     },
     "execution_count": 94,
     "metadata": {},
     "output_type": "execute_result"
    }
   ],
   "source": [
    "spy(DD)"
   ]
  },
  {
   "cell_type": "code",
   "execution_count": 3,
   "metadata": {},
   "outputs": [
    {
     "data": {
      "text/plain": [
       "2.7755575615628914e-17"
      ]
     },
     "execution_count": 3,
     "metadata": {},
     "output_type": "execute_result"
    }
   ],
   "source": [
    "n = 100\n",
    "A = Bidiagonal(rand(n,n), :U) + 1000I\n",
    "b = rand(n);\n",
    "norm(A * (A\\b) - b)"
   ]
  },
  {
   "cell_type": "code",
   "execution_count": 4,
   "metadata": {},
   "outputs": [],
   "source": [
    "# norm(A * (A\\b) - b)"
   ]
  },
  {
   "cell_type": "code",
   "execution_count": 6,
   "metadata": {},
   "outputs": [
    {
     "data": {
      "text/latex": [
       "$\\left[ \\begin{array}{rrr}u_{1} v_{1}&u_{2} v_{1}&u_{3} v_{1}\\\\u_{2} v_{1}&u_{2} v_{2}&u_{3} v_{2}\\\\u_{3} v_{1}&u_{3} v_{2}&u_{3} v_{3}\\end{array}\\right]$\n"
      ],
      "text/plain": [
       "3×3 Matrix{Sym}:\n",
       " u₁⋅v₁  u₂⋅v₁  u₃⋅v₁\n",
       " u₂⋅v₁  u₂⋅v₂  u₃⋅v₂\n",
       " u₃⋅v₁  u₃⋅v₂  u₃⋅v₃"
      ]
     },
     "execution_count": 6,
     "metadata": {},
     "output_type": "execute_result"
    }
   ],
   "source": [
    "using SymPy\n",
    "n = 3\n",
    "u1, u2, u3, u4 = symbols(\"u_(1:5)\", real=True)\n",
    "v1, v2, v3, v4 = symbols(\"v_(1:5)\", real=True)\n",
    "\n",
    "u = rand(n)\n",
    "u = [u1, u2, u3]\n",
    "v = rand(n)\n",
    "v = [v1, v2, v3]\n",
    "S = zeros(eltype(u),n,n)\n",
    "for i in 1:n\n",
    "    for j in 1:n\n",
    "        if i >= j\n",
    "            S[i,j] = u[i]*v[j]\n",
    "        else\n",
    "            S[i,j] = u[j]*v[i]\n",
    "        end\n",
    "    end\n",
    "end\n",
    "S"
   ]
  },
  {
   "cell_type": "code",
   "execution_count": 7,
   "metadata": {},
   "outputs": [
    {
     "data": {
      "text/latex": [
       "$\\left[ \\begin{array}{rrr}u_{1} v_{1}&u_{2} v_{1}&u_{3} v_{1}\\\\u_{2} v_{1}&u_{2} v_{2}&u_{3} v_{2}\\\\u_{3} v_{1}&u_{3} v_{2}&u_{3} v_{3}\\end{array}\\right]$\n"
      ],
      "text/plain": [
       "3×3 Matrix{Sym}:\n",
       " u₁⋅v₁  u₂⋅v₁  u₃⋅v₁\n",
       " u₂⋅v₁  u₂⋅v₂  u₃⋅v₂\n",
       " u₃⋅v₁  u₃⋅v₂  u₃⋅v₃"
      ]
     },
     "execution_count": 7,
     "metadata": {},
     "output_type": "execute_result"
    }
   ],
   "source": [
    "(tril(u*v') + triu(v*u', 1))"
   ]
  },
  {
   "cell_type": "code",
   "execution_count": 14,
   "metadata": {},
   "outputs": [
    {
     "data": {
      "text/plain": [
       "5×5 Matrix{Float64}:\n",
       " 1.0  1.0  0.0  0.0  0.0\n",
       " 1.0  1.0  1.0  0.0  0.0\n",
       " 1.0  1.0  1.0  1.0  0.0\n",
       " 1.0  1.0  1.0  1.0  1.0\n",
       " 1.0  1.0  1.0  1.0  1.0"
      ]
     },
     "execution_count": 14,
     "metadata": {},
     "output_type": "execute_result"
    }
   ],
   "source": [
    "n = 5\n",
    "\n",
    "EE = zeros(n,n)\n",
    "for i in 1:n\n",
    "    for j in 1:n\n",
    "        if i >= j-1\n",
    "            EE[i,j] = 1\n",
    "        end\n",
    "    end\n",
    "end\n",
    "EE"
   ]
  },
  {
   "cell_type": "code",
   "execution_count": null,
   "metadata": {},
   "outputs": [],
   "source": []
  }
 ],
 "metadata": {
  "kernelspec": {
   "display_name": "Julia 1.7.1",
   "language": "julia",
   "name": "julia-1.7"
  },
  "language_info": {
   "file_extension": ".jl",
   "mimetype": "application/julia",
   "name": "julia",
   "version": "1.7.1"
  },
  "orig_nbformat": 4
 },
 "nbformat": 4,
 "nbformat_minor": 2
}
