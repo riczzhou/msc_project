{
 "cells": [
  {
   "cell_type": "code",
   "execution_count": 1,
   "metadata": {},
   "outputs": [
    {
     "name": "stdout",
     "output_type": "stream",
     "text": [
      "\u001b[32m\u001b[1m      Status\u001b[22m\u001b[39m `~/.julia/environments/v1.7/Project.toml`\n",
      " \u001b[90m [aae01518] \u001b[39mBandedMatrices v0.17.0\n",
      " \u001b[90m [6e4b80f9] \u001b[39mBenchmarkTools v1.3.1\n",
      " \u001b[90m [8e7c35d0] \u001b[39mBlockArrays v0.16.18\n",
      " \u001b[90m [ce91de38] \u001b[39mColorBitstring v0.1.1\n",
      " \u001b[90m [7073ff75] \u001b[39mIJulia v1.23.3\n",
      " \u001b[90m [5078a376] \u001b[39mLazyArrays v0.22.10\n",
      " \u001b[90m [a3b82374] \u001b[39mMatrixFactorizations v0.9.1\n",
      " \u001b[90m [91a5bcdd] \u001b[39mPlots v1.29.0\n",
      " \u001b[90m [438e738f] \u001b[39mPyCall v1.93.1\n",
      " \u001b[90m [295af30f] \u001b[39mRevise v3.3.3\n",
      " \u001b[90m [f8ebbe35] \u001b[39mSemiseparableMatrices v0.3.3\n",
      " \u001b[90m [3cc68bcd] \u001b[39mSetRounding v0.2.1\n",
      " \u001b[90m [24249f21] \u001b[39mSymPy v1.1.6\n",
      " \u001b[90m [37e2e46d] \u001b[39mLinearAlgebra\n",
      " \u001b[90m [9a3f8284] \u001b[39mRandom\n",
      " \u001b[90m [8dfed614] \u001b[39mTest\n"
     ]
    }
   ],
   "source": [
    "using Pkg, SymPy\n",
    "using BenchmarkTools, LinearAlgebra, LazyArrays, BandedMatrices, BlockArrays\n",
    "\n",
    "Pkg.status()"
   ]
  },
  {
   "cell_type": "code",
   "execution_count": 120,
   "metadata": {},
   "outputs": [],
   "source": [
    "# l,u = 2,1          # block bandwidths\n",
    "# N = M = 4          # number of row/column blocks\n",
    "# cols = rows = 1:N  # block sizes\n",
    "\n",
    "# BlockBandedMatrix(Zeros(sum(rows),sum(cols)), rows,cols, (l,u)) # creates a block-banded matrix of zeros\n",
    "# BlockBandedMatrix(Ones(sum(rows),sum(cols)), rows,cols, (l,u)) # creates a block-banded matrix with ones in the non-zero entries\n",
    "# BlockBandedMatrix(I, rows,cols, (l,u))                          # creates a block-banded  identity matrix"
   ]
  },
  {
   "cell_type": "code",
   "execution_count": 2,
   "metadata": {},
   "outputs": [
    {
     "data": {
      "text/plain": [
       "BackwardSubstitutionM (generic function with 1 method)"
      ]
     },
     "execution_count": 2,
     "metadata": {},
     "output_type": "execute_result"
    }
   ],
   "source": [
    "function BackwardSubstitutionV(U, b)\n",
    "    T = eltype(U)\n",
    "    n = size(U)[2]\n",
    "    x = zeros(T, n)\n",
    "    x[n] = b[n] / U[n, n]\n",
    "    for i in n-1 : -1 : 1\n",
    "        sum_ = zero(T)\n",
    "        for j in i+1 : n\n",
    "            sum_ += U[i, j] * x[j]\n",
    "        end\n",
    "        x[i] = (b[i] - sum_) / U[i, i]\n",
    "    end\n",
    "    x\n",
    "end\n",
    "\n",
    "function BandedBackwardSubstitutionV(U, b, bw)\n",
    "    T = eltype(U)\n",
    "    n = size(U)[2]\n",
    "    x = zeros(T, n)\n",
    "    x[n] = b[n] / U[n, n]\n",
    "    for i in n-1 : -1 : 1\n",
    "        sum_ = zero(T)\n",
    "        for j in i+1 : min(n, i+bw)\n",
    "            sum_ += U[i, j] * x[j]\n",
    "        end\n",
    "        x[i] = (b[i] - sum_) / U[i, i]\n",
    "    end\n",
    "    x\n",
    "end\n",
    "\n",
    "function BandedBackwardSubstitutionM(U, B, bw)\n",
    "    T = eltype(U)\n",
    "    n = size(U)[2]\n",
    "    l = size(B)[2]\n",
    "    X = zeros(T, n, l)\n",
    "    for j in l : -1 : 1\n",
    "        X[:, j] = BandedBackwardSubstitutionV(U, B[:, j], bw)\n",
    "    end\n",
    "    X\n",
    "end\n",
    "\n",
    "function BackwardSubstitutionM(U, B)\n",
    "    T = eltype(U)\n",
    "    n = size(U)[2]\n",
    "    l = size(B)[2]\n",
    "    X = zeros(T, n, l)\n",
    "    for j in l : -1 : 1\n",
    "        X[:, j] = BackwardSubstitutionV(U, B[:, j])\n",
    "    end\n",
    "    X\n",
    "end"
   ]
  },
  {
   "cell_type": "code",
   "execution_count": 131,
   "metadata": {},
   "outputs": [
    {
     "name": "stdout",
     "output_type": "stream",
     "text": [
      "9\n",
      "(9, 9)\n",
      "8\n",
      "(8, 8)\n",
      "7\n",
      "(7, 7)\n",
      "6\n",
      "(6, 6)\n",
      "5\n",
      "(5, 5)\n",
      "4\n",
      "(4, 4)\n",
      "3\n",
      "(3, 3)\n",
      "2\n",
      "(2, 2)\n",
      "1\n",
      "(1, 1)\n",
      "(0, 0)\n",
      "(0, 0)\n",
      "(0, 1)\n",
      "(1, 0)\n"
     ]
    },
    {
     "data": {
      "text/plain": [
       "true"
      ]
     },
     "execution_count": 131,
     "metadata": {},
     "output_type": "execute_result"
    }
   ],
   "source": [
    "bw = 1\n",
    "n = bw*4 + 5\n",
    "\n",
    "U = big.(BandedMatrix(rand(n, n), (0, bw)))\n",
    "U += I\n",
    "T = eltype(U)\n",
    "n = size(U)[2]\n",
    "\n",
    "k = n ÷ bw\n",
    "\n",
    "r = rem(n, bw)\n",
    "\n",
    "E_k = one(U)[:, n-bw+1:n]\n",
    "X = BandedBackwardSubstitutionM(U, E_k, bw)\n",
    "\n",
    "U * X ≈ E_k\n",
    "\n",
    "\n",
    "\n",
    "Ytk = one(X[n-bw+1:n, :])\n",
    "\n",
    "# for i in n-3 : -2 : 1\n",
    "#     # println((i, i+1))\n",
    "#     Xi = X[i:i+1, :]\n",
    "#     Di = U[i:i+1, i:i+1]\n",
    "#     Yti = inv(Xi) * inv(Di)\n",
    "#     Yt[:, i:i+1] = Yti\n",
    "#     # display(Di)\n",
    "# end \n",
    "\n",
    "Yt = zero(X')\n",
    "for i in n : -bw : r+bw\n",
    "    println(i)\n",
    "    println((i-bw+1, i))\n",
    "    Di = U[i-bw+1:i, i-bw+1:i]\n",
    "    Xi = X[i-bw+1:i, :]\n",
    "    Yti = inv(Di * Xi)\n",
    "    # Yti = BackwardSubstitutionM(Xi, one(Xi)) * BackwardSubstitutionM(Di, one(Di))\n",
    "    # println(Yti * (Di * Xi) ≈ one(Di))\n",
    "    # println(norm(Yti * (Di * Xi) - one(Di)))\n",
    "    Yt[:, i-bw+1:i] = Yti\n",
    "    # print(U[i:i+bw-1, i:i+bw-1])\n",
    "end\n",
    "\n",
    "\n",
    "function invR(A)\n",
    "    A' * inv(A * A')\n",
    "end\n",
    "function invL(A)\n",
    "    inv(A' * A) * A'\n",
    "end\n",
    "\n",
    "\n",
    "\n",
    "\n",
    "D0 = U[1:r, 1:r]\n",
    "println(size(D0))\n",
    "D0inv = BackwardSubstitutionM(D0, one(D0))\n",
    "println(size(D0inv))\n",
    "# print(D0)\n",
    "X0 = X[1:r, :]\n",
    "println(size(X0))\n",
    "\n",
    "println(size(invR(X0)))\n",
    "X0\n",
    "D0\n",
    "Yt0 = invR(D0 * X0)\n",
    "Yt[:, 1:r] = Yt0\n",
    "\n",
    "BandedBackwardSubstitutionM(U, one(U), bw) ≈ triu(X * Yt)\n"
   ]
  },
  {
   "cell_type": "code",
   "execution_count": 21,
   "metadata": {},
   "outputs": [
    {
     "name": "stdout",
     "output_type": "stream",
     "text": [
      "  1.169242 seconds (62.61 M allocations: 3.266 GiB, 36.60% gc time)\n",
      "  2.539877 seconds (117.20 M allocations: 6.116 GiB, 36.87% gc time)\n"
     ]
    }
   ],
   "source": [
    "function invR(A)\n",
    "    A' * inv(A * A')\n",
    "end\n",
    "function invL(A)\n",
    "    inv(A' * A) * A'\n",
    "end\n",
    "\n",
    "function InvseBlockBiagonalUpper(U, bw)\n",
    "    n = size(U)[2]\n",
    "    r = rem(n, bw)\n",
    "    E_k = one(U)[:, n-bw+1:n]\n",
    "    # X = BandedBackwardSubstitutionM(U, E_k, bw)\n",
    "    X = qr(U) \\ E_k\n",
    "    Yt = zero(X')\n",
    "    for i in n : -bw : r+bw\n",
    "        Di = U[i-bw+1:i, i-bw+1:i]\n",
    "        Xi = X[i-bw+1:i, :]\n",
    "        # Yti = inv(Di * Xi)\n",
    "        Yti = qr(Di * Xi) \\ I\n",
    "        Yt[:, i-bw+1:i] = Yti\n",
    "    end\n",
    "    D0 = U[1:r, 1:r]\n",
    "    # D0inv = qr(D0) \\ I\n",
    "    # D0inv = inv(D0)\n",
    "    X0 = X[1:r, :]\n",
    "    Yt0 = invR(D0 * X0)\n",
    "    Yt[:, 1:r] = Yt0\n",
    "    Uinv = triu(X * Yt)\n",
    "    Uinv\n",
    "end\n",
    "\n",
    "\n",
    "bw = 30\n",
    "n = bw*10 + rand(1:bw-1)\n",
    "\n",
    "# U = big.(BandedMatrix(rand(n, n), (0, bw)))\n",
    "\n",
    "# U += 10 * I\n",
    "\n",
    "A = big.(rand(n, n))\n",
    "U = triu(A) - triu(A, bw+1) + I\n",
    "\n",
    "InvseBlockBiagonalUpper(U, bw) * U ≈ I\n",
    "# norm(InvseBlockBiagonalUpper(U, bw) * U - I)\n",
    "# norm(InvseBlockBiagonalUpper(U, bw) - inv(U))\n",
    "# inv(U)\n",
    "\n",
    "# @time qr(U) \\ I\n",
    "@time inv(U)\n",
    "@time InvseBlockBiagonalUpper(U, bw);\n",
    "\n"
   ]
  },
  {
   "cell_type": "code",
   "execution_count": 136,
   "metadata": {},
   "outputs": [
    {
     "data": {
      "text/plain": [
       "1"
      ]
     },
     "execution_count": 136,
     "metadata": {},
     "output_type": "execute_result"
    }
   ],
   "source": [
    "a = 21\n",
    "b = 4\n",
    "mod(a, b)\n",
    "# rem(a, b)\n",
    "a ÷ b\n",
    "a % b"
   ]
  },
  {
   "cell_type": "code",
   "execution_count": 35,
   "metadata": {},
   "outputs": [
    {
     "data": {
      "text/plain": [
       "1.0"
      ]
     },
     "execution_count": 35,
     "metadata": {},
     "output_type": "execute_result"
    }
   ],
   "source": [
    "pinv([1 , 2]) * [1 , 2]"
   ]
  },
  {
   "cell_type": "code",
   "execution_count": 36,
   "metadata": {},
   "outputs": [
    {
     "data": {
      "text/plain": [
       "4-element Vector{Int64}:\n",
       " 1\n",
       " 2\n",
       " 3\n",
       " 4"
      ]
     },
     "execution_count": 36,
     "metadata": {},
     "output_type": "execute_result"
    }
   ],
   "source": [
    "vcat([1, 2], [3, 4])"
   ]
  },
  {
   "cell_type": "code",
   "execution_count": null,
   "metadata": {},
   "outputs": [],
   "source": []
  }
 ],
 "metadata": {
  "kernelspec": {
   "display_name": "Julia 1.7.1",
   "language": "julia",
   "name": "julia-1.7"
  },
  "language_info": {
   "file_extension": ".jl",
   "mimetype": "application/julia",
   "name": "julia",
   "version": "1.7.1"
  },
  "orig_nbformat": 4
 },
 "nbformat": 4,
 "nbformat_minor": 2
}
