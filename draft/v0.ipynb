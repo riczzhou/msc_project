{
 "cells": [
  {
   "cell_type": "code",
   "execution_count": 2,
   "metadata": {},
   "outputs": [
    {
     "name": "stdout",
     "output_type": "stream",
     "text": [
      "\u001b[32m\u001b[1m      Status\u001b[22m\u001b[39m `~/.julia/environments/v1.7/Project.toml`\n",
      " \u001b[90m [aae01518] \u001b[39mBandedMatrices v0.17.0\n",
      " \u001b[90m [6e4b80f9] \u001b[39mBenchmarkTools v1.3.1\n",
      " \u001b[90m [8e7c35d0] \u001b[39mBlockArrays v0.16.18\n",
      " \u001b[90m [ce91de38] \u001b[39mColorBitstring v0.1.1\n",
      " \u001b[90m [7073ff75] \u001b[39mIJulia v1.23.3\n",
      " \u001b[90m [5078a376] \u001b[39mLazyArrays v0.22.10\n",
      " \u001b[90m [a3b82374] \u001b[39mMatrixFactorizations v0.9.1\n",
      " \u001b[90m [91a5bcdd] \u001b[39mPlots v1.29.0\n",
      " \u001b[90m [438e738f] \u001b[39mPyCall v1.93.1\n",
      " \u001b[90m [295af30f] \u001b[39mRevise v3.3.3\n",
      " \u001b[90m [f8ebbe35] \u001b[39mSemiseparableMatrices v0.3.3\n",
      " \u001b[90m [3cc68bcd] \u001b[39mSetRounding v0.2.1\n",
      " \u001b[90m [24249f21] \u001b[39mSymPy v1.1.6\n",
      " \u001b[90m [37e2e46d] \u001b[39mLinearAlgebra\n",
      " \u001b[90m [9a3f8284] \u001b[39mRandom\n",
      " \u001b[90m [8dfed614] \u001b[39mTest\n"
     ]
    }
   ],
   "source": [
    "using Pkg, SymPy\n",
    "using BenchmarkTools, LinearAlgebra, LazyArrays, BandedMatrices, BlockArrays\n",
    "\n",
    "Pkg.status()"
   ]
  },
  {
   "cell_type": "code",
   "execution_count": 3,
   "metadata": {},
   "outputs": [
    {
     "data": {
      "text/plain": [
       "UniformScaling{Bool}\n",
       "true*I"
      ]
     },
     "execution_count": 3,
     "metadata": {},
     "output_type": "execute_result"
    }
   ],
   "source": [
    "LinearAlgebra.I"
   ]
  },
  {
   "cell_type": "code",
   "execution_count": 4,
   "metadata": {},
   "outputs": [
    {
     "data": {
      "text/plain": [
       "true"
      ]
     },
     "execution_count": 4,
     "metadata": {},
     "output_type": "execute_result"
    }
   ],
   "source": [
    "function backSub(U, b)\n",
    "    T = eltype(U)\n",
    "    n = size(U)[1]\n",
    "    x = zeros(T, n)\n",
    "    x[n] = b[n] / U[n, n]\n",
    "    for i in n-1 : -1 : 1\n",
    "        sum_ = 0.0\n",
    "        for j in i+1 : n\n",
    "            sum_ += U[i, j] * x[j]\n",
    "        end\n",
    "        x[i] = (b[i] - sum_)/U[i, i]\n",
    "    end\n",
    "    x\n",
    "end\n",
    "\n",
    "function backSubBanded(U, b, bw=1)\n",
    "    T = eltype(U)\n",
    "    n = size(U)[1]\n",
    "    x = zeros(T, n)\n",
    "    x[n] = b[n] / U[n, n]\n",
    "    for i in n-1 : -1 : 1\n",
    "        sum_ = zero(T)\n",
    "        for j in i+1 : min(n, i+bw)\n",
    "            sum_ += U[i, j] * x[j]\n",
    "        end\n",
    "        x[i] = (b[i] - sum_) / U[i, i]\n",
    "    end\n",
    "    x\n",
    "end\n",
    "\n",
    "\n",
    "function backSubBandedmxn(U, B, bw)\n",
    "    T = eltype(U)\n",
    "    n = size(U)[2]\n",
    "    k = size(B)[2]\n",
    "    X = zeros(T, n, k)\n",
    "\n",
    "    for j in k : -1 : 1\n",
    "        b = B[:, j]\n",
    "        x = zeros(T, n)\n",
    "        x[n] = b[n] / U[n, n]\n",
    "        for i in n-1 : -1 : 1\n",
    "            sum_ = zero(T)\n",
    "            for j in i+1 : min(n, i+bw)\n",
    "                sum_ += U[i, j] * x[j]\n",
    "            end\n",
    "            x[i] = (b[i] - sum_) / U[i, i]\n",
    "        end\n",
    "        X[:, j] = x\n",
    "    end\n",
    "    X\n",
    "end\n",
    "\n",
    "\n",
    "n = 100\n",
    "k = 10\n",
    "bw = 99\n",
    "U = big.(rand(n, n) .+ 1)\n",
    "U = triu(U) - triu(U, bw+1)\n",
    "B = big.(rand(n, k))\n",
    "\n",
    "X = backSubBandedmxn(U, B, bw)\n",
    "X\n",
    "U * X ≈ B"
   ]
  },
  {
   "cell_type": "code",
   "execution_count": 5,
   "metadata": {},
   "outputs": [
    {
     "data": {
      "text/plain": [
       "invBiU (generic function with 1 method)"
      ]
     },
     "execution_count": 5,
     "metadata": {},
     "output_type": "execute_result"
    }
   ],
   "source": [
    "T = eltype(A)\n",
    "S = size(A)\n",
    "\n",
    "function invBiU(U)\n",
    "    T = eltype(U)\n",
    "    n = size(U)[1]\n",
    "    e_n = zeros(T, n)\n",
    "    e_n[n] = big(1.0)\n",
    "    # x = U \\ e_n\n",
    "    x = backSubBanded(U, e_n, 1)\n",
    "    y = 1 ./ x\n",
    "    Uinv = triu(x * y')\n",
    "end\n",
    "# one(T, S)"
   ]
  },
  {
   "cell_type": "code",
   "execution_count": 6,
   "metadata": {},
   "outputs": [
    {
     "name": "stdout",
     "output_type": "stream",
     "text": [
      "  0.893536 seconds (6.67 M allocations: 339.772 MiB, 7.92% gc time, 93.78% compilation time)\n",
      "  0.027737 seconds (75.12 k allocations: 4.112 MiB, 97.48% compilation time)\n",
      "  0.262873 seconds (5.63 M allocations: 300.259 MiB, 14.24% gc time, 38.78% compilation time)\n"
     ]
    }
   ],
   "source": [
    "function invU_1_0(U)\n",
    "    T = eltype(U)\n",
    "    n = size(U)[2]\n",
    "    e_n = zeros(T, n)\n",
    "    e_n[n] = one(T)\n",
    "    x = U \\ e_n\n",
    "    # x = backSubBanded(U, e_n, 1)\n",
    "    y = inv.(U[diagind(U)] .* x)\n",
    "    Uinv = triu(x * y')\n",
    "    Uinv\n",
    "end\n",
    "\n",
    "\n",
    "function invU_1_01(U)\n",
    "    T = eltype(U)\n",
    "    n = size(U)[2]\n",
    "    e_n = zeros(T, n)\n",
    "    e_n[n] = one(T)\n",
    "    # x = U \\ e_n\n",
    "    x = backSubBanded(U, e_n, 1)\n",
    "    y = inv.(U[diagind(U)] .* x)\n",
    "    # y = 1 ./ (U[diagind(U)] .* x)\n",
    "    Uinv = triu(x * y')\n",
    "    Uinv\n",
    "end\n",
    "\n",
    "# @btime invU_1_0(A);\n",
    "# @btime invU_1_01(A);\n",
    "# 898.500 μs (50330 allocations: 2.84 MiB)\n",
    "# 674.250 μs (31306 allocations: 1.83 MiB)\n",
    "\n",
    "\n",
    "@time invU_1_0(A);\n",
    "@time invU_1_01(A);\n",
    "@time inv(A);"
   ]
  },
  {
   "cell_type": "code",
   "execution_count": 13,
   "metadata": {},
   "outputs": [
    {
     "data": {
      "text/plain": [
       "true"
      ]
     },
     "execution_count": 13,
     "metadata": {},
     "output_type": "execute_result"
    }
   ],
   "source": [
    "n = 100\n",
    "bw = 1\n",
    "\n",
    "A = big.(rand(n, n) .+ 1)\n",
    "A = triu(A) - triu(A, 2)\n",
    "A += I\n",
    "\n",
    "# A[diagind(A)] .= 1\n",
    "\n",
    "inv(A) ≈ invU_1_0(A)\n",
    "\n",
    "\n",
    "A = A'\n",
    "\n",
    "inv(A) ≈ (invU_1_0(A'))'\n",
    "\n",
    "\n",
    "# B = big.(BandedMatrix(rand(n, n), (0, bw)))\n",
    "# B += I\n",
    "\n",
    "# # inv(B)\n",
    "\n",
    "# invU_1_01(B) * B ≈ I"
   ]
  },
  {
   "cell_type": "code",
   "execution_count": 143,
   "metadata": {},
   "outputs": [
    {
     "data": {
      "text/plain": [
       "100-element Vector{BigFloat}:\n",
       "  -1.044839476606806319164283850502569551487821229949895535613613667939057315162901e+15\n",
       "   5.874772427353937050751401983632501430542690876143450065166103641372896748547595e+14\n",
       "  -4.518653338433662632789855644952173499120543902793181876552676618350664991378615e+14\n",
       "   3.548893960193466701169273581202670403683465526827935904601257161248978954438374e+14\n",
       "  -3.215658535264953407378581891946249468340116250012299268417724690706505698589937e+14\n",
       "   1.853757473293520754159000156819299274594376091835702070514245355209286809895394e+14\n",
       "  -1.72193448053071483707237973631568139587768745848930027868639817644883756956632e+14\n",
       "   1.330980003059845712645666530966298712267906329914259113663893719873821976474831e+14\n",
       "  -1.188859141340502580238713225546548126009645540805258753273938760800956902562748e+14\n",
       "   8.544167746887435781459966555004945752122697912341849345744013741536123170613426e+13\n",
       "  -5.256680164603209999432771516583422758614146534605940641150898109733053148004739e+13\n",
       "   4.275010363265460031920404506891303291441210465369276722358964813933935657570642e+13\n",
       "  -2.35259499783849848165553793361306547358742178070201965294520633453471049787128e+13\n",
       "   ⋮\n",
       " -50.26998844825662577458192761118301188903907828858305744495176863291243074040605\n",
       "  36.56887422955604223543106999327177511809945072561858164964059777765080785936137\n",
       " -21.85811922734016264970892005967441961646769903496878260924005778247909498248642\n",
       "  21.17765421075176385968617560974382881900875270053445670350514993777971060037149\n",
       " -17.18880676684297987658972117472342278979573713252030746318844440740310273181362\n",
       "  11.83668085244065735412650609095847831646707158048940728055938989594731628759547\n",
       "  -6.121555889549679891397673173687032703494286244392986674510660091039793494597914\n",
       "   3.242640930099020443445737240334112250021158994109851027561455329969688278380213\n",
       "  -1.745802997167171006800774850110464078065153996430297633274584571509563198943163\n",
       "   1.678586974866436330741754717903648379203446674213118112620085381654633227554996\n",
       "  -1.31540621304161098326090950649813748896121978759765625\n",
       "   1.0"
      ]
     },
     "execution_count": 143,
     "metadata": {},
     "output_type": "execute_result"
    }
   ],
   "source": [
    "n = 100\n",
    "bw = 1\n",
    "U = BandedMatrix(1 .+ big.(rand(n, n)), (0, bw))\n",
    "\n",
    "for i in 1:n\n",
    "    U[i, i] = big(1.0)\n",
    "end\n",
    "# U = AbstractArray(U)\n",
    "En = [zeros(eltype(U), (99,)) ; 1]\n",
    "\n",
    "# U \\ En\n",
    "backSubBanded(U, En, 1)\n",
    "# ≈ backSubBanded(U, big.([zeros(99, 1) ; 1]), 1)\n",
    "# eltype(U)\n"
   ]
  },
  {
   "cell_type": "code",
   "execution_count": 145,
   "metadata": {},
   "outputs": [
    {
     "data": {
      "text/plain": [
       "true"
      ]
     },
     "execution_count": 145,
     "metadata": {},
     "output_type": "execute_result"
    }
   ],
   "source": [
    "invBiU(U) * U ≈ I"
   ]
  },
  {
   "cell_type": "code",
   "execution_count": 120,
   "metadata": {},
   "outputs": [],
   "source": [
    "# l,u = 2,1          # block bandwidths\n",
    "# N = M = 4          # number of row/column blocks\n",
    "# cols = rows = 1:N  # block sizes\n",
    "\n",
    "# BlockBandedMatrix(Zeros(sum(rows),sum(cols)), rows,cols, (l,u)) # creates a block-banded matrix of zeros\n",
    "# BlockBandedMatrix(Ones(sum(rows),sum(cols)), rows,cols, (l,u)) # creates a block-banded matrix with ones in the non-zero entries\n",
    "# BlockBandedMatrix(I, rows,cols, (l,u))                          # creates a block-banded  identity matrix"
   ]
  },
  {
   "cell_type": "code",
   "execution_count": null,
   "metadata": {},
   "outputs": [],
   "source": []
  }
 ],
 "metadata": {
  "kernelspec": {
   "display_name": "Julia 1.7.1",
   "language": "julia",
   "name": "julia-1.7"
  },
  "language_info": {
   "file_extension": ".jl",
   "mimetype": "application/julia",
   "name": "julia",
   "version": "1.7.1"
  },
  "orig_nbformat": 4
 },
 "nbformat": 4,
 "nbformat_minor": 2
}
